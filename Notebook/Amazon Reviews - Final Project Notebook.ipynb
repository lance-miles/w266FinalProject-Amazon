{
 "cells": [
  {
   "cell_type": "markdown",
   "metadata": {},
   "source": [
    "# W266 Final Project - Amazon Reviews\n",
    "\n",
    "This notebook is to read in the cleaned data and work with the data in keras.\n",
    "\n",
    "http://jmcauley.ucsd.edu/data/amazon/links.html"
   ]
  },
  {
   "cell_type": "code",
   "execution_count": 32,
   "metadata": {
    "ExecuteTime": {
     "end_time": "2019-03-21T20:07:18.419154Z",
     "start_time": "2019-03-21T20:07:18.415783Z"
    }
   },
   "outputs": [],
   "source": [
    "import pandas as pd\n",
    "import gzip\n",
    "import random\n",
    "from collections import defaultdict\n",
    "import seaborn as sns\n",
    "import numpy as np\n",
    "import re"
   ]
  },
  {
   "cell_type": "code",
   "execution_count": 112,
   "metadata": {
    "ExecuteTime": {
     "end_time": "2019-03-21T17:11:55.894807Z",
     "start_time": "2019-03-21T17:11:13.582094Z"
    }
   },
   "outputs": [
    {
     "name": "stderr",
     "output_type": "stream",
     "text": [
      "/home/mgvay31/anaconda3/lib/python3.6/site-packages/ipykernel_launcher.py:30: FutureWarning: Sorting because non-concatenation axis is not aligned. A future version\n",
      "of pandas will change to not sort by default.\n",
      "\n",
      "To accept the future behavior, pass 'sort=True'.\n",
      "\n",
      "To retain the current behavior and silence the warning, pass sort=False\n",
      "\n"
     ]
    }
   ],
   "source": [
    "files = ['reviews_Video_Games.json.gz', \n",
    "         'reviews_Toys_and_Games.json.gz', \n",
    "         'reviews_Sports_and_Outdoors.json.gz', \n",
    "         'reviews_Movies_and_TV.json.gz',\n",
    "         'reviews_Kindle_Store.json.gz', \n",
    "         'reviews_Home_and_Kitchen.json.gz',\n",
    "         'reviews_Health_and_Personal_Care.json.gz', \n",
    "         'reviews_Electronics.json.gz',\n",
    "         'reviews_Clothing_Shoes_and_Jewelry.json.gz',\n",
    "         'reviews_Cell_Phones_and_Accessories.json.gz', \n",
    "         'reviews_CDs_and_Vinyl.json.gz',\n",
    "         'reviews_Books.json.gz']\n",
    "filesNames = ['reviews_Video_Games', \n",
    "              'reviews_Toys_and_Games',\n",
    "              'reviews_Sports_and_Outdoors', \n",
    "              'reviews_Movies_and_TV',\n",
    "              'reviews_Kindle_Store', \n",
    "              'reviews_Home_and_Kitchen',\n",
    "              'reviews_Health_and_Personal_Care', \n",
    "              'reviews_Electronics',\n",
    "              'reviews_Clothing_Shoes_and_Jewelry',\n",
    "              'reviews_Cell_Phones_and_Accessories', \n",
    "              'reviews_CDs_and_Vinyl',\n",
    "              'reviews_Books']\n",
    "\n",
    "def dataFullSets(original, concatData, name):\n",
    "    currentData = original\n",
    "    appendData = pd.read_csv('../Data/%s'%(concatData))\n",
    "    appendData['Product'] = name\n",
    "    newDF = pd.concat([currentData,appendData])\n",
    "    return(newDF)\n",
    "\n",
    "train_data = pd.read_csv('../Data/%s_train.csv'%(filesNames[0]))\n",
    "train_data['Product'] = filesNames[0]\n",
    "test_data = pd.read_csv('../Data/%s_test.csv'%(filesNames[0]))\n",
    "test_data['Product'] = filesNames[0]\n",
    "                        \n",
    "for fileName in filesNames[1:]:\n",
    "    concatName_train = str(fileName+'_train.csv')\n",
    "    concatName_test = fileName+'_test.csv'\n",
    "                        \n",
    "    train_data = dataFullSets(train_data, concatName_train, fileName).sample(frac=1)\n",
    "    test_data = dataFullSets(test_data, concatName_test, fileName).sample(frac=1)"
   ]
  },
  {
   "cell_type": "code",
   "execution_count": 113,
   "metadata": {
    "ExecuteTime": {
     "end_time": "2019-03-21T17:11:55.945562Z",
     "start_time": "2019-03-21T17:11:55.896787Z"
    },
    "scrolled": false
   },
   "outputs": [
    {
     "data": {
      "text/html": [
       "<div>\n",
       "<style scoped>\n",
       "    .dataframe tbody tr th:only-of-type {\n",
       "        vertical-align: middle;\n",
       "    }\n",
       "\n",
       "    .dataframe tbody tr th {\n",
       "        vertical-align: top;\n",
       "    }\n",
       "\n",
       "    .dataframe thead th {\n",
       "        text-align: right;\n",
       "    }\n",
       "</style>\n",
       "<table border=\"1\" class=\"dataframe\">\n",
       "  <thead>\n",
       "    <tr style=\"text-align: right;\">\n",
       "      <th></th>\n",
       "      <th>Product</th>\n",
       "      <th>asin</th>\n",
       "      <th>helpful</th>\n",
       "      <th>overall</th>\n",
       "      <th>reviewText</th>\n",
       "      <th>reviewTime</th>\n",
       "      <th>reviewerID</th>\n",
       "      <th>reviewerName</th>\n",
       "      <th>sentiment</th>\n",
       "      <th>summary</th>\n",
       "      <th>unixReviewTime</th>\n",
       "    </tr>\n",
       "  </thead>\n",
       "  <tbody>\n",
       "    <tr>\n",
       "      <th>3268</th>\n",
       "      <td>reviews_Books</td>\n",
       "      <td>1936724197</td>\n",
       "      <td>[0, 0]</td>\n",
       "      <td>5.0</td>\n",
       "      <td>You won't want to put it down!  I could relate...</td>\n",
       "      <td>03 14, 2013</td>\n",
       "      <td>A3BTQEA445S9PA</td>\n",
       "      <td>terri329</td>\n",
       "      <td>1</td>\n",
       "      <td>Beware!</td>\n",
       "      <td>1363219200</td>\n",
       "    </tr>\n",
       "    <tr>\n",
       "      <th>3914</th>\n",
       "      <td>reviews_Clothing_Shoes_and_Jewelry</td>\n",
       "      <td>B000GAYQJ0</td>\n",
       "      <td>[1, 1]</td>\n",
       "      <td>5.0</td>\n",
       "      <td>There's not much to this watch. There's a time...</td>\n",
       "      <td>06 17, 2013</td>\n",
       "      <td>AA4BOVQN0PR7F</td>\n",
       "      <td>John Wu</td>\n",
       "      <td>1</td>\n",
       "      <td>Simple but classic</td>\n",
       "      <td>1371427200</td>\n",
       "    </tr>\n",
       "    <tr>\n",
       "      <th>91132</th>\n",
       "      <td>reviews_Video_Games</td>\n",
       "      <td>B007FTE2VW</td>\n",
       "      <td>[4, 4]</td>\n",
       "      <td>1.0</td>\n",
       "      <td>I was very excited to get Sim City and I'm ver...</td>\n",
       "      <td>04 14, 2013</td>\n",
       "      <td>AZB0TFV30BQUF</td>\n",
       "      <td>J. Hatton</td>\n",
       "      <td>0</td>\n",
       "      <td>Lots of wasted potential...</td>\n",
       "      <td>1365897600</td>\n",
       "    </tr>\n",
       "    <tr>\n",
       "      <th>60441</th>\n",
       "      <td>reviews_Health_and_Personal_Care</td>\n",
       "      <td>B005CDYU2O</td>\n",
       "      <td>[0, 0]</td>\n",
       "      <td>1.0</td>\n",
       "      <td>These are low quality without very much elasti...</td>\n",
       "      <td>02 15, 2014</td>\n",
       "      <td>A3MLX03YMJ8FQU</td>\n",
       "      <td>umpqua girl</td>\n",
       "      <td>0</td>\n",
       "      <td>Can't wear them!</td>\n",
       "      <td>1392422400</td>\n",
       "    </tr>\n",
       "    <tr>\n",
       "      <th>62184</th>\n",
       "      <td>reviews_Books</td>\n",
       "      <td>1593106025</td>\n",
       "      <td>[4, 5]</td>\n",
       "      <td>5.0</td>\n",
       "      <td>First let me note that this review is for the ...</td>\n",
       "      <td>08 13, 2007</td>\n",
       "      <td>A1NPFGJBVLC2JM</td>\n",
       "      <td>Amazon Customer</td>\n",
       "      <td>1</td>\n",
       "      <td>I want to go back in time...</td>\n",
       "      <td>1186963200</td>\n",
       "    </tr>\n",
       "  </tbody>\n",
       "</table>\n",
       "</div>"
      ],
      "text/plain": [
       "                                  Product        asin helpful  overall  \\\n",
       "3268                        reviews_Books  1936724197  [0, 0]      5.0   \n",
       "3914   reviews_Clothing_Shoes_and_Jewelry  B000GAYQJ0  [1, 1]      5.0   \n",
       "91132                 reviews_Video_Games  B007FTE2VW  [4, 4]      1.0   \n",
       "60441    reviews_Health_and_Personal_Care  B005CDYU2O  [0, 0]      1.0   \n",
       "62184                       reviews_Books  1593106025  [4, 5]      5.0   \n",
       "\n",
       "                                              reviewText   reviewTime  \\\n",
       "3268   You won't want to put it down!  I could relate...  03 14, 2013   \n",
       "3914   There's not much to this watch. There's a time...  06 17, 2013   \n",
       "91132  I was very excited to get Sim City and I'm ver...  04 14, 2013   \n",
       "60441  These are low quality without very much elasti...  02 15, 2014   \n",
       "62184  First let me note that this review is for the ...  08 13, 2007   \n",
       "\n",
       "           reviewerID     reviewerName  sentiment  \\\n",
       "3268   A3BTQEA445S9PA         terri329          1   \n",
       "3914    AA4BOVQN0PR7F          John Wu          1   \n",
       "91132   AZB0TFV30BQUF        J. Hatton          0   \n",
       "60441  A3MLX03YMJ8FQU      umpqua girl          0   \n",
       "62184  A1NPFGJBVLC2JM  Amazon Customer          1   \n",
       "\n",
       "                            summary  unixReviewTime  \n",
       "3268                        Beware!      1363219200  \n",
       "3914             Simple but classic      1371427200  \n",
       "91132   Lots of wasted potential...      1365897600  \n",
       "60441              Can't wear them!      1392422400  \n",
       "62184  I want to go back in time...      1186963200  "
      ]
     },
     "execution_count": 113,
     "metadata": {},
     "output_type": "execute_result"
    }
   ],
   "source": [
    "train_data.head()"
   ]
  },
  {
   "cell_type": "code",
   "execution_count": 114,
   "metadata": {
    "ExecuteTime": {
     "end_time": "2019-03-21T17:11:55.993872Z",
     "start_time": "2019-03-21T17:11:55.948370Z"
    },
    "scrolled": true
   },
   "outputs": [
    {
     "data": {
      "text/html": [
       "<div>\n",
       "<style scoped>\n",
       "    .dataframe tbody tr th:only-of-type {\n",
       "        vertical-align: middle;\n",
       "    }\n",
       "\n",
       "    .dataframe tbody tr th {\n",
       "        vertical-align: top;\n",
       "    }\n",
       "\n",
       "    .dataframe thead th {\n",
       "        text-align: right;\n",
       "    }\n",
       "</style>\n",
       "<table border=\"1\" class=\"dataframe\">\n",
       "  <thead>\n",
       "    <tr style=\"text-align: right;\">\n",
       "      <th></th>\n",
       "      <th>Product</th>\n",
       "      <th>asin</th>\n",
       "      <th>helpful</th>\n",
       "      <th>overall</th>\n",
       "      <th>reviewText</th>\n",
       "      <th>reviewTime</th>\n",
       "      <th>reviewerID</th>\n",
       "      <th>reviewerName</th>\n",
       "      <th>sentiment</th>\n",
       "      <th>summary</th>\n",
       "      <th>unixReviewTime</th>\n",
       "    </tr>\n",
       "  </thead>\n",
       "  <tbody>\n",
       "    <tr>\n",
       "      <th>10544</th>\n",
       "      <td>reviews_Toys_and_Games</td>\n",
       "      <td>B00HGNFQ2G</td>\n",
       "      <td>[0, 0]</td>\n",
       "      <td>1.0</td>\n",
       "      <td>These things actually cause more damage than t...</td>\n",
       "      <td>02 2, 2014</td>\n",
       "      <td>A3JHIQSB2Y8HVH</td>\n",
       "      <td>Simon</td>\n",
       "      <td>0</td>\n",
       "      <td>Useless</td>\n",
       "      <td>1391299200</td>\n",
       "    </tr>\n",
       "    <tr>\n",
       "      <th>18518</th>\n",
       "      <td>reviews_CDs_and_Vinyl</td>\n",
       "      <td>B004I3U7XU</td>\n",
       "      <td>[0, 0]</td>\n",
       "      <td>5.0</td>\n",
       "      <td>Exquisite.  The fusion of jazz and gospel is w...</td>\n",
       "      <td>04 20, 2013</td>\n",
       "      <td>A2OVEM6T75DS46</td>\n",
       "      <td>corine simons</td>\n",
       "      <td>1</td>\n",
       "      <td>KIm Burrell</td>\n",
       "      <td>1366416000</td>\n",
       "    </tr>\n",
       "    <tr>\n",
       "      <th>9004</th>\n",
       "      <td>reviews_Toys_and_Games</td>\n",
       "      <td>B007J3FBKU</td>\n",
       "      <td>[0, 0]</td>\n",
       "      <td>5.0</td>\n",
       "      <td>AnneThis castle will provide hours of fun, for...</td>\n",
       "      <td>04 9, 2013</td>\n",
       "      <td>A1SWPUZ50YA2LO</td>\n",
       "      <td>Anne</td>\n",
       "      <td>1</td>\n",
       "      <td>So Fun!</td>\n",
       "      <td>1365465600</td>\n",
       "    </tr>\n",
       "    <tr>\n",
       "      <th>15376</th>\n",
       "      <td>reviews_Clothing_Shoes_and_Jewelry</td>\n",
       "      <td>B002975T08</td>\n",
       "      <td>[0, 0]</td>\n",
       "      <td>5.0</td>\n",
       "      <td>Brilliant shoe.  Extremely well made, and comf...</td>\n",
       "      <td>08 5, 2013</td>\n",
       "      <td>A39A74IID5DP5Z</td>\n",
       "      <td>Syrilla Phillips</td>\n",
       "      <td>1</td>\n",
       "      <td>wahhooooo</td>\n",
       "      <td>1375660800</td>\n",
       "    </tr>\n",
       "    <tr>\n",
       "      <th>14918</th>\n",
       "      <td>reviews_Books</td>\n",
       "      <td>0375720812</td>\n",
       "      <td>[0, 0]</td>\n",
       "      <td>5.0</td>\n",
       "      <td>The questions really go in depth and are usefu...</td>\n",
       "      <td>06 12, 2014</td>\n",
       "      <td>AFF92RPBRJQ32</td>\n",
       "      <td>kytey</td>\n",
       "      <td>1</td>\n",
       "      <td>A book with tons of uses</td>\n",
       "      <td>1402531200</td>\n",
       "    </tr>\n",
       "  </tbody>\n",
       "</table>\n",
       "</div>"
      ],
      "text/plain": [
       "                                  Product        asin helpful  overall  \\\n",
       "10544              reviews_Toys_and_Games  B00HGNFQ2G  [0, 0]      1.0   \n",
       "18518               reviews_CDs_and_Vinyl  B004I3U7XU  [0, 0]      5.0   \n",
       "9004               reviews_Toys_and_Games  B007J3FBKU  [0, 0]      5.0   \n",
       "15376  reviews_Clothing_Shoes_and_Jewelry  B002975T08  [0, 0]      5.0   \n",
       "14918                       reviews_Books  0375720812  [0, 0]      5.0   \n",
       "\n",
       "                                              reviewText   reviewTime  \\\n",
       "10544  These things actually cause more damage than t...   02 2, 2014   \n",
       "18518  Exquisite.  The fusion of jazz and gospel is w...  04 20, 2013   \n",
       "9004   AnneThis castle will provide hours of fun, for...   04 9, 2013   \n",
       "15376  Brilliant shoe.  Extremely well made, and comf...   08 5, 2013   \n",
       "14918  The questions really go in depth and are usefu...  06 12, 2014   \n",
       "\n",
       "           reviewerID      reviewerName  sentiment                   summary  \\\n",
       "10544  A3JHIQSB2Y8HVH             Simon          0                   Useless   \n",
       "18518  A2OVEM6T75DS46     corine simons          1               KIm Burrell   \n",
       "9004   A1SWPUZ50YA2LO              Anne          1                   So Fun!   \n",
       "15376  A39A74IID5DP5Z  Syrilla Phillips          1                 wahhooooo   \n",
       "14918   AFF92RPBRJQ32             kytey          1  A book with tons of uses   \n",
       "\n",
       "       unixReviewTime  \n",
       "10544      1391299200  \n",
       "18518      1366416000  \n",
       "9004       1365465600  \n",
       "15376      1375660800  \n",
       "14918      1402531200  "
      ]
     },
     "execution_count": 114,
     "metadata": {},
     "output_type": "execute_result"
    }
   ],
   "source": [
    "test_data.head()"
   ]
  },
  {
   "cell_type": "code",
   "execution_count": 78,
   "metadata": {},
   "outputs": [
    {
     "data": {
      "text/plain": [
       "'Horribly made piece of trash. The porn shots had no business there and the movie would have been 15 minutes long without the ludicrous slow motion footage and excruciatingly long profile shots of the stars expressionless face.People who declared it a real movie because of a percieved meaningful social message need to get out more. Bugs Bunny cartoons were more realistic and showed more talent.'"
      ]
     },
     "execution_count": 78,
     "metadata": {},
     "output_type": "execute_result"
    }
   ],
   "source": [
    "#practice sentence\n",
    "test_sentence = test_data['reviewText'].iloc[19]\n",
    "test_sentence"
   ]
  },
  {
   "cell_type": "code",
   "execution_count": 79,
   "metadata": {},
   "outputs": [
    {
     "data": {
      "text/plain": [
       "'horribly made piece of trash  the porn shots had no business there and the movie would have been    minutes long without the ludicrous slow motion footage and excruciatingly long profile shots of the stars expressionless face people who declared it a real movie because of a percieved meaningful social message need to get out more  bugs bunny cartoons were more realistic and showed more talent '"
      ]
     },
     "execution_count": 79,
     "metadata": {},
     "output_type": "execute_result"
    }
   ],
   "source": [
    "#prepare reviews to be split by words\n",
    "#change to lowercase, remove punctuation and numbers\n",
    "test_data_word_prep = re.sub(\"[^a-zA-Z]\", \" \", test_sentence).lower()\n",
    "test_data_word_prep"
   ]
  },
  {
   "cell_type": "code",
   "execution_count": 80,
   "metadata": {
    "scrolled": true
   },
   "outputs": [
    {
     "data": {
      "text/plain": [
       "['horribly',\n",
       " 'made',\n",
       " 'piece',\n",
       " 'of',\n",
       " 'trash',\n",
       " 'the',\n",
       " 'porn',\n",
       " 'shots',\n",
       " 'had',\n",
       " 'no',\n",
       " 'business',\n",
       " 'there',\n",
       " 'and',\n",
       " 'the',\n",
       " 'movie',\n",
       " 'would',\n",
       " 'have',\n",
       " 'been',\n",
       " 'minutes',\n",
       " 'long',\n",
       " 'without',\n",
       " 'the',\n",
       " 'ludicrous',\n",
       " 'slow',\n",
       " 'motion',\n",
       " 'footage',\n",
       " 'and',\n",
       " 'excruciatingly',\n",
       " 'long',\n",
       " 'profile',\n",
       " 'shots',\n",
       " 'of',\n",
       " 'the',\n",
       " 'stars',\n",
       " 'expressionless',\n",
       " 'face',\n",
       " 'people',\n",
       " 'who',\n",
       " 'declared',\n",
       " 'it',\n",
       " 'a',\n",
       " 'real',\n",
       " 'movie',\n",
       " 'because',\n",
       " 'of',\n",
       " 'a',\n",
       " 'percieved',\n",
       " 'meaningful',\n",
       " 'social',\n",
       " 'message',\n",
       " 'need',\n",
       " 'to',\n",
       " 'get',\n",
       " 'out',\n",
       " 'more',\n",
       " 'bugs',\n",
       " 'bunny',\n",
       " 'cartoons',\n",
       " 'were',\n",
       " 'more',\n",
       " 'realistic',\n",
       " 'and',\n",
       " 'showed',\n",
       " 'more',\n",
       " 'talent']"
      ]
     },
     "execution_count": 80,
     "metadata": {},
     "output_type": "execute_result"
    }
   ],
   "source": [
    "#list of words after processing\n",
    "test_data_word_prep.strip().split()"
   ]
  },
  {
   "cell_type": "code",
   "execution_count": 81,
   "metadata": {
    "scrolled": true
   },
   "outputs": [
    {
     "data": {
      "text/plain": [
       "'horribly made piece of trash. the porn shots had no business there and the movie would have been    minutes long without the ludicrous slow motion footage and excruciatingly long profile shots of the stars expressionless face.people who declared it a real movie because of a percieved meaningful social message need to get out more. bugs bunny cartoons were more realistic and showed more talent.'"
      ]
     },
     "execution_count": 81,
     "metadata": {},
     "output_type": "execute_result"
    }
   ],
   "source": [
    "#prepare reviews to be split by sentences\n",
    "#change to lowercase, changes (!?) to (.), removes numbers, allows to be split by periods\n",
    "test_data_sent_prep = re.sub(\"[!?]\", \".\", test_sentence)\n",
    "test_data_sent_prep = re.sub(\"[^a-zA-Z.]\", \" \", test_data_sent_prep).lower()\n",
    "test_data_sent_prep"
   ]
  },
  {
   "cell_type": "code",
   "execution_count": 93,
   "metadata": {
    "scrolled": true
   },
   "outputs": [
    {
     "data": {
      "text/plain": [
       "['horribly made piece of trash',\n",
       " 'the porn shots had no business there and the movie would have been    minutes long without the ludicrous slow motion footage and excruciatingly long profile shots of the stars expressionless face',\n",
       " 'people who declared it a real movie because of a percieved meaningful social message need to get out more',\n",
       " 'bugs bunny cartoons were more realistic and showed more talent',\n",
       " '']"
      ]
     },
     "execution_count": 93,
     "metadata": {},
     "output_type": "execute_result"
    }
   ],
   "source": [
    "#list of sentences after processing\n",
    "[sent.strip(\" \") for sent in test_data_sent_prep.split('.')]"
   ]
  },
  {
   "cell_type": "code",
   "execution_count": 115,
   "metadata": {
    "ExecuteTime": {
     "end_time": "2019-03-21T20:04:03.921115Z",
     "start_time": "2019-03-21T20:03:10.378683Z"
    }
   },
   "outputs": [],
   "source": [
    "play_data = test_data[:10]\n",
    "#print(play_data)\n",
    "\n",
    "#function to process review text and split into words\n",
    "def splitWords(data):\n",
    "    data_prep = str(data['reviewText'])\n",
    "    data_prep = re.sub(\"[^a-zA-Z]\", \" \", data_prep).lower()\n",
    "    return data_prep.split()\n",
    "\n",
    "#function to process review text and split into sentences\n",
    "def splitSentences(data):\n",
    "    data_prep = str(data['reviewText'])\n",
    "    data_prep = re.sub(\"[!?]\", \".\", data_prep)\n",
    "    data_prep = re.sub(\"[^a-zA-Z.]\", \" \", data_prep).lower().split('.')\n",
    "    data_prep = [sentence.strip(\" \") for sentence in data_prep]\n",
    "    return data_prep\n",
    "\n",
    "\n",
    "#list of words from review into column\n",
    "sentences = play_data.apply(splitWords, axis=1)\n",
    "play_data.insert(loc = 11, column = 'sentenceWords', value = sentences)\n",
    "\n",
    "sentences = train_data.apply(splitWords, axis=1)\n",
    "train_data.insert(loc = 11,column = 'sentenceWords', value = sentences)\n",
    "\n",
    "sentences = test_data.apply(splitWords, axis=1)\n",
    "test_data.insert(loc = 11,column = 'sentenceWords', value = sentences)\n",
    "\n",
    "\n",
    "#list of sentences from review into column\n",
    "sentences_split = play_data.apply(splitSentences, axis=1)\n",
    "play_data.insert(loc = 12, column = 'sentences', value = sentences_split)\n",
    "\n",
    "sentences_split = train_data.apply(splitSentences, axis=1)\n",
    "train_data.insert(loc = 12,column = 'sentences', value = sentences_split)\n",
    "\n",
    "sentences_split = test_data.apply(splitSentences, axis=1)\n",
    "test_data.insert(loc = 12,column = 'sentences', value = sentences_split)"
   ]
  },
  {
   "cell_type": "code",
   "execution_count": 123,
   "metadata": {
    "ExecuteTime": {
     "end_time": "2019-03-21T20:04:30.500814Z",
     "start_time": "2019-03-21T20:04:03.931150Z"
    }
   },
   "outputs": [],
   "source": [
    "wordFreq = defaultdict(int)\n",
    "\n",
    "wordData = train_data['sentenceWords']\n",
    "\n",
    "for row in wordData:\n",
    "    for word in row:\n",
    "        wordFreq[word] += 1      "
   ]
  },
  {
   "cell_type": "code",
   "execution_count": 124,
   "metadata": {
    "ExecuteTime": {
     "end_time": "2019-03-21T20:08:13.992684Z",
     "start_time": "2019-03-21T20:08:13.948360Z"
    },
    "scrolled": false
   },
   "outputs": [],
   "source": [
    "wordsForHist = list(wordFreq.values())"
   ]
  },
  {
   "cell_type": "code",
   "execution_count": 125,
   "metadata": {
    "ExecuteTime": {
     "end_time": "2019-03-21T20:08:17.320811Z",
     "start_time": "2019-03-21T20:08:16.613431Z"
    }
   },
   "outputs": [
    {
     "name": "stderr",
     "output_type": "stream",
     "text": [
      "/home/mgvay31/anaconda3/lib/python3.6/site-packages/matplotlib/axes/_axes.py:6462: UserWarning: The 'normed' kwarg is deprecated, and has been replaced by the 'density' kwarg.\n",
      "  warnings.warn(\"The 'normed' kwarg is deprecated, and has been \"\n"
     ]
    },
    {
     "data": {
      "text/plain": [
       "Text(0.5,1,'Word Frequency for Train Data')"
      ]
     },
     "execution_count": 125,
     "metadata": {},
     "output_type": "execute_result"
    },
    {
     "data": {
      "image/png": "[encoded data removed]",
      "text/plain": [
       "<Figure size 432x288 with 1 Axes>"
      ]
     },
     "metadata": {},
     "output_type": "display_data"
    }
   ],
   "source": [
    "sns.distplot(wordsForHist, bins=100, color = 'red').set_title('Word Frequency for Train Data')"
   ]
  },
  {
   "cell_type": "code",
   "execution_count": 126,
   "metadata": {
    "ExecuteTime": {
     "end_time": "2019-03-21T20:13:27.638555Z",
     "start_time": "2019-03-21T20:13:27.284719Z"
    }
   },
   "outputs": [],
   "source": [
    "reviewLength = []\n",
    "\n",
    "for row in wordData:\n",
    "    reviewLength.append(len(row))"
   ]
  },
  {
   "cell_type": "code",
   "execution_count": 127,
   "metadata": {
    "ExecuteTime": {
     "end_time": "2019-03-21T20:14:20.733542Z",
     "start_time": "2019-03-21T20:14:20.198952Z"
    }
   },
   "outputs": [
    {
     "name": "stderr",
     "output_type": "stream",
     "text": [
      "/home/mgvay31/anaconda3/lib/python3.6/site-packages/matplotlib/axes/_axes.py:6462: UserWarning: The 'normed' kwarg is deprecated, and has been replaced by the 'density' kwarg.\n",
      "  warnings.warn(\"The 'normed' kwarg is deprecated, and has been \"\n"
     ]
    },
    {
     "data": {
      "text/plain": [
       "Text(0.5,1,'Sentence Lengths for Train Data')"
      ]
     },
     "execution_count": 127,
     "metadata": {},
     "output_type": "execute_result"
    },
    {
     "data": {
      "image/png": "[encoded data removed]",
      "text/plain": [
       "<Figure size 432x288 with 1 Axes>"
      ]
     },
     "metadata": {},
     "output_type": "display_data"
    }
   ],
   "source": [
    "sns.distplot(reviewLength, bins=100, color = 'red').set_title('Sentence Lengths for Train Data')"
   ]
  }
 ],
 "metadata": {
  "kernelspec": {
   "display_name": "Python 3",
   "language": "python",
   "name": "python3"
  },
  "language_info": {
   "codemirror_mode": {
    "name": "ipython",
    "version": 3
   },
   "file_extension": ".py",
   "mimetype": "text/x-python",
   "name": "python",
   "nbconvert_exporter": "python",
   "pygments_lexer": "ipython3",
   "version": "3.6.5"
  }
 },
 "nbformat": 4,
 "nbformat_minor": 2
}
