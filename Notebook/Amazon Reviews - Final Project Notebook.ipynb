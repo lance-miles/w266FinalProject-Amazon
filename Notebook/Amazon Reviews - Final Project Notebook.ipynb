{
 "cells": [
  {
   "cell_type": "markdown",
   "metadata": {},
   "source": [
    "# W266 Final Project - Amazon Reviews\n",
    "\n",
    "This notebook is to read in the cleaned data and work with the data in keras.\n",
    "\n",
    "http://jmcauley.ucsd.edu/data/amazon/links.html"
   ]
  },
  {
   "cell_type": "code",
   "execution_count": 1,
   "metadata": {
    "ExecuteTime": {
     "end_time": "2019-03-21T20:07:18.419154Z",
     "start_time": "2019-03-21T20:07:18.415783Z"
    }
   },
   "outputs": [
    {
     "name": "stderr",
     "output_type": "stream",
     "text": [
      "/home/lance_miles/anaconda3/lib/python3.6/site-packages/h5py/__init__.py:36: FutureWarning: Conversion of the second argument of issubdtype from `float` to `np.floating` is deprecated. In future, it will be treated as `np.float64 == np.dtype(float).type`.\n",
      "  from ._conv import register_converters as _register_converters\n",
      "WARNING: Logging before flag parsing goes to stderr.\n",
      "W0330 21:47:25.649455 140141350807360 __init__.py:56] Some hub symbols are not available because TensorFlow version is less than 1.14\n",
      "Using TensorFlow backend.\n"
     ]
    }
   ],
   "source": [
    "import pandas as pd\n",
    "import gzip\n",
    "import random\n",
    "from collections import defaultdict\n",
    "import seaborn as sns\n",
    "import numpy as np\n",
    "import re\n",
    "\n",
    "from nltk.corpus import stopwords\n",
    "import string\n",
    "\n",
    "import tensorflow_hub as hub\n",
    "import tensorflow as tf\n",
    "\n",
    "# Keras\n",
    "from keras.preprocessing.text import Tokenizer\n",
    "from keras.preprocessing.sequence import pad_sequences\n",
    "from keras.models import Sequential\n",
    "from keras.layers import Dense, Flatten, LSTM, Conv1D, MaxPooling1D, Dropout, Activation, Input\n",
    "from keras.layers.embeddings import Embedding\n",
    "from keras.layers.merge import concatenate\n",
    "from keras.utils.vis_utils import plot_model\n",
    "from keras.models import Model\n",
    "from keras.models import load_model\n",
    "from keras.callbacks import EarlyStopping\n",
    "from keras.callbacks import ModelCheckpoint\n",
    "\n",
    "import h5py\n",
    "\n",
    "import gensim\n",
    "from gensim.models import Word2Vec\n",
    "from gensim.utils import simple_preprocess\n",
    "from gensim.models.keyedvectors import KeyedVectors\n",
    "from gensim.scripts.glove2word2vec import glove2word2vec"
   ]
  },
  {
   "cell_type": "code",
   "execution_count": 2,
   "metadata": {},
   "outputs": [
    {
     "name": "stdout",
     "output_type": "stream",
     "text": [
      "Successfully opened pickled data\n"
     ]
    }
   ],
   "source": [
    "def loadInitialData(loadDat = True):\n",
    "    if loadDat == True:\n",
    "        train_data_name = '../../train_data.pkl'\n",
    "        train_data = pd.read_pickle(train_data_name)\n",
    "        test_data_name = '../../test_data.pkl'\n",
    "        test_data = pd.read_pickle(test_data_name)\n",
    "        print('Successfully opened pickled data')\n",
    "        \n",
    "        return train_data, test_data\n",
    "\n",
    "    else:\n",
    "        files = ['reviews_Video_Games.json.gz', \n",
    "                 'reviews_Toys_and_Games.json.gz', \n",
    "                 'reviews_Sports_and_Outdoors.json.gz', \n",
    "                 'reviews_Movies_and_TV.json.gz',\n",
    "                 'reviews_Kindle_Store.json.gz', \n",
    "                 'reviews_Home_and_Kitchen.json.gz',\n",
    "                 'reviews_Health_and_Personal_Care.json.gz', \n",
    "                 'reviews_Electronics.json.gz',\n",
    "                 'reviews_Clothing_Shoes_and_Jewelry.json.gz',\n",
    "                 'reviews_Cell_Phones_and_Accessories.json.gz', \n",
    "                 'reviews_CDs_and_Vinyl.json.gz',\n",
    "                 'reviews_Books.json.gz']\n",
    "        filesNames = ['reviews_Video_Games', \n",
    "                      'reviews_Toys_and_Games',\n",
    "                      'reviews_Sports_and_Outdoors', \n",
    "                      'reviews_Movies_and_TV',\n",
    "                      'reviews_Kindle_Store', \n",
    "                      'reviews_Home_and_Kitchen',\n",
    "                      'reviews_Health_and_Personal_Care', \n",
    "                      'reviews_Electronics',\n",
    "                      'reviews_Clothing_Shoes_and_Jewelry',\n",
    "                      'reviews_Cell_Phones_and_Accessories', \n",
    "                      'reviews_CDs_and_Vinyl',\n",
    "                      'reviews_Books']\n",
    "\n",
    "        print('Looks like you dont have the data.. Will pickle it for you for future use.')\n",
    "\n",
    "        def dataFullSets(original, concatData, name):\n",
    "            currentData = original\n",
    "            appendData = pd.read_csv('../Data/%s'%(concatData))\n",
    "            appendData['Product'] = name\n",
    "            newDF = pd.concat([currentData,appendData], sort=True)\n",
    "            return(newDF)\n",
    "\n",
    "        train_data = pd.read_csv('../Data/%s_train.csv'%(filesNames[0]))\n",
    "        train_data['Product'] = filesNames[0]\n",
    "        test_data = pd.read_csv('../Data/%s_test.csv'%(filesNames[0]))\n",
    "        test_data['Product'] = filesNames[0]\n",
    "\n",
    "        random.seed(1203)\n",
    "\n",
    "        for fileName in filesNames[1:]:\n",
    "            concatName_train = fileName+'_train.csv'\n",
    "            concatName_test = fileName+'_test.csv'\n",
    "\n",
    "            train_data = dataFullSets(train_data, concatName_train, fileName).sample(frac=1)\n",
    "            test_data = dataFullSets(test_data, concatName_test, fileName).sample(frac=1)\n",
    "\n",
    "            print('Concatenated', fileName)\n",
    "\n",
    "        print('Finished building train and test datasets.')\n",
    "\n",
    "        train_data_name = '../../train_data.pkl'\n",
    "        train_data.to_pickle(train_data_name)\n",
    "        test_data_name = '../../test_data.pkl'\n",
    "        test_data.to_pickle(test_data_name)\n",
    "\n",
    "        print('Finished pickling for future use.')\n",
    "        \n",
    "        return train_data, test_data\n",
    "        \n",
    "train_data, test_data = loadInitialData(loadDat = True)"
   ]
  },
  {
   "cell_type": "code",
   "execution_count": 3,
   "metadata": {
    "ExecuteTime": {
     "end_time": "2019-03-21T17:11:55.945562Z",
     "start_time": "2019-03-21T17:11:55.896787Z"
    },
    "scrolled": false
   },
   "outputs": [
    {
     "data": {
      "text/html": [
       "<div>\n",
       "<style scoped>\n",
       "    .dataframe tbody tr th:only-of-type {\n",
       "        vertical-align: middle;\n",
       "    }\n",
       "\n",
       "    .dataframe tbody tr th {\n",
       "        vertical-align: top;\n",
       "    }\n",
       "\n",
       "    .dataframe thead th {\n",
       "        text-align: right;\n",
       "    }\n",
       "</style>\n",
       "<table border=\"1\" class=\"dataframe\">\n",
       "  <thead>\n",
       "    <tr style=\"text-align: right;\">\n",
       "      <th></th>\n",
       "      <th>Product</th>\n",
       "      <th>asin</th>\n",
       "      <th>helpful</th>\n",
       "      <th>overall</th>\n",
       "      <th>reviewText</th>\n",
       "      <th>reviewTime</th>\n",
       "      <th>reviewerID</th>\n",
       "      <th>reviewerName</th>\n",
       "      <th>sentiment</th>\n",
       "      <th>summary</th>\n",
       "      <th>unixReviewTime</th>\n",
       "    </tr>\n",
       "  </thead>\n",
       "  <tbody>\n",
       "    <tr>\n",
       "      <th>83381</th>\n",
       "      <td>reviews_Electronics</td>\n",
       "      <td>B00AHPSTRY</td>\n",
       "      <td>[5, 5]</td>\n",
       "      <td>1.0</td>\n",
       "      <td>just received my screen protector.  it's going...</td>\n",
       "      <td>08 14, 2013</td>\n",
       "      <td>A20EOZ5Q2Z8L1S</td>\n",
       "      <td>Vicki B.</td>\n",
       "      <td>0</td>\n",
       "      <td>SENDING IT BACK!</td>\n",
       "      <td>1376438400</td>\n",
       "    </tr>\n",
       "    <tr>\n",
       "      <th>7113</th>\n",
       "      <td>reviews_CDs_and_Vinyl</td>\n",
       "      <td>B00005AQ38</td>\n",
       "      <td>[6, 6]</td>\n",
       "      <td>1.0</td>\n",
       "      <td>But instead of the orchestra, we are treated t...</td>\n",
       "      <td>12 23, 2001</td>\n",
       "      <td>A16SS8HYJW7IEJ</td>\n",
       "      <td>Mark Pollock \"educator\"</td>\n",
       "      <td>0</td>\n",
       "      <td>Would be nice to hear the orchestra...</td>\n",
       "      <td>1009065600</td>\n",
       "    </tr>\n",
       "    <tr>\n",
       "      <th>58166</th>\n",
       "      <td>reviews_Health_and_Personal_Care</td>\n",
       "      <td>B0007P2OO8</td>\n",
       "      <td>[0, 0]</td>\n",
       "      <td>5.0</td>\n",
       "      <td>Love this shaving soap and it was the best pri...</td>\n",
       "      <td>01 15, 2013</td>\n",
       "      <td>A16O37AEI0Y3N</td>\n",
       "      <td>Richard Papaleo</td>\n",
       "      <td>1</td>\n",
       "      <td>Col. Conk is Famous</td>\n",
       "      <td>1358208000</td>\n",
       "    </tr>\n",
       "    <tr>\n",
       "      <th>35717</th>\n",
       "      <td>reviews_Home_and_Kitchen</td>\n",
       "      <td>B000AA89GW</td>\n",
       "      <td>[0, 1]</td>\n",
       "      <td>1.0</td>\n",
       "      <td>It is impossible to join the two pieces of the...</td>\n",
       "      <td>08 28, 2011</td>\n",
       "      <td>A2OV0337VRTSUV</td>\n",
       "      <td>AF</td>\n",
       "      <td>0</td>\n",
       "      <td>Impossible to close tightly... Makes a mess!!!</td>\n",
       "      <td>1314489600</td>\n",
       "    </tr>\n",
       "    <tr>\n",
       "      <th>26850</th>\n",
       "      <td>reviews_Electronics</td>\n",
       "      <td>B00529F3JW</td>\n",
       "      <td>[2, 2]</td>\n",
       "      <td>1.0</td>\n",
       "      <td>There is no suction on this little vacuum clea...</td>\n",
       "      <td>01 25, 2013</td>\n",
       "      <td>A3I0B7SO7OE7YG</td>\n",
       "      <td>Terry White</td>\n",
       "      <td>0</td>\n",
       "      <td>Mini Vacuum Cleaner</td>\n",
       "      <td>1359072000</td>\n",
       "    </tr>\n",
       "  </tbody>\n",
       "</table>\n",
       "</div>"
      ],
      "text/plain": [
       "                                Product        asin helpful  overall  \\\n",
       "83381               reviews_Electronics  B00AHPSTRY  [5, 5]      1.0   \n",
       "7113              reviews_CDs_and_Vinyl  B00005AQ38  [6, 6]      1.0   \n",
       "58166  reviews_Health_and_Personal_Care  B0007P2OO8  [0, 0]      5.0   \n",
       "35717          reviews_Home_and_Kitchen  B000AA89GW  [0, 1]      1.0   \n",
       "26850               reviews_Electronics  B00529F3JW  [2, 2]      1.0   \n",
       "\n",
       "                                              reviewText   reviewTime  \\\n",
       "83381  just received my screen protector.  it's going...  08 14, 2013   \n",
       "7113   But instead of the orchestra, we are treated t...  12 23, 2001   \n",
       "58166  Love this shaving soap and it was the best pri...  01 15, 2013   \n",
       "35717  It is impossible to join the two pieces of the...  08 28, 2011   \n",
       "26850  There is no suction on this little vacuum clea...  01 25, 2013   \n",
       "\n",
       "           reviewerID             reviewerName  sentiment  \\\n",
       "83381  A20EOZ5Q2Z8L1S                 Vicki B.          0   \n",
       "7113   A16SS8HYJW7IEJ  Mark Pollock \"educator\"          0   \n",
       "58166   A16O37AEI0Y3N          Richard Papaleo          1   \n",
       "35717  A2OV0337VRTSUV                       AF          0   \n",
       "26850  A3I0B7SO7OE7YG              Terry White          0   \n",
       "\n",
       "                                              summary  unixReviewTime  \n",
       "83381                                SENDING IT BACK!      1376438400  \n",
       "7113           Would be nice to hear the orchestra...      1009065600  \n",
       "58166                             Col. Conk is Famous      1358208000  \n",
       "35717  Impossible to close tightly... Makes a mess!!!      1314489600  \n",
       "26850                             Mini Vacuum Cleaner      1359072000  "
      ]
     },
     "execution_count": 3,
     "metadata": {},
     "output_type": "execute_result"
    }
   ],
   "source": [
    "train_data.head()"
   ]
  },
  {
   "cell_type": "code",
   "execution_count": 4,
   "metadata": {
    "ExecuteTime": {
     "end_time": "2019-03-21T17:11:55.993872Z",
     "start_time": "2019-03-21T17:11:55.948370Z"
    },
    "scrolled": false
   },
   "outputs": [
    {
     "data": {
      "text/html": [
       "<div>\n",
       "<style scoped>\n",
       "    .dataframe tbody tr th:only-of-type {\n",
       "        vertical-align: middle;\n",
       "    }\n",
       "\n",
       "    .dataframe tbody tr th {\n",
       "        vertical-align: top;\n",
       "    }\n",
       "\n",
       "    .dataframe thead th {\n",
       "        text-align: right;\n",
       "    }\n",
       "</style>\n",
       "<table border=\"1\" class=\"dataframe\">\n",
       "  <thead>\n",
       "    <tr style=\"text-align: right;\">\n",
       "      <th></th>\n",
       "      <th>Product</th>\n",
       "      <th>asin</th>\n",
       "      <th>helpful</th>\n",
       "      <th>overall</th>\n",
       "      <th>reviewText</th>\n",
       "      <th>reviewTime</th>\n",
       "      <th>reviewerID</th>\n",
       "      <th>reviewerName</th>\n",
       "      <th>sentiment</th>\n",
       "      <th>summary</th>\n",
       "      <th>unixReviewTime</th>\n",
       "    </tr>\n",
       "  </thead>\n",
       "  <tbody>\n",
       "    <tr>\n",
       "      <th>11262</th>\n",
       "      <td>reviews_Home_and_Kitchen</td>\n",
       "      <td>B007EESTOY</td>\n",
       "      <td>[0, 0]</td>\n",
       "      <td>5.0</td>\n",
       "      <td>Love this! Hot drinks stay hot for a couple ho...</td>\n",
       "      <td>06 7, 2014</td>\n",
       "      <td>A1RAD5380383DT</td>\n",
       "      <td>Jennifer Manelis</td>\n",
       "      <td>1</td>\n",
       "      <td>Great insulation!!!</td>\n",
       "      <td>1402099200</td>\n",
       "    </tr>\n",
       "    <tr>\n",
       "      <th>16948</th>\n",
       "      <td>reviews_Health_and_Personal_Care</td>\n",
       "      <td>B0063X0K5I</td>\n",
       "      <td>[1, 1]</td>\n",
       "      <td>1.0</td>\n",
       "      <td>Paid for next day shipping as reviews said thi...</td>\n",
       "      <td>05 20, 2014</td>\n",
       "      <td>AYOQUNMV9L23E</td>\n",
       "      <td>David Murray</td>\n",
       "      <td>0</td>\n",
       "      <td>Does not ship in a cold pack</td>\n",
       "      <td>1400544000</td>\n",
       "    </tr>\n",
       "    <tr>\n",
       "      <th>18599</th>\n",
       "      <td>reviews_Video_Games</td>\n",
       "      <td>B009CL6LA6</td>\n",
       "      <td>[0, 0]</td>\n",
       "      <td>5.0</td>\n",
       "      <td>I got it for my teenage grandson for Christmas...</td>\n",
       "      <td>01 30, 2014</td>\n",
       "      <td>A1Y644EFDB8CZ8</td>\n",
       "      <td>Elaine A. Stone \"Grandma from Oklahoma\"</td>\n",
       "      <td>1</td>\n",
       "      <td>Headset</td>\n",
       "      <td>1391040000</td>\n",
       "    </tr>\n",
       "    <tr>\n",
       "      <th>6570</th>\n",
       "      <td>reviews_Cell_Phones_and_Accessories</td>\n",
       "      <td>B0042R8ICO</td>\n",
       "      <td>[1, 1]</td>\n",
       "      <td>5.0</td>\n",
       "      <td>This protector is good value. It's very clear,...</td>\n",
       "      <td>08 21, 2011</td>\n",
       "      <td>A1QSXZJMDRH5KY</td>\n",
       "      <td>Yancy</td>\n",
       "      <td>1</td>\n",
       "      <td>Great Clear Protector</td>\n",
       "      <td>1313884800</td>\n",
       "    </tr>\n",
       "    <tr>\n",
       "      <th>207</th>\n",
       "      <td>reviews_Toys_and_Games</td>\n",
       "      <td>B003F64T1M</td>\n",
       "      <td>[4, 4]</td>\n",
       "      <td>5.0</td>\n",
       "      <td>I've had this truck for about a week now. Afte...</td>\n",
       "      <td>07 18, 2013</td>\n",
       "      <td>A9F5P3EMJINOR</td>\n",
       "      <td>R. Moschgat Jr.</td>\n",
       "      <td>1</td>\n",
       "      <td>Maxstone</td>\n",
       "      <td>1374105600</td>\n",
       "    </tr>\n",
       "  </tbody>\n",
       "</table>\n",
       "</div>"
      ],
      "text/plain": [
       "                                   Product        asin helpful  overall  \\\n",
       "11262             reviews_Home_and_Kitchen  B007EESTOY  [0, 0]      5.0   \n",
       "16948     reviews_Health_and_Personal_Care  B0063X0K5I  [1, 1]      1.0   \n",
       "18599                  reviews_Video_Games  B009CL6LA6  [0, 0]      5.0   \n",
       "6570   reviews_Cell_Phones_and_Accessories  B0042R8ICO  [1, 1]      5.0   \n",
       "207                 reviews_Toys_and_Games  B003F64T1M  [4, 4]      5.0   \n",
       "\n",
       "                                              reviewText   reviewTime  \\\n",
       "11262  Love this! Hot drinks stay hot for a couple ho...   06 7, 2014   \n",
       "16948  Paid for next day shipping as reviews said thi...  05 20, 2014   \n",
       "18599  I got it for my teenage grandson for Christmas...  01 30, 2014   \n",
       "6570   This protector is good value. It's very clear,...  08 21, 2011   \n",
       "207    I've had this truck for about a week now. Afte...  07 18, 2013   \n",
       "\n",
       "           reviewerID                             reviewerName  sentiment  \\\n",
       "11262  A1RAD5380383DT                         Jennifer Manelis          1   \n",
       "16948   AYOQUNMV9L23E                             David Murray          0   \n",
       "18599  A1Y644EFDB8CZ8  Elaine A. Stone \"Grandma from Oklahoma\"          1   \n",
       "6570   A1QSXZJMDRH5KY                                    Yancy          1   \n",
       "207     A9F5P3EMJINOR                          R. Moschgat Jr.          1   \n",
       "\n",
       "                            summary  unixReviewTime  \n",
       "11262           Great insulation!!!      1402099200  \n",
       "16948  Does not ship in a cold pack      1400544000  \n",
       "18599                       Headset      1391040000  \n",
       "6570          Great Clear Protector      1313884800  \n",
       "207                        Maxstone      1374105600  "
      ]
     },
     "execution_count": 4,
     "metadata": {},
     "output_type": "execute_result"
    }
   ],
   "source": [
    "test_data.head()"
   ]
  },
  {
   "cell_type": "code",
   "execution_count": 5,
   "metadata": {},
   "outputs": [],
   "source": [
    "def decontracted(phrase):\n",
    "    phrase = re.sub(r\"won\\'t\", \"will not\", phrase)\n",
    "    phrase = re.sub(r\"can\\'t\", \"can not\", phrase)\n",
    "    phrase = re.sub(r\"n\\'t\", \" not\", phrase)\n",
    "    phrase = re.sub(r\"\\'re\", \" are\", phrase)\n",
    "    phrase = re.sub(r\"\\'s\", \" is\", phrase)\n",
    "    phrase = re.sub(r\"\\'d\", \" would\", phrase)\n",
    "    phrase = re.sub(r\"\\'ll\", \" will\", phrase)\n",
    "    phrase = re.sub(r\"\\'t\", \" not\", phrase)\n",
    "    phrase = re.sub(r\"\\'ve\", \" have\", phrase)\n",
    "    phrase = re.sub(r\"\\'m\", \" am\", phrase)\n",
    "    return phrase"
   ]
  },
  {
   "cell_type": "code",
   "execution_count": 6,
   "metadata": {},
   "outputs": [
    {
     "data": {
      "text/plain": [
       "'I could not ask for a better vacuum.  We just got this today and it was together within a minute.  Hubby used it on our wood floor and it picked up really well.  Then he did the 3 carpets that we have and they look almost brand new.  The funny thing is that my older cat batted at it and was hissing a little and the younger one ran out of the room as quick as he could.  It does not make a lot of noise and it a very good product to own.'"
      ]
     },
     "execution_count": 6,
     "metadata": {},
     "output_type": "execute_result"
    }
   ],
   "source": [
    "#practice sentence\n",
    "test_sentence = test_data['reviewText'].iloc[19]\n",
    "test_sentence"
   ]
  },
  {
   "cell_type": "code",
   "execution_count": 7,
   "metadata": {},
   "outputs": [
    {
     "data": {
      "text/plain": [
       "'i could not ask for a better vacuum we just got this today and it was together within a minute hubby used it on our wood floor and it picked up really well then he did the carpets that we have and they look almost brand new the funny thing is that my older cat batted at it and was hissing a little and the younger one ran out of the room as quick as he could it does not make a lot of noise and it a very good product to own '"
      ]
     },
     "execution_count": 7,
     "metadata": {},
     "output_type": "execute_result"
    }
   ],
   "source": [
    "#prepare reviews to be split by words\n",
    "#change to lowercase, remove punctuation and numbers\n",
    "test_data_word_prep = re.sub(\"[^a-zA-Z']\", \" \", test_sentence).lower()\n",
    "test_data_word_prep = re.sub(\"[\\\\s]+\", \" \", test_data_word_prep)\n",
    "test_data_word_prep = decontracted(test_data_word_prep)\n",
    "test_data_word_prep"
   ]
  },
  {
   "cell_type": "code",
   "execution_count": 8,
   "metadata": {
    "scrolled": false
   },
   "outputs": [
    {
     "data": {
      "text/plain": [
       "['i',\n",
       " 'could',\n",
       " 'not',\n",
       " 'ask',\n",
       " 'for',\n",
       " 'a',\n",
       " 'better',\n",
       " 'vacuum',\n",
       " 'we',\n",
       " 'just',\n",
       " 'got',\n",
       " 'this',\n",
       " 'today',\n",
       " 'and',\n",
       " 'it',\n",
       " 'was',\n",
       " 'together',\n",
       " 'within',\n",
       " 'a',\n",
       " 'minute',\n",
       " 'hubby',\n",
       " 'used',\n",
       " 'it',\n",
       " 'on',\n",
       " 'our',\n",
       " 'wood',\n",
       " 'floor',\n",
       " 'and',\n",
       " 'it',\n",
       " 'picked',\n",
       " 'up',\n",
       " 'really',\n",
       " 'well',\n",
       " 'then',\n",
       " 'he',\n",
       " 'did',\n",
       " 'the',\n",
       " 'carpets',\n",
       " 'that',\n",
       " 'we',\n",
       " 'have',\n",
       " 'and',\n",
       " 'they',\n",
       " 'look',\n",
       " 'almost',\n",
       " 'brand',\n",
       " 'new',\n",
       " 'the',\n",
       " 'funny',\n",
       " 'thing',\n",
       " 'is',\n",
       " 'that',\n",
       " 'my',\n",
       " 'older',\n",
       " 'cat',\n",
       " 'batted',\n",
       " 'at',\n",
       " 'it',\n",
       " 'and',\n",
       " 'was',\n",
       " 'hissing',\n",
       " 'a',\n",
       " 'little',\n",
       " 'and',\n",
       " 'the',\n",
       " 'younger',\n",
       " 'one',\n",
       " 'ran',\n",
       " 'out',\n",
       " 'of',\n",
       " 'the',\n",
       " 'room',\n",
       " 'as',\n",
       " 'quick',\n",
       " 'as',\n",
       " 'he',\n",
       " 'could',\n",
       " 'it',\n",
       " 'does',\n",
       " 'not',\n",
       " 'make',\n",
       " 'a',\n",
       " 'lot',\n",
       " 'of',\n",
       " 'noise',\n",
       " 'and',\n",
       " 'it',\n",
       " 'a',\n",
       " 'very',\n",
       " 'good',\n",
       " 'product',\n",
       " 'to',\n",
       " 'own']"
      ]
     },
     "execution_count": 8,
     "metadata": {},
     "output_type": "execute_result"
    }
   ],
   "source": [
    "#list of words after processing\n",
    "test_data_word_prep.strip().split()"
   ]
  },
  {
   "cell_type": "code",
   "execution_count": 9,
   "metadata": {
    "scrolled": true
   },
   "outputs": [],
   "source": [
    "imdb_reviews = pd.read_csv('../Data/imdb_master_file.csv', encoding=\"ISO-8859-1\")\n",
    "\n",
    "imdb_reviews['sentiment'] = np.where(imdb_reviews['label']=='pos',1,0)\n",
    "\n",
    "imdb_test = imdb_reviews.loc[imdb_reviews.type == 'test',]\n",
    "\n",
    "imdb_train = imdb_reviews.loc[imdb_reviews.type == 'train',]"
   ]
  },
  {
   "cell_type": "code",
   "execution_count": 10,
   "metadata": {
    "ExecuteTime": {
     "end_time": "2019-03-21T20:04:03.921115Z",
     "start_time": "2019-03-21T20:03:10.378683Z"
    },
    "scrolled": false
   },
   "outputs": [
    {
     "name": "stdout",
     "output_type": "stream",
     "text": [
      "Successfully opened pickled data\n"
     ]
    }
   ],
   "source": [
    "max_length = 200\n",
    "\n",
    "def loadData(loadDat = True, test_data = test_data, train_data = train_data):\n",
    "    \n",
    "    if loadDat == True:\n",
    "        train_data_name = '../../train_data_cleaned.pkl'\n",
    "        train_data = pd.read_pickle(train_data_name)\n",
    "        test_data_name = '../../train_data_cleaned.pkl'\n",
    "        test_data = pd.read_pickle(test_data_name)\n",
    "        play_data_name = '../../play_data_cleaned.pkl'\n",
    "        play_data = pd.read_pickle(play_data_name)\n",
    "        print('Successfully opened pickled data')\n",
    "        \n",
    "        return train_data, test_data, play_data\n",
    "    \n",
    "    else:\n",
    "\n",
    "        play_data = test_data[:10]\n",
    "\n",
    "        def decontracted(phrase):\n",
    "            phrase = re.sub(r\"won\\'t\", \"will not\", phrase)\n",
    "            phrase = re.sub(r\"can\\'t\", \"can not\", phrase)\n",
    "            phrase = re.sub(r\"n\\'t\", \" not\", phrase)\n",
    "            phrase = re.sub(r\"\\'re\", \" are\", phrase)\n",
    "            phrase = re.sub(r\"\\'s\", \" is\", phrase)\n",
    "            phrase = re.sub(r\"\\'d\", \" would\", phrase)\n",
    "            phrase = re.sub(r\"\\'ll\", \" will\", phrase)\n",
    "            phrase = re.sub(r\"\\'t\", \" not\", phrase)\n",
    "            phrase = re.sub(r\"\\'ve\", \" have\", phrase)\n",
    "            phrase = re.sub(r\"\\'m\", \" am\", phrase)\n",
    "            return phrase\n",
    "\n",
    "        def prepReview(data):\n",
    "            data_prep = str(data['reviewText'])\n",
    "            data_prep = re.sub(\"[!?]\", \".\", data_prep)\n",
    "            data_prep = re.sub(\"[^a-zA-Z']\", \" \", data_prep).lower()\n",
    "            data_prep = re.sub(\"[\\\\s]+\", \" \", data_prep)\n",
    "            data_prep = decontracted(data_prep)\n",
    "            return data_prep\n",
    "\n",
    "        #function to process review text and split into words\n",
    "        def splitWords(data):\n",
    "            return prepReview(data).split()[:max_length]\n",
    "\n",
    "        #function to process review text and split into sentences\n",
    "        def splitSentences(data):\n",
    "            interim = prepReview(data).split()\n",
    "            reviewTrunc = interim[:max_length]\n",
    "            return ' '.join(reviewTrunc)\n",
    "\n",
    "\n",
    "        #list of words from review into column\n",
    "        sentences = play_data.apply(splitWords, axis=1)\n",
    "        play_data.insert(loc = 11, column = 'sentenceWords', value = sentences)\n",
    "\n",
    "        sentences = train_data.apply(splitWords, axis=1)\n",
    "        train_data.insert(loc = 11,column = 'sentenceWords', value = sentences)\n",
    "\n",
    "        sentences = test_data.apply(splitWords, axis=1)\n",
    "        test_data.insert(loc = 11,column = 'sentenceWords', value = sentences)\n",
    "\n",
    "        #IMDB additions\n",
    "#         sentences = imdb_test.apply(splitWords, axis=1)\n",
    "#         imdb_test.insert(loc = 6,column = 'sentenceWords', value = sentences)\n",
    "        \n",
    "#         sentences = imdb_train.apply(splitWords, axis=1)\n",
    "#         imdb_train.insert(loc = 6,column = 'sentenceWords', value = sentences)\n",
    "        \n",
    "        print('Finished working through the words for each sentences\\nOn to the sentences..')\n",
    "\n",
    "        #list of sentences from review into column\n",
    "        sentences_split = play_data.apply(splitSentences, axis=1)\n",
    "        play_data.insert(loc = 12, column = 'sentences', value = sentences_split)\n",
    "\n",
    "        sentences_split = train_data.apply(splitSentences, axis=1)\n",
    "        train_data.insert(loc = 12,column = 'sentences', value = sentences_split)\n",
    "\n",
    "        sentences_split = test_data.apply(splitSentences, axis=1)\n",
    "        test_data.insert(loc = 12,column = 'sentences', value = sentences_split)\n",
    "        \n",
    "        #IMDB additions\n",
    "#         sentences_split = imdb_test.apply(splitSentences, axis=1)\n",
    "#         imdb_test.insert(loc = 7,column = 'sentences', value = sentences_split)\n",
    "        \n",
    "#         sentences_split = imdb_train.apply(splitSentences, axis=1)\n",
    "#         imdb_train.insert(loc = 7,column = 'sentences', value = sentences_split)\n",
    "\n",
    "        print('Finished sentences...\\nNow moving on top pickling the data')\n",
    "\n",
    "        train_data_name = '../../train_data_cleaned.pkl'\n",
    "        train_data.to_pickle(train_data_name)\n",
    "        test_data_name = '../../test_data_cleaned.pkl'\n",
    "        test_data.to_pickle(test_data_name)\n",
    "        play_data_name = '../../play_data_cleaned.pkl'\n",
    "        play_data.to_pickle(play_data_name)\n",
    "\n",
    "        print('Finished pickling for future use.')\n",
    "        \n",
    "        return train_data, test_data, play_data\n",
    "        \n",
    "train_data, test_data, play_data = loadData(loadDat = True)"
   ]
  },
  {
   "cell_type": "code",
   "execution_count": 11,
   "metadata": {
    "ExecuteTime": {
     "end_time": "2019-03-21T20:04:30.500814Z",
     "start_time": "2019-03-21T20:04:03.931150Z"
    }
   },
   "outputs": [],
   "source": [
    "wordFreq = defaultdict(int)\n",
    "\n",
    "wordData = train_data['sentenceWords']\n",
    "\n",
    "for row in wordData:\n",
    "    for word in row:\n",
    "        wordFreq[word] += 1      "
   ]
  },
  {
   "cell_type": "code",
   "execution_count": 12,
   "metadata": {
    "ExecuteTime": {
     "end_time": "2019-03-21T20:08:13.992684Z",
     "start_time": "2019-03-21T20:08:13.948360Z"
    },
    "scrolled": false
   },
   "outputs": [],
   "source": [
    "wordsForHist = list(wordFreq.values())"
   ]
  },
  {
   "cell_type": "code",
   "execution_count": 13,
   "metadata": {
    "ExecuteTime": {
     "end_time": "2019-03-21T20:08:17.320811Z",
     "start_time": "2019-03-21T20:08:16.613431Z"
    }
   },
   "outputs": [
    {
     "name": "stderr",
     "output_type": "stream",
     "text": [
      "/home/lance_miles/anaconda3/lib/python3.6/site-packages/matplotlib/axes/_axes.py:6462: UserWarning: The 'normed' kwarg is deprecated, and has been replaced by the 'density' kwarg.\n",
      "  warnings.warn(\"The 'normed' kwarg is deprecated, and has been \"\n"
     ]
    },
    {
     "data": {
      "text/plain": [
       "Text(0.5,1,'Word Frequency for Train Data')"
      ]
     },
     "execution_count": 13,
     "metadata": {},
     "output_type": "execute_result"
    },
    {
     "data": {
      "image/png": "[encoded data removed]",
      "text/plain": [
       "<Figure size 432x288 with 1 Axes>"
      ]
     },
     "metadata": {},
     "output_type": "display_data"
    }
   ],
   "source": [
    "sns.distplot(wordsForHist, bins=100, color = 'red').set_title('Word Frequency for Train Data')"
   ]
  },
  {
   "cell_type": "code",
   "execution_count": 14,
   "metadata": {
    "ExecuteTime": {
     "end_time": "2019-03-21T20:13:27.638555Z",
     "start_time": "2019-03-21T20:13:27.284719Z"
    }
   },
   "outputs": [],
   "source": [
    "reviewLength = []\n",
    "\n",
    "for row in wordData:\n",
    "    reviewLength.append(len(row))"
   ]
  },
  {
   "cell_type": "code",
   "execution_count": 15,
   "metadata": {
    "ExecuteTime": {
     "end_time": "2019-03-21T20:14:20.733542Z",
     "start_time": "2019-03-21T20:14:20.198952Z"
    },
    "scrolled": false
   },
   "outputs": [
    {
     "name": "stderr",
     "output_type": "stream",
     "text": [
      "/home/lance_miles/anaconda3/lib/python3.6/site-packages/matplotlib/axes/_axes.py:6462: UserWarning: The 'normed' kwarg is deprecated, and has been replaced by the 'density' kwarg.\n",
      "  warnings.warn(\"The 'normed' kwarg is deprecated, and has been \"\n"
     ]
    },
    {
     "data": {
      "text/plain": [
       "Text(0.5,1,'Sentence Lengths for Train Data')"
      ]
     },
     "execution_count": 15,
     "metadata": {},
     "output_type": "execute_result"
    },
    {
     "data": {
      "image/png": "[encoded data removed]",
      "text/plain": [
       "<Figure size 432x288 with 1 Axes>"
      ]
     },
     "metadata": {},
     "output_type": "display_data"
    }
   ],
   "source": [
    "sns.distplot(reviewLength, bins=100, color = 'red').set_title('Sentence Lengths for Train Data')"
   ]
  },
  {
   "cell_type": "code",
   "execution_count": 16,
   "metadata": {
    "scrolled": true
   },
   "outputs": [
    {
     "name": "stdout",
     "output_type": "stream",
     "text": [
      "Mean: 68.83632083333333\n",
      "Median: 47.0\n"
     ]
    }
   ],
   "source": [
    "print('Mean:',np.mean(reviewLength))\n",
    "print('Median:',np.median(reviewLength))"
   ]
  },
  {
   "cell_type": "markdown",
   "metadata": {},
   "source": [
    "## Universal Sentence Encoder"
   ]
  },
  {
   "cell_type": "code",
   "execution_count": 17,
   "metadata": {},
   "outputs": [],
   "source": [
    "#embedding = hub.Module(\"https://tfhub.dev/google/universal-sentence-encoder-large/3\")\n",
    "\n",
    "embedding = hub.Module(\"https://tfhub.dev/google/universal-sentence-encoder/2\")"
   ]
  },
  {
   "cell_type": "code",
   "execution_count": 18,
   "metadata": {},
   "outputs": [],
   "source": [
    "def getUniSentEmbeds(data):\n",
    "\n",
    "    tf.logging.set_verbosity(tf.logging.ERROR)\n",
    "\n",
    "    with tf.Session() as sess:\n",
    "        sess.run([tf.global_variables_initializer(), tf.tables_initializer()])\n",
    "        review_embeddings = sess.run(embedding((data)))\n",
    "\n",
    "    review_embeddings = np.array(review_embeddings)\n",
    "    return review_embeddings"
   ]
  },
  {
   "cell_type": "code",
   "execution_count": 19,
   "metadata": {},
   "outputs": [
    {
     "name": "stdout",
     "output_type": "stream",
     "text": [
      "Successfully opened pickled play data\n"
     ]
    }
   ],
   "source": [
    "try:\n",
    "    play_data_name = '../../play_data_USE.npy'\n",
    "    play_data_USE = np.load(play_data_name)\n",
    "    print('Successfully opened pickled play data')\n",
    "    \n",
    "except FileNotFoundError:\n",
    "    \n",
    "    play_reviews = [str(rev) for rev in play_data['sentences']]\n",
    "    \n",
    "    print('Build USE for play Data')\n",
    "    play_data_USE = getUniSentEmbeds(play_reviews)\n",
    "    \n",
    "    play_data_name = '../../play_data_USE.npy'\n",
    "    np.save(play_data_name, play_data_USE)\n",
    "    \n",
    "    print('Finished pickling play data for future use.')"
   ]
  },
  {
   "cell_type": "code",
   "execution_count": 20,
   "metadata": {},
   "outputs": [
    {
     "data": {
      "text/plain": [
       "1200000"
      ]
     },
     "execution_count": 20,
     "metadata": {},
     "output_type": "execute_result"
    }
   ],
   "source": [
    "testReviews = [str(rev) for rev in test_data['sentences']]\n",
    "len(testReviews)"
   ]
  },
  {
   "cell_type": "code",
   "execution_count": 21,
   "metadata": {},
   "outputs": [
    {
     "name": "stdout",
     "output_type": "stream",
     "text": [
      "Successfully opened pickled test data\n"
     ]
    }
   ],
   "source": [
    "try:\n",
    "    test_data_name = '../../test_data_USE.npy'\n",
    "    test_data_USE = np.load(test_data_name)\n",
    "    \n",
    "    print('Successfully opened pickled test data')\n",
    "    \n",
    "except FileNotFoundError:\n",
    "    \n",
    "    testReviews = [str(rev) for rev in test_data['sentences']]\n",
    "    \n",
    "#     test1 = testReviews[:20000]\n",
    "#     test2 = testReviews[20000:40000]\n",
    "#     test3 = testReviews[40000:60000]\n",
    "#     test4 = testReviews[60000:80000]\n",
    "#     test5 = testReviews[80000:100000]\n",
    "#     test6 = testReviews[100000:]\n",
    "\n",
    "#     print('Build USE for test1 Data')\n",
    "#     test_1_USE = getUniSentEmbeds(test1)\n",
    "    \n",
    "#     print('Build USE for test2 Data')\n",
    "#     test_2_USE = getUniSentEmbeds(test2)\n",
    "    \n",
    "#     print('Build USE for test3 Data')\n",
    "#     test_3_USE = getUniSentEmbeds(test3)\n",
    "    \n",
    "#     print('Build USE for test4 Data')\n",
    "#     test_4_USE = getUniSentEmbeds(test4)\n",
    "    \n",
    "#     print('Build USE for test5 Data')\n",
    "#     test_5_USE = getUniSentEmbeds(test5)\n",
    "    \n",
    "#     print('Build USE for test6 Data')\n",
    "#     test_6_USE = getUniSentEmbeds(test6)\n",
    "    \n",
    "#     test_data_USE = np.concatenate((test_1_USE, test_2_USE,\n",
    "#                                     test_3_USE, test_4_USE,\n",
    "#                                     test_5_USE, test_6_USE), axis=0)\n",
    "    \n",
    "    test_data_USE = getUniSentEmbeds(testReviews)\n",
    "    print(test_data_USE.shape)\n",
    "    \n",
    "    test_data_name = '../../test_data_USE.npy'\n",
    "    np.save(test_data_name, test_data_USE)\n",
    "    \n",
    "    print('Finished pickling for future use.')"
   ]
  },
  {
   "cell_type": "code",
   "execution_count": 22,
   "metadata": {},
   "outputs": [
    {
     "data": {
      "text/plain": [
       "(1200000, 512)"
      ]
     },
     "execution_count": 22,
     "metadata": {},
     "output_type": "execute_result"
    }
   ],
   "source": [
    "test_data_USE.shape"
   ]
  },
  {
   "cell_type": "code",
   "execution_count": 23,
   "metadata": {},
   "outputs": [
    {
     "name": "stdout",
     "output_type": "stream",
     "text": [
      "Successfully opened pickled train data\n"
     ]
    }
   ],
   "source": [
    "try:\n",
    "    train_data_name = '../../train_data_USE.npy'\n",
    "    train_data_USE = np.load(train_data_name)\n",
    "    \n",
    "    print('Successfully opened pickled train data')\n",
    "    \n",
    "except FileNotFoundError:\n",
    "    \n",
    "    trainReviews = [str(rev) for rev in train_data['sentences']]\n",
    "    \n",
    "    train1 = testReviews[:40000]\n",
    "    train2 = testReviews[40000:80000]\n",
    "    train3 = testReviews[80000:120000]\n",
    "    train4 = testReviews[120000:160000]\n",
    "    train5 = testReviews[160000:200000]\n",
    "    train6 = testReviews[200000:240000]\n",
    "    train7 = testReviews[240000:280000]\n",
    "    train8 = testReviews[280000:320000]\n",
    "    train9 = testReviews[320000:360000]\n",
    "    train10 = testReviews[360000:400000]\n",
    "    train11 = testReviews[400000:440000]\n",
    "    train12 = testReviews[440000:480000]\n",
    "    train13 = testReviews[480000:520000]\n",
    "    train14 = testReviews[520000:560000]\n",
    "    train15 = testReviews[560000:600000]\n",
    "    train16 = testReviews[600000:640000]\n",
    "    train17 = testReviews[640000:680000]\n",
    "    train18 = testReviews[680000:720000]\n",
    "    train19 = testReviews[720000:760000]\n",
    "    train20 = testReviews[760000:800000]\n",
    "    train21 = testReviews[800000:840000]\n",
    "    train22 = testReviews[840000:880000]\n",
    "    train23 = testReviews[880000:920000]\n",
    "    train24 = testReviews[920000:960000]\n",
    "    train25 = testReviews[960000:1000000]\n",
    "    train26 = testReviews[1000000:1040000]\n",
    "    train27 = testReviews[1040000:1080000]\n",
    "    train28 = testReviews[1080000:1120000]\n",
    "    train29 = testReviews[1120000:1160000]    \n",
    "    train30 = testReviews[1160000:]\n",
    "    \n",
    "    print('Build USE for train1 Data')\n",
    "    train1_use = getUniSentEmbeds(train1)\n",
    "    \n",
    "    print('Build USE for train2 Data')\n",
    "    train2_use = getUniSentEmbeds(train2)\n",
    "    \n",
    "    print('Build USE for train3 Data')\n",
    "    train3_use = getUniSentEmbeds(train3)\n",
    "    \n",
    "    print('Build USE for train4 Data')\n",
    "    train4_use = getUniSentEmbeds(train4)\n",
    "    \n",
    "    print('Build USE for train5 Data')\n",
    "    train5_use = getUniSentEmbeds(train5)\n",
    "    \n",
    "    print('Build USE for train6 Data')\n",
    "    train6_use = getUniSentEmbeds(train6)\n",
    "    \n",
    "    print('Build USE for train7 Data')\n",
    "    train7_use = getUniSentEmbeds(train7)\n",
    "    \n",
    "    print('Build USE for train8 Data')\n",
    "    train8_use = getUniSentEmbeds(train8)\n",
    "    \n",
    "    print('Build USE for train9 Data')\n",
    "    train9_use = getUniSentEmbeds(train9)\n",
    "    \n",
    "    print('Build USE for train10 Data')\n",
    "    train10_use = getUniSentEmbeds(train10)\n",
    "    \n",
    "    print('Build USE for train11 Data')\n",
    "    train11_use = getUniSentEmbeds(train11)\n",
    "    \n",
    "    print('Build USE for train12 Data')\n",
    "    train12_use = getUniSentEmbeds(train12)\n",
    "    \n",
    "    print('Build USE for train13 Data')\n",
    "    train13_use = getUniSentEmbeds(train13)\n",
    "    \n",
    "    print('Build USE for train14 Data')\n",
    "    train14_use = getUniSentEmbeds(train14)\n",
    "    \n",
    "    print('Build USE for train15 Data')\n",
    "    train15_use = getUniSentEmbeds(train15)\n",
    "    \n",
    "    print('Build USE for train16 Data')\n",
    "    train16_use = getUniSentEmbeds(train16)\n",
    "    \n",
    "    print('Build USE for train17 Data')\n",
    "    train17_use = getUniSentEmbeds(train17)\n",
    "    \n",
    "    print('Build USE for train18 Data')\n",
    "    train18_use = getUniSentEmbeds(train18)\n",
    "    \n",
    "    print('Build USE for train19 Data')\n",
    "    train19_use = getUniSentEmbeds(train19)\n",
    "    \n",
    "    print('Build USE for train20 Data')\n",
    "    train20_use = getUniSentEmbeds(train20)\n",
    "    \n",
    "    print('Build USE for train21 Data')\n",
    "    train21_use = getUniSentEmbeds(train21)\n",
    "    \n",
    "    print('Build USE for train22 Data')\n",
    "    train22_use = getUniSentEmbeds(train22)\n",
    "    \n",
    "    print('Build USE for train23 Data')\n",
    "    train23_use = getUniSentEmbeds(train23)\n",
    "    \n",
    "    print('Build USE for train24 Data')\n",
    "    train24_use = getUniSentEmbeds(train24)\n",
    "    \n",
    "    print('Build USE for train25 Data')\n",
    "    train25_use = getUniSentEmbeds(train25)\n",
    "    \n",
    "    print('Build USE for train26 Data')\n",
    "    train26_use = getUniSentEmbeds(train26)\n",
    "    \n",
    "    print('Build USE for train27 Data')\n",
    "    train27_use = getUniSentEmbeds(train27)\n",
    "    \n",
    "    print('Build USE for train28 Data')\n",
    "    train28_use = getUniSentEmbeds(train28)\n",
    "    \n",
    "    print('Build USE for train29 Data')\n",
    "    train29_use = getUniSentEmbeds(train29)\n",
    "    \n",
    "    print('Build USE for train30 Data')\n",
    "    train30_use = getUniSentEmbeds(train30)                             \n",
    "                             \n",
    "    train_data_USE = np.concatenate((train1_use, train2_use,\n",
    "                                    train3_use, train4_use,\n",
    "                                    train5_use, train6_use,\n",
    "                                    train7_use, train8_use,\n",
    "                                    train9_use, train10_use,\n",
    "                                    train11_use, train12_use,\n",
    "                                    train13_use, train14_use,\n",
    "                                    train15_use, train16_use,\n",
    "                                    train17_use, train18_use,\n",
    "                                    train19_use, train20_use,\n",
    "                                    train21_use, train22_use,\n",
    "                                    train23_use, train24_use,\n",
    "                                    train25_use, train26_use,\n",
    "                                    train27_use, train28_use,\n",
    "                                    train29_use, train30_use), axis=0)\n",
    "                             \n",
    "    train_data_name = '../../train_data_USE.npy'\n",
    "    np.save(train_data_name, train_data_USE)   \n",
    "    \n",
    "    print('Finished pickling train data for future use.')"
   ]
  },
  {
   "cell_type": "markdown",
   "metadata": {},
   "source": [
    "## Keras\n",
    "\n",
    "### TO DO:\n",
    "\n",
    "**Model Efforts**\n",
    "* Initialize and access word2vec embeddings in CNN\n",
    "* Initialize and access glove embeddings in CNN\n",
    "* Index Universal Sentence Embeddings for concatenation in CNN\n",
    "\n",
    "**Text Processing**\n",
    "* Contractions\n",
    "* Review Length (some as large as 6000?!)\n",
    "* Stopwords\n",
    "\n",
    "### Baseline Models\n",
    "#### CNN\n",
    "* Trained Embeddings\n",
    "* Word2Vec\n",
    "* Glove\n",
    "\n",
    "#### Softmax\n",
    "* Universal Sentence Encoder (USE)\n",
    "\n",
    "### Models to Test\n",
    "#### CNN (Concatentation)\n",
    "* Trained Embeddings + USE\n",
    "* Word2Vec + USE\n",
    "* Glove + USE\n",
    "\n",
    "**If extra time**\n",
    "* Zero shot learning - IMDB Reviews\n",
    "* Sentiment embeddings"
   ]
  },
  {
   "cell_type": "code",
   "execution_count": 24,
   "metadata": {},
   "outputs": [],
   "source": [
    "max_features = 20000 # how many unique words to use (i.e num rows in embedding vector)\n",
    "\n",
    "list_sentences_train = list(train_data['sentenceWords'])\n",
    "list_sentences_test = list(test_data['sentenceWords'])\n",
    "\n",
    "tokenizer = Tokenizer()   #num_words=max_features)\n",
    "tokenizer.fit_on_texts(list(list_sentences_train))\n",
    "\n",
    "list_tokenized_train = tokenizer.texts_to_sequences(list_sentences_train)\n",
    "list_tokenized_test = tokenizer.texts_to_sequences(list_sentences_test)\n",
    "\n",
    "\n",
    "X_train = pad_sequences(list_tokenized_train, maxlen=max_length, padding='post')\n",
    "X_train_labels = np.array(train_data['sentiment'])\n",
    "\n",
    "X_test = pad_sequences(list_tokenized_test, maxlen=max_length, padding='post')\n",
    "X_test_labels = np.array(test_data['sentiment'])\n",
    "\n",
    "X_train_labels.shape\n",
    "X_train.shape \n",
    "\n",
    "X_test.shape\n",
    "X_test_labels.shape\n",
    "\n",
    "word_index = tokenizer.word_index"
   ]
  },
  {
   "cell_type": "code",
   "execution_count": 25,
   "metadata": {},
   "outputs": [],
   "source": [
    "vocabulary_size = len(word_index) + 1\n",
    "vocabulary_size\n",
    "\n",
    "embedDim=300"
   ]
  },
  {
   "cell_type": "markdown",
   "metadata": {},
   "source": [
    "## Word2Vec Embeddings"
   ]
  },
  {
   "cell_type": "code",
   "execution_count": 26,
   "metadata": {},
   "outputs": [
    {
     "name": "stdout",
     "output_type": "stream",
     "text": [
      "Successfully opened pickled embedding_matrix_w2v\n"
     ]
    }
   ],
   "source": [
    "#https://www.kaggle.com/umbertogriffo/cnn-yoon-kim-s-model-and-google-s-word2vec-model\n",
    "#https://www.kaggle.com/marijakekic/cnn-in-keras-with-pretrained-word2vec-weights\n",
    "\n",
    "def loadw2v(loadEmbed = True):\n",
    "    if loadEmbed == True:\n",
    "        w2v_embed_name = '../../w2v_embed.npy'\n",
    "        embedding_matrix_w2v = np.load(w2v_embed_name)\n",
    "\n",
    "        print('Successfully opened pickled embedding_matrix_w2v')\n",
    "        return embedding_matrix_w2v\n",
    "    else:\n",
    "        \n",
    "        word_vectors = KeyedVectors.load_word2vec_format('../../GoogleNews-vectors-negative300.bin.gz', binary=True)\n",
    "        embedding_matrix_w2v = np.zeros((vocabulary_size, embedDim))\n",
    "        \n",
    "        for word, i in word_index.items():\n",
    "            try:\n",
    "                embedding_vector = word_vectors[word]\n",
    "                embedding_matrix_w2v[i] = embedding_vector\n",
    "            except KeyError:\n",
    "                embedding_matrix_w2v[i]=np.random.normal(0,np.sqrt(0.25),embedDim)\n",
    "\n",
    "        del(word_vectors)\n",
    "        \n",
    "        w2v_embed_name = '../../w2v_embed.npy'\n",
    "        np.save(w2v_embed_name, embedding_matrix_w2v)\n",
    "        \n",
    "        return embedding_matrix_w2v\n",
    "\n",
    "embedding_matrix_w2v = loadw2v(loadEmbed = True)"
   ]
  },
  {
   "cell_type": "code",
   "execution_count": 27,
   "metadata": {},
   "outputs": [
    {
     "data": {
      "text/plain": [
       "array([[ 0.        ,  0.        ,  0.        , ...,  0.        ,\n",
       "         0.        ,  0.        ],\n",
       "       [ 0.08007812,  0.10498047,  0.04980469, ...,  0.00366211,\n",
       "         0.04760742, -0.06884766],\n",
       "       [-0.22558594, -0.01953125,  0.09082031, ...,  0.02819824,\n",
       "        -0.17773438, -0.00604248],\n",
       "       ...,\n",
       "       [-0.05669782,  0.66833448, -0.72440838, ...,  0.02165054,\n",
       "         0.02798013, -0.29262374],\n",
       "       [-0.44889479, -0.14608567,  0.41548637, ...,  0.01506322,\n",
       "        -0.41868808,  0.33303135],\n",
       "       [ 0.09562571, -0.18635412, -0.26843286, ..., -0.53592383,\n",
       "         0.25208398, -0.16169312]])"
      ]
     },
     "execution_count": 27,
     "metadata": {},
     "output_type": "execute_result"
    }
   ],
   "source": [
    "embedding_matrix_w2v"
   ]
  },
  {
   "cell_type": "code",
   "execution_count": 28,
   "metadata": {},
   "outputs": [
    {
     "data": {
      "text/plain": [
       "(385239, 300)"
      ]
     },
     "execution_count": 28,
     "metadata": {},
     "output_type": "execute_result"
    }
   ],
   "source": [
    "embedding_matrix_w2v.shape"
   ]
  },
  {
   "cell_type": "markdown",
   "metadata": {},
   "source": [
    "## Glove Embeddings"
   ]
  },
  {
   "cell_type": "code",
   "execution_count": 29,
   "metadata": {},
   "outputs": [],
   "source": [
    "#https://www.kaggle.com/umbertogriffo/cnn-yoon-kim-s-model-and-google-s-word2vec-model\n",
    "#https://www.kaggle.com/marijakekic/cnn-in-keras-with-pretrained-word2vec-weights\n",
    "\n",
    "# https://stackoverflow.com/questions/37793118/load-pretrained-glove-vectors-in-python\n",
    "# import warnings\n",
    "# # warnings.filterwarnings(\"ignore\")\n",
    "\n",
    "# _ = glove2word2vec(glove_input_file='../../glove.840B.300d.txt', \n",
    "#                    word2vec_output_file='../../gensim_glove_vectors.txt')"
   ]
  },
  {
   "cell_type": "code",
   "execution_count": 30,
   "metadata": {},
   "outputs": [
    {
     "name": "stdout",
     "output_type": "stream",
     "text": [
      "Successfully opened pickled embedding_matrix_glove\n"
     ]
    }
   ],
   "source": [
    "def loadGlove(loadEmbed = True):\n",
    "    if loadEmbed == True:\n",
    "        glove_embed_name = '../../glove_embed.npy'\n",
    "        embedding_matrix_glove = np.load(glove_embed_name)\n",
    "\n",
    "        print('Successfully opened pickled embedding_matrix_glove')\n",
    "        return embedding_matrix_glove\n",
    "    \n",
    "    else:\n",
    "        word_vectors = KeyedVectors.load_word2vec_format('../../gensim_glove_vectors.txt', binary=False)\n",
    "\n",
    "        embedding_matrix_glove = np.zeros((vocabulary_size, embedDim))\n",
    "        for word, i in word_index.items():\n",
    "            try:\n",
    "                embedding_vector = word_vectors[word]\n",
    "                embedding_matrix_glove[i] = embedding_vector\n",
    "            except KeyError:\n",
    "                embedding_matrix_glove[i]=np.random.normal(0,np.sqrt(0.25),embedDim)\n",
    "\n",
    "        del(word_vectors)\n",
    "        \n",
    "        glove_embed_name = '../../glove_embed.npy'\n",
    "        np.save(glove_embed_name, embedding_matrix_glove)\n",
    "        \n",
    "        return embedding_matrix_glove\n",
    "\n",
    "embedding_matrix_glove = loadGlove(loadEmbed = True)"
   ]
  },
  {
   "cell_type": "code",
   "execution_count": 31,
   "metadata": {},
   "outputs": [
    {
     "data": {
      "text/plain": [
       "array([[ 0.        ,  0.        ,  0.        , ...,  0.        ,\n",
       "         0.        ,  0.        ],\n",
       "       [ 0.27204001, -0.06203   , -0.1884    , ...,  0.13015001,\n",
       "        -0.18317001,  0.1323    ],\n",
       "       [ 0.18732999,  0.40595001, -0.51174003, ...,  0.16495   ,\n",
       "         0.18757001,  0.53873998],\n",
       "       ...,\n",
       "       [-0.38305282,  0.51873904,  0.42807558, ..., -0.06607605,\n",
       "         0.51693713,  0.53094775],\n",
       "       [-0.00126892, -0.1897983 ,  0.0538873 , ..., -0.23339596,\n",
       "        -0.33180575,  0.02143054],\n",
       "       [ 0.95435669,  0.0096887 , -0.26980815, ...,  0.11325344,\n",
       "        -0.11042341, -0.13675645]])"
      ]
     },
     "execution_count": 31,
     "metadata": {},
     "output_type": "execute_result"
    }
   ],
   "source": [
    "embedding_matrix_glove"
   ]
  },
  {
   "cell_type": "code",
   "execution_count": 32,
   "metadata": {},
   "outputs": [
    {
     "data": {
      "text/plain": [
       "(385239, 300)"
      ]
     },
     "execution_count": 32,
     "metadata": {},
     "output_type": "execute_result"
    }
   ],
   "source": [
    "embedding_matrix_glove.shape"
   ]
  },
  {
   "cell_type": "markdown",
   "metadata": {},
   "source": [
    "## CNN Model"
   ]
  },
  {
   "cell_type": "code",
   "execution_count": 33,
   "metadata": {},
   "outputs": [],
   "source": [
    "# https://machinelearningmastery.com/develop-n-gram-multichannel-convolutional-neural-network-sentiment-analysis/\n",
    "\n",
    "def CreateKimCNN(kernelSize=[4, 5, 6], numFilters=128, embedDepth=300, \n",
    "                 dropOut=0.5, embeds=None, use=True, length=max_length,\n",
    "                 vocab=vocabulary_size, pool=2, denseInputs=10, train=False):\n",
    "    \n",
    "    k1 = kernelSize[0]\n",
    "    k2 = kernelSize[1]\n",
    "    k3 = kernelSize[2]\n",
    "    \n",
    "    k1_inputs = Input(shape=(length,))\n",
    "    k2_inputs = Input(shape=(length,))\n",
    "    k3_inputs = Input(shape=(length,))\n",
    "       \n",
    "    if embeds == None:\n",
    "        k1_embeddings = Embedding(vocab, embedDepth)(k1_inputs)\n",
    "        k2_embeddings = Embedding(vocab, embedDepth)(k2_inputs)\n",
    "        k3_embeddings = Embedding(vocab, embedDepth)(k3_inputs)\n",
    "\n",
    "    elif embeds == 'w2v':\n",
    "        k1_embeddings = Embedding(vocab,\n",
    "                            300,\n",
    "                            weights=[embedding_matrix_w2v],\n",
    "                            trainable=train)(k1_inputs)\n",
    "        k2_embeddings = Embedding(vocab,\n",
    "                            300,\n",
    "                            weights=[embedding_matrix_w2v],\n",
    "                            trainable=train)(k2_inputs)\n",
    "        k3_embeddings = Embedding(vocab,\n",
    "                            300,\n",
    "                            weights=[embedding_matrix_w2v],\n",
    "                            trainable=train)(k3_inputs)\n",
    "        \n",
    "    elif embeds == 'Glove':\n",
    "        k1_embeddings = Embedding(vocab,\n",
    "                            300,\n",
    "                            weights=[embedding_matrix_glove],\n",
    "                            trainable=train)(k1_inputs)\n",
    "        k2_embeddings = Embedding(vocab,\n",
    "                            300,\n",
    "                            weights=[embedding_matrix_glove],\n",
    "                            trainable=train)(k2_inputs)\n",
    "        k3_embeddings = Embedding(vocab,\n",
    "                            300,\n",
    "                            weights=[embedding_matrix_glove],\n",
    "                            trainable=train)(k3_inputs)\n",
    "    else:\n",
    "        print('Specify embeds correctly. Currently embeds =',embeds)\n",
    "        return\n",
    "    \n",
    "    k1_conv = Conv1D(filters=numFilters, kernel_size=k1, activation='relu')(k1_embeddings)\n",
    "    k1_dropout = Dropout(dropOut)(k1_conv)\n",
    "    k1_maxPool = MaxPooling1D(pool_size=pool)(k1_dropout)\n",
    "    k1_flatten = Flatten()(k1_maxPool)\n",
    "\n",
    "    k2_conv = Conv1D(filters=numFilters, kernel_size=k2, activation='relu')(k2_embeddings)\n",
    "    k2_dropout = Dropout(dropOut)(k2_conv)\n",
    "    k2_maxPool = MaxPooling1D(pool_size=pool)(k2_dropout)\n",
    "    k2_flatten = Flatten()(k2_maxPool)\n",
    "\n",
    "    k3_conv = Conv1D(filters=numFilters, kernel_size=k3, activation='relu')(k3_embeddings)\n",
    "    k3_dropout = Dropout(dropOut)(k3_conv)\n",
    "    k3_maxPool = MaxPooling1D(pool_size=pool)(k3_dropout)\n",
    "    k3_flatten = Flatten()(k3_maxPool)\n",
    "\n",
    "    if use == True:\n",
    "        use_inputs = Input(shape=(512,))\n",
    "        concat_kern = concatenate([k1_flatten, k2_flatten, k3_flatten, use_inputs])\n",
    "    else:\n",
    "        concat_kern = concatenate([k1_flatten, k2_flatten, k3_flatten])\n",
    "        \n",
    "    denseLayer = Dense(denseInputs, activation='relu')(concat_kern)\n",
    "    cnnOutputs = Dense(1, activation='sigmoid')(denseLayer)\n",
    "    \n",
    "    if use == True:\n",
    "        model = Model(inputs=[k1_inputs, k2_inputs, k3_inputs, use_inputs], outputs=cnnOutputs)\n",
    "    else:\n",
    "        model = Model(inputs=[k1_inputs, k2_inputs, k3_inputs], outputs=cnnOutputs)\n",
    "    \n",
    "    model.compile(loss='binary_crossentropy', optimizer='adam', metrics=['accuracy'])\n",
    "    \n",
    "    #https://machinelearningmastery.com/how-to-stop-training-deep-neural-networks-at-the-right-time-using-early-stopping/\n",
    "    # simple early stopping\n",
    "#     es = EarlyStopping(monitor='val_loss', mode='min', verbose=1, patience=200)\n",
    "#     mc = ModelCheckpoint('best_model.h5', monitor='val_acc', mode='max', verbose=1, save_best_only=True)\n",
    "    \n",
    "    print(model.summary())\n",
    "        \n",
    "    #plot_model(model, show_shapes=True, to_file='CNNModel.png')\n",
    "        \n",
    "    return model\n"
   ]
  },
  {
   "cell_type": "markdown",
   "metadata": {},
   "source": [
    "## Build and Evaluate CNN w/ Glove + USE"
   ]
  },
  {
   "cell_type": "code",
   "execution_count": 34,
   "metadata": {
    "scrolled": false
   },
   "outputs": [
    {
     "name": "stdout",
     "output_type": "stream",
     "text": [
      "__________________________________________________________________________________________________\n",
      "Layer (type)                    Output Shape         Param #     Connected to                     \n",
      "==================================================================================================\n",
      "input_1 (InputLayer)            (None, 200)          0                                            \n",
      "__________________________________________________________________________________________________\n",
      "input_2 (InputLayer)            (None, 200)          0                                            \n",
      "__________________________________________________________________________________________________\n",
      "input_3 (InputLayer)            (None, 200)          0                                            \n",
      "__________________________________________________________________________________________________\n",
      "embedding_1 (Embedding)         (None, 200, 300)     115571700   input_1[0][0]                    \n",
      "__________________________________________________________________________________________________\n",
      "embedding_2 (Embedding)         (None, 200, 300)     115571700   input_2[0][0]                    \n",
      "__________________________________________________________________________________________________\n",
      "embedding_3 (Embedding)         (None, 200, 300)     115571700   input_3[0][0]                    \n",
      "__________________________________________________________________________________________________\n",
      "conv1d_1 (Conv1D)               (None, 197, 128)     153728      embedding_1[0][0]                \n",
      "__________________________________________________________________________________________________\n",
      "conv1d_2 (Conv1D)               (None, 196, 128)     192128      embedding_2[0][0]                \n",
      "__________________________________________________________________________________________________\n",
      "conv1d_3 (Conv1D)               (None, 195, 128)     230528      embedding_3[0][0]                \n",
      "__________________________________________________________________________________________________\n",
      "dropout_1 (Dropout)             (None, 197, 128)     0           conv1d_1[0][0]                   \n",
      "__________________________________________________________________________________________________\n",
      "dropout_2 (Dropout)             (None, 196, 128)     0           conv1d_2[0][0]                   \n",
      "__________________________________________________________________________________________________\n",
      "dropout_3 (Dropout)             (None, 195, 128)     0           conv1d_3[0][0]                   \n",
      "__________________________________________________________________________________________________\n",
      "max_pooling1d_1 (MaxPooling1D)  (None, 98, 128)      0           dropout_1[0][0]                  \n",
      "__________________________________________________________________________________________________\n",
      "max_pooling1d_2 (MaxPooling1D)  (None, 98, 128)      0           dropout_2[0][0]                  \n",
      "__________________________________________________________________________________________________\n",
      "max_pooling1d_3 (MaxPooling1D)  (None, 97, 128)      0           dropout_3[0][0]                  \n",
      "__________________________________________________________________________________________________\n",
      "flatten_1 (Flatten)             (None, 12544)        0           max_pooling1d_1[0][0]            \n",
      "__________________________________________________________________________________________________\n",
      "flatten_2 (Flatten)             (None, 12544)        0           max_pooling1d_2[0][0]            \n",
      "__________________________________________________________________________________________________\n",
      "flatten_3 (Flatten)             (None, 12416)        0           max_pooling1d_3[0][0]            \n",
      "__________________________________________________________________________________________________\n",
      "input_4 (InputLayer)            (None, 512)          0                                            \n",
      "__________________________________________________________________________________________________\n",
      "concatenate_1 (Concatenate)     (None, 38016)        0           flatten_1[0][0]                  \n",
      "                                                                 flatten_2[0][0]                  \n",
      "                                                                 flatten_3[0][0]                  \n",
      "                                                                 input_4[0][0]                    \n",
      "__________________________________________________________________________________________________\n",
      "dense_1 (Dense)                 (None, 10)           380170      concatenate_1[0][0]              \n",
      "__________________________________________________________________________________________________\n",
      "dense_2 (Dense)                 (None, 1)            11          dense_1[0][0]                    \n",
      "==================================================================================================\n",
      "Total params: 347,671,665\n",
      "Trainable params: 956,565\n",
      "Non-trainable params: 346,715,100\n",
      "__________________________________________________________________________________________________\n",
      "None\n",
      "Epoch 1/3\n",
      "1200000/1200000 [==============================] - 1347s 1ms/step - loss: 0.4598 - acc: 0.8696\n",
      "Epoch 2/3\n",
      "1200000/1200000 [==============================] - 1351s 1ms/step - loss: 0.2739 - acc: 0.9298\n",
      "Epoch 3/3\n",
      "1200000/1200000 [==============================] - 1349s 1ms/step - loss: 0.1507 - acc: 0.9444\n"
     ]
    },
    {
     "data": {
      "text/plain": [
       "<keras.callbacks.History at 0x7f6f44068160>"
      ]
     },
     "execution_count": 34,
     "metadata": {},
     "output_type": "execute_result"
    }
   ],
   "source": [
    "#embeds can be None, 'w2v', or 'Glove'\n",
    "#if use is True, you need to adjust the cnnModel.fit to include the USE outputs as an input\n",
    "\n",
    "cnnModel = CreateKimCNN(kernelSize=[4, 5, 6], numFilters=128, embedDepth=300, \n",
    "                 dropOut=0.5, embeds='Glove', use=True, length=max_length,\n",
    "                 pool=2, denseInputs=10, train=False)\n",
    "\n",
    "cnnModel.fit([X_train,X_train,X_train, train_data_USE], X_train_labels, epochs=3, batch_size=5000)"
   ]
  },
  {
   "cell_type": "code",
   "execution_count": 39,
   "metadata": {},
   "outputs": [],
   "source": [
    "cnnModel.save('../../CNNModel_200MaxL_Glove_USE.h5')"
   ]
  },
  {
   "cell_type": "code",
   "execution_count": null,
   "metadata": {},
   "outputs": [],
   "source": [
    "cnnModel = load_model('../../CNNModel_200MaxL_Glove_USE.h5')"
   ]
  },
  {
   "cell_type": "code",
   "execution_count": null,
   "metadata": {},
   "outputs": [],
   "source": [
    "train_acc = cnnModel.evaluate([X_train, X_train, X_train, train_data_USE], X_train_labels, verbose=0)"
   ]
  },
  {
   "cell_type": "code",
   "execution_count": 29,
   "metadata": {
    "scrolled": true
   },
   "outputs": [
    {
     "data": {
      "text/plain": [
       "0.9668933333333334"
      ]
     },
     "execution_count": 29,
     "metadata": {},
     "output_type": "execute_result"
    }
   ],
   "source": [
    "train_acc"
   ]
  },
  {
   "cell_type": "code",
   "execution_count": 35,
   "metadata": {},
   "outputs": [],
   "source": [
    "test_acc = cnnModel.evaluate([X_test, X_test, X_test, test_data_USE], X_test_labels, verbose=0)"
   ]
  },
  {
   "cell_type": "code",
   "execution_count": 36,
   "metadata": {},
   "outputs": [
    {
     "name": "stdout",
     "output_type": "stream",
     "text": [
      "Train: 0.967, Test: 0.966\n"
     ]
    }
   ],
   "source": [
    "print('CNN Model Accuracy using Glove + USE\\nTrain: %.3f, Test: %.3f' % (train_acc, test_acc))"
   ]
  },
  {
   "cell_type": "markdown",
   "metadata": {},
   "source": [
    "## Build and Evaluate CNN w/ Glove"
   ]
  },
  {
   "cell_type": "code",
   "execution_count": 39,
   "metadata": {},
   "outputs": [
    {
     "name": "stdout",
     "output_type": "stream",
     "text": [
      "__________________________________________________________________________________________________\n",
      "Layer (type)                    Output Shape         Param #     Connected to                     \n",
      "==================================================================================================\n",
      "input_5 (InputLayer)            (None, 200)          0                                            \n",
      "__________________________________________________________________________________________________\n",
      "input_6 (InputLayer)            (None, 200)          0                                            \n",
      "__________________________________________________________________________________________________\n",
      "input_7 (InputLayer)            (None, 200)          0                                            \n",
      "__________________________________________________________________________________________________\n",
      "embedding_4 (Embedding)         (None, 200, 300)     115571700   input_5[0][0]                    \n",
      "__________________________________________________________________________________________________\n",
      "embedding_5 (Embedding)         (None, 200, 300)     115571700   input_6[0][0]                    \n",
      "__________________________________________________________________________________________________\n",
      "embedding_6 (Embedding)         (None, 200, 300)     115571700   input_7[0][0]                    \n",
      "__________________________________________________________________________________________________\n",
      "conv1d_4 (Conv1D)               (None, 197, 128)     153728      embedding_4[0][0]                \n",
      "__________________________________________________________________________________________________\n",
      "conv1d_5 (Conv1D)               (None, 196, 128)     192128      embedding_5[0][0]                \n",
      "__________________________________________________________________________________________________\n",
      "conv1d_6 (Conv1D)               (None, 195, 128)     230528      embedding_6[0][0]                \n",
      "__________________________________________________________________________________________________\n",
      "dropout_4 (Dropout)             (None, 197, 128)     0           conv1d_4[0][0]                   \n",
      "__________________________________________________________________________________________________\n",
      "dropout_5 (Dropout)             (None, 196, 128)     0           conv1d_5[0][0]                   \n",
      "__________________________________________________________________________________________________\n",
      "dropout_6 (Dropout)             (None, 195, 128)     0           conv1d_6[0][0]                   \n",
      "__________________________________________________________________________________________________\n",
      "max_pooling1d_4 (MaxPooling1D)  (None, 98, 128)      0           dropout_4[0][0]                  \n",
      "__________________________________________________________________________________________________\n",
      "max_pooling1d_5 (MaxPooling1D)  (None, 98, 128)      0           dropout_5[0][0]                  \n",
      "__________________________________________________________________________________________________\n",
      "max_pooling1d_6 (MaxPooling1D)  (None, 97, 128)      0           dropout_6[0][0]                  \n",
      "__________________________________________________________________________________________________\n",
      "flatten_4 (Flatten)             (None, 12544)        0           max_pooling1d_4[0][0]            \n",
      "__________________________________________________________________________________________________\n",
      "flatten_5 (Flatten)             (None, 12544)        0           max_pooling1d_5[0][0]            \n",
      "__________________________________________________________________________________________________\n",
      "flatten_6 (Flatten)             (None, 12416)        0           max_pooling1d_6[0][0]            \n",
      "__________________________________________________________________________________________________\n",
      "concatenate_2 (Concatenate)     (None, 37504)        0           flatten_4[0][0]                  \n",
      "                                                                 flatten_5[0][0]                  \n",
      "                                                                 flatten_6[0][0]                  \n",
      "__________________________________________________________________________________________________\n",
      "dense_3 (Dense)                 (None, 10)           375050      concatenate_2[0][0]              \n",
      "__________________________________________________________________________________________________\n",
      "dense_4 (Dense)                 (None, 1)            11          dense_3[0][0]                    \n",
      "==================================================================================================\n",
      "Total params: 347,666,545\n",
      "Trainable params: 951,445\n",
      "Non-trainable params: 346,715,100\n",
      "__________________________________________________________________________________________________\n",
      "None\n",
      "Epoch 1/3\n",
      "1200000/1200000 [==============================] - 1323s 1ms/step - loss: 0.4785 - acc: 0.8453\n",
      "Epoch 2/3\n",
      "1200000/1200000 [==============================] - 1312s 1ms/step - loss: 0.3730 - acc: 0.9218\n",
      "Epoch 3/3\n",
      "1200000/1200000 [==============================] - 1308s 1ms/step - loss: 0.3242 - acc: 0.9328\n"
     ]
    }
   ],
   "source": [
    "cnnModel2 = CreateKimCNN(kernelSize=[4, 5, 6], numFilters=128, embedDepth=300, \n",
    "                 dropOut=0.5, embeds='Glove', use=False, length=max_length,\n",
    "                 vocab = vocabulary_size, pool = 2, denseInputs = 10)\n",
    "\n",
    "cnnModel2.fit([X_train,X_train,X_train], X_train_labels, epochs=3, batch_size=5000)\n",
    "\n",
    "cnnModel2.save('../../CNNModel_200MaxL_Glove.h5')"
   ]
  },
  {
   "cell_type": "code",
   "execution_count": 45,
   "metadata": {},
   "outputs": [],
   "source": [
    "cnnModel2 = load_model('../../CNNModel_200MaxL_Glove.h5')"
   ]
  },
  {
   "cell_type": "code",
   "execution_count": 47,
   "metadata": {},
   "outputs": [
    {
     "data": {
      "text/plain": [
       "[0.304349864111344, 0.9415758333333333]"
      ]
     },
     "execution_count": 47,
     "metadata": {},
     "output_type": "execute_result"
    }
   ],
   "source": [
    "train_acc = cnnModel2.evaluate([X_train, X_train, X_train], X_train_labels, verbose=0)\n",
    "train_acc"
   ]
  },
  {
   "cell_type": "code",
   "execution_count": 48,
   "metadata": {},
   "outputs": [
    {
     "data": {
      "text/plain": [
       "[0.304349864111344, 0.9415758333333333]"
      ]
     },
     "execution_count": 48,
     "metadata": {},
     "output_type": "execute_result"
    }
   ],
   "source": [
    "test_acc = cnnModel2.evaluate([X_test, X_test, X_test], X_test_labels, verbose=0)\n",
    "test_acc"
   ]
  },
  {
   "cell_type": "code",
   "execution_count": 49,
   "metadata": {},
   "outputs": [
    {
     "name": "stdout",
     "output_type": "stream",
     "text": [
      "CNN Model Accuracy using Glove\n",
      "Train: 0.942, Test: 0.942\n"
     ]
    }
   ],
   "source": [
    "print('CNN Model Accuracy using Glove\\nTrain: %.3f, Test: %.3f' % (train_acc[1], test_acc[1]))"
   ]
  },
  {
   "cell_type": "markdown",
   "metadata": {},
   "source": [
    "## Build and Evaluate CNN w/ word2vec"
   ]
  },
  {
   "cell_type": "code",
   "execution_count": 50,
   "metadata": {},
   "outputs": [
    {
     "name": "stdout",
     "output_type": "stream",
     "text": [
      "__________________________________________________________________________________________________\n",
      "Layer (type)                    Output Shape         Param #     Connected to                     \n",
      "==================================================================================================\n",
      "input_11 (InputLayer)           (None, 200)          0                                            \n",
      "__________________________________________________________________________________________________\n",
      "input_12 (InputLayer)           (None, 200)          0                                            \n",
      "__________________________________________________________________________________________________\n",
      "input_13 (InputLayer)           (None, 200)          0                                            \n",
      "__________________________________________________________________________________________________\n",
      "embedding_10 (Embedding)        (None, 200, 300)     115571700   input_11[0][0]                   \n",
      "__________________________________________________________________________________________________\n",
      "embedding_11 (Embedding)        (None, 200, 300)     115571700   input_12[0][0]                   \n",
      "__________________________________________________________________________________________________\n",
      "embedding_12 (Embedding)        (None, 200, 300)     115571700   input_13[0][0]                   \n",
      "__________________________________________________________________________________________________\n",
      "conv1d_10 (Conv1D)              (None, 197, 128)     153728      embedding_10[0][0]               \n",
      "__________________________________________________________________________________________________\n",
      "conv1d_11 (Conv1D)              (None, 196, 128)     192128      embedding_11[0][0]               \n",
      "__________________________________________________________________________________________________\n",
      "conv1d_12 (Conv1D)              (None, 195, 128)     230528      embedding_12[0][0]               \n",
      "__________________________________________________________________________________________________\n",
      "dropout_10 (Dropout)            (None, 197, 128)     0           conv1d_10[0][0]                  \n",
      "__________________________________________________________________________________________________\n",
      "dropout_11 (Dropout)            (None, 196, 128)     0           conv1d_11[0][0]                  \n",
      "__________________________________________________________________________________________________\n",
      "dropout_12 (Dropout)            (None, 195, 128)     0           conv1d_12[0][0]                  \n",
      "__________________________________________________________________________________________________\n",
      "max_pooling1d_10 (MaxPooling1D) (None, 98, 128)      0           dropout_10[0][0]                 \n",
      "__________________________________________________________________________________________________\n",
      "max_pooling1d_11 (MaxPooling1D) (None, 98, 128)      0           dropout_11[0][0]                 \n",
      "__________________________________________________________________________________________________\n",
      "max_pooling1d_12 (MaxPooling1D) (None, 97, 128)      0           dropout_12[0][0]                 \n",
      "__________________________________________________________________________________________________\n",
      "flatten_10 (Flatten)            (None, 12544)        0           max_pooling1d_10[0][0]           \n",
      "__________________________________________________________________________________________________\n",
      "flatten_11 (Flatten)            (None, 12544)        0           max_pooling1d_11[0][0]           \n",
      "__________________________________________________________________________________________________\n",
      "flatten_12 (Flatten)            (None, 12416)        0           max_pooling1d_12[0][0]           \n",
      "__________________________________________________________________________________________________\n",
      "concatenate_4 (Concatenate)     (None, 37504)        0           flatten_10[0][0]                 \n",
      "                                                                 flatten_11[0][0]                 \n",
      "                                                                 flatten_12[0][0]                 \n",
      "__________________________________________________________________________________________________\n",
      "dense_7 (Dense)                 (None, 10)           375050      concatenate_4[0][0]              \n",
      "__________________________________________________________________________________________________\n",
      "dense_8 (Dense)                 (None, 1)            11          dense_7[0][0]                    \n",
      "==================================================================================================\n",
      "Total params: 347,666,545\n",
      "Trainable params: 951,445\n",
      "Non-trainable params: 346,715,100\n",
      "__________________________________________________________________________________________________\n",
      "None\n",
      "Epoch 1/3\n",
      "1200000/1200000 [==============================] - 1310s 1ms/step - loss: 0.4826 - acc: 0.8452\n",
      "Epoch 2/3\n",
      "1200000/1200000 [==============================] - 1299s 1ms/step - loss: 0.3837 - acc: 0.9132\n",
      "Epoch 3/3\n",
      "1200000/1200000 [==============================] - 1303s 1ms/step - loss: 0.3288 - acc: 0.9297\n"
     ]
    }
   ],
   "source": [
    "cnnModel3 = CreateKimCNN(kernelSize=[4, 5, 6], numFilters=128, embedDepth=300, \n",
    "                 dropOut=0.5, embeds='w2v', use=False, length=max_length,\n",
    "                 vocab = vocabulary_size, pool = 2, denseInputs = 10)\n",
    "\n",
    "cnnModel3.fit([X_train,X_train,X_train], X_train_labels, epochs=3, batch_size=5000)\n",
    "\n",
    "cnnModel3.save('../../CNNModel_200MaxL_w2v.h5')"
   ]
  },
  {
   "cell_type": "code",
   "execution_count": null,
   "metadata": {},
   "outputs": [],
   "source": [
    "cnnModel3 = load_model('../../CNNModel_200MaxL_w2v.h5')"
   ]
  },
  {
   "cell_type": "code",
   "execution_count": 51,
   "metadata": {},
   "outputs": [
    {
     "data": {
      "text/plain": [
       "[0.29983700858175755, 0.9432]"
      ]
     },
     "execution_count": 51,
     "metadata": {},
     "output_type": "execute_result"
    }
   ],
   "source": [
    "train_acc = cnnModel3.evaluate([X_train, X_train, X_train], X_train_labels, verbose=0)\n",
    "train_acc"
   ]
  },
  {
   "cell_type": "code",
   "execution_count": 52,
   "metadata": {},
   "outputs": [
    {
     "data": {
      "text/plain": [
       "[0.29983700858175755, 0.9432]"
      ]
     },
     "execution_count": 52,
     "metadata": {},
     "output_type": "execute_result"
    }
   ],
   "source": [
    "test_acc = cnnModel3.evaluate([X_test, X_test, X_test], X_test_labels, verbose=0)\n",
    "test_acc"
   ]
  },
  {
   "cell_type": "code",
   "execution_count": 54,
   "metadata": {},
   "outputs": [
    {
     "name": "stdout",
     "output_type": "stream",
     "text": [
      "CNN Model Accuracy using w2v\n",
      "Train: 0.943, Test: 0.943\n"
     ]
    }
   ],
   "source": [
    "print('CNN Model Accuracy using w2v\\nTrain: %.3f, Test: %.3f' % (train_acc[1], test_acc[1]))"
   ]
  },
  {
   "cell_type": "code",
   "execution_count": 39,
   "metadata": {
    "scrolled": false
   },
   "outputs": [
    {
     "name": "stdout",
     "output_type": "stream",
     "text": [
      "__________________________________________________________________________________________________\n",
      "Layer (type)                    Output Shape         Param #     Connected to                     \n",
      "==================================================================================================\n",
      "input_12 (InputLayer)           (None, 200)          0                                            \n",
      "__________________________________________________________________________________________________\n",
      "input_13 (InputLayer)           (None, 200)          0                                            \n",
      "__________________________________________________________________________________________________\n",
      "input_14 (InputLayer)           (None, 200)          0                                            \n",
      "__________________________________________________________________________________________________\n",
      "embedding_9 (Embedding)         (None, 200, 300)     115571700   input_12[0][0]                   \n",
      "__________________________________________________________________________________________________\n",
      "embedding_10 (Embedding)        (None, 200, 300)     115571700   input_13[0][0]                   \n",
      "__________________________________________________________________________________________________\n",
      "embedding_11 (Embedding)        (None, 200, 300)     115571700   input_14[0][0]                   \n",
      "__________________________________________________________________________________________________\n",
      "conv1d_7 (Conv1D)               (None, 197, 128)     153728      embedding_9[0][0]                \n",
      "__________________________________________________________________________________________________\n",
      "conv1d_8 (Conv1D)               (None, 196, 128)     192128      embedding_10[0][0]               \n",
      "__________________________________________________________________________________________________\n",
      "conv1d_9 (Conv1D)               (None, 195, 128)     230528      embedding_11[0][0]               \n",
      "__________________________________________________________________________________________________\n",
      "dropout_7 (Dropout)             (None, 197, 128)     0           conv1d_7[0][0]                   \n",
      "__________________________________________________________________________________________________\n",
      "dropout_8 (Dropout)             (None, 196, 128)     0           conv1d_8[0][0]                   \n",
      "__________________________________________________________________________________________________\n",
      "dropout_9 (Dropout)             (None, 195, 128)     0           conv1d_9[0][0]                   \n",
      "__________________________________________________________________________________________________\n",
      "max_pooling1d_7 (MaxPooling1D)  (None, 98, 128)      0           dropout_7[0][0]                  \n",
      "__________________________________________________________________________________________________\n",
      "max_pooling1d_8 (MaxPooling1D)  (None, 98, 128)      0           dropout_8[0][0]                  \n",
      "__________________________________________________________________________________________________\n",
      "max_pooling1d_9 (MaxPooling1D)  (None, 97, 128)      0           dropout_9[0][0]                  \n",
      "__________________________________________________________________________________________________\n",
      "flatten_7 (Flatten)             (None, 12544)        0           max_pooling1d_7[0][0]            \n",
      "__________________________________________________________________________________________________\n",
      "flatten_8 (Flatten)             (None, 12544)        0           max_pooling1d_8[0][0]            \n",
      "__________________________________________________________________________________________________\n",
      "flatten_9 (Flatten)             (None, 12416)        0           max_pooling1d_9[0][0]            \n",
      "__________________________________________________________________________________________________\n",
      "input_15 (InputLayer)           (None, 512)          0                                            \n",
      "__________________________________________________________________________________________________\n",
      "concatenate_3 (Concatenate)     (None, 38016)        0           flatten_7[0][0]                  \n",
      "                                                                 flatten_8[0][0]                  \n",
      "                                                                 flatten_9[0][0]                  \n",
      "                                                                 input_15[0][0]                   \n",
      "__________________________________________________________________________________________________\n",
      "dense_5 (Dense)                 (None, 10)           380170      concatenate_3[0][0]              \n",
      "__________________________________________________________________________________________________\n",
      "dense_6 (Dense)                 (None, 1)            11          dense_5[0][0]                    \n",
      "==================================================================================================\n",
      "Total params: 347,671,665\n",
      "Trainable params: 956,565\n",
      "Non-trainable params: 346,715,100\n",
      "__________________________________________________________________________________________________\n",
      "None\n",
      "Epoch 1/3\n",
      "1200000/1200000 [==============================] - 1344s 1ms/step - loss: 0.4763 - acc: 0.8508\n",
      "Epoch 2/3\n",
      "1200000/1200000 [==============================] - 1337s 1ms/step - loss: 0.3734 - acc: 0.9224\n",
      "Epoch 3/3\n",
      "1200000/1200000 [==============================] - 1339s 1ms/step - loss: 0.3188 - acc: 0.9375\n"
     ]
    }
   ],
   "source": [
    "cnnModel4 = CreateKimCNN(kernelSize=[4, 5, 6], numFilters=128, embedDepth=300, \n",
    "                 dropOut=0.5, embeds='w2v', use=True, length=max_length,\n",
    "                 vocab = vocabulary_size, pool = 2, denseInputs = 10)\n",
    "\n",
    "cnnModel4.fit([X_train, X_train, X_train, train_data_USE], X_train_labels, epochs=3, batch_size=5000)\n",
    "\n",
    "cnnModel4.save('../../CNNModel_200MaxL_w2v_USE.h5')"
   ]
  },
  {
   "cell_type": "code",
   "execution_count": 40,
   "metadata": {},
   "outputs": [],
   "source": [
    "cnnModel4 = load_model('../../CNNModel_200MaxL_w2v_USE.h5')"
   ]
  },
  {
   "cell_type": "code",
   "execution_count": 41,
   "metadata": {},
   "outputs": [
    {
     "data": {
      "text/plain": [
       "[0.2875843709284067, 0.9511316666666667]"
      ]
     },
     "execution_count": 41,
     "metadata": {},
     "output_type": "execute_result"
    }
   ],
   "source": [
    "train_acc = cnnModel4.evaluate([X_train, X_train, X_train, train_data_USE], X_train_labels, verbose=0)\n",
    "train_acc"
   ]
  },
  {
   "cell_type": "code",
   "execution_count": 42,
   "metadata": {},
   "outputs": [
    {
     "name": "stdout",
     "output_type": "stream",
     "text": [
      "CNN Model Accuracy using w2v + USE\n",
      "Train: 0.951, Test: 0.951\n"
     ]
    }
   ],
   "source": [
    "test_acc = cnnModel4.evaluate([X_train, X_train, X_train, train_data_USE], X_test_labels, verbose=0)\n",
    "test_acc\n",
    "\n",
    "print('CNN Model Accuracy using w2v + USE\\nTrain: %.3f, Test: %.3f' % (train_acc[1], test_acc[1]))"
   ]
  },
  {
   "cell_type": "code",
   "execution_count": 43,
   "metadata": {},
   "outputs": [
    {
     "name": "stdout",
     "output_type": "stream",
     "text": [
      "__________________________________________________________________________________________________\n",
      "Layer (type)                    Output Shape         Param #     Connected to                     \n",
      "==================================================================================================\n",
      "input_16 (InputLayer)           (None, 200)          0                                            \n",
      "__________________________________________________________________________________________________\n",
      "input_17 (InputLayer)           (None, 200)          0                                            \n",
      "__________________________________________________________________________________________________\n",
      "input_18 (InputLayer)           (None, 200)          0                                            \n",
      "__________________________________________________________________________________________________\n",
      "embedding_12 (Embedding)        (None, 200, 300)     115571700   input_16[0][0]                   \n",
      "__________________________________________________________________________________________________\n",
      "embedding_13 (Embedding)        (None, 200, 300)     115571700   input_17[0][0]                   \n",
      "__________________________________________________________________________________________________\n",
      "embedding_14 (Embedding)        (None, 200, 300)     115571700   input_18[0][0]                   \n",
      "__________________________________________________________________________________________________\n",
      "conv1d_10 (Conv1D)              (None, 197, 128)     153728      embedding_12[0][0]               \n",
      "__________________________________________________________________________________________________\n",
      "conv1d_11 (Conv1D)              (None, 196, 128)     192128      embedding_13[0][0]               \n",
      "__________________________________________________________________________________________________\n",
      "conv1d_12 (Conv1D)              (None, 195, 128)     230528      embedding_14[0][0]               \n",
      "__________________________________________________________________________________________________\n",
      "dropout_10 (Dropout)            (None, 197, 128)     0           conv1d_10[0][0]                  \n",
      "__________________________________________________________________________________________________\n",
      "dropout_11 (Dropout)            (None, 196, 128)     0           conv1d_11[0][0]                  \n",
      "__________________________________________________________________________________________________\n",
      "dropout_12 (Dropout)            (None, 195, 128)     0           conv1d_12[0][0]                  \n",
      "__________________________________________________________________________________________________\n",
      "max_pooling1d_10 (MaxPooling1D) (None, 98, 128)      0           dropout_10[0][0]                 \n",
      "__________________________________________________________________________________________________\n",
      "max_pooling1d_11 (MaxPooling1D) (None, 98, 128)      0           dropout_11[0][0]                 \n",
      "__________________________________________________________________________________________________\n",
      "max_pooling1d_12 (MaxPooling1D) (None, 97, 128)      0           dropout_12[0][0]                 \n",
      "__________________________________________________________________________________________________\n",
      "flatten_10 (Flatten)            (None, 12544)        0           max_pooling1d_10[0][0]           \n",
      "__________________________________________________________________________________________________\n",
      "flatten_11 (Flatten)            (None, 12544)        0           max_pooling1d_11[0][0]           \n",
      "__________________________________________________________________________________________________\n",
      "flatten_12 (Flatten)            (None, 12416)        0           max_pooling1d_12[0][0]           \n",
      "__________________________________________________________________________________________________\n",
      "concatenate_4 (Concatenate)     (None, 37504)        0           flatten_10[0][0]                 \n",
      "                                                                 flatten_11[0][0]                 \n",
      "                                                                 flatten_12[0][0]                 \n",
      "__________________________________________________________________________________________________\n",
      "dense_7 (Dense)                 (None, 10)           375050      concatenate_4[0][0]              \n",
      "__________________________________________________________________________________________________\n",
      "dense_8 (Dense)                 (None, 1)            11          dense_7[0][0]                    \n",
      "==================================================================================================\n",
      "Total params: 347,666,545\n",
      "Trainable params: 347,666,545\n",
      "Non-trainable params: 0\n",
      "__________________________________________________________________________________________________\n",
      "None\n"
     ]
    },
    {
     "name": "stderr",
     "output_type": "stream",
     "text": [
      "/home/lance_miles/anaconda3/lib/python3.6/site-packages/tensorflow/python/ops/gradients_impl.py:105: UserWarning: Converting sparse IndexedSlices to a dense Tensor with 115571700 elements. This may consume a large amount of memory.\n",
      "  num_elements)\n",
      "/home/lance_miles/anaconda3/lib/python3.6/site-packages/tensorflow/python/ops/gradients_impl.py:105: UserWarning: Converting sparse IndexedSlices to a dense Tensor with 115571700 elements. This may consume a large amount of memory.\n",
      "  num_elements)\n",
      "/home/lance_miles/anaconda3/lib/python3.6/site-packages/tensorflow/python/ops/gradients_impl.py:105: UserWarning: Converting sparse IndexedSlices to a dense Tensor with 115571700 elements. This may consume a large amount of memory.\n",
      "  num_elements)\n",
      "/home/lance_miles/anaconda3/lib/python3.6/site-packages/tensorflow/python/ops/gradients_impl.py:105: UserWarning: Converting sparse IndexedSlices to a dense Tensor with 115571700 elements. This may consume a large amount of memory.\n",
      "  num_elements)\n",
      "/home/lance_miles/anaconda3/lib/python3.6/site-packages/tensorflow/python/ops/gradients_impl.py:105: UserWarning: Converting sparse IndexedSlices to a dense Tensor with 115571700 elements. This may consume a large amount of memory.\n",
      "  num_elements)\n",
      "/home/lance_miles/anaconda3/lib/python3.6/site-packages/tensorflow/python/ops/gradients_impl.py:105: UserWarning: Converting sparse IndexedSlices to a dense Tensor with 115571700 elements. This may consume a large amount of memory.\n",
      "  num_elements)\n"
     ]
    },
    {
     "name": "stdout",
     "output_type": "stream",
     "text": [
      "Epoch 1/3\n",
      "1200000/1200000 [==============================] - 2117s 2ms/step - loss: 0.2655 - acc: 0.8730\n",
      "Epoch 2/3\n",
      "1200000/1200000 [==============================] - 2097s 2ms/step - loss: 0.1238 - acc: 0.9554\n",
      "Epoch 3/3\n",
      "1200000/1200000 [==============================] - 2091s 2ms/step - loss: 0.0898 - acc: 0.9697\n"
     ]
    }
   ],
   "source": [
    "cnnModel5 = CreateKimCNN(kernelSize=[4, 5, 6], numFilters=128, embedDepth=300, \n",
    "                 dropOut=0.5, embeds=None, use=False, length=max_length,\n",
    "                 vocab = vocabulary_size, pool = 2, denseInputs = 10)\n",
    "\n",
    "cnnModel5.fit([X_train, X_train, X_train], X_train_labels, epochs=3, batch_size=5000)\n",
    "\n",
    "cnnModel5.save('../../CNNModel_200MaxL_None.h5')"
   ]
  },
  {
   "cell_type": "code",
   "execution_count": 33,
   "metadata": {
    "scrolled": true
   },
   "outputs": [
    {
     "name": "stderr",
     "output_type": "stream",
     "text": [
      "/home/lance_miles/anaconda3/lib/python3.6/site-packages/tensorflow/python/ops/gradients_impl.py:105: UserWarning: Converting sparse IndexedSlices to a dense Tensor with 115571700 elements. This may consume a large amount of memory.\n",
      "  num_elements)\n",
      "/home/lance_miles/anaconda3/lib/python3.6/site-packages/tensorflow/python/ops/gradients_impl.py:105: UserWarning: Converting sparse IndexedSlices to a dense Tensor with 115571700 elements. This may consume a large amount of memory.\n",
      "  num_elements)\n",
      "/home/lance_miles/anaconda3/lib/python3.6/site-packages/tensorflow/python/ops/gradients_impl.py:105: UserWarning: Converting sparse IndexedSlices to a dense Tensor with 115571700 elements. This may consume a large amount of memory.\n",
      "  num_elements)\n",
      "/home/lance_miles/anaconda3/lib/python3.6/site-packages/tensorflow/python/ops/gradients_impl.py:105: UserWarning: Converting sparse IndexedSlices to a dense Tensor with 115571700 elements. This may consume a large amount of memory.\n",
      "  num_elements)\n",
      "/home/lance_miles/anaconda3/lib/python3.6/site-packages/tensorflow/python/ops/gradients_impl.py:105: UserWarning: Converting sparse IndexedSlices to a dense Tensor with 115571700 elements. This may consume a large amount of memory.\n",
      "  num_elements)\n",
      "/home/lance_miles/anaconda3/lib/python3.6/site-packages/tensorflow/python/ops/gradients_impl.py:105: UserWarning: Converting sparse IndexedSlices to a dense Tensor with 115571700 elements. This may consume a large amount of memory.\n",
      "  num_elements)\n"
     ]
    }
   ],
   "source": [
    "cnnModel5 = load_model('../../CNNModel_200MaxL_None.h5')"
   ]
  },
  {
   "cell_type": "code",
   "execution_count": 35,
   "metadata": {},
   "outputs": [
    {
     "data": {
      "text/plain": [
       "[0.08358829655398925, 0.9767966666666666]"
      ]
     },
     "execution_count": 35,
     "metadata": {},
     "output_type": "execute_result"
    }
   ],
   "source": [
    "train_acc = cnnModel5.evaluate([X_train, X_train, X_train], X_train_labels, verbose=0)\n",
    "train_acc"
   ]
  },
  {
   "cell_type": "code",
   "execution_count": null,
   "metadata": {},
   "outputs": [],
   "source": [
    "test_acc = cnnModel5.evaluate([X_train, X_train, X_train], X_test_labels, verbose=0)\n",
    "test_acc"
   ]
  },
  {
   "cell_type": "code",
   "execution_count": 36,
   "metadata": {},
   "outputs": [
    {
     "name": "stdout",
     "output_type": "stream",
     "text": [
      "CNN Model Accuracy using trained Embeddings\n",
      "Train: 0.977, Test: 0.977\n"
     ]
    }
   ],
   "source": [
    "print('CNN Model Accuracy using trained Embeddings\\nTrain: %.3f, Test: %.3f' % (train_acc[1], test_acc[1]))"
   ]
  },
  {
   "cell_type": "code",
   "execution_count": 35,
   "metadata": {
    "scrolled": false
   },
   "outputs": [
    {
     "name": "stdout",
     "output_type": "stream",
     "text": [
      "__________________________________________________________________________________________________\n",
      "Layer (type)                    Output Shape         Param #     Connected to                     \n",
      "==================================================================================================\n",
      "input_5 (InputLayer)            (None, 200)          0                                            \n",
      "__________________________________________________________________________________________________\n",
      "input_6 (InputLayer)            (None, 200)          0                                            \n",
      "__________________________________________________________________________________________________\n",
      "input_7 (InputLayer)            (None, 200)          0                                            \n",
      "__________________________________________________________________________________________________\n",
      "embedding_4 (Embedding)         (None, 200, 300)     115571700   input_5[0][0]                    \n",
      "__________________________________________________________________________________________________\n",
      "embedding_5 (Embedding)         (None, 200, 300)     115571700   input_6[0][0]                    \n",
      "__________________________________________________________________________________________________\n",
      "embedding_6 (Embedding)         (None, 200, 300)     115571700   input_7[0][0]                    \n",
      "__________________________________________________________________________________________________\n",
      "conv1d_4 (Conv1D)               (None, 197, 128)     153728      embedding_4[0][0]                \n",
      "__________________________________________________________________________________________________\n",
      "conv1d_5 (Conv1D)               (None, 196, 128)     192128      embedding_5[0][0]                \n",
      "__________________________________________________________________________________________________\n",
      "conv1d_6 (Conv1D)               (None, 195, 128)     230528      embedding_6[0][0]                \n",
      "__________________________________________________________________________________________________\n",
      "dropout_4 (Dropout)             (None, 197, 128)     0           conv1d_4[0][0]                   \n",
      "__________________________________________________________________________________________________\n",
      "dropout_5 (Dropout)             (None, 196, 128)     0           conv1d_5[0][0]                   \n",
      "__________________________________________________________________________________________________\n",
      "dropout_6 (Dropout)             (None, 195, 128)     0           conv1d_6[0][0]                   \n",
      "__________________________________________________________________________________________________\n",
      "max_pooling1d_4 (MaxPooling1D)  (None, 98, 128)      0           dropout_4[0][0]                  \n",
      "__________________________________________________________________________________________________\n",
      "max_pooling1d_5 (MaxPooling1D)  (None, 98, 128)      0           dropout_5[0][0]                  \n",
      "__________________________________________________________________________________________________\n",
      "max_pooling1d_6 (MaxPooling1D)  (None, 97, 128)      0           dropout_6[0][0]                  \n",
      "__________________________________________________________________________________________________\n",
      "flatten_4 (Flatten)             (None, 12544)        0           max_pooling1d_4[0][0]            \n",
      "__________________________________________________________________________________________________\n",
      "flatten_5 (Flatten)             (None, 12544)        0           max_pooling1d_5[0][0]            \n",
      "__________________________________________________________________________________________________\n",
      "flatten_6 (Flatten)             (None, 12416)        0           max_pooling1d_6[0][0]            \n",
      "__________________________________________________________________________________________________\n",
      "input_8 (InputLayer)            (None, 512)          0                                            \n",
      "__________________________________________________________________________________________________\n",
      "concatenate_2 (Concatenate)     (None, 38016)        0           flatten_4[0][0]                  \n",
      "                                                                 flatten_5[0][0]                  \n",
      "                                                                 flatten_6[0][0]                  \n",
      "                                                                 input_8[0][0]                    \n",
      "__________________________________________________________________________________________________\n",
      "dense_3 (Dense)                 (None, 10)           380170      concatenate_2[0][0]              \n",
      "__________________________________________________________________________________________________\n",
      "dense_4 (Dense)                 (None, 1)            11          dense_3[0][0]                    \n",
      "==================================================================================================\n",
      "Total params: 347,671,665\n",
      "Trainable params: 347,671,665\n",
      "Non-trainable params: 0\n",
      "__________________________________________________________________________________________________\n",
      "None\n"
     ]
    },
    {
     "name": "stderr",
     "output_type": "stream",
     "text": [
      "/home/lance_miles/anaconda3/lib/python3.6/site-packages/tensorflow/python/ops/gradients_impl.py:105: UserWarning: Converting sparse IndexedSlices to a dense Tensor with 115571700 elements. This may consume a large amount of memory.\n",
      "  num_elements)\n",
      "/home/lance_miles/anaconda3/lib/python3.6/site-packages/tensorflow/python/ops/gradients_impl.py:105: UserWarning: Converting sparse IndexedSlices to a dense Tensor with 115571700 elements. This may consume a large amount of memory.\n",
      "  num_elements)\n",
      "/home/lance_miles/anaconda3/lib/python3.6/site-packages/tensorflow/python/ops/gradients_impl.py:105: UserWarning: Converting sparse IndexedSlices to a dense Tensor with 115571700 elements. This may consume a large amount of memory.\n",
      "  num_elements)\n",
      "/home/lance_miles/anaconda3/lib/python3.6/site-packages/tensorflow/python/ops/gradients_impl.py:105: UserWarning: Converting sparse IndexedSlices to a dense Tensor with 115571700 elements. This may consume a large amount of memory.\n",
      "  num_elements)\n",
      "/home/lance_miles/anaconda3/lib/python3.6/site-packages/tensorflow/python/ops/gradients_impl.py:105: UserWarning: Converting sparse IndexedSlices to a dense Tensor with 115571700 elements. This may consume a large amount of memory.\n",
      "  num_elements)\n",
      "/home/lance_miles/anaconda3/lib/python3.6/site-packages/tensorflow/python/ops/gradients_impl.py:105: UserWarning: Converting sparse IndexedSlices to a dense Tensor with 115571700 elements. This may consume a large amount of memory.\n",
      "  num_elements)\n"
     ]
    },
    {
     "name": "stdout",
     "output_type": "stream",
     "text": [
      "Epoch 1/3\n",
      "1200000/1200000 [==============================] - 2138s 2ms/step - loss: 0.2354 - acc: 0.8950\n",
      "Epoch 2/3\n",
      "1200000/1200000 [==============================] - 2096s 2ms/step - loss: 0.1209 - acc: 0.9567\n",
      "Epoch 3/3\n",
      "1200000/1200000 [==============================] - 2112s 2ms/step - loss: 0.0869 - acc: 0.9708\n"
     ]
    }
   ],
   "source": [
    "cnnModel6 = CreateKimCNN(kernelSize=[4, 5, 6], numFilters=128, embedDepth=300, \n",
    "                 dropOut=0.5, embeds=None, use=True, length=max_length,\n",
    "                 vocab = vocabulary_size, pool = 2, denseInputs = 10)\n",
    "\n",
    "cnnModel6.fit([X_train, X_train, X_train, train_data_USE], X_train_labels, epochs=3, batch_size=5000)\n",
    "\n",
    "cnnModel6.save('../../CNNModel_200MaxL_None_USE.h5')"
   ]
  },
  {
   "cell_type": "code",
   "execution_count": 36,
   "metadata": {},
   "outputs": [
    {
     "name": "stderr",
     "output_type": "stream",
     "text": [
      "/home/lance_miles/anaconda3/lib/python3.6/site-packages/tensorflow/python/ops/gradients_impl.py:105: UserWarning: Converting sparse IndexedSlices to a dense Tensor with 115571700 elements. This may consume a large amount of memory.\n",
      "  num_elements)\n",
      "/home/lance_miles/anaconda3/lib/python3.6/site-packages/tensorflow/python/ops/gradients_impl.py:105: UserWarning: Converting sparse IndexedSlices to a dense Tensor with 115571700 elements. This may consume a large amount of memory.\n",
      "  num_elements)\n",
      "/home/lance_miles/anaconda3/lib/python3.6/site-packages/tensorflow/python/ops/gradients_impl.py:105: UserWarning: Converting sparse IndexedSlices to a dense Tensor with 115571700 elements. This may consume a large amount of memory.\n",
      "  num_elements)\n",
      "/home/lance_miles/anaconda3/lib/python3.6/site-packages/tensorflow/python/ops/gradients_impl.py:105: UserWarning: Converting sparse IndexedSlices to a dense Tensor with 115571700 elements. This may consume a large amount of memory.\n",
      "  num_elements)\n",
      "/home/lance_miles/anaconda3/lib/python3.6/site-packages/tensorflow/python/ops/gradients_impl.py:105: UserWarning: Converting sparse IndexedSlices to a dense Tensor with 115571700 elements. This may consume a large amount of memory.\n",
      "  num_elements)\n",
      "/home/lance_miles/anaconda3/lib/python3.6/site-packages/tensorflow/python/ops/gradients_impl.py:105: UserWarning: Converting sparse IndexedSlices to a dense Tensor with 115571700 elements. This may consume a large amount of memory.\n",
      "  num_elements)\n"
     ]
    }
   ],
   "source": [
    "cnnModel6 = load_model('../../CNNModel_200MaxL_None_USE.h5')"
   ]
  },
  {
   "cell_type": "code",
   "execution_count": 37,
   "metadata": {},
   "outputs": [
    {
     "data": {
      "text/plain": [
       "[0.07395656862472494, 0.9802225]"
      ]
     },
     "execution_count": 37,
     "metadata": {},
     "output_type": "execute_result"
    }
   ],
   "source": [
    "train_acc = cnnModel6.evaluate([X_train, X_train, X_train, train_data_USE], X_train_labels, verbose=0)\n",
    "train_acc"
   ]
  },
  {
   "cell_type": "code",
   "execution_count": 38,
   "metadata": {},
   "outputs": [
    {
     "name": "stdout",
     "output_type": "stream",
     "text": [
      "CNN Model Accuracy using trained Embeddings\n",
      "Train: 0.980, Test: 0.980\n"
     ]
    }
   ],
   "source": [
    "test_acc = cnnModel6.evaluate([X_train, X_train, X_train, train_data_USE], X_test_labels, verbose=0)\n",
    "test_acc\n",
    "\n",
    "print('CNN Model Accuracy using trained Embeddings\\nTrain: %.3f, Test: %.3f' % (train_acc[1], test_acc[1]))"
   ]
  },
  {
   "cell_type": "markdown",
   "metadata": {},
   "source": [
    "## Test IMDB Data"
   ]
  },
  {
   "cell_type": "code",
   "execution_count": null,
   "metadata": {},
   "outputs": [],
   "source": [
    "modelList = ['CNNModel_200MaxL_None.h5', 'CNNModel_200MaxL_None_USE.h5',\n",
    "             'CNNModel_200MaxL_Glove.h5', 'CNNModel_200MaxL_Glove_USE.h5',\n",
    "             'CNNModel_200MaxL_w2v.h5', 'CNNModel_200MaxL_w2v_USE.h5']\n",
    "\n",
    "nameList = ['CNN - Trained Embeddings', 'CNN - Trained Embeddings + USE',\n",
    "            'CNN - Glove Embeddings', 'CNN - Glove Embeddings + USE',\n",
    "            'CNN - Word2Vec Embeddings', 'CNN - Word2Vec Embeddings + USE']\n",
    "\n",
    "USE = [False, True, False, True, False, True]\n",
    "\n",
    "def loadModels (loadModel = True, model, name, USE, data, use_outputs, data_labels):        \n",
    "        accuracies = []\n",
    "        for trainedModel, name, USE in zip(model, name, USE):\n",
    "            cnnModel = load_model(f'../../{model}')\n",
    "            \n",
    "            if USE == True:\n",
    "                imdbAcc = cnnModel.evaluate([data, data, data, use_outputs], data_labels, verbose=0)\n",
    "                \n",
    "            else:\n",
    "                imdbAcc = cnnModel.evaluate([data, data, data], data_labels, verbose=0)\n",
    "                \n",
    "            print(f'CNN Model Accuracy using {name}\\nTrain: %.3f, Test: %.3f' % (imdbAcc[1], imdbAcc[1]))\n",
    "            accuracies.extend([imdbAcc])\n",
    "            del(cnnModel)\n",
    "    return accuracies\n",
    "            "
   ]
  },
  {
   "cell_type": "code",
   "execution_count": null,
   "metadata": {},
   "outputs": [],
   "source": []
  }
 ],
 "metadata": {
  "kernelspec": {
   "display_name": "Python 3",
   "language": "python",
   "name": "python3"
  },
  "language_info": {
   "codemirror_mode": {
    "name": "ipython",
    "version": 3
   },
   "file_extension": ".py",
   "mimetype": "text/x-python",
   "name": "python",
   "nbconvert_exporter": "python",
   "pygments_lexer": "ipython3",
   "version": "3.6.5"
  }
 },
 "nbformat": 4,
 "nbformat_minor": 2
}
