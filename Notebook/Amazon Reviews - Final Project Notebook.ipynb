{
 "cells": [
  {
   "cell_type": "markdown",
   "metadata": {},
   "source": [
    "# W266 Final Project - Amazon Reviews\n",
    "\n",
    "This notebook is to read in the cleaned data and work with the data in keras.\n",
    "\n",
    "http://jmcauley.ucsd.edu/data/amazon/links.html"
   ]
  },
  {
   "cell_type": "code",
   "execution_count": 1,
   "metadata": {
    "ExecuteTime": {
     "end_time": "2019-03-21T20:07:18.419154Z",
     "start_time": "2019-03-21T20:07:18.415783Z"
    }
   },
   "outputs": [
    {
     "name": "stderr",
     "output_type": "stream",
     "text": [
      "/home/lance_miles/anaconda3/lib/python3.6/site-packages/h5py/__init__.py:36: FutureWarning: Conversion of the second argument of issubdtype from `float` to `np.floating` is deprecated. In future, it will be treated as `np.float64 == np.dtype(float).type`.\n",
      "  from ._conv import register_converters as _register_converters\n",
      "WARNING: Logging before flag parsing goes to stderr.\n",
      "W0404 17:57:49.502410 139842020026176 __init__.py:56] Some hub symbols are not available because TensorFlow version is less than 1.14\n",
      "Using TensorFlow backend.\n"
     ]
    }
   ],
   "source": [
    "import pandas as pd\n",
    "import gzip\n",
    "import random\n",
    "from collections import defaultdict\n",
    "import seaborn as sns\n",
    "import numpy as np\n",
    "import re\n",
    "\n",
    "import nltk\n",
    "from nltk.corpus import stopwords\n",
    "import string\n",
    "\n",
    "import tensorflow_hub as hub\n",
    "import tensorflow as tf\n",
    "\n",
    "# Keras\n",
    "from keras.preprocessing.text import Tokenizer\n",
    "from keras.preprocessing.sequence import pad_sequences\n",
    "from keras.models import Sequential\n",
    "from keras.layers import Dense, Flatten, LSTM, Conv1D, MaxPooling1D, Dropout, Activation, Input\n",
    "from keras.layers.embeddings import Embedding\n",
    "from keras.layers.merge import concatenate\n",
    "from keras.utils.vis_utils import plot_model\n",
    "from keras.models import Model\n",
    "from keras.models import load_model\n",
    "from keras.callbacks import EarlyStopping\n",
    "from keras.callbacks import ModelCheckpoint\n",
    "\n",
    "import h5py\n",
    "\n",
    "import gensim\n",
    "from gensim.models import Word2Vec\n",
    "from gensim.utils import simple_preprocess\n",
    "from gensim.models.keyedvectors import KeyedVectors\n",
    "from gensim.scripts.glove2word2vec import glove2word2vec"
   ]
  },
  {
   "cell_type": "code",
   "execution_count": 2,
   "metadata": {},
   "outputs": [
    {
     "name": "stdout",
     "output_type": "stream",
     "text": [
      "Successfully opened pickled data\n"
     ]
    }
   ],
   "source": [
    "def loadInitialData(loadDat = True):\n",
    "    if loadDat == True:\n",
    "        train_data_name = '../../train_data.pkl'\n",
    "        train_data = pd.read_pickle(train_data_name)\n",
    "        test_data_name = '../../test_data.pkl'\n",
    "        test_data = pd.read_pickle(test_data_name)\n",
    "        print('Successfully opened pickled data')\n",
    "        \n",
    "        return train_data, test_data\n",
    "\n",
    "    else:\n",
    "        files = ['reviews_Video_Games.json.gz', \n",
    "                 'reviews_Toys_and_Games.json.gz', \n",
    "                 'reviews_Sports_and_Outdoors.json.gz', \n",
    "                 'reviews_Movies_and_TV.json.gz',\n",
    "                 'reviews_Kindle_Store.json.gz', \n",
    "                 'reviews_Home_and_Kitchen.json.gz',\n",
    "                 'reviews_Health_and_Personal_Care.json.gz', \n",
    "                 'reviews_Electronics.json.gz',\n",
    "                 'reviews_Clothing_Shoes_and_Jewelry.json.gz',\n",
    "                 'reviews_Cell_Phones_and_Accessories.json.gz', \n",
    "                 'reviews_CDs_and_Vinyl.json.gz',\n",
    "                 'reviews_Books.json.gz']\n",
    "        filesNames = ['reviews_Video_Games', \n",
    "                      'reviews_Toys_and_Games',\n",
    "                      'reviews_Sports_and_Outdoors', \n",
    "                      'reviews_Movies_and_TV',\n",
    "                      'reviews_Kindle_Store', \n",
    "                      'reviews_Home_and_Kitchen',\n",
    "                      'reviews_Health_and_Personal_Care', \n",
    "                      'reviews_Electronics',\n",
    "                      'reviews_Clothing_Shoes_and_Jewelry',\n",
    "                      'reviews_Cell_Phones_and_Accessories', \n",
    "                      'reviews_CDs_and_Vinyl',\n",
    "                      'reviews_Books']\n",
    "\n",
    "        print('Looks like you dont have the data.. Will pickle it for you for future use.')\n",
    "\n",
    "        def dataFullSets(original, concatData, name):\n",
    "            currentData = original\n",
    "            appendData = pd.read_csv('../Data/%s'%(concatData))\n",
    "            appendData['Product'] = name\n",
    "            newDF = pd.concat([currentData,appendData], sort=True)\n",
    "            return(newDF)\n",
    "\n",
    "        train_data = pd.read_csv('../Data/%s_train.csv'%(filesNames[0]))\n",
    "        train_data['Product'] = filesNames[0]\n",
    "        test_data = pd.read_csv('../Data/%s_test.csv'%(filesNames[0]))\n",
    "        test_data['Product'] = filesNames[0]\n",
    "\n",
    "        random.seed(1203)\n",
    "\n",
    "        for fileName in filesNames[1:]:\n",
    "            concatName_train = fileName+'_train.csv'\n",
    "            concatName_test = fileName+'_test.csv'\n",
    "\n",
    "            train_data = dataFullSets(train_data, concatName_train, fileName).sample(frac=1)\n",
    "            test_data = dataFullSets(test_data, concatName_test, fileName).sample(frac=1)\n",
    "\n",
    "            print('Concatenated', fileName)\n",
    "\n",
    "        print('Finished building train and test datasets.')\n",
    "\n",
    "        train_data_name = '../../train_data.pkl'\n",
    "        train_data.to_pickle(train_data_name)\n",
    "        test_data_name = '../../test_data.pkl'\n",
    "        test_data.to_pickle(test_data_name)\n",
    "\n",
    "        print('Finished pickling for future use.')\n",
    "        \n",
    "        return train_data, test_data\n",
    "        \n",
    "train_data, test_data = loadInitialData(loadDat = True)"
   ]
  },
  {
   "cell_type": "code",
   "execution_count": 3,
   "metadata": {
    "ExecuteTime": {
     "end_time": "2019-03-21T17:11:55.945562Z",
     "start_time": "2019-03-21T17:11:55.896787Z"
    },
    "scrolled": false
   },
   "outputs": [
    {
     "data": {
      "text/html": [
       "<div>\n",
       "<style scoped>\n",
       "    .dataframe tbody tr th:only-of-type {\n",
       "        vertical-align: middle;\n",
       "    }\n",
       "\n",
       "    .dataframe tbody tr th {\n",
       "        vertical-align: top;\n",
       "    }\n",
       "\n",
       "    .dataframe thead th {\n",
       "        text-align: right;\n",
       "    }\n",
       "</style>\n",
       "<table border=\"1\" class=\"dataframe\">\n",
       "  <thead>\n",
       "    <tr style=\"text-align: right;\">\n",
       "      <th></th>\n",
       "      <th>Product</th>\n",
       "      <th>asin</th>\n",
       "      <th>helpful</th>\n",
       "      <th>overall</th>\n",
       "      <th>reviewText</th>\n",
       "      <th>reviewTime</th>\n",
       "      <th>reviewerID</th>\n",
       "      <th>reviewerName</th>\n",
       "      <th>sentiment</th>\n",
       "      <th>summary</th>\n",
       "      <th>unixReviewTime</th>\n",
       "    </tr>\n",
       "  </thead>\n",
       "  <tbody>\n",
       "    <tr>\n",
       "      <th>83381</th>\n",
       "      <td>reviews_Electronics</td>\n",
       "      <td>B00AHPSTRY</td>\n",
       "      <td>[5, 5]</td>\n",
       "      <td>1.0</td>\n",
       "      <td>just received my screen protector.  it's going...</td>\n",
       "      <td>08 14, 2013</td>\n",
       "      <td>A20EOZ5Q2Z8L1S</td>\n",
       "      <td>Vicki B.</td>\n",
       "      <td>0</td>\n",
       "      <td>SENDING IT BACK!</td>\n",
       "      <td>1376438400</td>\n",
       "    </tr>\n",
       "    <tr>\n",
       "      <th>7113</th>\n",
       "      <td>reviews_CDs_and_Vinyl</td>\n",
       "      <td>B00005AQ38</td>\n",
       "      <td>[6, 6]</td>\n",
       "      <td>1.0</td>\n",
       "      <td>But instead of the orchestra, we are treated t...</td>\n",
       "      <td>12 23, 2001</td>\n",
       "      <td>A16SS8HYJW7IEJ</td>\n",
       "      <td>Mark Pollock \"educator\"</td>\n",
       "      <td>0</td>\n",
       "      <td>Would be nice to hear the orchestra...</td>\n",
       "      <td>1009065600</td>\n",
       "    </tr>\n",
       "    <tr>\n",
       "      <th>58166</th>\n",
       "      <td>reviews_Health_and_Personal_Care</td>\n",
       "      <td>B0007P2OO8</td>\n",
       "      <td>[0, 0]</td>\n",
       "      <td>5.0</td>\n",
       "      <td>Love this shaving soap and it was the best pri...</td>\n",
       "      <td>01 15, 2013</td>\n",
       "      <td>A16O37AEI0Y3N</td>\n",
       "      <td>Richard Papaleo</td>\n",
       "      <td>1</td>\n",
       "      <td>Col. Conk is Famous</td>\n",
       "      <td>1358208000</td>\n",
       "    </tr>\n",
       "    <tr>\n",
       "      <th>35717</th>\n",
       "      <td>reviews_Home_and_Kitchen</td>\n",
       "      <td>B000AA89GW</td>\n",
       "      <td>[0, 1]</td>\n",
       "      <td>1.0</td>\n",
       "      <td>It is impossible to join the two pieces of the...</td>\n",
       "      <td>08 28, 2011</td>\n",
       "      <td>A2OV0337VRTSUV</td>\n",
       "      <td>AF</td>\n",
       "      <td>0</td>\n",
       "      <td>Impossible to close tightly... Makes a mess!!!</td>\n",
       "      <td>1314489600</td>\n",
       "    </tr>\n",
       "    <tr>\n",
       "      <th>26850</th>\n",
       "      <td>reviews_Electronics</td>\n",
       "      <td>B00529F3JW</td>\n",
       "      <td>[2, 2]</td>\n",
       "      <td>1.0</td>\n",
       "      <td>There is no suction on this little vacuum clea...</td>\n",
       "      <td>01 25, 2013</td>\n",
       "      <td>A3I0B7SO7OE7YG</td>\n",
       "      <td>Terry White</td>\n",
       "      <td>0</td>\n",
       "      <td>Mini Vacuum Cleaner</td>\n",
       "      <td>1359072000</td>\n",
       "    </tr>\n",
       "  </tbody>\n",
       "</table>\n",
       "</div>"
      ],
      "text/plain": [
       "                                Product        asin helpful  overall  \\\n",
       "83381               reviews_Electronics  B00AHPSTRY  [5, 5]      1.0   \n",
       "7113              reviews_CDs_and_Vinyl  B00005AQ38  [6, 6]      1.0   \n",
       "58166  reviews_Health_and_Personal_Care  B0007P2OO8  [0, 0]      5.0   \n",
       "35717          reviews_Home_and_Kitchen  B000AA89GW  [0, 1]      1.0   \n",
       "26850               reviews_Electronics  B00529F3JW  [2, 2]      1.0   \n",
       "\n",
       "                                              reviewText   reviewTime  \\\n",
       "83381  just received my screen protector.  it's going...  08 14, 2013   \n",
       "7113   But instead of the orchestra, we are treated t...  12 23, 2001   \n",
       "58166  Love this shaving soap and it was the best pri...  01 15, 2013   \n",
       "35717  It is impossible to join the two pieces of the...  08 28, 2011   \n",
       "26850  There is no suction on this little vacuum clea...  01 25, 2013   \n",
       "\n",
       "           reviewerID             reviewerName  sentiment  \\\n",
       "83381  A20EOZ5Q2Z8L1S                 Vicki B.          0   \n",
       "7113   A16SS8HYJW7IEJ  Mark Pollock \"educator\"          0   \n",
       "58166   A16O37AEI0Y3N          Richard Papaleo          1   \n",
       "35717  A2OV0337VRTSUV                       AF          0   \n",
       "26850  A3I0B7SO7OE7YG              Terry White          0   \n",
       "\n",
       "                                              summary  unixReviewTime  \n",
       "83381                                SENDING IT BACK!      1376438400  \n",
       "7113           Would be nice to hear the orchestra...      1009065600  \n",
       "58166                             Col. Conk is Famous      1358208000  \n",
       "35717  Impossible to close tightly... Makes a mess!!!      1314489600  \n",
       "26850                             Mini Vacuum Cleaner      1359072000  "
      ]
     },
     "execution_count": 3,
     "metadata": {},
     "output_type": "execute_result"
    }
   ],
   "source": [
    "train_data.head()"
   ]
  },
  {
   "cell_type": "code",
   "execution_count": 4,
   "metadata": {
    "ExecuteTime": {
     "end_time": "2019-03-21T17:11:55.993872Z",
     "start_time": "2019-03-21T17:11:55.948370Z"
    },
    "scrolled": false
   },
   "outputs": [
    {
     "data": {
      "text/html": [
       "<div>\n",
       "<style scoped>\n",
       "    .dataframe tbody tr th:only-of-type {\n",
       "        vertical-align: middle;\n",
       "    }\n",
       "\n",
       "    .dataframe tbody tr th {\n",
       "        vertical-align: top;\n",
       "    }\n",
       "\n",
       "    .dataframe thead th {\n",
       "        text-align: right;\n",
       "    }\n",
       "</style>\n",
       "<table border=\"1\" class=\"dataframe\">\n",
       "  <thead>\n",
       "    <tr style=\"text-align: right;\">\n",
       "      <th></th>\n",
       "      <th>Product</th>\n",
       "      <th>asin</th>\n",
       "      <th>helpful</th>\n",
       "      <th>overall</th>\n",
       "      <th>reviewText</th>\n",
       "      <th>reviewTime</th>\n",
       "      <th>reviewerID</th>\n",
       "      <th>reviewerName</th>\n",
       "      <th>sentiment</th>\n",
       "      <th>summary</th>\n",
       "      <th>unixReviewTime</th>\n",
       "    </tr>\n",
       "  </thead>\n",
       "  <tbody>\n",
       "    <tr>\n",
       "      <th>11262</th>\n",
       "      <td>reviews_Home_and_Kitchen</td>\n",
       "      <td>B007EESTOY</td>\n",
       "      <td>[0, 0]</td>\n",
       "      <td>5.0</td>\n",
       "      <td>Love this! Hot drinks stay hot for a couple ho...</td>\n",
       "      <td>06 7, 2014</td>\n",
       "      <td>A1RAD5380383DT</td>\n",
       "      <td>Jennifer Manelis</td>\n",
       "      <td>1</td>\n",
       "      <td>Great insulation!!!</td>\n",
       "      <td>1402099200</td>\n",
       "    </tr>\n",
       "    <tr>\n",
       "      <th>16948</th>\n",
       "      <td>reviews_Health_and_Personal_Care</td>\n",
       "      <td>B0063X0K5I</td>\n",
       "      <td>[1, 1]</td>\n",
       "      <td>1.0</td>\n",
       "      <td>Paid for next day shipping as reviews said thi...</td>\n",
       "      <td>05 20, 2014</td>\n",
       "      <td>AYOQUNMV9L23E</td>\n",
       "      <td>David Murray</td>\n",
       "      <td>0</td>\n",
       "      <td>Does not ship in a cold pack</td>\n",
       "      <td>1400544000</td>\n",
       "    </tr>\n",
       "    <tr>\n",
       "      <th>18599</th>\n",
       "      <td>reviews_Video_Games</td>\n",
       "      <td>B009CL6LA6</td>\n",
       "      <td>[0, 0]</td>\n",
       "      <td>5.0</td>\n",
       "      <td>I got it for my teenage grandson for Christmas...</td>\n",
       "      <td>01 30, 2014</td>\n",
       "      <td>A1Y644EFDB8CZ8</td>\n",
       "      <td>Elaine A. Stone \"Grandma from Oklahoma\"</td>\n",
       "      <td>1</td>\n",
       "      <td>Headset</td>\n",
       "      <td>1391040000</td>\n",
       "    </tr>\n",
       "    <tr>\n",
       "      <th>6570</th>\n",
       "      <td>reviews_Cell_Phones_and_Accessories</td>\n",
       "      <td>B0042R8ICO</td>\n",
       "      <td>[1, 1]</td>\n",
       "      <td>5.0</td>\n",
       "      <td>This protector is good value. It's very clear,...</td>\n",
       "      <td>08 21, 2011</td>\n",
       "      <td>A1QSXZJMDRH5KY</td>\n",
       "      <td>Yancy</td>\n",
       "      <td>1</td>\n",
       "      <td>Great Clear Protector</td>\n",
       "      <td>1313884800</td>\n",
       "    </tr>\n",
       "    <tr>\n",
       "      <th>207</th>\n",
       "      <td>reviews_Toys_and_Games</td>\n",
       "      <td>B003F64T1M</td>\n",
       "      <td>[4, 4]</td>\n",
       "      <td>5.0</td>\n",
       "      <td>I've had this truck for about a week now. Afte...</td>\n",
       "      <td>07 18, 2013</td>\n",
       "      <td>A9F5P3EMJINOR</td>\n",
       "      <td>R. Moschgat Jr.</td>\n",
       "      <td>1</td>\n",
       "      <td>Maxstone</td>\n",
       "      <td>1374105600</td>\n",
       "    </tr>\n",
       "  </tbody>\n",
       "</table>\n",
       "</div>"
      ],
      "text/plain": [
       "                                   Product        asin helpful  overall  \\\n",
       "11262             reviews_Home_and_Kitchen  B007EESTOY  [0, 0]      5.0   \n",
       "16948     reviews_Health_and_Personal_Care  B0063X0K5I  [1, 1]      1.0   \n",
       "18599                  reviews_Video_Games  B009CL6LA6  [0, 0]      5.0   \n",
       "6570   reviews_Cell_Phones_and_Accessories  B0042R8ICO  [1, 1]      5.0   \n",
       "207                 reviews_Toys_and_Games  B003F64T1M  [4, 4]      5.0   \n",
       "\n",
       "                                              reviewText   reviewTime  \\\n",
       "11262  Love this! Hot drinks stay hot for a couple ho...   06 7, 2014   \n",
       "16948  Paid for next day shipping as reviews said thi...  05 20, 2014   \n",
       "18599  I got it for my teenage grandson for Christmas...  01 30, 2014   \n",
       "6570   This protector is good value. It's very clear,...  08 21, 2011   \n",
       "207    I've had this truck for about a week now. Afte...  07 18, 2013   \n",
       "\n",
       "           reviewerID                             reviewerName  sentiment  \\\n",
       "11262  A1RAD5380383DT                         Jennifer Manelis          1   \n",
       "16948   AYOQUNMV9L23E                             David Murray          0   \n",
       "18599  A1Y644EFDB8CZ8  Elaine A. Stone \"Grandma from Oklahoma\"          1   \n",
       "6570   A1QSXZJMDRH5KY                                    Yancy          1   \n",
       "207     A9F5P3EMJINOR                          R. Moschgat Jr.          1   \n",
       "\n",
       "                            summary  unixReviewTime  \n",
       "11262           Great insulation!!!      1402099200  \n",
       "16948  Does not ship in a cold pack      1400544000  \n",
       "18599                       Headset      1391040000  \n",
       "6570          Great Clear Protector      1313884800  \n",
       "207                        Maxstone      1374105600  "
      ]
     },
     "execution_count": 4,
     "metadata": {},
     "output_type": "execute_result"
    }
   ],
   "source": [
    "test_data.head()"
   ]
  },
  {
   "cell_type": "code",
   "execution_count": 5,
   "metadata": {},
   "outputs": [],
   "source": [
    "def decontracted(phrase):\n",
    "    phrase = re.sub(r\"won\\'t\", \"will not\", phrase)\n",
    "    phrase = re.sub(r\"can\\'t\", \"can not\", phrase)\n",
    "    phrase = re.sub(r\"n\\'t\", \" not\", phrase)\n",
    "    phrase = re.sub(r\"\\'re\", \" are\", phrase)\n",
    "    phrase = re.sub(r\"\\'s\", \" is\", phrase)\n",
    "    phrase = re.sub(r\"\\'d\", \" would\", phrase)\n",
    "    phrase = re.sub(r\"\\'ll\", \" will\", phrase)\n",
    "    phrase = re.sub(r\"\\'t\", \" not\", phrase)\n",
    "    phrase = re.sub(r\"\\'ve\", \" have\", phrase)\n",
    "    phrase = re.sub(r\"\\'m\", \" am\", phrase)\n",
    "    return phrase"
   ]
  },
  {
   "cell_type": "code",
   "execution_count": 6,
   "metadata": {},
   "outputs": [
    {
     "data": {
      "text/plain": [
       "'I could not ask for a better vacuum.  We just got this today and it was together within a minute.  Hubby used it on our wood floor and it picked up really well.  Then he did the 3 carpets that we have and they look almost brand new.  The funny thing is that my older cat batted at it and was hissing a little and the younger one ran out of the room as quick as he could.  It does not make a lot of noise and it a very good product to own.'"
      ]
     },
     "execution_count": 6,
     "metadata": {},
     "output_type": "execute_result"
    }
   ],
   "source": [
    "#practice sentence\n",
    "test_sentence = test_data['reviewText'].iloc[19]\n",
    "test_sentence"
   ]
  },
  {
   "cell_type": "code",
   "execution_count": 7,
   "metadata": {},
   "outputs": [
    {
     "data": {
      "text/plain": [
       "'i could not ask for a better vacuum we just got this today and it was together within a minute hubby used it on our wood floor and it picked up really well then he did the carpets that we have and they look almost brand new the funny thing is that my older cat batted at it and was hissing a little and the younger one ran out of the room as quick as he could it does not make a lot of noise and it a very good product to own '"
      ]
     },
     "execution_count": 7,
     "metadata": {},
     "output_type": "execute_result"
    }
   ],
   "source": [
    "#prepare reviews to be split by words\n",
    "#change to lowercase, remove punctuation and numbers\n",
    "test_data_word_prep = re.sub(\"[^a-zA-Z']\", \" \", test_sentence).lower()\n",
    "test_data_word_prep = re.sub(\"[\\\\s]+\", \" \", test_data_word_prep)\n",
    "test_data_word_prep = decontracted(test_data_word_prep)\n",
    "test_data_word_prep"
   ]
  },
  {
   "cell_type": "code",
   "execution_count": 8,
   "metadata": {
    "scrolled": false
   },
   "outputs": [
    {
     "data": {
      "text/plain": [
       "['i',\n",
       " 'could',\n",
       " 'not',\n",
       " 'ask',\n",
       " 'for',\n",
       " 'a',\n",
       " 'better',\n",
       " 'vacuum',\n",
       " 'we',\n",
       " 'just',\n",
       " 'got',\n",
       " 'this',\n",
       " 'today',\n",
       " 'and',\n",
       " 'it',\n",
       " 'was',\n",
       " 'together',\n",
       " 'within',\n",
       " 'a',\n",
       " 'minute',\n",
       " 'hubby',\n",
       " 'used',\n",
       " 'it',\n",
       " 'on',\n",
       " 'our',\n",
       " 'wood',\n",
       " 'floor',\n",
       " 'and',\n",
       " 'it',\n",
       " 'picked',\n",
       " 'up',\n",
       " 'really',\n",
       " 'well',\n",
       " 'then',\n",
       " 'he',\n",
       " 'did',\n",
       " 'the',\n",
       " 'carpets',\n",
       " 'that',\n",
       " 'we',\n",
       " 'have',\n",
       " 'and',\n",
       " 'they',\n",
       " 'look',\n",
       " 'almost',\n",
       " 'brand',\n",
       " 'new',\n",
       " 'the',\n",
       " 'funny',\n",
       " 'thing',\n",
       " 'is',\n",
       " 'that',\n",
       " 'my',\n",
       " 'older',\n",
       " 'cat',\n",
       " 'batted',\n",
       " 'at',\n",
       " 'it',\n",
       " 'and',\n",
       " 'was',\n",
       " 'hissing',\n",
       " 'a',\n",
       " 'little',\n",
       " 'and',\n",
       " 'the',\n",
       " 'younger',\n",
       " 'one',\n",
       " 'ran',\n",
       " 'out',\n",
       " 'of',\n",
       " 'the',\n",
       " 'room',\n",
       " 'as',\n",
       " 'quick',\n",
       " 'as',\n",
       " 'he',\n",
       " 'could',\n",
       " 'it',\n",
       " 'does',\n",
       " 'not',\n",
       " 'make',\n",
       " 'a',\n",
       " 'lot',\n",
       " 'of',\n",
       " 'noise',\n",
       " 'and',\n",
       " 'it',\n",
       " 'a',\n",
       " 'very',\n",
       " 'good',\n",
       " 'product',\n",
       " 'to',\n",
       " 'own']"
      ]
     },
     "execution_count": 8,
     "metadata": {},
     "output_type": "execute_result"
    }
   ],
   "source": [
    "#list of words after processing\n",
    "test_data_word_prep.strip().split()"
   ]
  },
  {
   "cell_type": "code",
   "execution_count": 9,
   "metadata": {
    "scrolled": true
   },
   "outputs": [],
   "source": [
    "#commenting out imdb data as it has been pickled\n",
    "\n",
    "#imdb_reviews = pd.read_csv('../Data/imdb_master_file.csv', encoding=\"ISO-8859-1\")\n",
    "\n",
    "#imdb_reviews['sentiment'] = np.where(imdb_reviews['label']=='pos',1,0)\n",
    "\n",
    "#imdb_reviews = imdb_reviews.rename(index=str, columns={\"review\": \"reviewText\"})\n",
    "\n",
    "#imdb_test = imdb_reviews.loc[imdb_reviews.type == 'test',]\n",
    "\n",
    "#imdb_train = imdb_reviews.loc[imdb_reviews.type == 'train',]\n",
    "\n",
    "#imdb_test.head()"
   ]
  },
  {
   "cell_type": "code",
   "execution_count": 10,
   "metadata": {},
   "outputs": [],
   "source": [
    "#code to pull in and clean twitter data, commented out because it has been pickled\n",
    "\n",
    "#twitter_reviews = pd.read_csv(\"../../twitter_sentiment_cleaned.csv\")\n",
    "\n",
    "#twitter_pos = twitter_reviews.loc[twitter_reviews.sentiment == 1, ['sentiment','reviewText']]\n",
    "#twitter_pos = twitter_pos.head(30000)\n",
    "\n",
    "#twitter_neg = twitter_reviews.loc[twitter_reviews.sentiment == 0, ['sentiment','reviewText']]\n",
    "#twitter_neg = twitter_neg.head(30000)\n",
    "\n",
    "#twitter_reviews = pd.concat([twitter_pos,twitter_neg], axis=0)\n",
    "#twitter_reviews.shape"
   ]
  },
  {
   "cell_type": "code",
   "execution_count": 11,
   "metadata": {},
   "outputs": [],
   "source": [
    "#code to pull in and clean yelp data, commented out because it has been pickled\n",
    "\n",
    "#yelp_reviews = pd.read_csv(\"../../yelp_review.csv\", nrows=250000)\n",
    "\n",
    "#yelp_pos = yelp_reviews.loc[yelp_reviews.stars == 5, ['stars', 'text']]\n",
    "#yelp_pos['sentiment'] = 1\n",
    "#yelp_pos = yelp_pos.rename(index=str, columns = {'text':'reviewText'})\n",
    "#yelp_pos = yelp_pos.drop(['stars'], axis=1)\n",
    "\n",
    "#yelp_neg = yelp_reviews.loc[yelp_reviews.stars == 1, ['stars', 'text']]\n",
    "#yelp_neg['sentiment'] = 0\n",
    "#yelp_neg = yelp_neg.rename(index=str, columns = {'text':'reviewText'})\n",
    "#yelp_neg = yelp_neg.drop(['stars'], axis=1)\n",
    "\n",
    "#yelp_reviews = pd.concat([yelp_pos.head(30000), yelp_neg.head(30000)], axis=0)\n",
    "#yelp_reviews.shape"
   ]
  },
  {
   "cell_type": "code",
   "execution_count": 12,
   "metadata": {},
   "outputs": [],
   "source": [
    "yelp_zhang_train = pd.read_csv('../../yelp_zhang_pol_train.csv')\n",
    "yelp_zhang_test = pd.read_csv('../../yelp_zhang_pol_test.csv')"
   ]
  },
  {
   "cell_type": "code",
   "execution_count": null,
   "metadata": {},
   "outputs": [],
   "source": []
  },
  {
   "cell_type": "code",
   "execution_count": 13,
   "metadata": {
    "ExecuteTime": {
     "end_time": "2019-03-21T20:04:03.921115Z",
     "start_time": "2019-03-21T20:03:10.378683Z"
    },
    "scrolled": false
   },
   "outputs": [
    {
     "name": "stdout",
     "output_type": "stream",
     "text": [
      "Successfully opened pickled data\n"
     ]
    }
   ],
   "source": [
    "max_length = 200\n",
    "\n",
    "def loadData(loadDat = True, test_data = test_data, train_data = train_data, \n",
    "             yelp_zhang_train = yelp_zhang_train, yelp_zhang_test = yelp_zhang_test):\n",
    "\n",
    "    \n",
    "    if loadDat == True:\n",
    "        train_data_name = '../../train_data_cleaned.pkl'\n",
    "        train_data = pd.read_pickle(train_data_name)\n",
    "        \n",
    "        test_data_name = '../../train_data_cleaned.pkl'\n",
    "        test_data = pd.read_pickle(test_data_name)\n",
    "        \n",
    "        play_data_name = '../../play_data_cleaned.pkl'\n",
    "        play_data = pd.read_pickle(play_data_name)\n",
    "        \n",
    "        twitter_reviews_name = '../../twitter_reviews_cleaned.pkl'\n",
    "        twitter_reviews = pd.read_pickle(twitter_reviews_name)\n",
    "        \n",
    "        imdb_test_name = '../../imdb_test_cleaned.pkl'\n",
    "        imdb_test = pd.read_pickle(imdb_test_name)\n",
    "        imdb_train_name = '../../imdb_train_cleaned.pkl'\n",
    "        imdb_train = pd.read_pickle(imdb_train_name)\n",
    "        \n",
    "        yelp_reviews_name = '../../yelp_reviews_cleaned.pkl'\n",
    "        yelp_reviews = pd.read_pickle(yelp_reviews_name)\n",
    "        \n",
    "        yelp_zhang_train_name = '../../yelp_zhang_pol_train_cleaned.pkl'\n",
    "        yelp_zhang_train = pd.read_pickle(yelp_zhang_train_name)\n",
    "        yelp_zhang_test_name = '../../yelp_zhang_pol_test_cleaned.pkl'\n",
    "        yelp_zhang_test = pd.read_pickle(yelp_zhang_test_name)\n",
    "        \n",
    "        sst_test_name = '../../sst_test.pkl'\n",
    "        sst_test = pd.read_pickle(sst_test_name)\n",
    "\n",
    "        amazon_zhang_test_name = '../../amazon_zhang_pol_test_cleaned.pkl'\n",
    "        amazon_zhang_test = pd.read_pickle(amazon_zhang_test_name)\n",
    "        \n",
    "        print('Successfully opened pickled data')\n",
    "        \n",
    "        return train_data, test_data, play_data, twitter_reviews, imdb_test, imdb_train, yelp_reviews, yelp_zhang_train, yelp_zhang_test, sst_test, amazon_zhang_test\n",
    "    \n",
    "    else:\n",
    "\n",
    "        play_data = test_data[:10]\n",
    "\n",
    "        def decontracted(phrase):\n",
    "            phrase = re.sub(r\"won\\'t\", \"will not\", phrase)\n",
    "            phrase = re.sub(r\"can\\'t\", \"can not\", phrase)\n",
    "            phrase = re.sub(r\"n\\'t\", \" not\", phrase)\n",
    "            phrase = re.sub(r\"\\'re\", \" are\", phrase)\n",
    "            phrase = re.sub(r\"\\'s\", \" is\", phrase)\n",
    "            phrase = re.sub(r\"\\'d\", \" would\", phrase)\n",
    "            phrase = re.sub(r\"\\'ll\", \" will\", phrase)\n",
    "            phrase = re.sub(r\"\\'t\", \" not\", phrase)\n",
    "            phrase = re.sub(r\"\\'ve\", \" have\", phrase)\n",
    "            phrase = re.sub(r\"\\'m\", \" am\", phrase)\n",
    "            return phrase\n",
    "\n",
    "        def prepReview(data):\n",
    "            data_prep = str(data['reviewText'])\n",
    "            data_prep = re.sub(\"[!?]\", \".\", data_prep)\n",
    "            data_prep = re.sub(\"[^a-zA-Z']\", \" \", data_prep).lower()\n",
    "            data_prep = re.sub(\"[\\\\s]+\", \" \", data_prep)\n",
    "            data_prep = decontracted(data_prep)\n",
    "            return data_prep\n",
    "\n",
    "        #function to process review text and split into words\n",
    "        def splitWords(data):\n",
    "            return prepReview(data).split()[:max_length]\n",
    "\n",
    "        #function to process review text and split into sentences\n",
    "        def splitSentences(data):\n",
    "            interim = prepReview(data).split()\n",
    "            reviewTrunc = interim[:max_length]\n",
    "            return ' '.join(reviewTrunc)\n",
    "\n",
    "\n",
    "        #list of words from review into column\n",
    "        sentences = play_data.apply(splitWords, axis=1)\n",
    "        play_data.insert(loc = 11, column = 'sentenceWords', value = sentences)\n",
    "\n",
    "        sentences = train_data.apply(splitWords, axis=1)\n",
    "        train_data.insert(loc = 11,column = 'sentenceWords', value = sentences)\n",
    "\n",
    "        sentences = test_data.apply(splitWords, axis=1)\n",
    "        test_data.insert(loc = 11,column = 'sentenceWords', value = sentences)\n",
    "\n",
    "        #IMDB additions\n",
    "        sentences = imdb_test.apply(splitWords, axis=1)\n",
    "        imdb_test.insert(loc = 6,column = 'sentenceWords', value = sentences)\n",
    "        \n",
    "        sentences = imdb_train.apply(splitWords, axis=1)\n",
    "        imdb_train.insert(loc = 6,column = 'sentenceWords', value = sentences)\n",
    "        \n",
    "        sentences = twitter_reviews.apply(splitWords, axis=1)\n",
    "        twitter_reviews.insert(loc = 2,column = 'sentenceWords', value = sentences)\n",
    "        \n",
    "        sentences = yelp_reviews.apply(splitWords, axis=1)\n",
    "        yelp_reviews.insert(loc = 2,column = 'sentenceWords', value = sentences)\n",
    "        \n",
    "        sentences = yelp_zhang_train.apply(splitWords, axis=1)\n",
    "        yelp_zhang_train.insert(loc = 2,column = 'sentenceWords', value = sentences)\n",
    "        \n",
    "        sentences = yelp_zhang_test.apply(splitWords, axis=1)\n",
    "        yelp_zhang_test.insert(loc = 2,column = 'sentenceWords', value = sentences)\n",
    "        \n",
    "        sentences = sst_test.apply(splitWords, axis=1)\n",
    "        sst_test.insert(loc = 2,column = 'sentenceWords', value = sentences)\n",
    "        \n",
    "        sentences = amazon_zhang_test.apply(splitWords, axis=1)\n",
    "        amazon_zhang_test.insert(loc = 2,column = 'sentenceWords', value = sentences)\n",
    "        \n",
    "        print('Finished working through the words for each sentences\\nOn to the sentences..')\n",
    "\n",
    "        #list of sentences from review into column\n",
    "        sentences_split = play_data.apply(splitSentences, axis=1)\n",
    "        play_data.insert(loc = 12, column = 'sentences', value = sentences_split)\n",
    "\n",
    "        sentences_split = train_data.apply(splitSentences, axis=1)\n",
    "        train_data.insert(loc = 12,column = 'sentences', value = sentences_split)\n",
    "\n",
    "        sentences_split = test_data.apply(splitSentences, axis=1)\n",
    "        test_data.insert(loc = 12,column = 'sentences', value = sentences_split)\n",
    "        \n",
    "        #IMDB additions\n",
    "        sentences_split = imdb_test.apply(splitSentences, axis=1)\n",
    "        imdb_test.insert(loc = 7,column = 'sentences', value = sentences_split)\n",
    "\n",
    "        sentences_split = imdb_train.apply(splitSentences, axis=1)\n",
    "        imdb_train.insert(loc = 7,column = 'sentences', value = sentences_split)\n",
    "        \n",
    "        sentences_split = twitter_reviews.apply(splitSentences, axis=1)\n",
    "        twitter_reviews.insert(loc = 3,column = 'sentences', value = sentences_split)\n",
    "        \n",
    "        sentences_split = yelp_reviews.apply(splitSentences, axis=1)\n",
    "        yelp_reviews.insert(loc = 3,column = 'sentences', value = sentences_split)\n",
    "        \n",
    "        sentences_split = yelp_zhang_train.apply(splitSentences, axis=1)\n",
    "        yelp_zhang_train.insert(loc = 2,column = 'sentences', value = sentences_split)\n",
    "        \n",
    "        sentences_split = yelp_zhang_test.apply(splitSentences, axis=1)\n",
    "        yelp_zhang_test.insert(loc = 2,column = 'sentences', value = sentences_split)\n",
    "        \n",
    "        sentences_split = sst_test.apply(splitSentences, axis=1)\n",
    "        sst_test.insert(loc = 3,column = 'sentences', value = sentences_split)\n",
    "        \n",
    "        sentences_split = amazon_zhang_test.apply(splitSentences, axis=1)\n",
    "        amazon_zhang_test.insert(loc = 2,column = 'sentences', value = sentences_split)\n",
    "        \n",
    "        print('Finished sentences...\\nNow moving on to pickling the data')\n",
    "\n",
    "        train_data_name = '../../train_data_cleaned.pkl'\n",
    "        train_data.to_pickle(train_data_name)\n",
    "        \n",
    "        test_data_name = '../../test_data_cleaned.pkl'\n",
    "        test_data.to_pickle(test_data_name)\n",
    "        \n",
    "        play_data_name = '../../play_data_cleaned.pkl'\n",
    "        play_data.to_pickle(play_data_name)\n",
    "        \n",
    "        twitter_reviews_name = '../../twitter_reviews_cleaned.pkl'\n",
    "        twitter_reviews.to_pickle(twitter_reviews_name)\n",
    "        \n",
    "        imdb_test_name = '../../imdb_test_cleaned.pkl'\n",
    "        imdb_test.to_pickle(imdb_test_name)\n",
    "        imdb_train_name = '../../imdb_train_cleaned.pkl'\n",
    "        imdb_train.to_pickle(imdb_train_name)\n",
    "        \n",
    "        yelp_reviews_name = '../../yelp_reviews_cleaned.pkl'\n",
    "        yelp_reviews.to_pickle(yelp_reviews_name)\n",
    "\n",
    "        yelp_zhang_train_name = '../../yelp_zhang_pol_train_cleaned.pkl'\n",
    "        yelp_zhang_train.to_pickle(yelp_zhang_train_name)\n",
    "        yelp_zhang_test_name = '../../yelp_zhang_pol_test_cleaned.pkl'\n",
    "        yelp_zhang_test.to_pickle(yelp_zhang_test_name)\n",
    "        \n",
    "        sst_test_name = '../../sst_test.pkl'\n",
    "        sst_test.to_pickle(sst_test_name)\n",
    "        \n",
    "        amazon_zhang_test_name = '../../amazon_zhang_test_pol_test_cleaned_sents.pkl'\n",
    "        amazon_zhang_test.to_pickle(amazon_zhang_test_name)\n",
    "        \n",
    "        print('Finished pickling for future use.')\n",
    "        \n",
    "        return train_data, test_data, play_data, twitter_reviews, imdb_test, imdb_train, yelp_reviews, yelp_zhang_train, yelp_zhang_test, sst_test, amazon_zhang_test\n",
    "        \n",
    "train_data, test_data, play_data, twitter_reviews, imdb_test, imdb_train, yelp_reviews, yelp_zhang_train, yelp_zhang_test, sst_test, amazon_zhang_test = loadData(loadDat = True)\n"
   ]
  },
  {
   "cell_type": "code",
   "execution_count": 14,
   "metadata": {},
   "outputs": [
    {
     "data": {
      "text/html": [
       "<div>\n",
       "<style scoped>\n",
       "    .dataframe tbody tr th:only-of-type {\n",
       "        vertical-align: middle;\n",
       "    }\n",
       "\n",
       "    .dataframe tbody tr th {\n",
       "        vertical-align: top;\n",
       "    }\n",
       "\n",
       "    .dataframe thead th {\n",
       "        text-align: right;\n",
       "    }\n",
       "</style>\n",
       "<table border=\"1\" class=\"dataframe\">\n",
       "  <thead>\n",
       "    <tr style=\"text-align: right;\">\n",
       "      <th></th>\n",
       "      <th>sentiment</th>\n",
       "      <th>reviewTitle</th>\n",
       "      <th>sentences</th>\n",
       "      <th>sentenceWords</th>\n",
       "      <th>reviewText</th>\n",
       "    </tr>\n",
       "  </thead>\n",
       "  <tbody>\n",
       "    <tr>\n",
       "      <th>0</th>\n",
       "      <td>1</td>\n",
       "      <td>Great CD</td>\n",
       "      <td>my lovely pat has one of the great voices of h...</td>\n",
       "      <td>[my, lovely, pat, has, one, of, the, great, vo...</td>\n",
       "      <td>My lovely Pat has one of the GREAT voices of h...</td>\n",
       "    </tr>\n",
       "    <tr>\n",
       "      <th>1</th>\n",
       "      <td>1</td>\n",
       "      <td>One of the best game music soundtracks - for a...</td>\n",
       "      <td>despite the fact that i have only played a sma...</td>\n",
       "      <td>[despite, the, fact, that, i, have, only, play...</td>\n",
       "      <td>Despite the fact that I have only played a sma...</td>\n",
       "    </tr>\n",
       "    <tr>\n",
       "      <th>2</th>\n",
       "      <td>0</td>\n",
       "      <td>Batteries died within a year ...</td>\n",
       "      <td>i bought this charger in jul and it worked ok ...</td>\n",
       "      <td>[i, bought, this, charger, in, jul, and, it, w...</td>\n",
       "      <td>I bought this charger in Jul 2003 and it worke...</td>\n",
       "    </tr>\n",
       "    <tr>\n",
       "      <th>3</th>\n",
       "      <td>1</td>\n",
       "      <td>works fine, but Maha Energy is better</td>\n",
       "      <td>check out maha energy is website their powerex...</td>\n",
       "      <td>[check, out, maha, energy, is, website, their,...</td>\n",
       "      <td>Check out Maha Energy's website. Their Powerex...</td>\n",
       "    </tr>\n",
       "    <tr>\n",
       "      <th>4</th>\n",
       "      <td>1</td>\n",
       "      <td>Great for the non-audiophile</td>\n",
       "      <td>reviewed quite a bit of the combo players and ...</td>\n",
       "      <td>[reviewed, quite, a, bit, of, the, combo, play...</td>\n",
       "      <td>Reviewed quite a bit of the combo players and ...</td>\n",
       "    </tr>\n",
       "  </tbody>\n",
       "</table>\n",
       "</div>"
      ],
      "text/plain": [
       "   sentiment                                        reviewTitle  \\\n",
       "0          1                                           Great CD   \n",
       "1          1  One of the best game music soundtracks - for a...   \n",
       "2          0                   Batteries died within a year ...   \n",
       "3          1              works fine, but Maha Energy is better   \n",
       "4          1                       Great for the non-audiophile   \n",
       "\n",
       "                                           sentences  \\\n",
       "0  my lovely pat has one of the great voices of h...   \n",
       "1  despite the fact that i have only played a sma...   \n",
       "2  i bought this charger in jul and it worked ok ...   \n",
       "3  check out maha energy is website their powerex...   \n",
       "4  reviewed quite a bit of the combo players and ...   \n",
       "\n",
       "                                       sentenceWords  \\\n",
       "0  [my, lovely, pat, has, one, of, the, great, vo...   \n",
       "1  [despite, the, fact, that, i, have, only, play...   \n",
       "2  [i, bought, this, charger, in, jul, and, it, w...   \n",
       "3  [check, out, maha, energy, is, website, their,...   \n",
       "4  [reviewed, quite, a, bit, of, the, combo, play...   \n",
       "\n",
       "                                          reviewText  \n",
       "0  My lovely Pat has one of the GREAT voices of h...  \n",
       "1  Despite the fact that I have only played a sma...  \n",
       "2  I bought this charger in Jul 2003 and it worke...  \n",
       "3  Check out Maha Energy's website. Their Powerex...  \n",
       "4  Reviewed quite a bit of the combo players and ...  "
      ]
     },
     "execution_count": 14,
     "metadata": {},
     "output_type": "execute_result"
    }
   ],
   "source": [
    "amazon_zhang_test.head()"
   ]
  },
  {
   "cell_type": "code",
   "execution_count": 15,
   "metadata": {},
   "outputs": [
    {
     "data": {
      "text/html": [
       "<div>\n",
       "<style scoped>\n",
       "    .dataframe tbody tr th:only-of-type {\n",
       "        vertical-align: middle;\n",
       "    }\n",
       "\n",
       "    .dataframe tbody tr th {\n",
       "        vertical-align: top;\n",
       "    }\n",
       "\n",
       "    .dataframe thead th {\n",
       "        text-align: right;\n",
       "    }\n",
       "</style>\n",
       "<table border=\"1\" class=\"dataframe\">\n",
       "  <thead>\n",
       "    <tr style=\"text-align: right;\">\n",
       "      <th></th>\n",
       "      <th>sentiment</th>\n",
       "      <th>reviewText</th>\n",
       "      <th>sentences</th>\n",
       "      <th>sentenceWords</th>\n",
       "    </tr>\n",
       "  </thead>\n",
       "  <tbody>\n",
       "    <tr>\n",
       "      <th>0</th>\n",
       "      <td>1</td>\n",
       "      <td>Contrary to other reviews, I have zero complai...</td>\n",
       "      <td>contrary to other reviews i have zero complain...</td>\n",
       "      <td>[contrary, to, other, reviews, i, have, zero, ...</td>\n",
       "    </tr>\n",
       "    <tr>\n",
       "      <th>1</th>\n",
       "      <td>0</td>\n",
       "      <td>Last summer I had an appointment to get new ti...</td>\n",
       "      <td>last summer i had an appointment to get new ti...</td>\n",
       "      <td>[last, summer, i, had, an, appointment, to, ge...</td>\n",
       "    </tr>\n",
       "    <tr>\n",
       "      <th>2</th>\n",
       "      <td>1</td>\n",
       "      <td>Friendly staff, same starbucks fair you get an...</td>\n",
       "      <td>friendly staff same starbucks fair you get any...</td>\n",
       "      <td>[friendly, staff, same, starbucks, fair, you, ...</td>\n",
       "    </tr>\n",
       "    <tr>\n",
       "      <th>3</th>\n",
       "      <td>0</td>\n",
       "      <td>The food is good. Unfortunately the service is...</td>\n",
       "      <td>the food is good unfortunately the service is ...</td>\n",
       "      <td>[the, food, is, good, unfortunately, the, serv...</td>\n",
       "    </tr>\n",
       "    <tr>\n",
       "      <th>4</th>\n",
       "      <td>1</td>\n",
       "      <td>Even when we didn't have a car Filene's Baseme...</td>\n",
       "      <td>even when we did not have a car filene is base...</td>\n",
       "      <td>[even, when, we, did, not, have, a, car, filen...</td>\n",
       "    </tr>\n",
       "  </tbody>\n",
       "</table>\n",
       "</div>"
      ],
      "text/plain": [
       "   sentiment                                         reviewText  \\\n",
       "0          1  Contrary to other reviews, I have zero complai...   \n",
       "1          0  Last summer I had an appointment to get new ti...   \n",
       "2          1  Friendly staff, same starbucks fair you get an...   \n",
       "3          0  The food is good. Unfortunately the service is...   \n",
       "4          1  Even when we didn't have a car Filene's Baseme...   \n",
       "\n",
       "                                           sentences  \\\n",
       "0  contrary to other reviews i have zero complain...   \n",
       "1  last summer i had an appointment to get new ti...   \n",
       "2  friendly staff same starbucks fair you get any...   \n",
       "3  the food is good unfortunately the service is ...   \n",
       "4  even when we did not have a car filene is base...   \n",
       "\n",
       "                                       sentenceWords  \n",
       "0  [contrary, to, other, reviews, i, have, zero, ...  \n",
       "1  [last, summer, i, had, an, appointment, to, ge...  \n",
       "2  [friendly, staff, same, starbucks, fair, you, ...  \n",
       "3  [the, food, is, good, unfortunately, the, serv...  \n",
       "4  [even, when, we, did, not, have, a, car, filen...  "
      ]
     },
     "execution_count": 15,
     "metadata": {},
     "output_type": "execute_result"
    }
   ],
   "source": [
    "yelp_zhang_test.head()"
   ]
  },
  {
   "cell_type": "code",
   "execution_count": 16,
   "metadata": {
    "scrolled": true
   },
   "outputs": [
    {
     "name": "stdout",
     "output_type": "stream",
     "text": [
      "Successfully opened pickled data\n"
     ]
    }
   ],
   "source": [
    "max_sents = 5\n",
    "stop_words = set(stopwords.words('english')) \n",
    "\n",
    "def addSents(loadDat = True, stop_words=stop_words, test_data = test_data, train_data = train_data, \n",
    "             yelp_zhang_train = yelp_zhang_train, yelp_zhang_test = yelp_zhang_test,\n",
    "             imdb_test = imdb_test, imdb_train = imdb_train, twitter_reviews = twitter_reviews,\n",
    "             yelp_reviews = yelp_reviews, sst_test = sst_test, amazon_zhang_test = amazon_zhang_test):\n",
    "    \n",
    "    if loadDat == True:\n",
    "        train_data_name = '../../train_data_cleaned_sents.pkl'\n",
    "        train_data = pd.read_pickle(train_data_name)\n",
    "        \n",
    "        test_data_name = '../../train_data_cleaned_sents.pkl'\n",
    "        test_data = pd.read_pickle(test_data_name)\n",
    "        \n",
    "        play_data_name = '../../play_data_cleaned_sents.pkl'\n",
    "        play_data = pd.read_pickle(play_data_name)\n",
    "        \n",
    "        twitter_reviews_name = '../../twitter_reviews_cleaned_sents.pkl'\n",
    "        twitter_reviews = pd.read_pickle(twitter_reviews_name)\n",
    "        \n",
    "        imdb_test_name = '../../imdb_test_cleaned_sents.pkl'\n",
    "        imdb_test = pd.read_pickle(imdb_test_name)\n",
    "        imdb_train_name = '../../imdb_train_cleaned_sents.pkl'\n",
    "        imdb_train = pd.read_pickle(imdb_train_name)\n",
    "        \n",
    "        yelp_reviews_name = '../../yelp_reviews_cleaned_sents.pkl'\n",
    "        yelp_reviews = pd.read_pickle(yelp_reviews_name)\n",
    "        \n",
    "        yelp_zhang_train_name = '../../yelp_zhang_pol_train_cleaned_sents.pkl'\n",
    "        yelp_zhang_train = pd.read_pickle(yelp_zhang_train_name)\n",
    "        yelp_zhang_test_name = '../../yelp_zhang_pol_test_cleaned_sents.pkl'\n",
    "        yelp_zhang_test = pd.read_pickle(yelp_zhang_test_name)\n",
    "        \n",
    "        sst_test_name = '../../sst_test_sents.pkl'\n",
    "        sst_test = pd.read_pickle(sst_test_name)\n",
    "\n",
    "        amazon_zhang_test_name = '../../amazon_zhang_test_pol_test_cleaned_sents.pkl'\n",
    "        amazon_zhang_test = pd.read_pickle(yelp_zhang_test_name)\n",
    "    \n",
    "        print('Successfully opened pickled data')\n",
    "        \n",
    "        return train_data, test_data, play_data, twitter_reviews, imdb_test, imdb_train, yelp_reviews, yelp_zhang_train, yelp_zhang_test, sst_test, amazon_zhang_test\n",
    "    \n",
    "    else:\n",
    "\n",
    "        play_data = test_data[:10]\n",
    "\n",
    "        def decontracted(phrase):\n",
    "            phrase = re.sub(r\"won\\'t\", \"will not\", phrase)\n",
    "            phrase = re.sub(r\"can\\'t\", \"can not\", phrase)\n",
    "            phrase = re.sub(r\"n\\'t\", \" not\", phrase)\n",
    "            phrase = re.sub(r\"\\'re\", \" are\", phrase)\n",
    "            phrase = re.sub(r\"\\'s\", \" is\", phrase)\n",
    "            phrase = re.sub(r\"\\'d\", \" would\", phrase)\n",
    "            phrase = re.sub(r\"\\'ll\", \" will\", phrase)\n",
    "            phrase = re.sub(r\"\\'t\", \" not\", phrase)\n",
    "            phrase = re.sub(r\"\\'ve\", \" have\", phrase)\n",
    "            phrase = re.sub(r\"\\'m\", \" am\", phrase)\n",
    "            return phrase\n",
    "\n",
    "        def prepReview(data):\n",
    "            data_prep = str(data['reviewText'])\n",
    "            data_prep = re.sub(\"[!?]\", \".\", data_prep)\n",
    "            data_prep = re.sub(\"[^a-zA-Z'.]\", \" \", data_prep).lower()\n",
    "            data_prep = re.sub(\"\\.+\", \" . \", data_prep)\n",
    "            data_prep = re.sub(\"\\s+\", \" \", data_prep)\n",
    "            data_prep = decontracted(data_prep)\n",
    "            return data_prep\n",
    "\n",
    "        #function to process review text and split into words\n",
    "        def splitWords(data):\n",
    "            \n",
    "            words = []\n",
    "            for word in prepReview(data).split():\n",
    "                if word not in stop_words:\n",
    "                    if (word != '.' )| (word != ' .'):\n",
    "                        words.append(word)\n",
    "            return words[:max_length]\n",
    "\n",
    "        #function to process review text and split into sentences\n",
    "        def splitSentences(data):\n",
    "            interim = prepReview(data).split('.')\n",
    "            return interim\n",
    "\n",
    "\n",
    "        #list of words from review into column\n",
    "        sentences = play_data.apply(splitWords, axis=1)\n",
    "        play_data.insert(loc = 11, column = 'sentenceWords_Stops', value = sentences)\n",
    "\n",
    "        sentences = train_data.apply(splitWords, axis=1)\n",
    "        train_data.insert(loc = 11,column = 'sentenceWords_Stops', value = sentences)\n",
    "\n",
    "        sentences = test_data.apply(splitWords, axis=1)\n",
    "        test_data.insert(loc = 11,column = 'sentenceWords_Stops', value = sentences)\n",
    "\n",
    "        #IMDB additions\n",
    "        sentences = imdb_test.apply(splitWords, axis=1)\n",
    "        imdb_test.insert(loc = 6,column = 'sentenceWords_Stops', value = sentences)\n",
    "        \n",
    "        sentences = imdb_train.apply(splitWords, axis=1)\n",
    "        imdb_train.insert(loc = 6,column = 'sentenceWords_Stops', value = sentences)\n",
    "        \n",
    "        sentences = twitter_reviews.apply(splitWords, axis=1)\n",
    "        twitter_reviews.insert(loc = 2,column = 'sentenceWords_Stops', value = sentences)\n",
    "        \n",
    "        sentences = yelp_reviews.apply(splitWords, axis=1)\n",
    "        yelp_reviews.insert(loc = 2,column = 'sentenceWords_Stops', value = sentences)\n",
    "        \n",
    "        sentences = yelp_zhang_train.apply(splitWords, axis=1)\n",
    "        yelp_zhang_train.insert(loc = 2,column = 'sentenceWords_Stops', value = sentences)\n",
    "        \n",
    "        sentences = yelp_zhang_test.apply(splitWords, axis=1)\n",
    "        yelp_zhang_test.insert(loc = 2,column = 'sentenceWords_Stops', value = sentences)\n",
    "        \n",
    "        sentences = sst_test.apply(splitWords, axis=1)\n",
    "        sst_test.insert(loc = 2,column = 'sentenceWords_Stops', value = sentences)\n",
    "        \n",
    "        sentences = amazon_zhang_test.apply(splitWords, axis=1)\n",
    "        amazon_zhang_test.insert(loc = 2,column = 'sentenceWords_Stops', value = sentences)\n",
    "        \n",
    "        print('Finished working through the words for each sentences\\nOn to the sentences..')\n",
    "\n",
    "        #list of sentences from review into column\n",
    "        sentences_split = play_data.apply(splitSentences, axis=1)\n",
    "        play_data.insert(loc = 12, column = 'sentences_indiv', value = sentences_split)\n",
    "\n",
    "        sentences_split = train_data.apply(splitSentences, axis=1)\n",
    "        train_data.insert(loc = 12,column = 'sentences_indiv', value = sentences_split)\n",
    "\n",
    "        sentences_split = test_data.apply(splitSentences, axis=1)\n",
    "        test_data.insert(loc = 12,column = 'sentences_indiv', value = sentences_split)\n",
    "        \n",
    "        #IMDB additions\n",
    "        sentences_split = imdb_test.apply(splitSentences, axis=1)\n",
    "        imdb_test.insert(loc = 7,column = 'sentences_indiv', value = sentences_split)\n",
    "\n",
    "        sentences_split = imdb_train.apply(splitSentences, axis=1)\n",
    "        imdb_train.insert(loc = 7,column = 'sentences_indiv', value = sentences_split)\n",
    "        \n",
    "        sentences_split = twitter_reviews.apply(splitSentences, axis=1)\n",
    "        twitter_reviews.insert(loc = 3,column = 'sentences_indiv', value = sentences_split)\n",
    "        \n",
    "        sentences_split = yelp_reviews.apply(splitSentences, axis=1)\n",
    "        yelp_reviews.insert(loc = 3,column = 'sentences_indiv', value = sentences_split)\n",
    "        \n",
    "        sentences_split = yelp_zhang_train.apply(splitSentences, axis=1)\n",
    "        yelp_zhang_train.insert(loc = 2,column = 'sentences_indiv', value = sentences_split)\n",
    "        \n",
    "        sentences_split = yelp_zhang_test.apply(splitSentences, axis=1)\n",
    "        yelp_zhang_test.insert(loc = 2,column = 'sentences_indiv', value = sentences_split)\n",
    "        \n",
    "        sentences_split = sst_test.apply(splitSentences, axis=1)\n",
    "        sst_test.insert(loc = 2,column = 'sentences_indiv', value = sentences_split)\n",
    "        \n",
    "        sentences_split = amazon_zhang_test.apply(splitSentences, axis=1)\n",
    "        amazon_zhang_test.insert(loc = 2,column = 'sentences_indiv', value = sentences_split)\n",
    "        \n",
    "        print('Finished sentences...\\nNow moving on to pickling the data')\n",
    "\n",
    "        train_data_name = '../../train_data_cleaned_sents.pkl'\n",
    "        train_data.to_pickle(train_data_name)\n",
    "        \n",
    "        test_data_name = '../../test_data_cleaned_sents.pkl'\n",
    "        test_data.to_pickle(test_data_name)\n",
    "        \n",
    "        play_data_name = '../../play_data_cleaned_sents.pkl'\n",
    "        play_data.to_pickle(play_data_name)\n",
    "        \n",
    "        twitter_reviews_name = '../../twitter_reviews_cleaned_sents.pkl'\n",
    "        twitter_reviews.to_pickle(twitter_reviews_name)\n",
    "        \n",
    "        imdb_test_name = '../../imdb_test_cleaned_sents.pkl'\n",
    "        imdb_test.to_pickle(imdb_test_name)\n",
    "        imdb_train_name = '../../imdb_train_cleaned_sents.pkl'\n",
    "        imdb_train.to_pickle(imdb_train_name)\n",
    "        \n",
    "        yelp_reviews_name = '../../yelp_reviews_cleaned_sents.pkl'\n",
    "        yelp_reviews.to_pickle(yelp_reviews_name)\n",
    "\n",
    "        yelp_zhang_train_name = '../../yelp_zhang_pol_train_cleaned_sents.pkl'\n",
    "        yelp_zhang_train.to_pickle(yelp_zhang_train_name)\n",
    "        yelp_zhang_test_name = '../../yelp_zhang_pol_test_cleaned_sents.pkl'\n",
    "        yelp_zhang_test.to_pickle(yelp_zhang_test_name)\n",
    "        \n",
    "        sst_test_name = '../../sst_test_sents.pkl'\n",
    "        sst_test.to_pickle(sst_test_name)\n",
    "        \n",
    "        amazon_zhang_test_name = '../../amazon_zhang_test_pol_test_cleaned_sents.pkl'\n",
    "        amazon_zhang_test.to_pickle(amazon_zhang_test_name)\n",
    "        \n",
    "        print('Finished pickling for future use.')\n",
    "        \n",
    "        return train_data, test_data, play_data, twitter_reviews, imdb_test, imdb_train, yelp_reviews, yelp_zhang_train, yelp_zhang_test, sst_test, amazon_zhang_test\n",
    "        \n",
    "train_data, test_data, play_data, twitter_reviews, imdb_test, imdb_train, yelp_reviews, yelp_zhang_train, yelp_zhang_test, sst_test, amazon_zhang_test = addSents(loadDat = True)\n"
   ]
  },
  {
   "cell_type": "code",
   "execution_count": 17,
   "metadata": {},
   "outputs": [
    {
     "data": {
      "text/html": [
       "<div>\n",
       "<style scoped>\n",
       "    .dataframe tbody tr th:only-of-type {\n",
       "        vertical-align: middle;\n",
       "    }\n",
       "\n",
       "    .dataframe tbody tr th {\n",
       "        vertical-align: top;\n",
       "    }\n",
       "\n",
       "    .dataframe thead th {\n",
       "        text-align: right;\n",
       "    }\n",
       "</style>\n",
       "<table border=\"1\" class=\"dataframe\">\n",
       "  <thead>\n",
       "    <tr style=\"text-align: right;\">\n",
       "      <th></th>\n",
       "      <th>Product</th>\n",
       "      <th>asin</th>\n",
       "      <th>helpful</th>\n",
       "      <th>overall</th>\n",
       "      <th>reviewText</th>\n",
       "      <th>reviewTime</th>\n",
       "      <th>reviewerID</th>\n",
       "      <th>reviewerName</th>\n",
       "      <th>sentiment</th>\n",
       "      <th>summary</th>\n",
       "      <th>unixReviewTime</th>\n",
       "      <th>sentenceWords_Stops</th>\n",
       "      <th>sentences_indiv</th>\n",
       "      <th>sentenceWords</th>\n",
       "      <th>sentences</th>\n",
       "    </tr>\n",
       "  </thead>\n",
       "  <tbody>\n",
       "    <tr>\n",
       "      <th>83381</th>\n",
       "      <td>reviews_Electronics</td>\n",
       "      <td>B00AHPSTRY</td>\n",
       "      <td>[5, 5]</td>\n",
       "      <td>1.0</td>\n",
       "      <td>just received my screen protector.  it's going...</td>\n",
       "      <td>08 14, 2013</td>\n",
       "      <td>A20EOZ5Q2Z8L1S</td>\n",
       "      <td>Vicki B.</td>\n",
       "      <td>0</td>\n",
       "      <td>SENDING IT BACK!</td>\n",
       "      <td>1376438400</td>\n",
       "      <td>[received, screen, protector, ., going, back, ...</td>\n",
       "      <td>[just received my screen protector ,  it is go...</td>\n",
       "      <td>[just, received, my, screen, protector, it, is...</td>\n",
       "      <td>just received my screen protector it is going ...</td>\n",
       "    </tr>\n",
       "    <tr>\n",
       "      <th>7113</th>\n",
       "      <td>reviews_CDs_and_Vinyl</td>\n",
       "      <td>B00005AQ38</td>\n",
       "      <td>[6, 6]</td>\n",
       "      <td>1.0</td>\n",
       "      <td>But instead of the orchestra, we are treated t...</td>\n",
       "      <td>12 23, 2001</td>\n",
       "      <td>A16SS8HYJW7IEJ</td>\n",
       "      <td>Mark Pollock \"educator\"</td>\n",
       "      <td>0</td>\n",
       "      <td>Would be nice to hear the orchestra...</td>\n",
       "      <td>1009065600</td>\n",
       "      <td>[instead, orchestra, treated, wonderful, sound...</td>\n",
       "      <td>[but instead of the orchestra we are treated t...</td>\n",
       "      <td>[but, instead, of, the, orchestra, we, are, tr...</td>\n",
       "      <td>but instead of the orchestra we are treated to...</td>\n",
       "    </tr>\n",
       "    <tr>\n",
       "      <th>58166</th>\n",
       "      <td>reviews_Health_and_Personal_Care</td>\n",
       "      <td>B0007P2OO8</td>\n",
       "      <td>[0, 0]</td>\n",
       "      <td>5.0</td>\n",
       "      <td>Love this shaving soap and it was the best pri...</td>\n",
       "      <td>01 15, 2013</td>\n",
       "      <td>A16O37AEI0Y3N</td>\n",
       "      <td>Richard Papaleo</td>\n",
       "      <td>1</td>\n",
       "      <td>Col. Conk is Famous</td>\n",
       "      <td>1358208000</td>\n",
       "      <td>[love, shaving, soap, best, price, ., gives, b...</td>\n",
       "      <td>[love this shaving soap and it was the best pr...</td>\n",
       "      <td>[love, this, shaving, soap, and, it, was, the,...</td>\n",
       "      <td>love this shaving soap and it was the best pri...</td>\n",
       "    </tr>\n",
       "    <tr>\n",
       "      <th>35717</th>\n",
       "      <td>reviews_Home_and_Kitchen</td>\n",
       "      <td>B000AA89GW</td>\n",
       "      <td>[0, 1]</td>\n",
       "      <td>1.0</td>\n",
       "      <td>It is impossible to join the two pieces of the...</td>\n",
       "      <td>08 28, 2011</td>\n",
       "      <td>A2OV0337VRTSUV</td>\n",
       "      <td>AF</td>\n",
       "      <td>0</td>\n",
       "      <td>Impossible to close tightly... Makes a mess!!!</td>\n",
       "      <td>1314489600</td>\n",
       "      <td>[impossible, join, two, pieces, cappuccino, ma...</td>\n",
       "      <td>[it is impossible to join the two pieces of th...</td>\n",
       "      <td>[it, is, impossible, to, join, the, two, piece...</td>\n",
       "      <td>it is impossible to join the two pieces of the...</td>\n",
       "    </tr>\n",
       "    <tr>\n",
       "      <th>26850</th>\n",
       "      <td>reviews_Electronics</td>\n",
       "      <td>B00529F3JW</td>\n",
       "      <td>[2, 2]</td>\n",
       "      <td>1.0</td>\n",
       "      <td>There is no suction on this little vacuum clea...</td>\n",
       "      <td>01 25, 2013</td>\n",
       "      <td>A3I0B7SO7OE7YG</td>\n",
       "      <td>Terry White</td>\n",
       "      <td>0</td>\n",
       "      <td>Mini Vacuum Cleaner</td>\n",
       "      <td>1359072000</td>\n",
       "      <td>[suction, little, vacuum, cleaner, ., work, .,...</td>\n",
       "      <td>[there is no suction on this little vacuum cle...</td>\n",
       "      <td>[there, is, no, suction, on, this, little, vac...</td>\n",
       "      <td>there is no suction on this little vacuum clea...</td>\n",
       "    </tr>\n",
       "  </tbody>\n",
       "</table>\n",
       "</div>"
      ],
      "text/plain": [
       "                                Product        asin helpful  overall  \\\n",
       "83381               reviews_Electronics  B00AHPSTRY  [5, 5]      1.0   \n",
       "7113              reviews_CDs_and_Vinyl  B00005AQ38  [6, 6]      1.0   \n",
       "58166  reviews_Health_and_Personal_Care  B0007P2OO8  [0, 0]      5.0   \n",
       "35717          reviews_Home_and_Kitchen  B000AA89GW  [0, 1]      1.0   \n",
       "26850               reviews_Electronics  B00529F3JW  [2, 2]      1.0   \n",
       "\n",
       "                                              reviewText   reviewTime  \\\n",
       "83381  just received my screen protector.  it's going...  08 14, 2013   \n",
       "7113   But instead of the orchestra, we are treated t...  12 23, 2001   \n",
       "58166  Love this shaving soap and it was the best pri...  01 15, 2013   \n",
       "35717  It is impossible to join the two pieces of the...  08 28, 2011   \n",
       "26850  There is no suction on this little vacuum clea...  01 25, 2013   \n",
       "\n",
       "           reviewerID             reviewerName  sentiment  \\\n",
       "83381  A20EOZ5Q2Z8L1S                 Vicki B.          0   \n",
       "7113   A16SS8HYJW7IEJ  Mark Pollock \"educator\"          0   \n",
       "58166   A16O37AEI0Y3N          Richard Papaleo          1   \n",
       "35717  A2OV0337VRTSUV                       AF          0   \n",
       "26850  A3I0B7SO7OE7YG              Terry White          0   \n",
       "\n",
       "                                              summary  unixReviewTime  \\\n",
       "83381                                SENDING IT BACK!      1376438400   \n",
       "7113           Would be nice to hear the orchestra...      1009065600   \n",
       "58166                             Col. Conk is Famous      1358208000   \n",
       "35717  Impossible to close tightly... Makes a mess!!!      1314489600   \n",
       "26850                             Mini Vacuum Cleaner      1359072000   \n",
       "\n",
       "                                     sentenceWords_Stops  \\\n",
       "83381  [received, screen, protector, ., going, back, ...   \n",
       "7113   [instead, orchestra, treated, wonderful, sound...   \n",
       "58166  [love, shaving, soap, best, price, ., gives, b...   \n",
       "35717  [impossible, join, two, pieces, cappuccino, ma...   \n",
       "26850  [suction, little, vacuum, cleaner, ., work, .,...   \n",
       "\n",
       "                                         sentences_indiv  \\\n",
       "83381  [just received my screen protector ,  it is go...   \n",
       "7113   [but instead of the orchestra we are treated t...   \n",
       "58166  [love this shaving soap and it was the best pr...   \n",
       "35717  [it is impossible to join the two pieces of th...   \n",
       "26850  [there is no suction on this little vacuum cle...   \n",
       "\n",
       "                                           sentenceWords  \\\n",
       "83381  [just, received, my, screen, protector, it, is...   \n",
       "7113   [but, instead, of, the, orchestra, we, are, tr...   \n",
       "58166  [love, this, shaving, soap, and, it, was, the,...   \n",
       "35717  [it, is, impossible, to, join, the, two, piece...   \n",
       "26850  [there, is, no, suction, on, this, little, vac...   \n",
       "\n",
       "                                               sentences  \n",
       "83381  just received my screen protector it is going ...  \n",
       "7113   but instead of the orchestra we are treated to...  \n",
       "58166  love this shaving soap and it was the best pri...  \n",
       "35717  it is impossible to join the two pieces of the...  \n",
       "26850  there is no suction on this little vacuum clea...  "
      ]
     },
     "execution_count": 17,
     "metadata": {},
     "output_type": "execute_result"
    }
   ],
   "source": [
    "train_data.head()"
   ]
  },
  {
   "cell_type": "code",
   "execution_count": 18,
   "metadata": {},
   "outputs": [
    {
     "data": {
      "text/html": [
       "<div>\n",
       "<style scoped>\n",
       "    .dataframe tbody tr th:only-of-type {\n",
       "        vertical-align: middle;\n",
       "    }\n",
       "\n",
       "    .dataframe tbody tr th {\n",
       "        vertical-align: top;\n",
       "    }\n",
       "\n",
       "    .dataframe thead th {\n",
       "        text-align: right;\n",
       "    }\n",
       "</style>\n",
       "<table border=\"1\" class=\"dataframe\">\n",
       "  <thead>\n",
       "    <tr style=\"text-align: right;\">\n",
       "      <th></th>\n",
       "      <th>sentiment</th>\n",
       "      <th>reviewText</th>\n",
       "      <th>sentences_indiv</th>\n",
       "      <th>sentenceWords_Stops</th>\n",
       "      <th>sentences</th>\n",
       "      <th>sentenceWords</th>\n",
       "    </tr>\n",
       "  </thead>\n",
       "  <tbody>\n",
       "    <tr>\n",
       "      <th>0</th>\n",
       "      <td>1</td>\n",
       "      <td>Contrary to other reviews, I have zero complai...</td>\n",
       "      <td>[contrary to other reviews i have zero complai...</td>\n",
       "      <td>[contrary, reviews, zero, complaints, service,...</td>\n",
       "      <td>contrary to other reviews i have zero complain...</td>\n",
       "      <td>[contrary, to, other, reviews, i, have, zero, ...</td>\n",
       "    </tr>\n",
       "    <tr>\n",
       "      <th>1</th>\n",
       "      <td>0</td>\n",
       "      <td>Last summer I had an appointment to get new ti...</td>\n",
       "      <td>[last summer i had an appointment to get new t...</td>\n",
       "      <td>[last, summer, appointment, get, new, tires, w...</td>\n",
       "      <td>last summer i had an appointment to get new ti...</td>\n",
       "      <td>[last, summer, i, had, an, appointment, to, ge...</td>\n",
       "    </tr>\n",
       "    <tr>\n",
       "      <th>2</th>\n",
       "      <td>1</td>\n",
       "      <td>Friendly staff, same starbucks fair you get an...</td>\n",
       "      <td>[friendly staff same starbucks fair you get an...</td>\n",
       "      <td>[friendly, staff, starbucks, fair, get, anywhe...</td>\n",
       "      <td>friendly staff same starbucks fair you get any...</td>\n",
       "      <td>[friendly, staff, same, starbucks, fair, you, ...</td>\n",
       "    </tr>\n",
       "    <tr>\n",
       "      <th>3</th>\n",
       "      <td>0</td>\n",
       "      <td>The food is good. Unfortunately the service is...</td>\n",
       "      <td>[the food is good ,  unfortunately the service...</td>\n",
       "      <td>[food, good, ., unfortunately, service, hit, m...</td>\n",
       "      <td>the food is good unfortunately the service is ...</td>\n",
       "      <td>[the, food, is, good, unfortunately, the, serv...</td>\n",
       "    </tr>\n",
       "    <tr>\n",
       "      <th>4</th>\n",
       "      <td>1</td>\n",
       "      <td>Even when we didn't have a car Filene's Baseme...</td>\n",
       "      <td>[even when we did not have a car filene is bas...</td>\n",
       "      <td>[even, car, filene, basement, worth, bus, trip...</td>\n",
       "      <td>even when we did not have a car filene is base...</td>\n",
       "      <td>[even, when, we, did, not, have, a, car, filen...</td>\n",
       "    </tr>\n",
       "  </tbody>\n",
       "</table>\n",
       "</div>"
      ],
      "text/plain": [
       "   sentiment                                         reviewText  \\\n",
       "0          1  Contrary to other reviews, I have zero complai...   \n",
       "1          0  Last summer I had an appointment to get new ti...   \n",
       "2          1  Friendly staff, same starbucks fair you get an...   \n",
       "3          0  The food is good. Unfortunately the service is...   \n",
       "4          1  Even when we didn't have a car Filene's Baseme...   \n",
       "\n",
       "                                     sentences_indiv  \\\n",
       "0  [contrary to other reviews i have zero complai...   \n",
       "1  [last summer i had an appointment to get new t...   \n",
       "2  [friendly staff same starbucks fair you get an...   \n",
       "3  [the food is good ,  unfortunately the service...   \n",
       "4  [even when we did not have a car filene is bas...   \n",
       "\n",
       "                                 sentenceWords_Stops  \\\n",
       "0  [contrary, reviews, zero, complaints, service,...   \n",
       "1  [last, summer, appointment, get, new, tires, w...   \n",
       "2  [friendly, staff, starbucks, fair, get, anywhe...   \n",
       "3  [food, good, ., unfortunately, service, hit, m...   \n",
       "4  [even, car, filene, basement, worth, bus, trip...   \n",
       "\n",
       "                                           sentences  \\\n",
       "0  contrary to other reviews i have zero complain...   \n",
       "1  last summer i had an appointment to get new ti...   \n",
       "2  friendly staff same starbucks fair you get any...   \n",
       "3  the food is good unfortunately the service is ...   \n",
       "4  even when we did not have a car filene is base...   \n",
       "\n",
       "                                       sentenceWords  \n",
       "0  [contrary, to, other, reviews, i, have, zero, ...  \n",
       "1  [last, summer, i, had, an, appointment, to, ge...  \n",
       "2  [friendly, staff, same, starbucks, fair, you, ...  \n",
       "3  [the, food, is, good, unfortunately, the, serv...  \n",
       "4  [even, when, we, did, not, have, a, car, filen...  "
      ]
     },
     "execution_count": 18,
     "metadata": {},
     "output_type": "execute_result"
    }
   ],
   "source": [
    "yelp_zhang_test.head()"
   ]
  },
  {
   "cell_type": "code",
   "execution_count": 19,
   "metadata": {},
   "outputs": [
    {
     "data": {
      "text/plain": [
       "0    [contrary, reviews, zero, complaints, service,...\n",
       "1    [last, summer, appointment, get, new, tires, w...\n",
       "2    [friendly, staff, starbucks, fair, get, anywhe...\n",
       "3    [food, good, ., unfortunately, service, hit, m...\n",
       "4    [even, car, filene, basement, worth, bus, trip...\n",
       "Name: sentenceWords_Stops, dtype: object"
      ]
     },
     "execution_count": 19,
     "metadata": {},
     "output_type": "execute_result"
    }
   ],
   "source": [
    "yelp_zhang_test['sentenceWords_Stops'].head()"
   ]
  },
  {
   "cell_type": "code",
   "execution_count": 20,
   "metadata": {
    "scrolled": true
   },
   "outputs": [
    {
     "data": {
      "text/plain": [
       "0    [contrary to other reviews i have zero complai...\n",
       "1    [last summer i had an appointment to get new t...\n",
       "2    [friendly staff same starbucks fair you get an...\n",
       "3    [the food is good ,  unfortunately the service...\n",
       "4    [even when we did not have a car filene is bas...\n",
       "Name: sentences_indiv, dtype: object"
      ]
     },
     "execution_count": 20,
     "metadata": {},
     "output_type": "execute_result"
    }
   ],
   "source": [
    "yelp_zhang_test['sentences_indiv'].head()"
   ]
  },
  {
   "cell_type": "code",
   "execution_count": 21,
   "metadata": {},
   "outputs": [
    {
     "data": {
      "text/html": [
       "<div>\n",
       "<style scoped>\n",
       "    .dataframe tbody tr th:only-of-type {\n",
       "        vertical-align: middle;\n",
       "    }\n",
       "\n",
       "    .dataframe tbody tr th {\n",
       "        vertical-align: top;\n",
       "    }\n",
       "\n",
       "    .dataframe thead th {\n",
       "        text-align: right;\n",
       "    }\n",
       "</style>\n",
       "<table border=\"1\" class=\"dataframe\">\n",
       "  <thead>\n",
       "    <tr style=\"text-align: right;\">\n",
       "      <th></th>\n",
       "      <th>sentiment</th>\n",
       "      <th>reviewText</th>\n",
       "      <th>sentences_indiv</th>\n",
       "      <th>sentenceWords_Stops</th>\n",
       "      <th>sentences</th>\n",
       "      <th>sentenceWords</th>\n",
       "    </tr>\n",
       "  </thead>\n",
       "  <tbody>\n",
       "    <tr>\n",
       "      <th>0</th>\n",
       "      <td>1</td>\n",
       "      <td>Contrary to other reviews, I have zero complai...</td>\n",
       "      <td>[contrary to other reviews i have zero complai...</td>\n",
       "      <td>[contrary, reviews, zero, complaints, service,...</td>\n",
       "      <td>contrary to other reviews i have zero complain...</td>\n",
       "      <td>[contrary, to, other, reviews, i, have, zero, ...</td>\n",
       "    </tr>\n",
       "    <tr>\n",
       "      <th>1</th>\n",
       "      <td>0</td>\n",
       "      <td>Last summer I had an appointment to get new ti...</td>\n",
       "      <td>[last summer i had an appointment to get new t...</td>\n",
       "      <td>[last, summer, appointment, get, new, tires, w...</td>\n",
       "      <td>last summer i had an appointment to get new ti...</td>\n",
       "      <td>[last, summer, i, had, an, appointment, to, ge...</td>\n",
       "    </tr>\n",
       "    <tr>\n",
       "      <th>2</th>\n",
       "      <td>1</td>\n",
       "      <td>Friendly staff, same starbucks fair you get an...</td>\n",
       "      <td>[friendly staff same starbucks fair you get an...</td>\n",
       "      <td>[friendly, staff, starbucks, fair, get, anywhe...</td>\n",
       "      <td>friendly staff same starbucks fair you get any...</td>\n",
       "      <td>[friendly, staff, same, starbucks, fair, you, ...</td>\n",
       "    </tr>\n",
       "    <tr>\n",
       "      <th>3</th>\n",
       "      <td>0</td>\n",
       "      <td>The food is good. Unfortunately the service is...</td>\n",
       "      <td>[the food is good ,  unfortunately the service...</td>\n",
       "      <td>[food, good, ., unfortunately, service, hit, m...</td>\n",
       "      <td>the food is good unfortunately the service is ...</td>\n",
       "      <td>[the, food, is, good, unfortunately, the, serv...</td>\n",
       "    </tr>\n",
       "    <tr>\n",
       "      <th>4</th>\n",
       "      <td>1</td>\n",
       "      <td>Even when we didn't have a car Filene's Baseme...</td>\n",
       "      <td>[even when we did not have a car filene is bas...</td>\n",
       "      <td>[even, car, filene, basement, worth, bus, trip...</td>\n",
       "      <td>even when we did not have a car filene is base...</td>\n",
       "      <td>[even, when, we, did, not, have, a, car, filen...</td>\n",
       "    </tr>\n",
       "  </tbody>\n",
       "</table>\n",
       "</div>"
      ],
      "text/plain": [
       "   sentiment                                         reviewText  \\\n",
       "0          1  Contrary to other reviews, I have zero complai...   \n",
       "1          0  Last summer I had an appointment to get new ti...   \n",
       "2          1  Friendly staff, same starbucks fair you get an...   \n",
       "3          0  The food is good. Unfortunately the service is...   \n",
       "4          1  Even when we didn't have a car Filene's Baseme...   \n",
       "\n",
       "                                     sentences_indiv  \\\n",
       "0  [contrary to other reviews i have zero complai...   \n",
       "1  [last summer i had an appointment to get new t...   \n",
       "2  [friendly staff same starbucks fair you get an...   \n",
       "3  [the food is good ,  unfortunately the service...   \n",
       "4  [even when we did not have a car filene is bas...   \n",
       "\n",
       "                                 sentenceWords_Stops  \\\n",
       "0  [contrary, reviews, zero, complaints, service,...   \n",
       "1  [last, summer, appointment, get, new, tires, w...   \n",
       "2  [friendly, staff, starbucks, fair, get, anywhe...   \n",
       "3  [food, good, ., unfortunately, service, hit, m...   \n",
       "4  [even, car, filene, basement, worth, bus, trip...   \n",
       "\n",
       "                                           sentences  \\\n",
       "0  contrary to other reviews i have zero complain...   \n",
       "1  last summer i had an appointment to get new ti...   \n",
       "2  friendly staff same starbucks fair you get any...   \n",
       "3  the food is good unfortunately the service is ...   \n",
       "4  even when we did not have a car filene is base...   \n",
       "\n",
       "                                       sentenceWords  \n",
       "0  [contrary, to, other, reviews, i, have, zero, ...  \n",
       "1  [last, summer, i, had, an, appointment, to, ge...  \n",
       "2  [friendly, staff, same, starbucks, fair, you, ...  \n",
       "3  [the, food, is, good, unfortunately, the, serv...  \n",
       "4  [even, when, we, did, not, have, a, car, filen...  "
      ]
     },
     "execution_count": 21,
     "metadata": {},
     "output_type": "execute_result"
    }
   ],
   "source": [
    "amazon_zhang_test.head()"
   ]
  },
  {
   "cell_type": "code",
   "execution_count": 88,
   "metadata": {
    "ExecuteTime": {
     "end_time": "2019-03-21T20:04:30.500814Z",
     "start_time": "2019-03-21T20:04:03.931150Z"
    }
   },
   "outputs": [],
   "source": [
    "wordFreq = defaultdict(int)\n",
    "\n",
    "wordData = list(train_data['sentenceWords'])\n",
    "\n",
    "for row in wordData:\n",
    "    for word in row:\n",
    "        wordFreq[word] += 1      "
   ]
  },
  {
   "cell_type": "code",
   "execution_count": 89,
   "metadata": {
    "ExecuteTime": {
     "end_time": "2019-03-21T20:08:13.992684Z",
     "start_time": "2019-03-21T20:08:13.948360Z"
    },
    "scrolled": false
   },
   "outputs": [],
   "source": [
    "wordsForHist = list(wordFreq.values())"
   ]
  },
  {
   "cell_type": "code",
   "execution_count": 90,
   "metadata": {
    "ExecuteTime": {
     "end_time": "2019-03-21T20:08:17.320811Z",
     "start_time": "2019-03-21T20:08:16.613431Z"
    }
   },
   "outputs": [
    {
     "name": "stderr",
     "output_type": "stream",
     "text": [
      "/home/lance_miles/anaconda3/lib/python3.6/site-packages/matplotlib/axes/_axes.py:6462: UserWarning: The 'normed' kwarg is deprecated, and has been replaced by the 'density' kwarg.\n",
      "  warnings.warn(\"The 'normed' kwarg is deprecated, and has been \"\n"
     ]
    },
    {
     "data": {
      "text/plain": [
       "Text(0.5,1,'Word Frequency for Train Data')"
      ]
     },
     "execution_count": 90,
     "metadata": {},
     "output_type": "execute_result"
    },
    {
     "data": {
      "image/png": "[encoded data removed]",
      "text/plain": [
       "<Figure size 432x288 with 1 Axes>"
      ]
     },
     "metadata": {},
     "output_type": "display_data"
    }
   ],
   "source": [
    "sns.distplot(wordsForHist, bins=20, color = 'red').set_title('Word Frequency for Train Data')"
   ]
  },
  {
   "cell_type": "code",
   "execution_count": 91,
   "metadata": {
    "ExecuteTime": {
     "end_time": "2019-03-21T20:04:30.500814Z",
     "start_time": "2019-03-21T20:04:03.931150Z"
    }
   },
   "outputs": [],
   "source": [
    "wordFreq2 = defaultdict(int)\n",
    "\n",
    "wordData2 = list(train_data['sentenceWords_Stops'])\n",
    "\n",
    "for row in wordData2:\n",
    "    for word in row:\n",
    "        wordFreq2[word] += 1      "
   ]
  },
  {
   "cell_type": "code",
   "execution_count": 92,
   "metadata": {
    "ExecuteTime": {
     "end_time": "2019-03-21T20:08:13.992684Z",
     "start_time": "2019-03-21T20:08:13.948360Z"
    },
    "scrolled": false
   },
   "outputs": [],
   "source": [
    "wordsForHist2 = list(wordFreq2.values())"
   ]
  },
  {
   "cell_type": "code",
   "execution_count": 93,
   "metadata": {
    "ExecuteTime": {
     "end_time": "2019-03-21T20:08:17.320811Z",
     "start_time": "2019-03-21T20:08:16.613431Z"
    }
   },
   "outputs": [
    {
     "name": "stderr",
     "output_type": "stream",
     "text": [
      "/home/lance_miles/anaconda3/lib/python3.6/site-packages/matplotlib/axes/_axes.py:6462: UserWarning: The 'normed' kwarg is deprecated, and has been replaced by the 'density' kwarg.\n",
      "  warnings.warn(\"The 'normed' kwarg is deprecated, and has been \"\n"
     ]
    },
    {
     "data": {
      "text/plain": [
       "Text(0.5,1,'Word Frequency for Train Data')"
      ]
     },
     "execution_count": 93,
     "metadata": {},
     "output_type": "execute_result"
    },
    {
     "data": {
      "image/png": "[encoded data removed]",
      "text/plain": [
       "<Figure size 432x288 with 1 Axes>"
      ]
     },
     "metadata": {},
     "output_type": "display_data"
    }
   ],
   "source": [
    "sns.distplot(wordsForHist2, bins=20, color = 'red').set_title('Word Frequency for Train Data')"
   ]
  },
  {
   "cell_type": "code",
   "execution_count": 94,
   "metadata": {
    "ExecuteTime": {
     "end_time": "2019-03-21T20:13:27.638555Z",
     "start_time": "2019-03-21T20:13:27.284719Z"
    }
   },
   "outputs": [],
   "source": [
    "reviewLength = []\n",
    "\n",
    "for row in wordData:\n",
    "    reviewLength.append(len(row))"
   ]
  },
  {
   "cell_type": "code",
   "execution_count": 95,
   "metadata": {
    "ExecuteTime": {
     "end_time": "2019-03-21T20:14:20.733542Z",
     "start_time": "2019-03-21T20:14:20.198952Z"
    },
    "scrolled": false
   },
   "outputs": [
    {
     "name": "stderr",
     "output_type": "stream",
     "text": [
      "/home/lance_miles/anaconda3/lib/python3.6/site-packages/matplotlib/axes/_axes.py:6462: UserWarning: The 'normed' kwarg is deprecated, and has been replaced by the 'density' kwarg.\n",
      "  warnings.warn(\"The 'normed' kwarg is deprecated, and has been \"\n"
     ]
    },
    {
     "data": {
      "text/plain": [
       "Text(0.5,1,'Sentence Lengths for Train Data')"
      ]
     },
     "execution_count": 95,
     "metadata": {},
     "output_type": "execute_result"
    },
    {
     "data": {
      "image/png": "[encoded data removed]",
      "text/plain": [
       "<Figure size 432x288 with 1 Axes>"
      ]
     },
     "metadata": {},
     "output_type": "display_data"
    }
   ],
   "source": [
    "sns.distplot(reviewLength, bins=100, color = 'red').set_title('Sentence Lengths for Train Data')"
   ]
  },
  {
   "cell_type": "code",
   "execution_count": 96,
   "metadata": {
    "scrolled": true
   },
   "outputs": [
    {
     "name": "stdout",
     "output_type": "stream",
     "text": [
      "Mean: 68.83632083333333\n",
      "Median: 47.0\n"
     ]
    }
   ],
   "source": [
    "print('Mean:',np.mean(reviewLength))\n",
    "print('Median:',np.median(reviewLength))"
   ]
  },
  {
   "cell_type": "code",
   "execution_count": 97,
   "metadata": {
    "ExecuteTime": {
     "end_time": "2019-03-21T20:13:27.638555Z",
     "start_time": "2019-03-21T20:13:27.284719Z"
    }
   },
   "outputs": [],
   "source": [
    "reviewLength2 = []\n",
    "\n",
    "for row in wordData2:\n",
    "    reviewLength2.append(len(row))"
   ]
  },
  {
   "cell_type": "code",
   "execution_count": 98,
   "metadata": {
    "ExecuteTime": {
     "end_time": "2019-03-21T20:14:20.733542Z",
     "start_time": "2019-03-21T20:14:20.198952Z"
    },
    "scrolled": false
   },
   "outputs": [
    {
     "name": "stderr",
     "output_type": "stream",
     "text": [
      "/home/lance_miles/anaconda3/lib/python3.6/site-packages/matplotlib/axes/_axes.py:6462: UserWarning: The 'normed' kwarg is deprecated, and has been replaced by the 'density' kwarg.\n",
      "  warnings.warn(\"The 'normed' kwarg is deprecated, and has been \"\n"
     ]
    },
    {
     "data": {
      "text/plain": [
       "Text(0.5,1,'Sentence Lengths for Train Data')"
      ]
     },
     "execution_count": 98,
     "metadata": {},
     "output_type": "execute_result"
    },
    {
     "data": {
      "image/png": "[encoded data removed]",
      "text/plain": [
       "<Figure size 432x288 with 1 Axes>"
      ]
     },
     "metadata": {},
     "output_type": "display_data"
    }
   ],
   "source": [
    "sns.distplot(reviewLength2, bins=100, color = 'red').set_title('Sentence Lengths for Train Data')"
   ]
  },
  {
   "cell_type": "code",
   "execution_count": 99,
   "metadata": {
    "scrolled": true
   },
   "outputs": [
    {
     "name": "stdout",
     "output_type": "stream",
     "text": [
      "Mean: 42.20296916666667\n",
      "Median: 26.0\n"
     ]
    }
   ],
   "source": [
    "print('Mean:',np.mean(reviewLength2))\n",
    "print('Median:',np.median(reviewLength2))"
   ]
  },
  {
   "cell_type": "code",
   "execution_count": 100,
   "metadata": {},
   "outputs": [
    {
     "name": "stdout",
     "output_type": "stream",
     "text": [
      "[\"There is no suction on this little vacuum cleaner....it just doesn't work. No, I would not recommend it to anyone.\"]\n",
      "['there is no suction on this little vacuum cleaner it just does not work no i would not recommend it to anyone']\n",
      "[['there is no suction on this little vacuum cleaner ', ' it just does not work ', ' no i would not recommend it to anyone ', ' ']]\n"
     ]
    }
   ],
   "source": [
    "num_sents = []\n",
    "\n",
    "reviewSents = train_data['sentences_indiv']\n",
    "print(list(train_data['reviewText'][4:5]))\n",
    "print(list(train_data['sentences'][4:5]))\n",
    "print(list(reviewSents[4:5]))\n",
    "\n",
    "for sents in reviewSents:\n",
    "    num_sents.append(len(sents))"
   ]
  },
  {
   "cell_type": "code",
   "execution_count": 101,
   "metadata": {},
   "outputs": [
    {
     "name": "stderr",
     "output_type": "stream",
     "text": [
      "/home/lance_miles/anaconda3/lib/python3.6/site-packages/matplotlib/axes/_axes.py:6462: UserWarning: The 'normed' kwarg is deprecated, and has been replaced by the 'density' kwarg.\n",
      "  warnings.warn(\"The 'normed' kwarg is deprecated, and has been \"\n"
     ]
    },
    {
     "data": {
      "text/plain": [
       "Text(0.5,1,'Number of Sentences for Train Data')"
      ]
     },
     "execution_count": 101,
     "metadata": {},
     "output_type": "execute_result"
    },
    {
     "data": {
      "image/png": "[encoded data removed]",
      "text/plain": [
       "<Figure size 432x288 with 1 Axes>"
      ]
     },
     "metadata": {},
     "output_type": "display_data"
    }
   ],
   "source": [
    "sns.distplot(num_sents, bins=50, color = 'red').set_title('Number of Sentences for Train Data')"
   ]
  },
  {
   "cell_type": "code",
   "execution_count": 102,
   "metadata": {},
   "outputs": [
    {
     "name": "stdout",
     "output_type": "stream",
     "text": [
      "Mean: 6.654093333333333\n",
      "Median: 5.0\n"
     ]
    }
   ],
   "source": [
    "print('Mean:',np.mean(num_sents))\n",
    "print('Median:',np.median(num_sents))"
   ]
  },
  {
   "cell_type": "markdown",
   "metadata": {},
   "source": [
    "## Universal Sentence Encoder"
   ]
  },
  {
   "cell_type": "code",
   "execution_count": 22,
   "metadata": {},
   "outputs": [],
   "source": [
    "#embedding = hub.Module(\"https://tfhub.dev/google/universal-sentence-encoder-large/3\")\n",
    "\n",
    "embedding = hub.Module(\"https://tfhub.dev/google/universal-sentence-encoder/2\")"
   ]
  },
  {
   "cell_type": "code",
   "execution_count": 23,
   "metadata": {},
   "outputs": [],
   "source": [
    "def getUniSentEmbeds(data):\n",
    "\n",
    "    tf.logging.set_verbosity(tf.logging.ERROR)\n",
    "\n",
    "    with tf.Session() as sess:\n",
    "        sess.run([tf.global_variables_initializer(), tf.tables_initializer()])\n",
    "        review_embeddings = sess.run(embedding((data)))\n",
    "\n",
    "    review_embeddings = np.array(review_embeddings)\n",
    "    return review_embeddings"
   ]
  },
  {
   "cell_type": "code",
   "execution_count": 24,
   "metadata": {},
   "outputs": [],
   "source": [
    "def loadUniSentEncod(data, link):\n",
    "\n",
    "    try:\n",
    "        data_USE = np.load(link)\n",
    "        print(f'Successfully opened data from {link}')\n",
    "\n",
    "    except FileNotFoundError:\n",
    "\n",
    "        data_reviews = [str(rev) for rev in data['sentences']]\n",
    "\n",
    "        print('Build Universal Sentence Encoder Data')\n",
    "        data_USE = getUniSentEmbeds(data_reviews)\n",
    "\n",
    "        np.save(link, data_USE)\n",
    "\n",
    "        print(f'Finished pickling data for future use as {link}.')\n",
    "        \n",
    "    return data_USE"
   ]
  },
  {
   "cell_type": "code",
   "execution_count": 60,
   "metadata": {},
   "outputs": [
    {
     "name": "stdout",
     "output_type": "stream",
     "text": [
      "Successfully opened data from ../../play_data_USE.npy\n",
      "Successfully opened data from ../../test_data_USE.npy\n",
      "Successfully opened data from ../../train_data_USE.npy\n",
      "Successfully opened data from ../../imdb_test_data_USE.npy\n",
      "Successfully opened data from ../../imdb_train_data_USE.npy\n",
      "Successfully opened data from ../../twitter_data_USE.npy\n",
      "Successfully opened data from ../../yelp_data_USE.npy\n",
      "Successfully opened data from ../../yelp_zhang_train_USE.npy\n",
      "Successfully opened data from ../../yelp_zhang_test_USE.npy\n",
      "Successfully opened data from ../../amazon_zhang_test_USE.npy\n",
      "Build Universal Sentence Encoder Data\n",
      "Finished pickling data for future use as ../../sst_test_USE.npy.\n"
     ]
    }
   ],
   "source": [
    "#Load universal sentence encoder embeddings for play data\n",
    "play_data_link = '../../play_data_USE.npy'\n",
    "play_data_USE = loadUniSentEncod(play_data,play_data_link)\n",
    "\n",
    "test_data_name = '../../test_data_USE.npy'\n",
    "test_data_USE = loadUniSentEncod(test_data,test_data_name)\n",
    "\n",
    "train_data_name = '../../train_data_USE.npy'\n",
    "train_data_USE = loadUniSentEncod(train_data,train_data_name)\n",
    "\n",
    "imdb_test_data_name = '../../imdb_test_data_USE.npy'\n",
    "imdb_test_USE = loadUniSentEncod(imdb_test,imdb_test_data_name)\n",
    "\n",
    "imdb_train_data_name = '../../imdb_train_data_USE.npy'\n",
    "imdb_train_USE = loadUniSentEncod(imdb_train,imdb_train_data_name)\n",
    "\n",
    "twitter_data_name = '../../twitter_data_USE.npy'\n",
    "twitter_test_USE = loadUniSentEncod(twitter_reviews,twitter_data_name)\n",
    "\n",
    "yelp_data_name = '../../yelp_data_USE.npy'\n",
    "yelp_test_USE = loadUniSentEncod(yelp_reviews,yelp_data_name)\n",
    "\n",
    "yelp_data_name = '../../yelp_zhang_train_USE.npy'\n",
    "yelp_zhang_train_USE = loadUniSentEncod(yelp_zhang_train,yelp_data_name)\n",
    "\n",
    "yelp_data_name = '../../yelp_zhang_test_USE.npy'\n",
    "yelp_zhang_test_USE = loadUniSentEncod(yelp_zhang_test,yelp_data_name)\n",
    "\n",
    "amazon_data_name = '../../amazon_zhang_test_USE.npy'\n",
    "amazon_zhang_test_USE = loadUniSentEncod(amazon_zhang_test,amazon_data_name)\n",
    "\n",
    "sst_data_name = '../../sst_test_USE.npy'\n",
    "sst_test_USE = loadUniSentEncod(sst_test,sst_data_name)"
   ]
  },
  {
   "cell_type": "markdown",
   "metadata": {},
   "source": [
    "## Sentence level USE"
   ]
  },
  {
   "cell_type": "code",
   "execution_count": 25,
   "metadata": {},
   "outputs": [
    {
     "data": {
      "text/html": [
       "<div>\n",
       "<style scoped>\n",
       "    .dataframe tbody tr th:only-of-type {\n",
       "        vertical-align: middle;\n",
       "    }\n",
       "\n",
       "    .dataframe tbody tr th {\n",
       "        vertical-align: top;\n",
       "    }\n",
       "\n",
       "    .dataframe thead th {\n",
       "        text-align: right;\n",
       "    }\n",
       "</style>\n",
       "<table border=\"1\" class=\"dataframe\">\n",
       "  <thead>\n",
       "    <tr style=\"text-align: right;\">\n",
       "      <th></th>\n",
       "      <th>Product</th>\n",
       "      <th>asin</th>\n",
       "      <th>helpful</th>\n",
       "      <th>overall</th>\n",
       "      <th>reviewText</th>\n",
       "      <th>reviewTime</th>\n",
       "      <th>reviewerID</th>\n",
       "      <th>reviewerName</th>\n",
       "      <th>sentiment</th>\n",
       "      <th>summary</th>\n",
       "      <th>unixReviewTime</th>\n",
       "      <th>sentenceWords_Stops</th>\n",
       "      <th>sentences_indiv</th>\n",
       "      <th>sentenceWords</th>\n",
       "      <th>sentences</th>\n",
       "    </tr>\n",
       "  </thead>\n",
       "  <tbody>\n",
       "    <tr>\n",
       "      <th>83381</th>\n",
       "      <td>reviews_Electronics</td>\n",
       "      <td>B00AHPSTRY</td>\n",
       "      <td>[5, 5]</td>\n",
       "      <td>1.0</td>\n",
       "      <td>just received my screen protector.  it's going...</td>\n",
       "      <td>08 14, 2013</td>\n",
       "      <td>A20EOZ5Q2Z8L1S</td>\n",
       "      <td>Vicki B.</td>\n",
       "      <td>0</td>\n",
       "      <td>SENDING IT BACK!</td>\n",
       "      <td>1376438400</td>\n",
       "      <td>[received, screen, protector, ., going, back, ...</td>\n",
       "      <td>[just received my screen protector ,  it is go...</td>\n",
       "      <td>[just, received, my, screen, protector, it, is...</td>\n",
       "      <td>just received my screen protector it is going ...</td>\n",
       "    </tr>\n",
       "    <tr>\n",
       "      <th>7113</th>\n",
       "      <td>reviews_CDs_and_Vinyl</td>\n",
       "      <td>B00005AQ38</td>\n",
       "      <td>[6, 6]</td>\n",
       "      <td>1.0</td>\n",
       "      <td>But instead of the orchestra, we are treated t...</td>\n",
       "      <td>12 23, 2001</td>\n",
       "      <td>A16SS8HYJW7IEJ</td>\n",
       "      <td>Mark Pollock \"educator\"</td>\n",
       "      <td>0</td>\n",
       "      <td>Would be nice to hear the orchestra...</td>\n",
       "      <td>1009065600</td>\n",
       "      <td>[instead, orchestra, treated, wonderful, sound...</td>\n",
       "      <td>[but instead of the orchestra we are treated t...</td>\n",
       "      <td>[but, instead, of, the, orchestra, we, are, tr...</td>\n",
       "      <td>but instead of the orchestra we are treated to...</td>\n",
       "    </tr>\n",
       "    <tr>\n",
       "      <th>58166</th>\n",
       "      <td>reviews_Health_and_Personal_Care</td>\n",
       "      <td>B0007P2OO8</td>\n",
       "      <td>[0, 0]</td>\n",
       "      <td>5.0</td>\n",
       "      <td>Love this shaving soap and it was the best pri...</td>\n",
       "      <td>01 15, 2013</td>\n",
       "      <td>A16O37AEI0Y3N</td>\n",
       "      <td>Richard Papaleo</td>\n",
       "      <td>1</td>\n",
       "      <td>Col. Conk is Famous</td>\n",
       "      <td>1358208000</td>\n",
       "      <td>[love, shaving, soap, best, price, ., gives, b...</td>\n",
       "      <td>[love this shaving soap and it was the best pr...</td>\n",
       "      <td>[love, this, shaving, soap, and, it, was, the,...</td>\n",
       "      <td>love this shaving soap and it was the best pri...</td>\n",
       "    </tr>\n",
       "    <tr>\n",
       "      <th>35717</th>\n",
       "      <td>reviews_Home_and_Kitchen</td>\n",
       "      <td>B000AA89GW</td>\n",
       "      <td>[0, 1]</td>\n",
       "      <td>1.0</td>\n",
       "      <td>It is impossible to join the two pieces of the...</td>\n",
       "      <td>08 28, 2011</td>\n",
       "      <td>A2OV0337VRTSUV</td>\n",
       "      <td>AF</td>\n",
       "      <td>0</td>\n",
       "      <td>Impossible to close tightly... Makes a mess!!!</td>\n",
       "      <td>1314489600</td>\n",
       "      <td>[impossible, join, two, pieces, cappuccino, ma...</td>\n",
       "      <td>[it is impossible to join the two pieces of th...</td>\n",
       "      <td>[it, is, impossible, to, join, the, two, piece...</td>\n",
       "      <td>it is impossible to join the two pieces of the...</td>\n",
       "    </tr>\n",
       "    <tr>\n",
       "      <th>26850</th>\n",
       "      <td>reviews_Electronics</td>\n",
       "      <td>B00529F3JW</td>\n",
       "      <td>[2, 2]</td>\n",
       "      <td>1.0</td>\n",
       "      <td>There is no suction on this little vacuum clea...</td>\n",
       "      <td>01 25, 2013</td>\n",
       "      <td>A3I0B7SO7OE7YG</td>\n",
       "      <td>Terry White</td>\n",
       "      <td>0</td>\n",
       "      <td>Mini Vacuum Cleaner</td>\n",
       "      <td>1359072000</td>\n",
       "      <td>[suction, little, vacuum, cleaner, ., work, .,...</td>\n",
       "      <td>[there is no suction on this little vacuum cle...</td>\n",
       "      <td>[there, is, no, suction, on, this, little, vac...</td>\n",
       "      <td>there is no suction on this little vacuum clea...</td>\n",
       "    </tr>\n",
       "  </tbody>\n",
       "</table>\n",
       "</div>"
      ],
      "text/plain": [
       "                                Product        asin helpful  overall  \\\n",
       "83381               reviews_Electronics  B00AHPSTRY  [5, 5]      1.0   \n",
       "7113              reviews_CDs_and_Vinyl  B00005AQ38  [6, 6]      1.0   \n",
       "58166  reviews_Health_and_Personal_Care  B0007P2OO8  [0, 0]      5.0   \n",
       "35717          reviews_Home_and_Kitchen  B000AA89GW  [0, 1]      1.0   \n",
       "26850               reviews_Electronics  B00529F3JW  [2, 2]      1.0   \n",
       "\n",
       "                                              reviewText   reviewTime  \\\n",
       "83381  just received my screen protector.  it's going...  08 14, 2013   \n",
       "7113   But instead of the orchestra, we are treated t...  12 23, 2001   \n",
       "58166  Love this shaving soap and it was the best pri...  01 15, 2013   \n",
       "35717  It is impossible to join the two pieces of the...  08 28, 2011   \n",
       "26850  There is no suction on this little vacuum clea...  01 25, 2013   \n",
       "\n",
       "           reviewerID             reviewerName  sentiment  \\\n",
       "83381  A20EOZ5Q2Z8L1S                 Vicki B.          0   \n",
       "7113   A16SS8HYJW7IEJ  Mark Pollock \"educator\"          0   \n",
       "58166   A16O37AEI0Y3N          Richard Papaleo          1   \n",
       "35717  A2OV0337VRTSUV                       AF          0   \n",
       "26850  A3I0B7SO7OE7YG              Terry White          0   \n",
       "\n",
       "                                              summary  unixReviewTime  \\\n",
       "83381                                SENDING IT BACK!      1376438400   \n",
       "7113           Would be nice to hear the orchestra...      1009065600   \n",
       "58166                             Col. Conk is Famous      1358208000   \n",
       "35717  Impossible to close tightly... Makes a mess!!!      1314489600   \n",
       "26850                             Mini Vacuum Cleaner      1359072000   \n",
       "\n",
       "                                     sentenceWords_Stops  \\\n",
       "83381  [received, screen, protector, ., going, back, ...   \n",
       "7113   [instead, orchestra, treated, wonderful, sound...   \n",
       "58166  [love, shaving, soap, best, price, ., gives, b...   \n",
       "35717  [impossible, join, two, pieces, cappuccino, ma...   \n",
       "26850  [suction, little, vacuum, cleaner, ., work, .,...   \n",
       "\n",
       "                                         sentences_indiv  \\\n",
       "83381  [just received my screen protector ,  it is go...   \n",
       "7113   [but instead of the orchestra we are treated t...   \n",
       "58166  [love this shaving soap and it was the best pr...   \n",
       "35717  [it is impossible to join the two pieces of th...   \n",
       "26850  [there is no suction on this little vacuum cle...   \n",
       "\n",
       "                                           sentenceWords  \\\n",
       "83381  [just, received, my, screen, protector, it, is...   \n",
       "7113   [but, instead, of, the, orchestra, we, are, tr...   \n",
       "58166  [love, this, shaving, soap, and, it, was, the,...   \n",
       "35717  [it, is, impossible, to, join, the, two, piece...   \n",
       "26850  [there, is, no, suction, on, this, little, vac...   \n",
       "\n",
       "                                               sentences  \n",
       "83381  just received my screen protector it is going ...  \n",
       "7113   but instead of the orchestra we are treated to...  \n",
       "58166  love this shaving soap and it was the best pri...  \n",
       "35717  it is impossible to join the two pieces of the...  \n",
       "26850  there is no suction on this little vacuum clea...  "
      ]
     },
     "execution_count": 25,
     "metadata": {},
     "output_type": "execute_result"
    }
   ],
   "source": [
    "play_data.head()"
   ]
  },
  {
   "cell_type": "code",
   "execution_count": 26,
   "metadata": {},
   "outputs": [],
   "source": [
    "def getUniSentEmbeds_sents(data):\n",
    "\n",
    "    tf.logging.set_verbosity(tf.logging.ERROR)\n",
    "\n",
    "    with tf.Session() as sess:\n",
    "        sess.run([tf.global_variables_initializer(), tf.tables_initializer()])\n",
    "        \n",
    "        review_embeddings = sess.run(embedding((data)))\n",
    "\n",
    "    review_embeddings = np.array(review_embeddings)\n",
    "    return review_embeddings"
   ]
  },
  {
   "cell_type": "code",
   "execution_count": null,
   "metadata": {},
   "outputs": [],
   "source": [
    "sent_length = 5\n",
    "\n",
    "data_reviews = [[rev] for rev in play_data['sentences_indiv']]\n",
    "\n",
    "test_outputs = data_reviews\n",
    "new_dat = []\n",
    "\n",
    "for rev in test_outputs:\n",
    "    for sents in rev:\n",
    "        if len(sents) < sent_length:\n",
    "           # print('entered')\n",
    "            sents.append(' ')\n",
    "            sents.append(' ')\n",
    "            sents.append(' ')\n",
    "            sents.append(' ')\n",
    "           # print('done')\n",
    "            \n",
    "        new_dat.append(sents[:sent_length])\n",
    "np.array(new_dat)\n",
    "\n",
    "\n",
    "# for revs in new_dat[:2]:\n",
    "#      check = getUniSentEmbeds_sents(revs)"
   ]
  },
  {
   "cell_type": "code",
   "execution_count": null,
   "metadata": {},
   "outputs": [],
   "source": [
    "check = np.zeros()"
   ]
  },
  {
   "cell_type": "code",
   "execution_count": 30,
   "metadata": {},
   "outputs": [
    {
     "data": {
      "text/plain": [
       "(10,)"
      ]
     },
     "execution_count": 30,
     "metadata": {},
     "output_type": "execute_result"
    }
   ],
   "source": [
    "test_array = np.array(test_this[0])\n",
    "test_array\n",
    "\n",
    "test_array2 = np.array(new_dat[1])\n",
    "test_array2\n",
    "\n",
    "new_test_array = np.concatenate((test_array,test_array2), axis = 0)\n",
    "new_test_array\n",
    "new_test_array.shape"
   ]
  },
  {
   "cell_type": "code",
   "execution_count": null,
   "metadata": {},
   "outputs": [],
   "source": [
    "sent_length = 5\n",
    "\n",
    "\n",
    "def loadUniSentEncod_sents(data, link, sent_length = sent_length):\n",
    "\n",
    "    try:\n",
    "        data_USE = np.load(link)\n",
    "        print(f'Successfully opened data from {link}')\n",
    "\n",
    "    except FileNotFoundError:\n",
    "\n",
    "        data_reviews = [[rev] for rev in data['sentences_indiv']]\n",
    "        data_USE = []\n",
    "        for rev in data_reviews:\n",
    "            if len(rev) < 5:\n",
    "                rev.append(' ')\n",
    "                rev.append(' ')\n",
    "                rev.append(' ')\n",
    "                rev.append(' ')\n",
    "                \n",
    "\n",
    "        print('Build Universal Sentence Encoder Data')\n",
    "            interim = getUniSentEmbeds_sents(rev[:])\n",
    "\n",
    "        np.save(link, data_USE)\n",
    "\n",
    "        print(f'Finished pickling data for future use as {link}.')\n",
    "        \n",
    "    return data_USE"
   ]
  },
  {
   "cell_type": "code",
   "execution_count": null,
   "metadata": {},
   "outputs": [],
   "source": []
  },
  {
   "cell_type": "markdown",
   "metadata": {},
   "source": [
    "## Keras\n",
    "\n",
    "### TO DO:\n",
    "\n",
    "**Model Efforts**\n",
    "* Initialize and access word2vec embeddings in CNN\n",
    "* Initialize and access glove embeddings in CNN\n",
    "* Index Universal Sentence Embeddings for concatenation in CNN\n",
    "\n",
    "**Text Processing**\n",
    "* Contractions\n",
    "* Review Length (some as large as 6000?!)\n",
    "* Stopwords\n",
    "\n",
    "### Baseline Models\n",
    "#### CNN\n",
    "* Trained Embeddings\n",
    "* Word2Vec\n",
    "* Glove\n",
    "\n",
    "#### Softmax\n",
    "* Universal Sentence Encoder (USE)\n",
    "\n",
    "### Models to Test\n",
    "#### CNN (Concatentation)\n",
    "* Trained Embeddings + USE\n",
    "* Word2Vec + USE\n",
    "* Glove + USE\n",
    "\n",
    "**If extra time**\n",
    "* Zero shot learning - IMDB Reviews\n",
    "* Sentiment embeddings"
   ]
  },
  {
   "cell_type": "code",
   "execution_count": null,
   "metadata": {},
   "outputs": [],
   "source": [
    "train_data.head()"
   ]
  },
  {
   "cell_type": "code",
   "execution_count": null,
   "metadata": {},
   "outputs": [],
   "source": [
    "yelp_zhang_train.head()"
   ]
  },
  {
   "cell_type": "code",
   "execution_count": 59,
   "metadata": {},
   "outputs": [],
   "source": [
    "max_features = 20000 # how many unique words to use (i.e num rows in embedding vector)\n",
    "\n",
    "list_sentences_train = list(train_data['sentenceWords'])\n",
    "\n",
    "tokenizer = Tokenizer()   #num_words=max_features)\n",
    "tokenizer.fit_on_texts(list(list_sentences_train))\n",
    "list_tokenized_train = tokenizer.texts_to_sequences(list_sentences_train)\n",
    "\n",
    "word_index = tokenizer.word_index\n",
    "\n",
    "vocabulary_size = len(word_index) + 1\n",
    "vocabulary_size\n",
    "\n",
    "embedDim=300\n",
    "\n",
    "def standardizeData(data, tokenModel = tokenizer):\n",
    "    dataSentences = list(data['sentenceWords'])\n",
    "    list_token_data = tokenModel.texts_to_sequences(dataSentences)\n",
    "    \n",
    "    data_tokenized = pad_sequences(list_token_data, maxlen=max_length, padding='post')\n",
    "    data_labels = np.array(data['sentiment'])\n",
    "    \n",
    "    return data_tokenized, data_labels\n",
    "\n",
    "X_train, X_train_labels = standardizeData(train_data)\n",
    "X_test, X_test_labels = standardizeData(test_data)\n",
    "X_imdb_train, X_imdb_train_labels = standardizeData(imdb_train)\n",
    "X_imdb_test, X_imdb_test_labels = standardizeData(imdb_test)\n",
    "X_twitter_test, X_twitter_test_labels = standardizeData(twitter_reviews)\n",
    "X_yelp_test, X_yelp_test_labels = standardizeData(yelp_reviews)\n",
    "X_yelp_zhang_train, X_yelp_zhang_train_labels = standardizeData(yelp_zhang_train)\n",
    "X_yelp_zhang_test, X_yelp_zhang_test_labels = standardizeData(yelp_zhang_test)\n",
    "X_amazon_zhang_test, X_amazon_zhang_test_labels = standardizeData(amazon_zhang_test)\n",
    "\n",
    "sst_dataSentences = list(sst_test['sentenceWords'])\n",
    "\n",
    "sst_list_token_data = tokenizer.texts_to_sequences(sst_dataSentences)\n",
    "\n",
    "X_sst_test = pad_sequences(sst_list_token_data, maxlen=max_length, padding='post')"
   ]
  },
  {
   "cell_type": "markdown",
   "metadata": {},
   "source": [
    "## Word2Vec Embeddings"
   ]
  },
  {
   "cell_type": "code",
   "execution_count": 32,
   "metadata": {},
   "outputs": [
    {
     "name": "stdout",
     "output_type": "stream",
     "text": [
      "Successfully opened pickled embedding_matrix_w2v\n"
     ]
    }
   ],
   "source": [
    "#https://www.kaggle.com/umbertogriffo/cnn-yoon-kim-s-model-and-google-s-word2vec-model\n",
    "#https://www.kaggle.com/marijakekic/cnn-in-keras-with-pretrained-word2vec-weights\n",
    "\n",
    "def loadw2v(loadEmbed = True):\n",
    "    if loadEmbed == True:\n",
    "        w2v_embed_name = '../../w2v_embed.npy'\n",
    "        embedding_matrix_w2v = np.load(w2v_embed_name)\n",
    "\n",
    "        print('Successfully opened pickled embedding_matrix_w2v')\n",
    "        return embedding_matrix_w2v\n",
    "    else:\n",
    "        \n",
    "        word_vectors = KeyedVectors.load_word2vec_format('../../GoogleNews-vectors-negative300.bin.gz', binary=True)\n",
    "        embedding_matrix_w2v = np.zeros((vocabulary_size, embedDim))\n",
    "        \n",
    "        for word, i in word_index.items():\n",
    "            try:\n",
    "                embedding_vector = word_vectors[word]\n",
    "                embedding_matrix_w2v[i] = embedding_vector\n",
    "            except KeyError:\n",
    "                embedding_matrix_w2v[i]=np.random.normal(0,np.sqrt(0.25),embedDim)\n",
    "\n",
    "        del(word_vectors)\n",
    "        \n",
    "        w2v_embed_name = '../../w2v_embed.npy'\n",
    "        np.save(w2v_embed_name, embedding_matrix_w2v)\n",
    "        \n",
    "        return embedding_matrix_w2v\n",
    "\n",
    "embedding_matrix_w2v = loadw2v(loadEmbed = True)"
   ]
  },
  {
   "cell_type": "code",
   "execution_count": 33,
   "metadata": {},
   "outputs": [
    {
     "data": {
      "text/plain": [
       "array([[ 0.        ,  0.        ,  0.        , ...,  0.        ,\n",
       "         0.        ,  0.        ],\n",
       "       [ 0.08007812,  0.10498047,  0.04980469, ...,  0.00366211,\n",
       "         0.04760742, -0.06884766],\n",
       "       [-0.22558594, -0.01953125,  0.09082031, ...,  0.02819824,\n",
       "        -0.17773438, -0.00604248],\n",
       "       ...,\n",
       "       [-0.05669782,  0.66833448, -0.72440838, ...,  0.02165054,\n",
       "         0.02798013, -0.29262374],\n",
       "       [-0.44889479, -0.14608567,  0.41548637, ...,  0.01506322,\n",
       "        -0.41868808,  0.33303135],\n",
       "       [ 0.09562571, -0.18635412, -0.26843286, ..., -0.53592383,\n",
       "         0.25208398, -0.16169312]])"
      ]
     },
     "execution_count": 33,
     "metadata": {},
     "output_type": "execute_result"
    }
   ],
   "source": [
    "embedding_matrix_w2v"
   ]
  },
  {
   "cell_type": "code",
   "execution_count": 34,
   "metadata": {},
   "outputs": [
    {
     "data": {
      "text/plain": [
       "(385239, 300)"
      ]
     },
     "execution_count": 34,
     "metadata": {},
     "output_type": "execute_result"
    }
   ],
   "source": [
    "embedding_matrix_w2v.shape"
   ]
  },
  {
   "cell_type": "markdown",
   "metadata": {},
   "source": [
    "## Glove Embeddings"
   ]
  },
  {
   "cell_type": "code",
   "execution_count": 35,
   "metadata": {},
   "outputs": [],
   "source": [
    "#https://www.kaggle.com/umbertogriffo/cnn-yoon-kim-s-model-and-google-s-word2vec-model\n",
    "#https://www.kaggle.com/marijakekic/cnn-in-keras-with-pretrained-word2vec-weights\n",
    "\n",
    "# https://stackoverflow.com/questions/37793118/load-pretrained-glove-vectors-in-python\n",
    "# import warnings\n",
    "# # warnings.filterwarnings(\"ignore\")\n",
    "\n",
    "# _ = glove2word2vec(glove_input_file='../../glove.840B.300d.txt', \n",
    "#                    word2vec_output_file='../../gensim_glove_vectors.txt')"
   ]
  },
  {
   "cell_type": "code",
   "execution_count": 36,
   "metadata": {},
   "outputs": [
    {
     "name": "stdout",
     "output_type": "stream",
     "text": [
      "Successfully opened pickled embedding_matrix_glove\n"
     ]
    }
   ],
   "source": [
    "def loadGlove(loadEmbed = True):\n",
    "    if loadEmbed == True:\n",
    "        glove_embed_name = '../../glove_embed.npy'\n",
    "        embedding_matrix_glove = np.load(glove_embed_name)\n",
    "\n",
    "        print('Successfully opened pickled embedding_matrix_glove')\n",
    "        return embedding_matrix_glove\n",
    "    \n",
    "    else:\n",
    "        word_vectors = KeyedVectors.load_word2vec_format('../../gensim_glove_vectors.txt', binary=False)\n",
    "\n",
    "        embedding_matrix_glove = np.zeros((vocabulary_size, embedDim))\n",
    "        for word, i in word_index.items():\n",
    "            try:\n",
    "                embedding_vector = word_vectors[word]\n",
    "                embedding_matrix_glove[i] = embedding_vector\n",
    "            except KeyError:\n",
    "                embedding_matrix_glove[i]=np.random.normal(0,np.sqrt(0.25),embedDim)\n",
    "\n",
    "        del(word_vectors)\n",
    "        \n",
    "        glove_embed_name = '../../glove_embed.npy'\n",
    "        np.save(glove_embed_name, embedding_matrix_glove)\n",
    "        \n",
    "        return embedding_matrix_glove\n",
    "\n",
    "embedding_matrix_glove = loadGlove(loadEmbed = True)"
   ]
  },
  {
   "cell_type": "code",
   "execution_count": 37,
   "metadata": {},
   "outputs": [
    {
     "data": {
      "text/plain": [
       "array([[ 0.        ,  0.        ,  0.        , ...,  0.        ,\n",
       "         0.        ,  0.        ],\n",
       "       [ 0.27204001, -0.06203   , -0.1884    , ...,  0.13015001,\n",
       "        -0.18317001,  0.1323    ],\n",
       "       [ 0.18732999,  0.40595001, -0.51174003, ...,  0.16495   ,\n",
       "         0.18757001,  0.53873998],\n",
       "       ...,\n",
       "       [-0.38305282,  0.51873904,  0.42807558, ..., -0.06607605,\n",
       "         0.51693713,  0.53094775],\n",
       "       [-0.00126892, -0.1897983 ,  0.0538873 , ..., -0.23339596,\n",
       "        -0.33180575,  0.02143054],\n",
       "       [ 0.95435669,  0.0096887 , -0.26980815, ...,  0.11325344,\n",
       "        -0.11042341, -0.13675645]])"
      ]
     },
     "execution_count": 37,
     "metadata": {},
     "output_type": "execute_result"
    }
   ],
   "source": [
    "embedding_matrix_glove"
   ]
  },
  {
   "cell_type": "code",
   "execution_count": 38,
   "metadata": {},
   "outputs": [
    {
     "data": {
      "text/plain": [
       "(385239, 300)"
      ]
     },
     "execution_count": 38,
     "metadata": {},
     "output_type": "execute_result"
    }
   ],
   "source": [
    "embedding_matrix_glove.shape"
   ]
  },
  {
   "cell_type": "markdown",
   "metadata": {},
   "source": [
    "## CNN Model"
   ]
  },
  {
   "cell_type": "code",
   "execution_count": null,
   "metadata": {},
   "outputs": [],
   "source": [
    "# https://machinelearningmastery.com/develop-n-gram-multichannel-convolutional-neural-network-sentiment-analysis/\n",
    "\n",
    "def CreateKimCNN(kernelSize=[4, 5, 6], numFilters=128, embedDepth=300, \n",
    "                 dropOut=0.5, embeds=None, use=True, length=max_length,\n",
    "                 vocab=vocabulary_size, pool=2, denseInputs=10, train=False):\n",
    "    \n",
    "    k1 = kernelSize[0]\n",
    "    k2 = kernelSize[1]\n",
    "    k3 = kernelSize[2]\n",
    "    \n",
    "    k1_inputs = Input(shape=(length,))\n",
    "    k2_inputs = Input(shape=(length,))\n",
    "    k3_inputs = Input(shape=(length,))\n",
    "       \n",
    "    if embeds == None:\n",
    "        k1_embeddings = Embedding(vocab, embedDepth)(k1_inputs)\n",
    "        k2_embeddings = Embedding(vocab, embedDepth)(k2_inputs)\n",
    "        k3_embeddings = Embedding(vocab, embedDepth)(k3_inputs)\n",
    "\n",
    "    elif embeds == 'w2v':\n",
    "        k1_embeddings = Embedding(vocab,\n",
    "                            300,\n",
    "                            weights=[embedding_matrix_w2v],\n",
    "                            trainable=train)(k1_inputs)\n",
    "        k2_embeddings = Embedding(vocab,\n",
    "                            300,\n",
    "                            weights=[embedding_matrix_w2v],\n",
    "                            trainable=train)(k2_inputs)\n",
    "        k3_embeddings = Embedding(vocab,\n",
    "                            300,\n",
    "                            weights=[embedding_matrix_w2v],\n",
    "                            trainable=train)(k3_inputs)\n",
    "        \n",
    "    elif embeds == 'Glove':\n",
    "        k1_embeddings = Embedding(vocab,\n",
    "                            300,\n",
    "                            weights=[embedding_matrix_glove],\n",
    "                            trainable=train)(k1_inputs)\n",
    "        k2_embeddings = Embedding(vocab,\n",
    "                            300,\n",
    "                            weights=[embedding_matrix_glove],\n",
    "                            trainable=train)(k2_inputs)\n",
    "        k3_embeddings = Embedding(vocab,\n",
    "                            300,\n",
    "                            weights=[embedding_matrix_glove],\n",
    "                            trainable=train)(k3_inputs)\n",
    "    else:\n",
    "        print('Specify embeds correctly. Currently embeds =',embeds)\n",
    "        return\n",
    "    \n",
    "    k1_conv = Conv1D(filters=numFilters, kernel_size=k1, activation='relu')(k1_embeddings)\n",
    "    k1_dropout = Dropout(dropOut)(k1_conv)\n",
    "    k1_maxPool = MaxPooling1D(pool_size=pool)(k1_dropout)\n",
    "    k1_flatten = Flatten()(k1_maxPool)\n",
    "\n",
    "    k2_conv = Conv1D(filters=numFilters, kernel_size=k2, activation='relu')(k2_embeddings)\n",
    "    k2_dropout = Dropout(dropOut)(k2_conv)\n",
    "    k2_maxPool = MaxPooling1D(pool_size=pool)(k2_dropout)\n",
    "    k2_flatten = Flatten()(k2_maxPool)\n",
    "\n",
    "    k3_conv = Conv1D(filters=numFilters, kernel_size=k3, activation='relu')(k3_embeddings)\n",
    "    k3_dropout = Dropout(dropOut)(k3_conv)\n",
    "    k3_maxPool = MaxPooling1D(pool_size=pool)(k3_dropout)\n",
    "    k3_flatten = Flatten()(k3_maxPool)\n",
    "\n",
    "    if use == True:\n",
    "        use_inputs = Input(shape=(512,))\n",
    "        concat_kern = concatenate([k1_flatten, k2_flatten, k3_flatten, use_inputs])\n",
    "    else:\n",
    "        concat_kern = concatenate([k1_flatten, k2_flatten, k3_flatten])\n",
    "        \n",
    "    denseLayer = Dense(denseInputs, activation='relu')(concat_kern)\n",
    "    cnnOutputs = Dense(1, activation='sigmoid')(denseLayer)\n",
    "    \n",
    "    if use == True:\n",
    "        model = Model(inputs=[k1_inputs, k2_inputs, k3_inputs, use_inputs], outputs=cnnOutputs)\n",
    "    else:\n",
    "        model = Model(inputs=[k1_inputs, k2_inputs, k3_inputs], outputs=cnnOutputs)\n",
    "    \n",
    "    model.compile(loss='binary_crossentropy', optimizer='adam', metrics=['accuracy'])\n",
    "    \n",
    "    #https://machinelearningmastery.com/how-to-stop-training-deep-neural-networks-at-the-right-time-using-early-stopping/\n",
    "    # simple early stopping\n",
    "#     es = EarlyStopping(monitor='val_loss', mode='min', verbose=1, patience=200)\n",
    "#     mc = ModelCheckpoint('best_model.h5', monitor='val_acc', mode='max', verbose=1, save_best_only=True)\n",
    "    \n",
    "    print(model.summary())\n",
    "        \n",
    "    #plot_model(model, show_shapes=True, to_file='CNNModel.png')\n",
    "        \n",
    "    return model\n"
   ]
  },
  {
   "cell_type": "markdown",
   "metadata": {},
   "source": [
    "## Simple Softmax for Baseline USE Outputs"
   ]
  },
  {
   "cell_type": "code",
   "execution_count": null,
   "metadata": {},
   "outputs": [],
   "source": [
    "def simpleSoft(length=512, act = 'relu', denseInputs=10):\n",
    "    \n",
    "    universalEmbeddings = Input(shape=(length,))\n",
    "    \n",
    "    denseLayer = Dense(denseInputs, activation=act)(universalEmbeddings)\n",
    "    denseOutputs = Dense(1, activation='sigmoid')(denseLayer)\n",
    "    \n",
    "    model = Model(inputs=[universalEmbeddings], outputs=denseOutputs)\n",
    "    \n",
    "    model.compile(loss='binary_crossentropy', optimizer='adam', metrics=['accuracy'])\n",
    " \n",
    "    print(model.summary())\n",
    "                \n",
    "    return model"
   ]
  },
  {
   "cell_type": "code",
   "execution_count": 54,
   "metadata": {
    "scrolled": false
   },
   "outputs": [
    {
     "name": "stdout",
     "output_type": "stream",
     "text": [
      "_________________________________________________________________\n",
      "Layer (type)                 Output Shape              Param #   \n",
      "=================================================================\n",
      "input_7 (InputLayer)         (None, 512)               0         \n",
      "_________________________________________________________________\n",
      "dense_11 (Dense)             (None, 20)                10260     \n",
      "_________________________________________________________________\n",
      "dense_12 (Dense)             (None, 1)                 21        \n",
      "=================================================================\n",
      "Total params: 10,281\n",
      "Trainable params: 10,281\n",
      "Non-trainable params: 0\n",
      "_________________________________________________________________\n",
      "None\n",
      "Epoch 1/5\n",
      "1200000/1200000 [==============================] - 5s 4us/step - loss: 0.3937 - acc: 0.8581\n",
      "Epoch 2/5\n",
      "1200000/1200000 [==============================] - 3s 3us/step - loss: 0.2609 - acc: 0.8949\n",
      "Epoch 3/5\n",
      "1200000/1200000 [==============================] - 3s 3us/step - loss: 0.2509 - acc: 0.8987\n",
      "Epoch 4/5\n",
      "1200000/1200000 [==============================] - 3s 3us/step - loss: 0.2467 - acc: 0.9003\n",
      "Epoch 5/5\n",
      "1200000/1200000 [==============================] - 3s 3us/step - loss: 0.2434 - acc: 0.9014\n"
     ]
    },
    {
     "data": {
      "text/plain": [
       "<keras.callbacks.History at 0x7fbd44795b70>"
      ]
     },
     "execution_count": 54,
     "metadata": {},
     "output_type": "execute_result"
    }
   ],
   "source": [
    "simpleSoftUSE = simpleSoft(denseInputs=20)\n",
    "\n",
    "simpleSoftUSE.fit([train_data_USE], X_train_labels, epochs=5, batch_size=5000)"
   ]
  },
  {
   "cell_type": "code",
   "execution_count": 55,
   "metadata": {},
   "outputs": [],
   "source": [
    "simpleSoftUSE.save('../../SimpleSoftmax_USE.h5')"
   ]
  },
  {
   "cell_type": "code",
   "execution_count": 56,
   "metadata": {},
   "outputs": [],
   "source": [
    "simpleSoftUSE = load_model('../../SimpleSoftmax_USE.h5')"
   ]
  },
  {
   "cell_type": "code",
   "execution_count": 57,
   "metadata": {},
   "outputs": [],
   "source": [
    "train_acc = simpleSoftUSE.evaluate([train_data_USE], X_train_labels, verbose=0)"
   ]
  },
  {
   "cell_type": "code",
   "execution_count": 58,
   "metadata": {},
   "outputs": [],
   "source": [
    "test_acc = simpleSoftUSE.evaluate([test_data_USE], X_test_labels, verbose=0)"
   ]
  },
  {
   "cell_type": "code",
   "execution_count": 59,
   "metadata": {},
   "outputs": [
    {
     "name": "stdout",
     "output_type": "stream",
     "text": [
      "Simple Dense Layer to Softmax Accuracy using USE\n",
      "Train: 0.902, Test: 0.899\n"
     ]
    }
   ],
   "source": [
    "print('Simple Dense Layer to Softmax Accuracy using USE\\nTrain: %.3f, Test: %.3f' % (train_acc[1], test_acc[1]))"
   ]
  },
  {
   "cell_type": "markdown",
   "metadata": {},
   "source": [
    "## Build and Evaluate CNN w/ Glove + USE"
   ]
  },
  {
   "cell_type": "code",
   "execution_count": 34,
   "metadata": {
    "scrolled": false
   },
   "outputs": [
    {
     "name": "stdout",
     "output_type": "stream",
     "text": [
      "__________________________________________________________________________________________________\n",
      "Layer (type)                    Output Shape         Param #     Connected to                     \n",
      "==================================================================================================\n",
      "input_1 (InputLayer)            (None, 200)          0                                            \n",
      "__________________________________________________________________________________________________\n",
      "input_2 (InputLayer)            (None, 200)          0                                            \n",
      "__________________________________________________________________________________________________\n",
      "input_3 (InputLayer)            (None, 200)          0                                            \n",
      "__________________________________________________________________________________________________\n",
      "embedding_1 (Embedding)         (None, 200, 300)     115571700   input_1[0][0]                    \n",
      "__________________________________________________________________________________________________\n",
      "embedding_2 (Embedding)         (None, 200, 300)     115571700   input_2[0][0]                    \n",
      "__________________________________________________________________________________________________\n",
      "embedding_3 (Embedding)         (None, 200, 300)     115571700   input_3[0][0]                    \n",
      "__________________________________________________________________________________________________\n",
      "conv1d_1 (Conv1D)               (None, 197, 128)     153728      embedding_1[0][0]                \n",
      "__________________________________________________________________________________________________\n",
      "conv1d_2 (Conv1D)               (None, 196, 128)     192128      embedding_2[0][0]                \n",
      "__________________________________________________________________________________________________\n",
      "conv1d_3 (Conv1D)               (None, 195, 128)     230528      embedding_3[0][0]                \n",
      "__________________________________________________________________________________________________\n",
      "dropout_1 (Dropout)             (None, 197, 128)     0           conv1d_1[0][0]                   \n",
      "__________________________________________________________________________________________________\n",
      "dropout_2 (Dropout)             (None, 196, 128)     0           conv1d_2[0][0]                   \n",
      "__________________________________________________________________________________________________\n",
      "dropout_3 (Dropout)             (None, 195, 128)     0           conv1d_3[0][0]                   \n",
      "__________________________________________________________________________________________________\n",
      "max_pooling1d_1 (MaxPooling1D)  (None, 98, 128)      0           dropout_1[0][0]                  \n",
      "__________________________________________________________________________________________________\n",
      "max_pooling1d_2 (MaxPooling1D)  (None, 98, 128)      0           dropout_2[0][0]                  \n",
      "__________________________________________________________________________________________________\n",
      "max_pooling1d_3 (MaxPooling1D)  (None, 97, 128)      0           dropout_3[0][0]                  \n",
      "__________________________________________________________________________________________________\n",
      "flatten_1 (Flatten)             (None, 12544)        0           max_pooling1d_1[0][0]            \n",
      "__________________________________________________________________________________________________\n",
      "flatten_2 (Flatten)             (None, 12544)        0           max_pooling1d_2[0][0]            \n",
      "__________________________________________________________________________________________________\n",
      "flatten_3 (Flatten)             (None, 12416)        0           max_pooling1d_3[0][0]            \n",
      "__________________________________________________________________________________________________\n",
      "input_4 (InputLayer)            (None, 512)          0                                            \n",
      "__________________________________________________________________________________________________\n",
      "concatenate_1 (Concatenate)     (None, 38016)        0           flatten_1[0][0]                  \n",
      "                                                                 flatten_2[0][0]                  \n",
      "                                                                 flatten_3[0][0]                  \n",
      "                                                                 input_4[0][0]                    \n",
      "__________________________________________________________________________________________________\n",
      "dense_1 (Dense)                 (None, 10)           380170      concatenate_1[0][0]              \n",
      "__________________________________________________________________________________________________\n",
      "dense_2 (Dense)                 (None, 1)            11          dense_1[0][0]                    \n",
      "==================================================================================================\n",
      "Total params: 347,671,665\n",
      "Trainable params: 956,565\n",
      "Non-trainable params: 346,715,100\n",
      "__________________________________________________________________________________________________\n",
      "None\n",
      "Epoch 1/3\n",
      "1200000/1200000 [==============================] - 1347s 1ms/step - loss: 0.4598 - acc: 0.8696\n",
      "Epoch 2/3\n",
      "1200000/1200000 [==============================] - 1351s 1ms/step - loss: 0.2739 - acc: 0.9298\n",
      "Epoch 3/3\n",
      "1200000/1200000 [==============================] - 1349s 1ms/step - loss: 0.1507 - acc: 0.9444\n"
     ]
    },
    {
     "data": {
      "text/plain": [
       "<keras.callbacks.History at 0x7f6f44068160>"
      ]
     },
     "execution_count": 34,
     "metadata": {},
     "output_type": "execute_result"
    }
   ],
   "source": [
    "#embeds can be None, 'w2v', or 'Glove'\n",
    "#if use is True, you need to adjust the cnnModel.fit to include the USE outputs as an input\n",
    "\n",
    "cnnModel = CreateKimCNN(kernelSize=[4, 5, 6], numFilters=128, embedDepth=300, \n",
    "                 dropOut=0.5, embeds='Glove', use=True, length=max_length,\n",
    "                 pool=2, denseInputs=10, train=False)\n",
    "\n",
    "cnnModel.fit([X_train,X_train,X_train, train_data_USE], X_train_labels, epochs=3, batch_size=5000)"
   ]
  },
  {
   "cell_type": "code",
   "execution_count": 39,
   "metadata": {},
   "outputs": [],
   "source": [
    "cnnModel.save('../../CNNModel_200MaxL_Glove_USE.h5')"
   ]
  },
  {
   "cell_type": "code",
   "execution_count": null,
   "metadata": {},
   "outputs": [],
   "source": [
    "cnnModel = load_model('../../CNNModel_200MaxL_Glove_USE.h5')"
   ]
  },
  {
   "cell_type": "code",
   "execution_count": null,
   "metadata": {},
   "outputs": [],
   "source": [
    "train_acc = cnnModel.evaluate([X_train, X_train, X_train, train_data_USE], X_train_labels, verbose=0)"
   ]
  },
  {
   "cell_type": "code",
   "execution_count": 29,
   "metadata": {
    "scrolled": true
   },
   "outputs": [
    {
     "data": {
      "text/plain": [
       "0.9668933333333334"
      ]
     },
     "execution_count": 29,
     "metadata": {},
     "output_type": "execute_result"
    }
   ],
   "source": [
    "train_acc"
   ]
  },
  {
   "cell_type": "code",
   "execution_count": 35,
   "metadata": {},
   "outputs": [],
   "source": [
    "test_acc = cnnModel.evaluate([X_test, X_test, X_test, test_data_USE], X_test_labels, verbose=0)"
   ]
  },
  {
   "cell_type": "code",
   "execution_count": 36,
   "metadata": {},
   "outputs": [
    {
     "name": "stdout",
     "output_type": "stream",
     "text": [
      "Train: 0.967, Test: 0.966\n"
     ]
    }
   ],
   "source": [
    "print('CNN Model Accuracy using Glove + USE\\nTrain: %.3f, Test: %.3f' % (train_acc, test_acc))"
   ]
  },
  {
   "cell_type": "markdown",
   "metadata": {},
   "source": [
    "## Build and Evaluate CNN w/ Glove"
   ]
  },
  {
   "cell_type": "code",
   "execution_count": 39,
   "metadata": {},
   "outputs": [
    {
     "name": "stdout",
     "output_type": "stream",
     "text": [
      "__________________________________________________________________________________________________\n",
      "Layer (type)                    Output Shape         Param #     Connected to                     \n",
      "==================================================================================================\n",
      "input_5 (InputLayer)            (None, 200)          0                                            \n",
      "__________________________________________________________________________________________________\n",
      "input_6 (InputLayer)            (None, 200)          0                                            \n",
      "__________________________________________________________________________________________________\n",
      "input_7 (InputLayer)            (None, 200)          0                                            \n",
      "__________________________________________________________________________________________________\n",
      "embedding_4 (Embedding)         (None, 200, 300)     115571700   input_5[0][0]                    \n",
      "__________________________________________________________________________________________________\n",
      "embedding_5 (Embedding)         (None, 200, 300)     115571700   input_6[0][0]                    \n",
      "__________________________________________________________________________________________________\n",
      "embedding_6 (Embedding)         (None, 200, 300)     115571700   input_7[0][0]                    \n",
      "__________________________________________________________________________________________________\n",
      "conv1d_4 (Conv1D)               (None, 197, 128)     153728      embedding_4[0][0]                \n",
      "__________________________________________________________________________________________________\n",
      "conv1d_5 (Conv1D)               (None, 196, 128)     192128      embedding_5[0][0]                \n",
      "__________________________________________________________________________________________________\n",
      "conv1d_6 (Conv1D)               (None, 195, 128)     230528      embedding_6[0][0]                \n",
      "__________________________________________________________________________________________________\n",
      "dropout_4 (Dropout)             (None, 197, 128)     0           conv1d_4[0][0]                   \n",
      "__________________________________________________________________________________________________\n",
      "dropout_5 (Dropout)             (None, 196, 128)     0           conv1d_5[0][0]                   \n",
      "__________________________________________________________________________________________________\n",
      "dropout_6 (Dropout)             (None, 195, 128)     0           conv1d_6[0][0]                   \n",
      "__________________________________________________________________________________________________\n",
      "max_pooling1d_4 (MaxPooling1D)  (None, 98, 128)      0           dropout_4[0][0]                  \n",
      "__________________________________________________________________________________________________\n",
      "max_pooling1d_5 (MaxPooling1D)  (None, 98, 128)      0           dropout_5[0][0]                  \n",
      "__________________________________________________________________________________________________\n",
      "max_pooling1d_6 (MaxPooling1D)  (None, 97, 128)      0           dropout_6[0][0]                  \n",
      "__________________________________________________________________________________________________\n",
      "flatten_4 (Flatten)             (None, 12544)        0           max_pooling1d_4[0][0]            \n",
      "__________________________________________________________________________________________________\n",
      "flatten_5 (Flatten)             (None, 12544)        0           max_pooling1d_5[0][0]            \n",
      "__________________________________________________________________________________________________\n",
      "flatten_6 (Flatten)             (None, 12416)        0           max_pooling1d_6[0][0]            \n",
      "__________________________________________________________________________________________________\n",
      "concatenate_2 (Concatenate)     (None, 37504)        0           flatten_4[0][0]                  \n",
      "                                                                 flatten_5[0][0]                  \n",
      "                                                                 flatten_6[0][0]                  \n",
      "__________________________________________________________________________________________________\n",
      "dense_3 (Dense)                 (None, 10)           375050      concatenate_2[0][0]              \n",
      "__________________________________________________________________________________________________\n",
      "dense_4 (Dense)                 (None, 1)            11          dense_3[0][0]                    \n",
      "==================================================================================================\n",
      "Total params: 347,666,545\n",
      "Trainable params: 951,445\n",
      "Non-trainable params: 346,715,100\n",
      "__________________________________________________________________________________________________\n",
      "None\n",
      "Epoch 1/3\n",
      "1200000/1200000 [==============================] - 1323s 1ms/step - loss: 0.4785 - acc: 0.8453\n",
      "Epoch 2/3\n",
      "1200000/1200000 [==============================] - 1312s 1ms/step - loss: 0.3730 - acc: 0.9218\n",
      "Epoch 3/3\n",
      "1200000/1200000 [==============================] - 1308s 1ms/step - loss: 0.3242 - acc: 0.9328\n"
     ]
    }
   ],
   "source": [
    "cnnModel2 = CreateKimCNN(kernelSize=[4, 5, 6], numFilters=128, embedDepth=300, \n",
    "                 dropOut=0.5, embeds='Glove', use=False, length=max_length,\n",
    "                 vocab = vocabulary_size, pool = 2, denseInputs = 10)\n",
    "\n",
    "cnnModel2.fit([X_train,X_train,X_train], X_train_labels, epochs=3, batch_size=5000)\n",
    "\n",
    "cnnModel2.save('../../CNNModel_200MaxL_Glove.h5')"
   ]
  },
  {
   "cell_type": "code",
   "execution_count": 45,
   "metadata": {},
   "outputs": [],
   "source": [
    "cnnModel2 = load_model('../../CNNModel_200MaxL_Glove.h5')"
   ]
  },
  {
   "cell_type": "code",
   "execution_count": 47,
   "metadata": {},
   "outputs": [
    {
     "data": {
      "text/plain": [
       "[0.304349864111344, 0.9415758333333333]"
      ]
     },
     "execution_count": 47,
     "metadata": {},
     "output_type": "execute_result"
    }
   ],
   "source": [
    "train_acc = cnnModel2.evaluate([X_train, X_train, X_train], X_train_labels, verbose=0)\n",
    "train_acc"
   ]
  },
  {
   "cell_type": "code",
   "execution_count": 48,
   "metadata": {},
   "outputs": [
    {
     "data": {
      "text/plain": [
       "[0.304349864111344, 0.9415758333333333]"
      ]
     },
     "execution_count": 48,
     "metadata": {},
     "output_type": "execute_result"
    }
   ],
   "source": [
    "test_acc = cnnModel2.evaluate([X_test, X_test, X_test], X_test_labels, verbose=0)\n",
    "test_acc"
   ]
  },
  {
   "cell_type": "code",
   "execution_count": 49,
   "metadata": {},
   "outputs": [
    {
     "name": "stdout",
     "output_type": "stream",
     "text": [
      "CNN Model Accuracy using Glove\n",
      "Train: 0.942, Test: 0.942\n"
     ]
    }
   ],
   "source": [
    "print('CNN Model Accuracy using Glove\\nTrain: %.3f, Test: %.3f' % (train_acc[1], test_acc[1]))"
   ]
  },
  {
   "cell_type": "markdown",
   "metadata": {},
   "source": [
    "## Build and Evaluate CNN w/ word2vec"
   ]
  },
  {
   "cell_type": "code",
   "execution_count": 50,
   "metadata": {},
   "outputs": [
    {
     "name": "stdout",
     "output_type": "stream",
     "text": [
      "__________________________________________________________________________________________________\n",
      "Layer (type)                    Output Shape         Param #     Connected to                     \n",
      "==================================================================================================\n",
      "input_11 (InputLayer)           (None, 200)          0                                            \n",
      "__________________________________________________________________________________________________\n",
      "input_12 (InputLayer)           (None, 200)          0                                            \n",
      "__________________________________________________________________________________________________\n",
      "input_13 (InputLayer)           (None, 200)          0                                            \n",
      "__________________________________________________________________________________________________\n",
      "embedding_10 (Embedding)        (None, 200, 300)     115571700   input_11[0][0]                   \n",
      "__________________________________________________________________________________________________\n",
      "embedding_11 (Embedding)        (None, 200, 300)     115571700   input_12[0][0]                   \n",
      "__________________________________________________________________________________________________\n",
      "embedding_12 (Embedding)        (None, 200, 300)     115571700   input_13[0][0]                   \n",
      "__________________________________________________________________________________________________\n",
      "conv1d_10 (Conv1D)              (None, 197, 128)     153728      embedding_10[0][0]               \n",
      "__________________________________________________________________________________________________\n",
      "conv1d_11 (Conv1D)              (None, 196, 128)     192128      embedding_11[0][0]               \n",
      "__________________________________________________________________________________________________\n",
      "conv1d_12 (Conv1D)              (None, 195, 128)     230528      embedding_12[0][0]               \n",
      "__________________________________________________________________________________________________\n",
      "dropout_10 (Dropout)            (None, 197, 128)     0           conv1d_10[0][0]                  \n",
      "__________________________________________________________________________________________________\n",
      "dropout_11 (Dropout)            (None, 196, 128)     0           conv1d_11[0][0]                  \n",
      "__________________________________________________________________________________________________\n",
      "dropout_12 (Dropout)            (None, 195, 128)     0           conv1d_12[0][0]                  \n",
      "__________________________________________________________________________________________________\n",
      "max_pooling1d_10 (MaxPooling1D) (None, 98, 128)      0           dropout_10[0][0]                 \n",
      "__________________________________________________________________________________________________\n",
      "max_pooling1d_11 (MaxPooling1D) (None, 98, 128)      0           dropout_11[0][0]                 \n",
      "__________________________________________________________________________________________________\n",
      "max_pooling1d_12 (MaxPooling1D) (None, 97, 128)      0           dropout_12[0][0]                 \n",
      "__________________________________________________________________________________________________\n",
      "flatten_10 (Flatten)            (None, 12544)        0           max_pooling1d_10[0][0]           \n",
      "__________________________________________________________________________________________________\n",
      "flatten_11 (Flatten)            (None, 12544)        0           max_pooling1d_11[0][0]           \n",
      "__________________________________________________________________________________________________\n",
      "flatten_12 (Flatten)            (None, 12416)        0           max_pooling1d_12[0][0]           \n",
      "__________________________________________________________________________________________________\n",
      "concatenate_4 (Concatenate)     (None, 37504)        0           flatten_10[0][0]                 \n",
      "                                                                 flatten_11[0][0]                 \n",
      "                                                                 flatten_12[0][0]                 \n",
      "__________________________________________________________________________________________________\n",
      "dense_7 (Dense)                 (None, 10)           375050      concatenate_4[0][0]              \n",
      "__________________________________________________________________________________________________\n",
      "dense_8 (Dense)                 (None, 1)            11          dense_7[0][0]                    \n",
      "==================================================================================================\n",
      "Total params: 347,666,545\n",
      "Trainable params: 951,445\n",
      "Non-trainable params: 346,715,100\n",
      "__________________________________________________________________________________________________\n",
      "None\n",
      "Epoch 1/3\n",
      "1200000/1200000 [==============================] - 1310s 1ms/step - loss: 0.4826 - acc: 0.8452\n",
      "Epoch 2/3\n",
      "1200000/1200000 [==============================] - 1299s 1ms/step - loss: 0.3837 - acc: 0.9132\n",
      "Epoch 3/3\n",
      "1200000/1200000 [==============================] - 1303s 1ms/step - loss: 0.3288 - acc: 0.9297\n"
     ]
    }
   ],
   "source": [
    "cnnModel3 = CreateKimCNN(kernelSize=[4, 5, 6], numFilters=128, embedDepth=300, \n",
    "                 dropOut=0.5, embeds='w2v', use=False, length=max_length,\n",
    "                 vocab = vocabulary_size, pool = 2, denseInputs = 10)\n",
    "\n",
    "cnnModel3.fit([X_train,X_train,X_train], X_train_labels, epochs=3, batch_size=5000)\n",
    "\n",
    "cnnModel3.save('../../CNNModel_200MaxL_w2v.h5')"
   ]
  },
  {
   "cell_type": "code",
   "execution_count": null,
   "metadata": {},
   "outputs": [],
   "source": [
    "cnnModel3 = load_model('../../CNNModel_200MaxL_w2v.h5')"
   ]
  },
  {
   "cell_type": "code",
   "execution_count": 51,
   "metadata": {},
   "outputs": [
    {
     "data": {
      "text/plain": [
       "[0.29983700858175755, 0.9432]"
      ]
     },
     "execution_count": 51,
     "metadata": {},
     "output_type": "execute_result"
    }
   ],
   "source": [
    "train_acc = cnnModel3.evaluate([X_train, X_train, X_train], X_train_labels, verbose=0)\n",
    "train_acc"
   ]
  },
  {
   "cell_type": "code",
   "execution_count": 52,
   "metadata": {},
   "outputs": [
    {
     "data": {
      "text/plain": [
       "[0.29983700858175755, 0.9432]"
      ]
     },
     "execution_count": 52,
     "metadata": {},
     "output_type": "execute_result"
    }
   ],
   "source": [
    "test_acc = cnnModel3.evaluate([X_test, X_test, X_test], X_test_labels, verbose=0)\n",
    "test_acc"
   ]
  },
  {
   "cell_type": "code",
   "execution_count": 54,
   "metadata": {},
   "outputs": [
    {
     "name": "stdout",
     "output_type": "stream",
     "text": [
      "CNN Model Accuracy using w2v\n",
      "Train: 0.943, Test: 0.943\n"
     ]
    }
   ],
   "source": [
    "print('CNN Model Accuracy using w2v\\nTrain: %.3f, Test: %.3f' % (train_acc[1], test_acc[1]))"
   ]
  },
  {
   "cell_type": "code",
   "execution_count": 39,
   "metadata": {
    "scrolled": false
   },
   "outputs": [
    {
     "name": "stdout",
     "output_type": "stream",
     "text": [
      "__________________________________________________________________________________________________\n",
      "Layer (type)                    Output Shape         Param #     Connected to                     \n",
      "==================================================================================================\n",
      "input_12 (InputLayer)           (None, 200)          0                                            \n",
      "__________________________________________________________________________________________________\n",
      "input_13 (InputLayer)           (None, 200)          0                                            \n",
      "__________________________________________________________________________________________________\n",
      "input_14 (InputLayer)           (None, 200)          0                                            \n",
      "__________________________________________________________________________________________________\n",
      "embedding_9 (Embedding)         (None, 200, 300)     115571700   input_12[0][0]                   \n",
      "__________________________________________________________________________________________________\n",
      "embedding_10 (Embedding)        (None, 200, 300)     115571700   input_13[0][0]                   \n",
      "__________________________________________________________________________________________________\n",
      "embedding_11 (Embedding)        (None, 200, 300)     115571700   input_14[0][0]                   \n",
      "__________________________________________________________________________________________________\n",
      "conv1d_7 (Conv1D)               (None, 197, 128)     153728      embedding_9[0][0]                \n",
      "__________________________________________________________________________________________________\n",
      "conv1d_8 (Conv1D)               (None, 196, 128)     192128      embedding_10[0][0]               \n",
      "__________________________________________________________________________________________________\n",
      "conv1d_9 (Conv1D)               (None, 195, 128)     230528      embedding_11[0][0]               \n",
      "__________________________________________________________________________________________________\n",
      "dropout_7 (Dropout)             (None, 197, 128)     0           conv1d_7[0][0]                   \n",
      "__________________________________________________________________________________________________\n",
      "dropout_8 (Dropout)             (None, 196, 128)     0           conv1d_8[0][0]                   \n",
      "__________________________________________________________________________________________________\n",
      "dropout_9 (Dropout)             (None, 195, 128)     0           conv1d_9[0][0]                   \n",
      "__________________________________________________________________________________________________\n",
      "max_pooling1d_7 (MaxPooling1D)  (None, 98, 128)      0           dropout_7[0][0]                  \n",
      "__________________________________________________________________________________________________\n",
      "max_pooling1d_8 (MaxPooling1D)  (None, 98, 128)      0           dropout_8[0][0]                  \n",
      "__________________________________________________________________________________________________\n",
      "max_pooling1d_9 (MaxPooling1D)  (None, 97, 128)      0           dropout_9[0][0]                  \n",
      "__________________________________________________________________________________________________\n",
      "flatten_7 (Flatten)             (None, 12544)        0           max_pooling1d_7[0][0]            \n",
      "__________________________________________________________________________________________________\n",
      "flatten_8 (Flatten)             (None, 12544)        0           max_pooling1d_8[0][0]            \n",
      "__________________________________________________________________________________________________\n",
      "flatten_9 (Flatten)             (None, 12416)        0           max_pooling1d_9[0][0]            \n",
      "__________________________________________________________________________________________________\n",
      "input_15 (InputLayer)           (None, 512)          0                                            \n",
      "__________________________________________________________________________________________________\n",
      "concatenate_3 (Concatenate)     (None, 38016)        0           flatten_7[0][0]                  \n",
      "                                                                 flatten_8[0][0]                  \n",
      "                                                                 flatten_9[0][0]                  \n",
      "                                                                 input_15[0][0]                   \n",
      "__________________________________________________________________________________________________\n",
      "dense_5 (Dense)                 (None, 10)           380170      concatenate_3[0][0]              \n",
      "__________________________________________________________________________________________________\n",
      "dense_6 (Dense)                 (None, 1)            11          dense_5[0][0]                    \n",
      "==================================================================================================\n",
      "Total params: 347,671,665\n",
      "Trainable params: 956,565\n",
      "Non-trainable params: 346,715,100\n",
      "__________________________________________________________________________________________________\n",
      "None\n",
      "Epoch 1/3\n",
      "1200000/1200000 [==============================] - 1344s 1ms/step - loss: 0.4763 - acc: 0.8508\n",
      "Epoch 2/3\n",
      "1200000/1200000 [==============================] - 1337s 1ms/step - loss: 0.3734 - acc: 0.9224\n",
      "Epoch 3/3\n",
      "1200000/1200000 [==============================] - 1339s 1ms/step - loss: 0.3188 - acc: 0.9375\n"
     ]
    }
   ],
   "source": [
    "cnnModel4 = CreateKimCNN(kernelSize=[4, 5, 6], numFilters=128, embedDepth=300, \n",
    "                 dropOut=0.5, embeds='w2v', use=True, length=max_length,\n",
    "                 vocab = vocabulary_size, pool = 2, denseInputs = 10)\n",
    "\n",
    "cnnModel4.fit([X_train, X_train, X_train, train_data_USE], X_train_labels, epochs=3, batch_size=5000)\n",
    "\n",
    "cnnModel4.save('../../CNNModel_200MaxL_w2v_USE.h5')"
   ]
  },
  {
   "cell_type": "code",
   "execution_count": 40,
   "metadata": {},
   "outputs": [],
   "source": [
    "cnnModel4 = load_model('../../CNNModel_200MaxL_w2v_USE.h5')"
   ]
  },
  {
   "cell_type": "code",
   "execution_count": 41,
   "metadata": {},
   "outputs": [
    {
     "data": {
      "text/plain": [
       "[0.2875843709284067, 0.9511316666666667]"
      ]
     },
     "execution_count": 41,
     "metadata": {},
     "output_type": "execute_result"
    }
   ],
   "source": [
    "train_acc = cnnModel4.evaluate([X_train, X_train, X_train, train_data_USE], X_train_labels, verbose=0)\n",
    "train_acc"
   ]
  },
  {
   "cell_type": "code",
   "execution_count": 42,
   "metadata": {},
   "outputs": [
    {
     "name": "stdout",
     "output_type": "stream",
     "text": [
      "CNN Model Accuracy using w2v + USE\n",
      "Train: 0.951, Test: 0.951\n"
     ]
    }
   ],
   "source": [
    "test_acc = cnnModel4.evaluate([X_train, X_train, X_train, train_data_USE], X_test_labels, verbose=0)\n",
    "test_acc\n",
    "\n",
    "print('CNN Model Accuracy using w2v + USE\\nTrain: %.3f, Test: %.3f' % (train_acc[1], test_acc[1]))"
   ]
  },
  {
   "cell_type": "code",
   "execution_count": 43,
   "metadata": {},
   "outputs": [
    {
     "name": "stdout",
     "output_type": "stream",
     "text": [
      "__________________________________________________________________________________________________\n",
      "Layer (type)                    Output Shape         Param #     Connected to                     \n",
      "==================================================================================================\n",
      "input_16 (InputLayer)           (None, 200)          0                                            \n",
      "__________________________________________________________________________________________________\n",
      "input_17 (InputLayer)           (None, 200)          0                                            \n",
      "__________________________________________________________________________________________________\n",
      "input_18 (InputLayer)           (None, 200)          0                                            \n",
      "__________________________________________________________________________________________________\n",
      "embedding_12 (Embedding)        (None, 200, 300)     115571700   input_16[0][0]                   \n",
      "__________________________________________________________________________________________________\n",
      "embedding_13 (Embedding)        (None, 200, 300)     115571700   input_17[0][0]                   \n",
      "__________________________________________________________________________________________________\n",
      "embedding_14 (Embedding)        (None, 200, 300)     115571700   input_18[0][0]                   \n",
      "__________________________________________________________________________________________________\n",
      "conv1d_10 (Conv1D)              (None, 197, 128)     153728      embedding_12[0][0]               \n",
      "__________________________________________________________________________________________________\n",
      "conv1d_11 (Conv1D)              (None, 196, 128)     192128      embedding_13[0][0]               \n",
      "__________________________________________________________________________________________________\n",
      "conv1d_12 (Conv1D)              (None, 195, 128)     230528      embedding_14[0][0]               \n",
      "__________________________________________________________________________________________________\n",
      "dropout_10 (Dropout)            (None, 197, 128)     0           conv1d_10[0][0]                  \n",
      "__________________________________________________________________________________________________\n",
      "dropout_11 (Dropout)            (None, 196, 128)     0           conv1d_11[0][0]                  \n",
      "__________________________________________________________________________________________________\n",
      "dropout_12 (Dropout)            (None, 195, 128)     0           conv1d_12[0][0]                  \n",
      "__________________________________________________________________________________________________\n",
      "max_pooling1d_10 (MaxPooling1D) (None, 98, 128)      0           dropout_10[0][0]                 \n",
      "__________________________________________________________________________________________________\n",
      "max_pooling1d_11 (MaxPooling1D) (None, 98, 128)      0           dropout_11[0][0]                 \n",
      "__________________________________________________________________________________________________\n",
      "max_pooling1d_12 (MaxPooling1D) (None, 97, 128)      0           dropout_12[0][0]                 \n",
      "__________________________________________________________________________________________________\n",
      "flatten_10 (Flatten)            (None, 12544)        0           max_pooling1d_10[0][0]           \n",
      "__________________________________________________________________________________________________\n",
      "flatten_11 (Flatten)            (None, 12544)        0           max_pooling1d_11[0][0]           \n",
      "__________________________________________________________________________________________________\n",
      "flatten_12 (Flatten)            (None, 12416)        0           max_pooling1d_12[0][0]           \n",
      "__________________________________________________________________________________________________\n",
      "concatenate_4 (Concatenate)     (None, 37504)        0           flatten_10[0][0]                 \n",
      "                                                                 flatten_11[0][0]                 \n",
      "                                                                 flatten_12[0][0]                 \n",
      "__________________________________________________________________________________________________\n",
      "dense_7 (Dense)                 (None, 10)           375050      concatenate_4[0][0]              \n",
      "__________________________________________________________________________________________________\n",
      "dense_8 (Dense)                 (None, 1)            11          dense_7[0][0]                    \n",
      "==================================================================================================\n",
      "Total params: 347,666,545\n",
      "Trainable params: 347,666,545\n",
      "Non-trainable params: 0\n",
      "__________________________________________________________________________________________________\n",
      "None\n"
     ]
    },
    {
     "name": "stderr",
     "output_type": "stream",
     "text": [
      "/home/lance_miles/anaconda3/lib/python3.6/site-packages/tensorflow/python/ops/gradients_impl.py:105: UserWarning: Converting sparse IndexedSlices to a dense Tensor with 115571700 elements. This may consume a large amount of memory.\n",
      "  num_elements)\n",
      "/home/lance_miles/anaconda3/lib/python3.6/site-packages/tensorflow/python/ops/gradients_impl.py:105: UserWarning: Converting sparse IndexedSlices to a dense Tensor with 115571700 elements. This may consume a large amount of memory.\n",
      "  num_elements)\n",
      "/home/lance_miles/anaconda3/lib/python3.6/site-packages/tensorflow/python/ops/gradients_impl.py:105: UserWarning: Converting sparse IndexedSlices to a dense Tensor with 115571700 elements. This may consume a large amount of memory.\n",
      "  num_elements)\n",
      "/home/lance_miles/anaconda3/lib/python3.6/site-packages/tensorflow/python/ops/gradients_impl.py:105: UserWarning: Converting sparse IndexedSlices to a dense Tensor with 115571700 elements. This may consume a large amount of memory.\n",
      "  num_elements)\n",
      "/home/lance_miles/anaconda3/lib/python3.6/site-packages/tensorflow/python/ops/gradients_impl.py:105: UserWarning: Converting sparse IndexedSlices to a dense Tensor with 115571700 elements. This may consume a large amount of memory.\n",
      "  num_elements)\n",
      "/home/lance_miles/anaconda3/lib/python3.6/site-packages/tensorflow/python/ops/gradients_impl.py:105: UserWarning: Converting sparse IndexedSlices to a dense Tensor with 115571700 elements. This may consume a large amount of memory.\n",
      "  num_elements)\n"
     ]
    },
    {
     "name": "stdout",
     "output_type": "stream",
     "text": [
      "Epoch 1/3\n",
      "1200000/1200000 [==============================] - 2117s 2ms/step - loss: 0.2655 - acc: 0.8730\n",
      "Epoch 2/3\n",
      "1200000/1200000 [==============================] - 2097s 2ms/step - loss: 0.1238 - acc: 0.9554\n",
      "Epoch 3/3\n",
      "1200000/1200000 [==============================] - 2091s 2ms/step - loss: 0.0898 - acc: 0.9697\n"
     ]
    }
   ],
   "source": [
    "cnnModel5 = CreateKimCNN(kernelSize=[4, 5, 6], numFilters=128, embedDepth=300, \n",
    "                 dropOut=0.5, embeds=None, use=False, length=max_length,\n",
    "                 vocab = vocabulary_size, pool = 2, denseInputs = 10)\n",
    "\n",
    "cnnModel5.fit([X_train, X_train, X_train], X_train_labels, epochs=3, batch_size=5000)\n",
    "\n",
    "cnnModel5.save('../../CNNModel_200MaxL_None.h5')"
   ]
  },
  {
   "cell_type": "code",
   "execution_count": 33,
   "metadata": {
    "scrolled": true
   },
   "outputs": [
    {
     "name": "stderr",
     "output_type": "stream",
     "text": [
      "/home/lance_miles/anaconda3/lib/python3.6/site-packages/tensorflow/python/ops/gradients_impl.py:105: UserWarning: Converting sparse IndexedSlices to a dense Tensor with 115571700 elements. This may consume a large amount of memory.\n",
      "  num_elements)\n",
      "/home/lance_miles/anaconda3/lib/python3.6/site-packages/tensorflow/python/ops/gradients_impl.py:105: UserWarning: Converting sparse IndexedSlices to a dense Tensor with 115571700 elements. This may consume a large amount of memory.\n",
      "  num_elements)\n",
      "/home/lance_miles/anaconda3/lib/python3.6/site-packages/tensorflow/python/ops/gradients_impl.py:105: UserWarning: Converting sparse IndexedSlices to a dense Tensor with 115571700 elements. This may consume a large amount of memory.\n",
      "  num_elements)\n",
      "/home/lance_miles/anaconda3/lib/python3.6/site-packages/tensorflow/python/ops/gradients_impl.py:105: UserWarning: Converting sparse IndexedSlices to a dense Tensor with 115571700 elements. This may consume a large amount of memory.\n",
      "  num_elements)\n",
      "/home/lance_miles/anaconda3/lib/python3.6/site-packages/tensorflow/python/ops/gradients_impl.py:105: UserWarning: Converting sparse IndexedSlices to a dense Tensor with 115571700 elements. This may consume a large amount of memory.\n",
      "  num_elements)\n",
      "/home/lance_miles/anaconda3/lib/python3.6/site-packages/tensorflow/python/ops/gradients_impl.py:105: UserWarning: Converting sparse IndexedSlices to a dense Tensor with 115571700 elements. This may consume a large amount of memory.\n",
      "  num_elements)\n"
     ]
    }
   ],
   "source": [
    "cnnModel5 = load_model('../../CNNModel_200MaxL_None.h5')"
   ]
  },
  {
   "cell_type": "code",
   "execution_count": 35,
   "metadata": {},
   "outputs": [
    {
     "data": {
      "text/plain": [
       "[0.08358829655398925, 0.9767966666666666]"
      ]
     },
     "execution_count": 35,
     "metadata": {},
     "output_type": "execute_result"
    }
   ],
   "source": [
    "train_acc = cnnModel5.evaluate([X_train, X_train, X_train], X_train_labels, verbose=0)\n",
    "train_acc"
   ]
  },
  {
   "cell_type": "code",
   "execution_count": null,
   "metadata": {},
   "outputs": [],
   "source": [
    "test_acc = cnnModel5.evaluate([X_train, X_train, X_train], X_test_labels, verbose=0)\n",
    "test_acc"
   ]
  },
  {
   "cell_type": "code",
   "execution_count": 36,
   "metadata": {},
   "outputs": [
    {
     "name": "stdout",
     "output_type": "stream",
     "text": [
      "CNN Model Accuracy using trained Embeddings\n",
      "Train: 0.977, Test: 0.977\n"
     ]
    }
   ],
   "source": [
    "print('CNN Model Accuracy using trained Embeddings\\nTrain: %.3f, Test: %.3f' % (train_acc[1], test_acc[1]))"
   ]
  },
  {
   "cell_type": "code",
   "execution_count": 35,
   "metadata": {
    "scrolled": false
   },
   "outputs": [
    {
     "name": "stdout",
     "output_type": "stream",
     "text": [
      "__________________________________________________________________________________________________\n",
      "Layer (type)                    Output Shape         Param #     Connected to                     \n",
      "==================================================================================================\n",
      "input_5 (InputLayer)            (None, 200)          0                                            \n",
      "__________________________________________________________________________________________________\n",
      "input_6 (InputLayer)            (None, 200)          0                                            \n",
      "__________________________________________________________________________________________________\n",
      "input_7 (InputLayer)            (None, 200)          0                                            \n",
      "__________________________________________________________________________________________________\n",
      "embedding_4 (Embedding)         (None, 200, 300)     115571700   input_5[0][0]                    \n",
      "__________________________________________________________________________________________________\n",
      "embedding_5 (Embedding)         (None, 200, 300)     115571700   input_6[0][0]                    \n",
      "__________________________________________________________________________________________________\n",
      "embedding_6 (Embedding)         (None, 200, 300)     115571700   input_7[0][0]                    \n",
      "__________________________________________________________________________________________________\n",
      "conv1d_4 (Conv1D)               (None, 197, 128)     153728      embedding_4[0][0]                \n",
      "__________________________________________________________________________________________________\n",
      "conv1d_5 (Conv1D)               (None, 196, 128)     192128      embedding_5[0][0]                \n",
      "__________________________________________________________________________________________________\n",
      "conv1d_6 (Conv1D)               (None, 195, 128)     230528      embedding_6[0][0]                \n",
      "__________________________________________________________________________________________________\n",
      "dropout_4 (Dropout)             (None, 197, 128)     0           conv1d_4[0][0]                   \n",
      "__________________________________________________________________________________________________\n",
      "dropout_5 (Dropout)             (None, 196, 128)     0           conv1d_5[0][0]                   \n",
      "__________________________________________________________________________________________________\n",
      "dropout_6 (Dropout)             (None, 195, 128)     0           conv1d_6[0][0]                   \n",
      "__________________________________________________________________________________________________\n",
      "max_pooling1d_4 (MaxPooling1D)  (None, 98, 128)      0           dropout_4[0][0]                  \n",
      "__________________________________________________________________________________________________\n",
      "max_pooling1d_5 (MaxPooling1D)  (None, 98, 128)      0           dropout_5[0][0]                  \n",
      "__________________________________________________________________________________________________\n",
      "max_pooling1d_6 (MaxPooling1D)  (None, 97, 128)      0           dropout_6[0][0]                  \n",
      "__________________________________________________________________________________________________\n",
      "flatten_4 (Flatten)             (None, 12544)        0           max_pooling1d_4[0][0]            \n",
      "__________________________________________________________________________________________________\n",
      "flatten_5 (Flatten)             (None, 12544)        0           max_pooling1d_5[0][0]            \n",
      "__________________________________________________________________________________________________\n",
      "flatten_6 (Flatten)             (None, 12416)        0           max_pooling1d_6[0][0]            \n",
      "__________________________________________________________________________________________________\n",
      "input_8 (InputLayer)            (None, 512)          0                                            \n",
      "__________________________________________________________________________________________________\n",
      "concatenate_2 (Concatenate)     (None, 38016)        0           flatten_4[0][0]                  \n",
      "                                                                 flatten_5[0][0]                  \n",
      "                                                                 flatten_6[0][0]                  \n",
      "                                                                 input_8[0][0]                    \n",
      "__________________________________________________________________________________________________\n",
      "dense_3 (Dense)                 (None, 10)           380170      concatenate_2[0][0]              \n",
      "__________________________________________________________________________________________________\n",
      "dense_4 (Dense)                 (None, 1)            11          dense_3[0][0]                    \n",
      "==================================================================================================\n",
      "Total params: 347,671,665\n",
      "Trainable params: 347,671,665\n",
      "Non-trainable params: 0\n",
      "__________________________________________________________________________________________________\n",
      "None\n"
     ]
    },
    {
     "name": "stderr",
     "output_type": "stream",
     "text": [
      "/home/lance_miles/anaconda3/lib/python3.6/site-packages/tensorflow/python/ops/gradients_impl.py:105: UserWarning: Converting sparse IndexedSlices to a dense Tensor with 115571700 elements. This may consume a large amount of memory.\n",
      "  num_elements)\n",
      "/home/lance_miles/anaconda3/lib/python3.6/site-packages/tensorflow/python/ops/gradients_impl.py:105: UserWarning: Converting sparse IndexedSlices to a dense Tensor with 115571700 elements. This may consume a large amount of memory.\n",
      "  num_elements)\n",
      "/home/lance_miles/anaconda3/lib/python3.6/site-packages/tensorflow/python/ops/gradients_impl.py:105: UserWarning: Converting sparse IndexedSlices to a dense Tensor with 115571700 elements. This may consume a large amount of memory.\n",
      "  num_elements)\n",
      "/home/lance_miles/anaconda3/lib/python3.6/site-packages/tensorflow/python/ops/gradients_impl.py:105: UserWarning: Converting sparse IndexedSlices to a dense Tensor with 115571700 elements. This may consume a large amount of memory.\n",
      "  num_elements)\n",
      "/home/lance_miles/anaconda3/lib/python3.6/site-packages/tensorflow/python/ops/gradients_impl.py:105: UserWarning: Converting sparse IndexedSlices to a dense Tensor with 115571700 elements. This may consume a large amount of memory.\n",
      "  num_elements)\n",
      "/home/lance_miles/anaconda3/lib/python3.6/site-packages/tensorflow/python/ops/gradients_impl.py:105: UserWarning: Converting sparse IndexedSlices to a dense Tensor with 115571700 elements. This may consume a large amount of memory.\n",
      "  num_elements)\n"
     ]
    },
    {
     "name": "stdout",
     "output_type": "stream",
     "text": [
      "Epoch 1/3\n",
      "1200000/1200000 [==============================] - 2138s 2ms/step - loss: 0.2354 - acc: 0.8950\n",
      "Epoch 2/3\n",
      "1200000/1200000 [==============================] - 2096s 2ms/step - loss: 0.1209 - acc: 0.9567\n",
      "Epoch 3/3\n",
      "1200000/1200000 [==============================] - 2112s 2ms/step - loss: 0.0869 - acc: 0.9708\n"
     ]
    }
   ],
   "source": [
    "cnnModel6 = CreateKimCNN(kernelSize=[4, 5, 6], numFilters=128, embedDepth=300, \n",
    "                 dropOut=0.5, embeds=None, use=True, length=max_length,\n",
    "                 vocab = vocabulary_size, pool = 2, denseInputs = 10)\n",
    "\n",
    "cnnModel6.fit([X_train, X_train, X_train, train_data_USE], X_train_labels, epochs=3, batch_size=5000)\n",
    "\n",
    "cnnModel6.save('../../CNNModel_200MaxL_None_USE.h5')"
   ]
  },
  {
   "cell_type": "code",
   "execution_count": 36,
   "metadata": {},
   "outputs": [
    {
     "name": "stderr",
     "output_type": "stream",
     "text": [
      "/home/lance_miles/anaconda3/lib/python3.6/site-packages/tensorflow/python/ops/gradients_impl.py:105: UserWarning: Converting sparse IndexedSlices to a dense Tensor with 115571700 elements. This may consume a large amount of memory.\n",
      "  num_elements)\n",
      "/home/lance_miles/anaconda3/lib/python3.6/site-packages/tensorflow/python/ops/gradients_impl.py:105: UserWarning: Converting sparse IndexedSlices to a dense Tensor with 115571700 elements. This may consume a large amount of memory.\n",
      "  num_elements)\n",
      "/home/lance_miles/anaconda3/lib/python3.6/site-packages/tensorflow/python/ops/gradients_impl.py:105: UserWarning: Converting sparse IndexedSlices to a dense Tensor with 115571700 elements. This may consume a large amount of memory.\n",
      "  num_elements)\n",
      "/home/lance_miles/anaconda3/lib/python3.6/site-packages/tensorflow/python/ops/gradients_impl.py:105: UserWarning: Converting sparse IndexedSlices to a dense Tensor with 115571700 elements. This may consume a large amount of memory.\n",
      "  num_elements)\n",
      "/home/lance_miles/anaconda3/lib/python3.6/site-packages/tensorflow/python/ops/gradients_impl.py:105: UserWarning: Converting sparse IndexedSlices to a dense Tensor with 115571700 elements. This may consume a large amount of memory.\n",
      "  num_elements)\n",
      "/home/lance_miles/anaconda3/lib/python3.6/site-packages/tensorflow/python/ops/gradients_impl.py:105: UserWarning: Converting sparse IndexedSlices to a dense Tensor with 115571700 elements. This may consume a large amount of memory.\n",
      "  num_elements)\n"
     ]
    }
   ],
   "source": [
    "cnnModel6 = load_model('../../CNNModel_200MaxL_None_USE.h5')"
   ]
  },
  {
   "cell_type": "code",
   "execution_count": 37,
   "metadata": {},
   "outputs": [
    {
     "data": {
      "text/plain": [
       "[0.07395656862472494, 0.9802225]"
      ]
     },
     "execution_count": 37,
     "metadata": {},
     "output_type": "execute_result"
    }
   ],
   "source": [
    "train_acc = cnnModel6.evaluate([X_train, X_train, X_train, train_data_USE], X_train_labels, verbose=0)\n",
    "train_acc"
   ]
  },
  {
   "cell_type": "code",
   "execution_count": 38,
   "metadata": {},
   "outputs": [
    {
     "name": "stdout",
     "output_type": "stream",
     "text": [
      "CNN Model Accuracy using trained Embeddings\n",
      "Train: 0.980, Test: 0.980\n"
     ]
    }
   ],
   "source": [
    "test_acc = cnnModel6.evaluate([X_train, X_train, X_train, train_data_USE], X_test_labels, verbose=0)\n",
    "test_acc\n",
    "\n",
    "print('CNN Model Accuracy using trained Embeddings\\nTrain: %.3f, Test: %.3f' % (train_acc[1], test_acc[1]))"
   ]
  },
  {
   "cell_type": "markdown",
   "metadata": {},
   "source": [
    "## Test Models on Test Datasets"
   ]
  },
  {
   "cell_type": "code",
   "execution_count": 41,
   "metadata": {},
   "outputs": [],
   "source": [
    "modelList = ['SimpleSoftmax_USE.h5',\n",
    "             'CNNModel_200MaxL_None.h5', 'CNNModel_200MaxL_None_USE.h5',\n",
    "             'CNNModel_200MaxL_Glove.h5', 'CNNModel_200MaxL_Glove_USE.h5',\n",
    "             'CNNModel_200MaxL_w2v.h5', 'CNNModel_200MaxL_w2v_USE.h5']\n",
    "\n",
    "nameList = ['Simple Dense to Softmax with USE',\n",
    "            'CNN - Trained Embeddings', 'CNN - Trained Embeddings + USE',\n",
    "            'CNN - Glove Embeddings', 'CNN - Glove Embeddings + USE',\n",
    "            'CNN - Word2Vec Embeddings', 'CNN - Word2Vec Embeddings + USE']\n",
    "\n",
    "USE_bool = [True, False, True, False, True, False, True]\n",
    "\n",
    "simple = [True, False, False, False, False, False, False]\n",
    "\n",
    "col_name = ['USE_Soft','CNN_TE','CNN_TE_USE','CNN_Glove','CNN_Glove_USE','CNN_w2V','CNN_w2V_USE']\n",
    "\n",
    "def loadModels(data, use_outputs, data_labels, pdData, model = modelList, \n",
    "               name = nameList, simp = simple, USE = USE_bool, \n",
    "               cols=col_name, verb=False):        \n",
    "    \n",
    "    accuracies = []\n",
    "    \n",
    "    dat_pd = pdData\n",
    "    for trainedModel, name, USE_embeds,sim, col in zip(model, name, USE, simp, cols):\n",
    "        print(f'Loading: {trainedModel}')\n",
    "        \n",
    "        cnnModel = load_model(f'../../{trainedModel}')\n",
    "            \n",
    "        if USE_embeds == True:\n",
    "            \n",
    "            if sim == True:\n",
    "                imdbAcc = cnnModel.evaluate([use_outputs], data_labels, verbose=0)\n",
    "                preds = cnnModel.predict([use_outputs], verbose=0)\n",
    "                \n",
    "            else:\n",
    "                imdbAcc = cnnModel.evaluate([data, data, data, use_outputs], data_labels, verbose=0)\n",
    "                preds = cnnModel.predict([data, data, data, use_outputs], verbose=0)\n",
    "        else:\n",
    "            imdbAcc = cnnModel.evaluate([data, data, data], data_labels, verbose=0)\n",
    "            preds = cnnModel.predict([data, data, data], verbose=0)\n",
    "\n",
    "        if verb == True:\n",
    "            print(f'{name}\\n Test: %.3f' % (imdbAcc[1]))\n",
    "        \n",
    "        accuracies.extend([imdbAcc])\n",
    "        dat_pd[col]=preds[:]\n",
    "        del(cnnModel)\n",
    "    return accuracies, dat_pd"
   ]
  },
  {
   "cell_type": "markdown",
   "metadata": {},
   "source": [
    "### IMDB Datasets"
   ]
  },
  {
   "cell_type": "code",
   "execution_count": 42,
   "metadata": {},
   "outputs": [
    {
     "name": "stdout",
     "output_type": "stream",
     "text": [
      "Loading: SimpleSoftmax_USE.h5\n",
      "Loading: CNNModel_200MaxL_None.h5\n"
     ]
    },
    {
     "name": "stderr",
     "output_type": "stream",
     "text": [
      "/home/lance_miles/anaconda3/lib/python3.6/site-packages/tensorflow/python/ops/gradients_impl.py:105: UserWarning: Converting sparse IndexedSlices to a dense Tensor with 115571700 elements. This may consume a large amount of memory.\n",
      "  num_elements)\n",
      "/home/lance_miles/anaconda3/lib/python3.6/site-packages/tensorflow/python/ops/gradients_impl.py:105: UserWarning: Converting sparse IndexedSlices to a dense Tensor with 115571700 elements. This may consume a large amount of memory.\n",
      "  num_elements)\n",
      "/home/lance_miles/anaconda3/lib/python3.6/site-packages/tensorflow/python/ops/gradients_impl.py:105: UserWarning: Converting sparse IndexedSlices to a dense Tensor with 115571700 elements. This may consume a large amount of memory.\n",
      "  num_elements)\n",
      "/home/lance_miles/anaconda3/lib/python3.6/site-packages/tensorflow/python/ops/gradients_impl.py:105: UserWarning: Converting sparse IndexedSlices to a dense Tensor with 115571700 elements. This may consume a large amount of memory.\n",
      "  num_elements)\n",
      "/home/lance_miles/anaconda3/lib/python3.6/site-packages/tensorflow/python/ops/gradients_impl.py:105: UserWarning: Converting sparse IndexedSlices to a dense Tensor with 115571700 elements. This may consume a large amount of memory.\n",
      "  num_elements)\n",
      "/home/lance_miles/anaconda3/lib/python3.6/site-packages/tensorflow/python/ops/gradients_impl.py:105: UserWarning: Converting sparse IndexedSlices to a dense Tensor with 115571700 elements. This may consume a large amount of memory.\n",
      "  num_elements)\n"
     ]
    },
    {
     "name": "stdout",
     "output_type": "stream",
     "text": [
      "Loading: CNNModel_200MaxL_None_USE.h5\n"
     ]
    },
    {
     "name": "stderr",
     "output_type": "stream",
     "text": [
      "/home/lance_miles/anaconda3/lib/python3.6/site-packages/tensorflow/python/ops/gradients_impl.py:105: UserWarning: Converting sparse IndexedSlices to a dense Tensor with 115571700 elements. This may consume a large amount of memory.\n",
      "  num_elements)\n",
      "/home/lance_miles/anaconda3/lib/python3.6/site-packages/tensorflow/python/ops/gradients_impl.py:105: UserWarning: Converting sparse IndexedSlices to a dense Tensor with 115571700 elements. This may consume a large amount of memory.\n",
      "  num_elements)\n",
      "/home/lance_miles/anaconda3/lib/python3.6/site-packages/tensorflow/python/ops/gradients_impl.py:105: UserWarning: Converting sparse IndexedSlices to a dense Tensor with 115571700 elements. This may consume a large amount of memory.\n",
      "  num_elements)\n",
      "/home/lance_miles/anaconda3/lib/python3.6/site-packages/tensorflow/python/ops/gradients_impl.py:105: UserWarning: Converting sparse IndexedSlices to a dense Tensor with 115571700 elements. This may consume a large amount of memory.\n",
      "  num_elements)\n",
      "/home/lance_miles/anaconda3/lib/python3.6/site-packages/tensorflow/python/ops/gradients_impl.py:105: UserWarning: Converting sparse IndexedSlices to a dense Tensor with 115571700 elements. This may consume a large amount of memory.\n",
      "  num_elements)\n",
      "/home/lance_miles/anaconda3/lib/python3.6/site-packages/tensorflow/python/ops/gradients_impl.py:105: UserWarning: Converting sparse IndexedSlices to a dense Tensor with 115571700 elements. This may consume a large amount of memory.\n",
      "  num_elements)\n"
     ]
    },
    {
     "name": "stdout",
     "output_type": "stream",
     "text": [
      "Loading: CNNModel_200MaxL_Glove.h5\n",
      "Loading: CNNModel_200MaxL_Glove_USE.h5\n",
      "Loading: CNNModel_200MaxL_w2v.h5\n",
      "Loading: CNNModel_200MaxL_w2v_USE.h5\n",
      "Simple Dense to Softmax with USE\n",
      "Accuracy on IMDB Test: 0.79696\n",
      "_______________________\n",
      "\n",
      "CNN - Trained Embeddings\n",
      "Accuracy on IMDB Test: 0.82176\n",
      "_______________________\n",
      "\n",
      "CNN - Trained Embeddings + USE\n",
      "Accuracy on IMDB Test: 0.85516\n",
      "_______________________\n",
      "\n",
      "CNN - Glove Embeddings\n",
      "Accuracy on IMDB Test: 0.82912\n",
      "_______________________\n",
      "\n",
      "CNN - Glove Embeddings + USE\n",
      "Accuracy on IMDB Test: 0.86076\n",
      "_______________________\n",
      "\n",
      "CNN - Word2Vec Embeddings\n",
      "Accuracy on IMDB Test: 0.84524\n",
      "_______________________\n",
      "\n",
      "CNN - Word2Vec Embeddings + USE\n",
      "Accuracy on IMDB Test: 0.8522\n",
      "_______________________\n",
      "\n"
     ]
    }
   ],
   "source": [
    "imdb_zero_shot, imdb_results = loadModels(pdData=imdb_test, \n",
    "                            data=X_imdb_test, use_outputs=imdb_test_USE, \n",
    "                            data_labels=X_imdb_test_labels)\n",
    "\n",
    "for acc,name in zip(imdb_zero_shot,nameList):\n",
    "    print(f'{name}\\nAccuracy on IMDB Test: {acc[1]}\\n_______________________\\n')"
   ]
  },
  {
   "cell_type": "markdown",
   "metadata": {},
   "source": [
    "## Test Twitter (Sentiment140) Data"
   ]
  },
  {
   "cell_type": "code",
   "execution_count": 43,
   "metadata": {},
   "outputs": [
    {
     "name": "stdout",
     "output_type": "stream",
     "text": [
      "Loading: SimpleSoftmax_USE.h5\n",
      "Loading: CNNModel_200MaxL_None.h5\n"
     ]
    },
    {
     "name": "stderr",
     "output_type": "stream",
     "text": [
      "/home/lance_miles/anaconda3/lib/python3.6/site-packages/tensorflow/python/ops/gradients_impl.py:105: UserWarning: Converting sparse IndexedSlices to a dense Tensor with 115571700 elements. This may consume a large amount of memory.\n",
      "  num_elements)\n",
      "/home/lance_miles/anaconda3/lib/python3.6/site-packages/tensorflow/python/ops/gradients_impl.py:105: UserWarning: Converting sparse IndexedSlices to a dense Tensor with 115571700 elements. This may consume a large amount of memory.\n",
      "  num_elements)\n",
      "/home/lance_miles/anaconda3/lib/python3.6/site-packages/tensorflow/python/ops/gradients_impl.py:105: UserWarning: Converting sparse IndexedSlices to a dense Tensor with 115571700 elements. This may consume a large amount of memory.\n",
      "  num_elements)\n",
      "/home/lance_miles/anaconda3/lib/python3.6/site-packages/tensorflow/python/ops/gradients_impl.py:105: UserWarning: Converting sparse IndexedSlices to a dense Tensor with 115571700 elements. This may consume a large amount of memory.\n",
      "  num_elements)\n",
      "/home/lance_miles/anaconda3/lib/python3.6/site-packages/tensorflow/python/ops/gradients_impl.py:105: UserWarning: Converting sparse IndexedSlices to a dense Tensor with 115571700 elements. This may consume a large amount of memory.\n",
      "  num_elements)\n",
      "/home/lance_miles/anaconda3/lib/python3.6/site-packages/tensorflow/python/ops/gradients_impl.py:105: UserWarning: Converting sparse IndexedSlices to a dense Tensor with 115571700 elements. This may consume a large amount of memory.\n",
      "  num_elements)\n"
     ]
    },
    {
     "name": "stdout",
     "output_type": "stream",
     "text": [
      "Loading: CNNModel_200MaxL_None_USE.h5\n"
     ]
    },
    {
     "name": "stderr",
     "output_type": "stream",
     "text": [
      "/home/lance_miles/anaconda3/lib/python3.6/site-packages/tensorflow/python/ops/gradients_impl.py:105: UserWarning: Converting sparse IndexedSlices to a dense Tensor with 115571700 elements. This may consume a large amount of memory.\n",
      "  num_elements)\n",
      "/home/lance_miles/anaconda3/lib/python3.6/site-packages/tensorflow/python/ops/gradients_impl.py:105: UserWarning: Converting sparse IndexedSlices to a dense Tensor with 115571700 elements. This may consume a large amount of memory.\n",
      "  num_elements)\n",
      "/home/lance_miles/anaconda3/lib/python3.6/site-packages/tensorflow/python/ops/gradients_impl.py:105: UserWarning: Converting sparse IndexedSlices to a dense Tensor with 115571700 elements. This may consume a large amount of memory.\n",
      "  num_elements)\n",
      "/home/lance_miles/anaconda3/lib/python3.6/site-packages/tensorflow/python/ops/gradients_impl.py:105: UserWarning: Converting sparse IndexedSlices to a dense Tensor with 115571700 elements. This may consume a large amount of memory.\n",
      "  num_elements)\n",
      "/home/lance_miles/anaconda3/lib/python3.6/site-packages/tensorflow/python/ops/gradients_impl.py:105: UserWarning: Converting sparse IndexedSlices to a dense Tensor with 115571700 elements. This may consume a large amount of memory.\n",
      "  num_elements)\n",
      "/home/lance_miles/anaconda3/lib/python3.6/site-packages/tensorflow/python/ops/gradients_impl.py:105: UserWarning: Converting sparse IndexedSlices to a dense Tensor with 115571700 elements. This may consume a large amount of memory.\n",
      "  num_elements)\n"
     ]
    },
    {
     "name": "stdout",
     "output_type": "stream",
     "text": [
      "Loading: CNNModel_200MaxL_Glove.h5\n",
      "Loading: CNNModel_200MaxL_Glove_USE.h5\n",
      "Loading: CNNModel_200MaxL_w2v.h5\n",
      "Loading: CNNModel_200MaxL_w2v_USE.h5\n",
      "Simple Dense to Softmax with USE\n",
      "Accuracy on Twitter Test: 0.6692333333333333\n",
      "_______________________\n",
      "\n",
      "CNN - Trained Embeddings\n",
      "Accuracy on Twitter Test: 0.6389666666666667\n",
      "_______________________\n",
      "\n",
      "CNN - Trained Embeddings + USE\n",
      "Accuracy on Twitter Test: 0.6479666666666667\n",
      "_______________________\n",
      "\n",
      "CNN - Glove Embeddings\n",
      "Accuracy on Twitter Test: 0.6583\n",
      "_______________________\n",
      "\n",
      "CNN - Glove Embeddings + USE\n",
      "Accuracy on Twitter Test: 0.6771166666666667\n",
      "_______________________\n",
      "\n",
      "CNN - Word2Vec Embeddings\n",
      "Accuracy on Twitter Test: 0.6557833333333334\n",
      "_______________________\n",
      "\n",
      "CNN - Word2Vec Embeddings + USE\n",
      "Accuracy on Twitter Test: 0.67865\n",
      "_______________________\n",
      "\n"
     ]
    }
   ],
   "source": [
    "# twitter_zero_shot = loadModels(modelList, nameList, simple, USE_bool, \n",
    "#                             X_twitter_test, twitter_test_USE, X_twitter_test_labels)\n",
    "twitter_zero_shot, twitter_results = loadModels(pdData=twitter_reviews, \n",
    "                            data=X_twitter_test, use_outputs=twitter_test_USE, \n",
    "                            data_labels=X_twitter_test_labels)\n",
    "\n",
    "for acc,name in zip(twitter_zero_shot,nameList):\n",
    "    print(f'{name}\\nAccuracy on Twitter Test: {acc[1]}\\n_______________________\\n')"
   ]
  },
  {
   "cell_type": "markdown",
   "metadata": {},
   "source": [
    "## Test Yelp Data"
   ]
  },
  {
   "cell_type": "code",
   "execution_count": 44,
   "metadata": {},
   "outputs": [
    {
     "name": "stdout",
     "output_type": "stream",
     "text": [
      "Loading: SimpleSoftmax_USE.h5\n",
      "Loading: CNNModel_200MaxL_None.h5\n"
     ]
    },
    {
     "name": "stderr",
     "output_type": "stream",
     "text": [
      "/home/lance_miles/anaconda3/lib/python3.6/site-packages/tensorflow/python/ops/gradients_impl.py:105: UserWarning: Converting sparse IndexedSlices to a dense Tensor with 115571700 elements. This may consume a large amount of memory.\n",
      "  num_elements)\n",
      "/home/lance_miles/anaconda3/lib/python3.6/site-packages/tensorflow/python/ops/gradients_impl.py:105: UserWarning: Converting sparse IndexedSlices to a dense Tensor with 115571700 elements. This may consume a large amount of memory.\n",
      "  num_elements)\n",
      "/home/lance_miles/anaconda3/lib/python3.6/site-packages/tensorflow/python/ops/gradients_impl.py:105: UserWarning: Converting sparse IndexedSlices to a dense Tensor with 115571700 elements. This may consume a large amount of memory.\n",
      "  num_elements)\n",
      "/home/lance_miles/anaconda3/lib/python3.6/site-packages/tensorflow/python/ops/gradients_impl.py:105: UserWarning: Converting sparse IndexedSlices to a dense Tensor with 115571700 elements. This may consume a large amount of memory.\n",
      "  num_elements)\n",
      "/home/lance_miles/anaconda3/lib/python3.6/site-packages/tensorflow/python/ops/gradients_impl.py:105: UserWarning: Converting sparse IndexedSlices to a dense Tensor with 115571700 elements. This may consume a large amount of memory.\n",
      "  num_elements)\n",
      "/home/lance_miles/anaconda3/lib/python3.6/site-packages/tensorflow/python/ops/gradients_impl.py:105: UserWarning: Converting sparse IndexedSlices to a dense Tensor with 115571700 elements. This may consume a large amount of memory.\n",
      "  num_elements)\n"
     ]
    },
    {
     "name": "stdout",
     "output_type": "stream",
     "text": [
      "Loading: CNNModel_200MaxL_None_USE.h5\n"
     ]
    },
    {
     "name": "stderr",
     "output_type": "stream",
     "text": [
      "/home/lance_miles/anaconda3/lib/python3.6/site-packages/tensorflow/python/ops/gradients_impl.py:105: UserWarning: Converting sparse IndexedSlices to a dense Tensor with 115571700 elements. This may consume a large amount of memory.\n",
      "  num_elements)\n",
      "/home/lance_miles/anaconda3/lib/python3.6/site-packages/tensorflow/python/ops/gradients_impl.py:105: UserWarning: Converting sparse IndexedSlices to a dense Tensor with 115571700 elements. This may consume a large amount of memory.\n",
      "  num_elements)\n",
      "/home/lance_miles/anaconda3/lib/python3.6/site-packages/tensorflow/python/ops/gradients_impl.py:105: UserWarning: Converting sparse IndexedSlices to a dense Tensor with 115571700 elements. This may consume a large amount of memory.\n",
      "  num_elements)\n",
      "/home/lance_miles/anaconda3/lib/python3.6/site-packages/tensorflow/python/ops/gradients_impl.py:105: UserWarning: Converting sparse IndexedSlices to a dense Tensor with 115571700 elements. This may consume a large amount of memory.\n",
      "  num_elements)\n",
      "/home/lance_miles/anaconda3/lib/python3.6/site-packages/tensorflow/python/ops/gradients_impl.py:105: UserWarning: Converting sparse IndexedSlices to a dense Tensor with 115571700 elements. This may consume a large amount of memory.\n",
      "  num_elements)\n",
      "/home/lance_miles/anaconda3/lib/python3.6/site-packages/tensorflow/python/ops/gradients_impl.py:105: UserWarning: Converting sparse IndexedSlices to a dense Tensor with 115571700 elements. This may consume a large amount of memory.\n",
      "  num_elements)\n"
     ]
    },
    {
     "name": "stdout",
     "output_type": "stream",
     "text": [
      "Loading: CNNModel_200MaxL_Glove.h5\n",
      "Loading: CNNModel_200MaxL_Glove_USE.h5\n",
      "Loading: CNNModel_200MaxL_w2v.h5\n",
      "Loading: CNNModel_200MaxL_w2v_USE.h5\n",
      "Simple Dense to Softmax with USE\n",
      "Accuracy on Yelp Test: 0.9179666666666667\n",
      "_______________________\n",
      "\n",
      "CNN - Trained Embeddings\n",
      "Accuracy on Yelp Test: 0.9534833333333333\n",
      "_______________________\n",
      "\n",
      "CNN - Trained Embeddings + USE\n",
      "Accuracy on Yelp Test: 0.9538166666666666\n",
      "_______________________\n",
      "\n",
      "CNN - Glove Embeddings\n",
      "Accuracy on Yelp Test: 0.9533333333333334\n",
      "_______________________\n",
      "\n",
      "CNN - Glove Embeddings + USE\n",
      "Accuracy on Yelp Test: 0.9586\n",
      "_______________________\n",
      "\n",
      "CNN - Word2Vec Embeddings\n",
      "Accuracy on Yelp Test: 0.9546666666666667\n",
      "_______________________\n",
      "\n",
      "CNN - Word2Vec Embeddings + USE\n",
      "Accuracy on Yelp Test: 0.9592666666666667\n",
      "_______________________\n",
      "\n"
     ]
    }
   ],
   "source": [
    "# yelp_zero_shot, yelp_results = loadModels(modelList, nameList, simple, USE_bool, \n",
    "#                             X_yelp_test, yelp_test_USE, X_yelp_test_labels)\n",
    "\n",
    "yelp_zero_shot, yelp_results = loadModels(pdData=yelp_reviews, \n",
    "                            data=X_yelp_test, use_outputs=yelp_test_USE, \n",
    "                            data_labels=X_yelp_test_labels)\n",
    "\n",
    "for acc,name in zip(yelp_zero_shot,nameList):\n",
    "    print(f'{name}\\nAccuracy on Yelp Test: {acc[1]}\\n_______________________\\n')"
   ]
  },
  {
   "cell_type": "code",
   "execution_count": 45,
   "metadata": {},
   "outputs": [
    {
     "name": "stdout",
     "output_type": "stream",
     "text": [
      "Loading: SimpleSoftmax_USE.h5\n",
      "Loading: CNNModel_200MaxL_None.h5\n"
     ]
    },
    {
     "name": "stderr",
     "output_type": "stream",
     "text": [
      "/home/lance_miles/anaconda3/lib/python3.6/site-packages/tensorflow/python/ops/gradients_impl.py:105: UserWarning: Converting sparse IndexedSlices to a dense Tensor with 115571700 elements. This may consume a large amount of memory.\n",
      "  num_elements)\n",
      "/home/lance_miles/anaconda3/lib/python3.6/site-packages/tensorflow/python/ops/gradients_impl.py:105: UserWarning: Converting sparse IndexedSlices to a dense Tensor with 115571700 elements. This may consume a large amount of memory.\n",
      "  num_elements)\n",
      "/home/lance_miles/anaconda3/lib/python3.6/site-packages/tensorflow/python/ops/gradients_impl.py:105: UserWarning: Converting sparse IndexedSlices to a dense Tensor with 115571700 elements. This may consume a large amount of memory.\n",
      "  num_elements)\n",
      "/home/lance_miles/anaconda3/lib/python3.6/site-packages/tensorflow/python/ops/gradients_impl.py:105: UserWarning: Converting sparse IndexedSlices to a dense Tensor with 115571700 elements. This may consume a large amount of memory.\n",
      "  num_elements)\n",
      "/home/lance_miles/anaconda3/lib/python3.6/site-packages/tensorflow/python/ops/gradients_impl.py:105: UserWarning: Converting sparse IndexedSlices to a dense Tensor with 115571700 elements. This may consume a large amount of memory.\n",
      "  num_elements)\n",
      "/home/lance_miles/anaconda3/lib/python3.6/site-packages/tensorflow/python/ops/gradients_impl.py:105: UserWarning: Converting sparse IndexedSlices to a dense Tensor with 115571700 elements. This may consume a large amount of memory.\n",
      "  num_elements)\n"
     ]
    },
    {
     "name": "stdout",
     "output_type": "stream",
     "text": [
      "Loading: CNNModel_200MaxL_None_USE.h5\n"
     ]
    },
    {
     "name": "stderr",
     "output_type": "stream",
     "text": [
      "/home/lance_miles/anaconda3/lib/python3.6/site-packages/tensorflow/python/ops/gradients_impl.py:105: UserWarning: Converting sparse IndexedSlices to a dense Tensor with 115571700 elements. This may consume a large amount of memory.\n",
      "  num_elements)\n",
      "/home/lance_miles/anaconda3/lib/python3.6/site-packages/tensorflow/python/ops/gradients_impl.py:105: UserWarning: Converting sparse IndexedSlices to a dense Tensor with 115571700 elements. This may consume a large amount of memory.\n",
      "  num_elements)\n",
      "/home/lance_miles/anaconda3/lib/python3.6/site-packages/tensorflow/python/ops/gradients_impl.py:105: UserWarning: Converting sparse IndexedSlices to a dense Tensor with 115571700 elements. This may consume a large amount of memory.\n",
      "  num_elements)\n",
      "/home/lance_miles/anaconda3/lib/python3.6/site-packages/tensorflow/python/ops/gradients_impl.py:105: UserWarning: Converting sparse IndexedSlices to a dense Tensor with 115571700 elements. This may consume a large amount of memory.\n",
      "  num_elements)\n",
      "/home/lance_miles/anaconda3/lib/python3.6/site-packages/tensorflow/python/ops/gradients_impl.py:105: UserWarning: Converting sparse IndexedSlices to a dense Tensor with 115571700 elements. This may consume a large amount of memory.\n",
      "  num_elements)\n",
      "/home/lance_miles/anaconda3/lib/python3.6/site-packages/tensorflow/python/ops/gradients_impl.py:105: UserWarning: Converting sparse IndexedSlices to a dense Tensor with 115571700 elements. This may consume a large amount of memory.\n",
      "  num_elements)\n"
     ]
    },
    {
     "name": "stdout",
     "output_type": "stream",
     "text": [
      "Loading: CNNModel_200MaxL_Glove.h5\n",
      "Loading: CNNModel_200MaxL_Glove_USE.h5\n",
      "Loading: CNNModel_200MaxL_w2v.h5\n",
      "Loading: CNNModel_200MaxL_w2v_USE.h5\n",
      "Simple Dense to Softmax with USE\n",
      "Accuracy on Yelp Zhang Test: 0.8395526315789473\n",
      "_______________________\n",
      "\n",
      "CNN - Trained Embeddings\n",
      "Accuracy on Yelp Zhang Test: 0.9017105263157895\n",
      "_______________________\n",
      "\n",
      "CNN - Trained Embeddings + USE\n",
      "Accuracy on Yelp Zhang Test: 0.9052894736842105\n",
      "_______________________\n",
      "\n",
      "CNN - Glove Embeddings\n",
      "Accuracy on Yelp Zhang Test: 0.9033947368421053\n",
      "_______________________\n",
      "\n",
      "CNN - Glove Embeddings + USE\n",
      "Accuracy on Yelp Zhang Test: 0.9065\n",
      "_______________________\n",
      "\n",
      "CNN - Word2Vec Embeddings\n",
      "Accuracy on Yelp Zhang Test: 0.8998684210526315\n",
      "_______________________\n",
      "\n",
      "CNN - Word2Vec Embeddings + USE\n",
      "Accuracy on Yelp Zhang Test: 0.9082631578947369\n",
      "_______________________\n",
      "\n"
     ]
    }
   ],
   "source": [
    "yelp_Zhang_zero_shot, yelp_zhang_results = loadModels(pdData=yelp_zhang_test, \n",
    "                            data=X_yelp_zhang_test, use_outputs=yelp_zhang_test_USE, \n",
    "                            data_labels=X_yelp_zhang_test_labels)\n",
    "\n",
    "for acc,name in zip(yelp_Zhang_zero_shot,nameList):\n",
    "    print(f'{name}\\nAccuracy on Yelp Zhang Test: {acc[1]}\\n_______________________\\n')"
   ]
  },
  {
   "cell_type": "markdown",
   "metadata": {},
   "source": [
    "## Amazon Polarity"
   ]
  },
  {
   "cell_type": "code",
   "execution_count": 61,
   "metadata": {},
   "outputs": [
    {
     "name": "stdout",
     "output_type": "stream",
     "text": [
      "Loading: SimpleSoftmax_USE.h5\n",
      "Loading: CNNModel_200MaxL_None.h5\n"
     ]
    },
    {
     "name": "stderr",
     "output_type": "stream",
     "text": [
      "/home/lance_miles/anaconda3/lib/python3.6/site-packages/tensorflow/python/ops/gradients_impl.py:105: UserWarning: Converting sparse IndexedSlices to a dense Tensor with 115571700 elements. This may consume a large amount of memory.\n",
      "  num_elements)\n",
      "/home/lance_miles/anaconda3/lib/python3.6/site-packages/tensorflow/python/ops/gradients_impl.py:105: UserWarning: Converting sparse IndexedSlices to a dense Tensor with 115571700 elements. This may consume a large amount of memory.\n",
      "  num_elements)\n",
      "/home/lance_miles/anaconda3/lib/python3.6/site-packages/tensorflow/python/ops/gradients_impl.py:105: UserWarning: Converting sparse IndexedSlices to a dense Tensor with 115571700 elements. This may consume a large amount of memory.\n",
      "  num_elements)\n",
      "/home/lance_miles/anaconda3/lib/python3.6/site-packages/tensorflow/python/ops/gradients_impl.py:105: UserWarning: Converting sparse IndexedSlices to a dense Tensor with 115571700 elements. This may consume a large amount of memory.\n",
      "  num_elements)\n",
      "/home/lance_miles/anaconda3/lib/python3.6/site-packages/tensorflow/python/ops/gradients_impl.py:105: UserWarning: Converting sparse IndexedSlices to a dense Tensor with 115571700 elements. This may consume a large amount of memory.\n",
      "  num_elements)\n",
      "/home/lance_miles/anaconda3/lib/python3.6/site-packages/tensorflow/python/ops/gradients_impl.py:105: UserWarning: Converting sparse IndexedSlices to a dense Tensor with 115571700 elements. This may consume a large amount of memory.\n",
      "  num_elements)\n"
     ]
    },
    {
     "name": "stdout",
     "output_type": "stream",
     "text": [
      "Loading: CNNModel_200MaxL_None_USE.h5\n"
     ]
    },
    {
     "name": "stderr",
     "output_type": "stream",
     "text": [
      "/home/lance_miles/anaconda3/lib/python3.6/site-packages/tensorflow/python/ops/gradients_impl.py:105: UserWarning: Converting sparse IndexedSlices to a dense Tensor with 115571700 elements. This may consume a large amount of memory.\n",
      "  num_elements)\n",
      "/home/lance_miles/anaconda3/lib/python3.6/site-packages/tensorflow/python/ops/gradients_impl.py:105: UserWarning: Converting sparse IndexedSlices to a dense Tensor with 115571700 elements. This may consume a large amount of memory.\n",
      "  num_elements)\n",
      "/home/lance_miles/anaconda3/lib/python3.6/site-packages/tensorflow/python/ops/gradients_impl.py:105: UserWarning: Converting sparse IndexedSlices to a dense Tensor with 115571700 elements. This may consume a large amount of memory.\n",
      "  num_elements)\n",
      "/home/lance_miles/anaconda3/lib/python3.6/site-packages/tensorflow/python/ops/gradients_impl.py:105: UserWarning: Converting sparse IndexedSlices to a dense Tensor with 115571700 elements. This may consume a large amount of memory.\n",
      "  num_elements)\n",
      "/home/lance_miles/anaconda3/lib/python3.6/site-packages/tensorflow/python/ops/gradients_impl.py:105: UserWarning: Converting sparse IndexedSlices to a dense Tensor with 115571700 elements. This may consume a large amount of memory.\n",
      "  num_elements)\n",
      "/home/lance_miles/anaconda3/lib/python3.6/site-packages/tensorflow/python/ops/gradients_impl.py:105: UserWarning: Converting sparse IndexedSlices to a dense Tensor with 115571700 elements. This may consume a large amount of memory.\n",
      "  num_elements)\n"
     ]
    },
    {
     "name": "stdout",
     "output_type": "stream",
     "text": [
      "Loading: CNNModel_200MaxL_Glove.h5\n",
      "Loading: CNNModel_200MaxL_Glove_USE.h5\n",
      "Loading: CNNModel_200MaxL_w2v.h5\n",
      "Loading: CNNModel_200MaxL_w2v_USE.h5\n",
      "Simple Dense to Softmax with USE\n",
      "Accuracy on Yelp Zhang Test: 0.8395526315789473\n",
      "_______________________\n",
      "\n",
      "CNN - Trained Embeddings\n",
      "Accuracy on Yelp Zhang Test: 0.9017105263157895\n",
      "_______________________\n",
      "\n",
      "CNN - Trained Embeddings + USE\n",
      "Accuracy on Yelp Zhang Test: 0.9052894736842105\n",
      "_______________________\n",
      "\n",
      "CNN - Glove Embeddings\n",
      "Accuracy on Yelp Zhang Test: 0.9033947368421053\n",
      "_______________________\n",
      "\n",
      "CNN - Glove Embeddings + USE\n",
      "Accuracy on Yelp Zhang Test: 0.9065\n",
      "_______________________\n",
      "\n",
      "CNN - Word2Vec Embeddings\n",
      "Accuracy on Yelp Zhang Test: 0.8998684210526315\n",
      "_______________________\n",
      "\n",
      "CNN - Word2Vec Embeddings + USE\n",
      "Accuracy on Yelp Zhang Test: 0.9082631578947369\n",
      "_______________________\n",
      "\n"
     ]
    }
   ],
   "source": [
    "amazon_Zhang_zero_shot, amazon_zhang_results = loadModels(pdData=amazon_zhang_test, \n",
    "                            data=X_amazon_zhang_test, use_outputs=amazon_zhang_test_USE, \n",
    "                            data_labels=X_amazon_zhang_test_labels)\n",
    "\n",
    "for acc,name in zip(amazon_Zhang_zero_shot,nameList):\n",
    "    print(f'{name}\\nAccuracy on Amazon Zhang Test: {acc[1]}\\n_______________________\\n')"
   ]
  },
  {
   "cell_type": "markdown",
   "metadata": {},
   "source": [
    "## SST-2 "
   ]
  },
  {
   "cell_type": "code",
   "execution_count": 62,
   "metadata": {},
   "outputs": [
    {
     "name": "stdout",
     "output_type": "stream",
     "text": [
      "Loading: SimpleSoftmax_USE.h5\n",
      "Loading: CNNModel_200MaxL_None.h5\n"
     ]
    },
    {
     "name": "stderr",
     "output_type": "stream",
     "text": [
      "/home/lance_miles/anaconda3/lib/python3.6/site-packages/tensorflow/python/ops/gradients_impl.py:105: UserWarning: Converting sparse IndexedSlices to a dense Tensor with 115571700 elements. This may consume a large amount of memory.\n",
      "  num_elements)\n",
      "/home/lance_miles/anaconda3/lib/python3.6/site-packages/tensorflow/python/ops/gradients_impl.py:105: UserWarning: Converting sparse IndexedSlices to a dense Tensor with 115571700 elements. This may consume a large amount of memory.\n",
      "  num_elements)\n",
      "/home/lance_miles/anaconda3/lib/python3.6/site-packages/tensorflow/python/ops/gradients_impl.py:105: UserWarning: Converting sparse IndexedSlices to a dense Tensor with 115571700 elements. This may consume a large amount of memory.\n",
      "  num_elements)\n",
      "/home/lance_miles/anaconda3/lib/python3.6/site-packages/tensorflow/python/ops/gradients_impl.py:105: UserWarning: Converting sparse IndexedSlices to a dense Tensor with 115571700 elements. This may consume a large amount of memory.\n",
      "  num_elements)\n",
      "/home/lance_miles/anaconda3/lib/python3.6/site-packages/tensorflow/python/ops/gradients_impl.py:105: UserWarning: Converting sparse IndexedSlices to a dense Tensor with 115571700 elements. This may consume a large amount of memory.\n",
      "  num_elements)\n",
      "/home/lance_miles/anaconda3/lib/python3.6/site-packages/tensorflow/python/ops/gradients_impl.py:105: UserWarning: Converting sparse IndexedSlices to a dense Tensor with 115571700 elements. This may consume a large amount of memory.\n",
      "  num_elements)\n"
     ]
    },
    {
     "name": "stdout",
     "output_type": "stream",
     "text": [
      "Loading: CNNModel_200MaxL_None_USE.h5\n"
     ]
    },
    {
     "name": "stderr",
     "output_type": "stream",
     "text": [
      "/home/lance_miles/anaconda3/lib/python3.6/site-packages/tensorflow/python/ops/gradients_impl.py:105: UserWarning: Converting sparse IndexedSlices to a dense Tensor with 115571700 elements. This may consume a large amount of memory.\n",
      "  num_elements)\n",
      "/home/lance_miles/anaconda3/lib/python3.6/site-packages/tensorflow/python/ops/gradients_impl.py:105: UserWarning: Converting sparse IndexedSlices to a dense Tensor with 115571700 elements. This may consume a large amount of memory.\n",
      "  num_elements)\n",
      "/home/lance_miles/anaconda3/lib/python3.6/site-packages/tensorflow/python/ops/gradients_impl.py:105: UserWarning: Converting sparse IndexedSlices to a dense Tensor with 115571700 elements. This may consume a large amount of memory.\n",
      "  num_elements)\n",
      "/home/lance_miles/anaconda3/lib/python3.6/site-packages/tensorflow/python/ops/gradients_impl.py:105: UserWarning: Converting sparse IndexedSlices to a dense Tensor with 115571700 elements. This may consume a large amount of memory.\n",
      "  num_elements)\n",
      "/home/lance_miles/anaconda3/lib/python3.6/site-packages/tensorflow/python/ops/gradients_impl.py:105: UserWarning: Converting sparse IndexedSlices to a dense Tensor with 115571700 elements. This may consume a large amount of memory.\n",
      "  num_elements)\n",
      "/home/lance_miles/anaconda3/lib/python3.6/site-packages/tensorflow/python/ops/gradients_impl.py:105: UserWarning: Converting sparse IndexedSlices to a dense Tensor with 115571700 elements. This may consume a large amount of memory.\n",
      "  num_elements)\n"
     ]
    },
    {
     "name": "stdout",
     "output_type": "stream",
     "text": [
      "Loading: CNNModel_200MaxL_Glove.h5\n",
      "Loading: CNNModel_200MaxL_Glove_USE.h5\n",
      "Loading: CNNModel_200MaxL_w2v.h5\n",
      "Loading: CNNModel_200MaxL_w2v_USE.h5\n"
     ]
    }
   ],
   "source": [
    "modelList = ['SimpleSoftmax_USE.h5',\n",
    "             'CNNModel_200MaxL_None.h5', 'CNNModel_200MaxL_None_USE.h5',\n",
    "             'CNNModel_200MaxL_Glove.h5', 'CNNModel_200MaxL_Glove_USE.h5',\n",
    "             'CNNModel_200MaxL_w2v.h5', 'CNNModel_200MaxL_w2v_USE.h5']\n",
    "\n",
    "nameList = ['Simple Dense to Softmax with USE',\n",
    "            'CNN - Trained Embeddings', 'CNN - Trained Embeddings + USE',\n",
    "            'CNN - Glove Embeddings', 'CNN - Glove Embeddings + USE',\n",
    "            'CNN - Word2Vec Embeddings', 'CNN - Word2Vec Embeddings + USE']\n",
    "\n",
    "USE_bool = [True, False, True, False, True, False, True]\n",
    "\n",
    "simple = [True, False, False, False, False, False, False]\n",
    "\n",
    "col_name = ['USE_Soft','CNN_TE','CNN_TE_USE','CNN_Glove','CNN_Glove_USE','CNN_w2V','CNN_w2V_USE']\n",
    "\n",
    "def loadModelsSST(data, use_outputs, pdData, model = modelList, \n",
    "               name = nameList, simp = simple, USE = USE_bool, \n",
    "               cols=col_name, verb=False):        \n",
    "        \n",
    "    dat_pd = pdData\n",
    "    for trainedModel, name, USE_embeds,sim, col in zip(model, name, USE, simp, cols):\n",
    "        print(f'Loading: {trainedModel}')\n",
    "        \n",
    "        cnnModel = load_model(f'../../{trainedModel}')\n",
    "            \n",
    "        if USE_embeds == True:\n",
    "            \n",
    "            if sim == True:\n",
    "                preds = cnnModel.predict([use_outputs], verbose=0)\n",
    "                \n",
    "            else:\n",
    "                preds = cnnModel.predict([data, data, data, use_outputs], verbose=0)\n",
    "        else:\n",
    "            preds = cnnModel.predict([data, data, data], verbose=0)\n",
    "\n",
    "        if verb == True:\n",
    "            print(f'{name}\\n Test: %.3f' % (imdbAcc[1]))\n",
    "        \n",
    "        dat_pd[col]=preds[:]\n",
    "        del(cnnModel)\n",
    "    return dat_pd\n",
    "\n",
    "\n",
    "\n",
    "sst_results = loadModelsSST(pdData=sst_test, \n",
    "                            data=X_sst_test, use_outputs=sst_test_USE)"
   ]
  },
  {
   "cell_type": "code",
   "execution_count": 63,
   "metadata": {},
   "outputs": [],
   "source": [
    "file_name = '../../imdb_test_predictions.pkl'\n",
    "imdb_results.to_pickle(file_name)\n",
    "\n",
    "file_name = '../../twitter_sent140_test_predictions.pkl'\n",
    "twitter_results.to_pickle(file_name)\n",
    "\n",
    "file_name = '../../yelp_test_predictions.pkl'\n",
    "yelp_results.to_pickle(file_name)\n",
    "\n",
    "file_name = '../../yelp_zhang_test_predictions.pkl'\n",
    "yelp_zhang_results.to_pickle(file_name)\n",
    "\n",
    "file_name = '../../amazon_zhang_test_predictions.pkl'\n",
    "amazon_zhang_results.to_pickle(file_name)\n",
    "\n",
    "file_name = '../../sst_test_predictions.pkl'\n",
    "sst_results.to_pickle(file_name)"
   ]
  },
  {
   "cell_type": "markdown",
   "metadata": {},
   "source": [
    "## CNN On Sentence Level Embeddings"
   ]
  },
  {
   "cell_type": "code",
   "execution_count": null,
   "metadata": {},
   "outputs": [],
   "source": [
    "#https://www.dlology.com/blog/keras-meets-universal-sentence-encoder-transfer-learning-for-text-data/\n",
    "def UniversalEmbedding(x):\n",
    "    return embed(tf.squeeze(tf.cast(x, tf.string)), \n",
    "        signature=\"default\", as_dict=True)[\"default\"]\n",
    "\n",
    "def sentenceCNN(kernelSize=[1, 3, 4], numFilters=128, embedDepth=512, \n",
    "                 dropOut=0.5, embeds=None, use=True, length=sent_length,\n",
    "                 vocab=vocabulary_size, pool=2, denseInputs=10, train=False):\n",
    "    \n",
    "    k1 = kernelSize[0]\n",
    "    k2 = kernelSize[1]\n",
    "    k3 = kernelSize[2]\n",
    "    \n",
    "    k1_inputs = Input(shape=(length,512))\n",
    "    k2_inputs = Input(shape=(length,512))\n",
    "    k3_inputs = Input(shape=(length,512))\n",
    "    \n",
    "    k1_embeddings = \n",
    "    \n",
    "    k1_conv = Conv1D(filters=numFilters, kernel_size=k1, activation='relu')(k1_embeddings)\n",
    "    k1_dropout = Dropout(dropOut)(k1_conv)\n",
    "    k1_maxPool = MaxPooling1D(pool_size=pool)(k1_dropout)\n",
    "    k1_flatten = Flatten()(k1_maxPool)\n",
    "\n",
    "    k2_conv = Conv1D(filters=numFilters, kernel_size=k2, activation='relu')(k2_embeddings)\n",
    "    k2_dropout = Dropout(dropOut)(k2_conv)\n",
    "    k2_maxPool = MaxPooling1D(pool_size=pool)(k2_dropout)\n",
    "    k2_flatten = Flatten()(k2_maxPool)\n",
    "\n",
    "    k3_conv = Conv1D(filters=numFilters, kernel_size=k3, activation='relu')(k3_embeddings)\n",
    "    k3_dropout = Dropout(dropOut)(k3_conv)\n",
    "    k3_maxPool = MaxPooling1D(pool_size=pool)(k3_dropout)\n",
    "    k3_flatten = Flatten()(k3_maxPool)\n",
    "\n",
    "    if use == True:\n",
    "        use_inputs = Input(shape=(512,))\n",
    "        concat_kern = concatenate([k1_flatten, k2_flatten, k3_flatten, use_inputs])\n",
    "    else:\n",
    "        concat_kern = concatenate([k1_flatten, k2_flatten, k3_flatten])\n",
    "        \n",
    "    denseLayer = Dense(denseInputs, activation='relu')(concat_kern)\n",
    "    cnnOutputs = Dense(1, activation='sigmoid')(denseLayer)\n",
    "    \n",
    "    if use == True:\n",
    "        model = Model(inputs=[k1_inputs, k2_inputs, k3_inputs, use_inputs], outputs=cnnOutputs)\n",
    "    else:\n",
    "        model = Model(inputs=[k1_inputs, k2_inputs, k3_inputs], outputs=cnnOutputs)\n",
    "    \n",
    "    model.compile(loss='binary_crossentropy', optimizer='adam', metrics=['accuracy'])\n",
    "    \n",
    "    #https://machinelearningmastery.com/how-to-stop-training-deep-neural-networks-at-the-right-time-using-early-stopping/\n",
    "    # simple early stopping\n",
    "#     es = EarlyStopping(monitor='val_loss', mode='min', verbose=1, patience=200)\n",
    "#     mc = ModelCheckpoint('best_model.h5', monitor='val_acc', mode='max', verbose=1, save_best_only=True)\n",
    "    \n",
    "    print(model.summary())\n",
    "        \n",
    "    #plot_model(model, show_shapes=True, to_file='CNNModel.png')\n",
    "        \n",
    "    return model"
   ]
  }
 ],
 "metadata": {
  "kernelspec": {
   "display_name": "Python 3",
   "language": "python",
   "name": "python3"
  },
  "language_info": {
   "codemirror_mode": {
    "name": "ipython",
    "version": 3
   },
   "file_extension": ".py",
   "mimetype": "text/x-python",
   "name": "python",
   "nbconvert_exporter": "python",
   "pygments_lexer": "ipython3",
   "version": "3.6.5"
  }
 },
 "nbformat": 4,
 "nbformat_minor": 2
}
