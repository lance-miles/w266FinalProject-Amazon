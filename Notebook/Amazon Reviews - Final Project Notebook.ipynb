{
 "cells": [
  {
   "cell_type": "markdown",
   "metadata": {},
   "source": [
    "# W266 Final Project - Amazon Reviews\n",
    "\n",
    "This notebook is to read in the cleaned data and work with the data in keras.\n",
    "\n",
    "http://jmcauley.ucsd.edu/data/amazon/links.html"
   ]
  },
  {
   "cell_type": "code",
   "execution_count": 1,
   "metadata": {
    "ExecuteTime": {
     "end_time": "2019-03-21T20:07:18.419154Z",
     "start_time": "2019-03-21T20:07:18.415783Z"
    }
   },
   "outputs": [
    {
     "name": "stderr",
     "output_type": "stream",
     "text": [
      "/home/lance_miles/anaconda3/lib/python3.6/site-packages/h5py/__init__.py:36: FutureWarning: Conversion of the second argument of issubdtype from `float` to `np.floating` is deprecated. In future, it will be treated as `np.float64 == np.dtype(float).type`.\n",
      "  from ._conv import register_converters as _register_converters\n",
      "Using TensorFlow backend.\n",
      "WARNING: Logging before flag parsing goes to stderr.\n",
      "W0326 20:49:25.892610 140226342946624 __init__.py:56] Some hub symbols are not available because TensorFlow version is less than 1.14\n"
     ]
    }
   ],
   "source": [
    "import pandas as pd\n",
    "import gzip\n",
    "import random\n",
    "from collections import defaultdict\n",
    "import seaborn as sns\n",
    "import numpy as np\n",
    "import re\n",
    "\n",
    "# Keras\n",
    "from keras.preprocessing.text import Tokenizer\n",
    "from keras.preprocessing.sequence import pad_sequences\n",
    "from keras.models import Sequential\n",
    "from keras.layers import Dense, Flatten, LSTM, Conv1D, MaxPooling1D, Dropout, Activation\n",
    "from keras.layers.embeddings import Embedding\n",
    "\n",
    "import tensorflow_hub as hub\n",
    "import tensorflow as tf"
   ]
  },
  {
   "cell_type": "code",
   "execution_count": 2,
   "metadata": {
    "ExecuteTime": {
     "end_time": "2019-03-21T17:11:55.894807Z",
     "start_time": "2019-03-21T17:11:13.582094Z"
    }
   },
   "outputs": [
    {
     "name": "stderr",
     "output_type": "stream",
     "text": [
      "/home/lance_miles/anaconda3/lib/python3.6/site-packages/ipykernel_launcher.py:30: FutureWarning: Sorting because non-concatenation axis is not aligned. A future version\n",
      "of pandas will change to not sort by default.\n",
      "\n",
      "To accept the future behavior, pass 'sort=True'.\n",
      "\n",
      "To retain the current behavior and silence the warning, pass sort=False\n",
      "\n"
     ]
    }
   ],
   "source": [
    "files = ['reviews_Video_Games.json.gz', \n",
    "         'reviews_Toys_and_Games.json.gz', \n",
    "         'reviews_Sports_and_Outdoors.json.gz', \n",
    "         'reviews_Movies_and_TV.json.gz',\n",
    "         'reviews_Kindle_Store.json.gz', \n",
    "         'reviews_Home_and_Kitchen.json.gz',\n",
    "         'reviews_Health_and_Personal_Care.json.gz', \n",
    "         'reviews_Electronics.json.gz',\n",
    "         'reviews_Clothing_Shoes_and_Jewelry.json.gz',\n",
    "         'reviews_Cell_Phones_and_Accessories.json.gz', \n",
    "         'reviews_CDs_and_Vinyl.json.gz',\n",
    "         'reviews_Books.json.gz']\n",
    "filesNames = ['reviews_Video_Games', \n",
    "              'reviews_Toys_and_Games',\n",
    "              'reviews_Sports_and_Outdoors', \n",
    "              'reviews_Movies_and_TV',\n",
    "              'reviews_Kindle_Store', \n",
    "              'reviews_Home_and_Kitchen',\n",
    "              'reviews_Health_and_Personal_Care', \n",
    "              'reviews_Electronics',\n",
    "              'reviews_Clothing_Shoes_and_Jewelry',\n",
    "              'reviews_Cell_Phones_and_Accessories', \n",
    "              'reviews_CDs_and_Vinyl',\n",
    "              'reviews_Books']\n",
    "\n",
    "def dataFullSets(original, concatData, name):\n",
    "    currentData = original\n",
    "    appendData = pd.read_csv('../Data/%s'%(concatData))\n",
    "    appendData['Product'] = name\n",
    "    newDF = pd.concat([currentData,appendData])\n",
    "    return(newDF)\n",
    "\n",
    "train_data = pd.read_csv('../Data/%s_train.csv'%(filesNames[0]))\n",
    "train_data['Product'] = filesNames[0]\n",
    "test_data = pd.read_csv('../Data/%s_test.csv'%(filesNames[0]))\n",
    "test_data['Product'] = filesNames[0]\n",
    "                        \n",
    "for fileName in filesNames[1:]:\n",
    "    concatName_train = str(fileName+'_train.csv')\n",
    "    concatName_test = fileName+'_test.csv'\n",
    "                        \n",
    "    train_data = dataFullSets(train_data, concatName_train, fileName).sample(frac=1)\n",
    "    test_data = dataFullSets(test_data, concatName_test, fileName).sample(frac=1)"
   ]
  },
  {
   "cell_type": "code",
   "execution_count": 3,
   "metadata": {
    "ExecuteTime": {
     "end_time": "2019-03-21T17:11:55.945562Z",
     "start_time": "2019-03-21T17:11:55.896787Z"
    },
    "scrolled": false
   },
   "outputs": [
    {
     "data": {
      "text/html": [
       "<div>\n",
       "<style scoped>\n",
       "    .dataframe tbody tr th:only-of-type {\n",
       "        vertical-align: middle;\n",
       "    }\n",
       "\n",
       "    .dataframe tbody tr th {\n",
       "        vertical-align: top;\n",
       "    }\n",
       "\n",
       "    .dataframe thead th {\n",
       "        text-align: right;\n",
       "    }\n",
       "</style>\n",
       "<table border=\"1\" class=\"dataframe\">\n",
       "  <thead>\n",
       "    <tr style=\"text-align: right;\">\n",
       "      <th></th>\n",
       "      <th>Product</th>\n",
       "      <th>asin</th>\n",
       "      <th>helpful</th>\n",
       "      <th>overall</th>\n",
       "      <th>reviewText</th>\n",
       "      <th>reviewTime</th>\n",
       "      <th>reviewerID</th>\n",
       "      <th>reviewerName</th>\n",
       "      <th>sentiment</th>\n",
       "      <th>summary</th>\n",
       "      <th>unixReviewTime</th>\n",
       "    </tr>\n",
       "  </thead>\n",
       "  <tbody>\n",
       "    <tr>\n",
       "      <th>24896</th>\n",
       "      <td>reviews_Movies_and_TV</td>\n",
       "      <td>B007C2DRDG</td>\n",
       "      <td>[2, 5]</td>\n",
       "      <td>5.0</td>\n",
       "      <td>Leonard Cohen is a legend - one of a kind! Ins...</td>\n",
       "      <td>06 1, 2013</td>\n",
       "      <td>A1BLT75VT39UKU</td>\n",
       "      <td>Shirley Kussner</td>\n",
       "      <td>1</td>\n",
       "      <td>Insight to his life</td>\n",
       "      <td>1370044800</td>\n",
       "    </tr>\n",
       "    <tr>\n",
       "      <th>22250</th>\n",
       "      <td>reviews_Movies_and_TV</td>\n",
       "      <td>B00CYOVV0I</td>\n",
       "      <td>[1, 1]</td>\n",
       "      <td>1.0</td>\n",
       "      <td>Horible bad bad and bad , the only thing that ...</td>\n",
       "      <td>01 4, 2014</td>\n",
       "      <td>AH6S1X0OG7SOA</td>\n",
       "      <td>David J Daye</td>\n",
       "      <td>0</td>\n",
       "      <td>Great produts</td>\n",
       "      <td>1388793600</td>\n",
       "    </tr>\n",
       "    <tr>\n",
       "      <th>29087</th>\n",
       "      <td>reviews_Sports_and_Outdoors</td>\n",
       "      <td>B007VG761C</td>\n",
       "      <td>[0, 0]</td>\n",
       "      <td>5.0</td>\n",
       "      <td>I leave for work at 4am and this mug keeps my ...</td>\n",
       "      <td>03 28, 2014</td>\n",
       "      <td>A2GYU5RG93TVGG</td>\n",
       "      <td>Big Kyle 570</td>\n",
       "      <td>1</td>\n",
       "      <td>Finally,  a great travel mug!</td>\n",
       "      <td>1395964800</td>\n",
       "    </tr>\n",
       "    <tr>\n",
       "      <th>27530</th>\n",
       "      <td>reviews_Health_and_Personal_Care</td>\n",
       "      <td>B000KPDW3C</td>\n",
       "      <td>[0, 0]</td>\n",
       "      <td>5.0</td>\n",
       "      <td>I bought one of these for myself. I love it so...</td>\n",
       "      <td>08 16, 2013</td>\n",
       "      <td>AV6FO4YZMFEBI</td>\n",
       "      <td>Elizabeth A. Tool \"LIZZYGOAT\"</td>\n",
       "      <td>1</td>\n",
       "      <td>ONE FOR ME ONE FOR MY SISTER</td>\n",
       "      <td>1376611200</td>\n",
       "    </tr>\n",
       "    <tr>\n",
       "      <th>16026</th>\n",
       "      <td>reviews_Sports_and_Outdoors</td>\n",
       "      <td>B002PB2HPS</td>\n",
       "      <td>[9, 12]</td>\n",
       "      <td>1.0</td>\n",
       "      <td>I bought this tent from walmart 3 years ago.  ...</td>\n",
       "      <td>08 8, 2013</td>\n",
       "      <td>A1Y1F0FKLQWETM</td>\n",
       "      <td>Amanda Eckelbecker \"getalife\"</td>\n",
       "      <td>0</td>\n",
       "      <td>VERY Disapointed</td>\n",
       "      <td>1375920000</td>\n",
       "    </tr>\n",
       "  </tbody>\n",
       "</table>\n",
       "</div>"
      ],
      "text/plain": [
       "                                Product        asin  helpful  overall  \\\n",
       "24896             reviews_Movies_and_TV  B007C2DRDG   [2, 5]      5.0   \n",
       "22250             reviews_Movies_and_TV  B00CYOVV0I   [1, 1]      1.0   \n",
       "29087       reviews_Sports_and_Outdoors  B007VG761C   [0, 0]      5.0   \n",
       "27530  reviews_Health_and_Personal_Care  B000KPDW3C   [0, 0]      5.0   \n",
       "16026       reviews_Sports_and_Outdoors  B002PB2HPS  [9, 12]      1.0   \n",
       "\n",
       "                                              reviewText   reviewTime  \\\n",
       "24896  Leonard Cohen is a legend - one of a kind! Ins...   06 1, 2013   \n",
       "22250  Horible bad bad and bad , the only thing that ...   01 4, 2014   \n",
       "29087  I leave for work at 4am and this mug keeps my ...  03 28, 2014   \n",
       "27530  I bought one of these for myself. I love it so...  08 16, 2013   \n",
       "16026  I bought this tent from walmart 3 years ago.  ...   08 8, 2013   \n",
       "\n",
       "           reviewerID                   reviewerName  sentiment  \\\n",
       "24896  A1BLT75VT39UKU                Shirley Kussner          1   \n",
       "22250   AH6S1X0OG7SOA                   David J Daye          0   \n",
       "29087  A2GYU5RG93TVGG                   Big Kyle 570          1   \n",
       "27530   AV6FO4YZMFEBI  Elizabeth A. Tool \"LIZZYGOAT\"          1   \n",
       "16026  A1Y1F0FKLQWETM  Amanda Eckelbecker \"getalife\"          0   \n",
       "\n",
       "                             summary  unixReviewTime  \n",
       "24896            Insight to his life      1370044800  \n",
       "22250                  Great produts      1388793600  \n",
       "29087  Finally,  a great travel mug!      1395964800  \n",
       "27530   ONE FOR ME ONE FOR MY SISTER      1376611200  \n",
       "16026               VERY Disapointed      1375920000  "
      ]
     },
     "execution_count": 3,
     "metadata": {},
     "output_type": "execute_result"
    }
   ],
   "source": [
    "train_data.head()"
   ]
  },
  {
   "cell_type": "code",
   "execution_count": 4,
   "metadata": {
    "ExecuteTime": {
     "end_time": "2019-03-21T17:11:55.993872Z",
     "start_time": "2019-03-21T17:11:55.948370Z"
    },
    "scrolled": false
   },
   "outputs": [
    {
     "data": {
      "text/html": [
       "<div>\n",
       "<style scoped>\n",
       "    .dataframe tbody tr th:only-of-type {\n",
       "        vertical-align: middle;\n",
       "    }\n",
       "\n",
       "    .dataframe tbody tr th {\n",
       "        vertical-align: top;\n",
       "    }\n",
       "\n",
       "    .dataframe thead th {\n",
       "        text-align: right;\n",
       "    }\n",
       "</style>\n",
       "<table border=\"1\" class=\"dataframe\">\n",
       "  <thead>\n",
       "    <tr style=\"text-align: right;\">\n",
       "      <th></th>\n",
       "      <th>Product</th>\n",
       "      <th>asin</th>\n",
       "      <th>helpful</th>\n",
       "      <th>overall</th>\n",
       "      <th>reviewText</th>\n",
       "      <th>reviewTime</th>\n",
       "      <th>reviewerID</th>\n",
       "      <th>reviewerName</th>\n",
       "      <th>sentiment</th>\n",
       "      <th>summary</th>\n",
       "      <th>unixReviewTime</th>\n",
       "    </tr>\n",
       "  </thead>\n",
       "  <tbody>\n",
       "    <tr>\n",
       "      <th>15953</th>\n",
       "      <td>reviews_Sports_and_Outdoors</td>\n",
       "      <td>B000G2Z4W6</td>\n",
       "      <td>[0, 0]</td>\n",
       "      <td>5.0</td>\n",
       "      <td>The package got divided between our bug out ba...</td>\n",
       "      <td>05 30, 2013</td>\n",
       "      <td>A7DK4J73J3ET2</td>\n",
       "      <td>Michael H. Howell</td>\n",
       "      <td>1</td>\n",
       "      <td>Bug out bag</td>\n",
       "      <td>1369872000</td>\n",
       "    </tr>\n",
       "    <tr>\n",
       "      <th>15823</th>\n",
       "      <td>reviews_Health_and_Personal_Care</td>\n",
       "      <td>B001ADL1SG</td>\n",
       "      <td>[0, 0]</td>\n",
       "      <td>1.0</td>\n",
       "      <td>I bought this about a year ago.  I like the ou...</td>\n",
       "      <td>12 29, 2013</td>\n",
       "      <td>AB70TXTFI1FJ9</td>\n",
       "      <td>Jen</td>\n",
       "      <td>0</td>\n",
       "      <td>Great product if you don't mind SLIME</td>\n",
       "      <td>1388275200</td>\n",
       "    </tr>\n",
       "    <tr>\n",
       "      <th>2633</th>\n",
       "      <td>reviews_Electronics</td>\n",
       "      <td>B000069E1H</td>\n",
       "      <td>[3, 18]</td>\n",
       "      <td>1.0</td>\n",
       "      <td>Bose unfortunately provides little support. It...</td>\n",
       "      <td>12 30, 2010</td>\n",
       "      <td>ANH0HXCEU8O45</td>\n",
       "      <td>Manoj</td>\n",
       "      <td>0</td>\n",
       "      <td>A big struggle to find the suitable cable to c...</td>\n",
       "      <td>1293667200</td>\n",
       "    </tr>\n",
       "    <tr>\n",
       "      <th>6247</th>\n",
       "      <td>reviews_Clothing_Shoes_and_Jewelry</td>\n",
       "      <td>B00567E3O6</td>\n",
       "      <td>[0, 0]</td>\n",
       "      <td>1.0</td>\n",
       "      <td>I recieved the watch and it say that is Water ...</td>\n",
       "      <td>05 2, 2013</td>\n",
       "      <td>AURW2OM0PQW4O</td>\n",
       "      <td>Jose Luis</td>\n",
       "      <td>0</td>\n",
       "      <td>Water prooff???</td>\n",
       "      <td>1367452800</td>\n",
       "    </tr>\n",
       "    <tr>\n",
       "      <th>7372</th>\n",
       "      <td>reviews_Health_and_Personal_Care</td>\n",
       "      <td>B0013NE108</td>\n",
       "      <td>[5, 5]</td>\n",
       "      <td>5.0</td>\n",
       "      <td>Relieved the redness &amp; itchy eyes, much better...</td>\n",
       "      <td>02 4, 2009</td>\n",
       "      <td>A1R4NNIIREOMC5</td>\n",
       "      <td>George Daney \"daneish\"</td>\n",
       "      <td>1</td>\n",
       "      <td>Nature's Tears Eye Mist.</td>\n",
       "      <td>1233705600</td>\n",
       "    </tr>\n",
       "  </tbody>\n",
       "</table>\n",
       "</div>"
      ],
      "text/plain": [
       "                                  Product        asin  helpful  overall  \\\n",
       "15953         reviews_Sports_and_Outdoors  B000G2Z4W6   [0, 0]      5.0   \n",
       "15823    reviews_Health_and_Personal_Care  B001ADL1SG   [0, 0]      1.0   \n",
       "2633                  reviews_Electronics  B000069E1H  [3, 18]      1.0   \n",
       "6247   reviews_Clothing_Shoes_and_Jewelry  B00567E3O6   [0, 0]      1.0   \n",
       "7372     reviews_Health_and_Personal_Care  B0013NE108   [5, 5]      5.0   \n",
       "\n",
       "                                              reviewText   reviewTime  \\\n",
       "15953  The package got divided between our bug out ba...  05 30, 2013   \n",
       "15823  I bought this about a year ago.  I like the ou...  12 29, 2013   \n",
       "2633   Bose unfortunately provides little support. It...  12 30, 2010   \n",
       "6247   I recieved the watch and it say that is Water ...   05 2, 2013   \n",
       "7372   Relieved the redness & itchy eyes, much better...   02 4, 2009   \n",
       "\n",
       "           reviewerID            reviewerName  sentiment  \\\n",
       "15953   A7DK4J73J3ET2       Michael H. Howell          1   \n",
       "15823   AB70TXTFI1FJ9                     Jen          0   \n",
       "2633    ANH0HXCEU8O45                   Manoj          0   \n",
       "6247    AURW2OM0PQW4O               Jose Luis          0   \n",
       "7372   A1R4NNIIREOMC5  George Daney \"daneish\"          1   \n",
       "\n",
       "                                                 summary  unixReviewTime  \n",
       "15953                                        Bug out bag      1369872000  \n",
       "15823              Great product if you don't mind SLIME      1388275200  \n",
       "2633   A big struggle to find the suitable cable to c...      1293667200  \n",
       "6247                                     Water prooff???      1367452800  \n",
       "7372                            Nature's Tears Eye Mist.      1233705600  "
      ]
     },
     "execution_count": 4,
     "metadata": {},
     "output_type": "execute_result"
    }
   ],
   "source": [
    "test_data.head()"
   ]
  },
  {
   "cell_type": "code",
   "execution_count": 5,
   "metadata": {},
   "outputs": [
    {
     "data": {
      "text/plain": [
       "\"There's nothing much to say about this product. I hooked it i hooked it up between my deck and my amp and my amp and it COMPLETELY eliminated the the whining noise.. I would recommend this product to anyone. It's cheap and it works!!!\""
      ]
     },
     "execution_count": 5,
     "metadata": {},
     "output_type": "execute_result"
    }
   ],
   "source": [
    "#practice sentence\n",
    "test_sentence = test_data['reviewText'].iloc[19]\n",
    "test_sentence"
   ]
  },
  {
   "cell_type": "code",
   "execution_count": 6,
   "metadata": {},
   "outputs": [
    {
     "data": {
      "text/plain": [
       "'there s nothing much to say about this product  i hooked it i hooked it up between my deck and my amp and my amp and it completely eliminated the the whining noise   i would recommend this product to anyone  it s cheap and it works   '"
      ]
     },
     "execution_count": 6,
     "metadata": {},
     "output_type": "execute_result"
    }
   ],
   "source": [
    "#prepare reviews to be split by words\n",
    "#change to lowercase, remove punctuation and numbers\n",
    "test_data_word_prep = re.sub(\"[^a-zA-Z]\", \" \", test_sentence).lower()\n",
    "test_data_word_prep"
   ]
  },
  {
   "cell_type": "code",
   "execution_count": 7,
   "metadata": {
    "scrolled": false
   },
   "outputs": [
    {
     "data": {
      "text/plain": [
       "['there',\n",
       " 's',\n",
       " 'nothing',\n",
       " 'much',\n",
       " 'to',\n",
       " 'say',\n",
       " 'about',\n",
       " 'this',\n",
       " 'product',\n",
       " 'i',\n",
       " 'hooked',\n",
       " 'it',\n",
       " 'i',\n",
       " 'hooked',\n",
       " 'it',\n",
       " 'up',\n",
       " 'between',\n",
       " 'my',\n",
       " 'deck',\n",
       " 'and',\n",
       " 'my',\n",
       " 'amp',\n",
       " 'and',\n",
       " 'my',\n",
       " 'amp',\n",
       " 'and',\n",
       " 'it',\n",
       " 'completely',\n",
       " 'eliminated',\n",
       " 'the',\n",
       " 'the',\n",
       " 'whining',\n",
       " 'noise',\n",
       " 'i',\n",
       " 'would',\n",
       " 'recommend',\n",
       " 'this',\n",
       " 'product',\n",
       " 'to',\n",
       " 'anyone',\n",
       " 'it',\n",
       " 's',\n",
       " 'cheap',\n",
       " 'and',\n",
       " 'it',\n",
       " 'works']"
      ]
     },
     "execution_count": 7,
     "metadata": {},
     "output_type": "execute_result"
    }
   ],
   "source": [
    "#list of words after processing\n",
    "test_data_word_prep.strip().split()"
   ]
  },
  {
   "cell_type": "code",
   "execution_count": 8,
   "metadata": {
    "scrolled": true
   },
   "outputs": [
    {
     "data": {
      "text/plain": [
       "'there s nothing much to say about this product. i hooked it i hooked it up between my deck and my amp and my amp and it completely eliminated the the whining noise.. i would recommend this product to anyone. it s cheap and it works...'"
      ]
     },
     "execution_count": 8,
     "metadata": {},
     "output_type": "execute_result"
    }
   ],
   "source": [
    "#prepare reviews to be split by sentences\n",
    "#change to lowercase, changes (!?) to (.), removes numbers, allows to be split by periods\n",
    "test_data_sent_prep = re.sub(\"[!?]\", \".\", test_sentence)\n",
    "test_data_sent_prep = re.sub(\"[^a-zA-Z.]\", \" \", test_data_sent_prep).lower()\n",
    "test_data_sent_prep"
   ]
  },
  {
   "cell_type": "code",
   "execution_count": 9,
   "metadata": {
    "scrolled": true
   },
   "outputs": [
    {
     "data": {
      "text/plain": [
       "['there s nothing much to say about this product',\n",
       " 'i hooked it i hooked it up between my deck and my amp and my amp and it completely eliminated the the whining noise',\n",
       " '',\n",
       " 'i would recommend this product to anyone',\n",
       " 'it s cheap and it works',\n",
       " '',\n",
       " '',\n",
       " '']"
      ]
     },
     "execution_count": 9,
     "metadata": {},
     "output_type": "execute_result"
    }
   ],
   "source": [
    "#list of sentences after processing\n",
    "[sent.strip(\" \") for sent in test_data_sent_prep.split('.')]"
   ]
  },
  {
   "cell_type": "code",
   "execution_count": 10,
   "metadata": {
    "ExecuteTime": {
     "end_time": "2019-03-21T20:04:03.921115Z",
     "start_time": "2019-03-21T20:03:10.378683Z"
    }
   },
   "outputs": [],
   "source": [
    "play_data = test_data[:10]\n",
    "#print(play_data)\n",
    "\n",
    "#function to process review text and split into words\n",
    "def splitWords(data):\n",
    "    data_prep = str(data['reviewText'])\n",
    "    data_prep = re.sub(\"[^a-zA-Z]\", \" \", data_prep).lower()\n",
    "    return data_prep.split()\n",
    "\n",
    "#function to process review text and split into sentences\n",
    "def splitSentences(data):\n",
    "    data_prep = str(data['reviewText'])\n",
    "    data_prep = re.sub(\"[!?]\", \".\", data_prep)\n",
    "    data_prep = re.sub(\"[^a-zA-Z.]\", \" \", data_prep).lower().split('.')\n",
    "    data_prep = [sentence.strip(\" \") for sentence in data_prep]\n",
    "    return data_prep\n",
    "\n",
    "\n",
    "#list of words from review into column\n",
    "sentences = play_data.apply(splitWords, axis=1)\n",
    "play_data.insert(loc = 11, column = 'sentenceWords', value = sentences)\n",
    "\n",
    "sentences = train_data.apply(splitWords, axis=1)\n",
    "train_data.insert(loc = 11,column = 'sentenceWords', value = sentences)\n",
    "\n",
    "sentences = test_data.apply(splitWords, axis=1)\n",
    "test_data.insert(loc = 11,column = 'sentenceWords', value = sentences)\n",
    "\n",
    "\n",
    "#list of sentences from review into column\n",
    "sentences_split = play_data.apply(splitSentences, axis=1)\n",
    "play_data.insert(loc = 12, column = 'sentences', value = sentences_split)\n",
    "\n",
    "sentences_split = train_data.apply(splitSentences, axis=1)\n",
    "train_data.insert(loc = 12,column = 'sentences', value = sentences_split)\n",
    "\n",
    "sentences_split = test_data.apply(splitSentences, axis=1)\n",
    "test_data.insert(loc = 12,column = 'sentences', value = sentences_split)"
   ]
  },
  {
   "cell_type": "code",
   "execution_count": 11,
   "metadata": {
    "ExecuteTime": {
     "end_time": "2019-03-21T20:04:30.500814Z",
     "start_time": "2019-03-21T20:04:03.931150Z"
    }
   },
   "outputs": [],
   "source": [
    "wordFreq = defaultdict(int)\n",
    "\n",
    "wordData = train_data['sentenceWords']\n",
    "\n",
    "for row in wordData:\n",
    "    for word in row:\n",
    "        wordFreq[word] += 1      "
   ]
  },
  {
   "cell_type": "code",
   "execution_count": 12,
   "metadata": {
    "ExecuteTime": {
     "end_time": "2019-03-21T20:08:13.992684Z",
     "start_time": "2019-03-21T20:08:13.948360Z"
    },
    "scrolled": false
   },
   "outputs": [],
   "source": [
    "wordsForHist = list(wordFreq.values())"
   ]
  },
  {
   "cell_type": "code",
   "execution_count": 13,
   "metadata": {
    "ExecuteTime": {
     "end_time": "2019-03-21T20:08:17.320811Z",
     "start_time": "2019-03-21T20:08:16.613431Z"
    }
   },
   "outputs": [
    {
     "name": "stderr",
     "output_type": "stream",
     "text": [
      "/home/lance_miles/anaconda3/lib/python3.6/site-packages/matplotlib/axes/_axes.py:6462: UserWarning: The 'normed' kwarg is deprecated, and has been replaced by the 'density' kwarg.\n",
      "  warnings.warn(\"The 'normed' kwarg is deprecated, and has been \"\n"
     ]
    },
    {
     "data": {
      "text/plain": [
       "Text(0.5,1,'Word Frequency for Train Data')"
      ]
     },
     "execution_count": 13,
     "metadata": {},
     "output_type": "execute_result"
    },
    {
     "data": {
      "image/png": "[encoded data removed]",
      "text/plain": [
       "<Figure size 432x288 with 1 Axes>"
      ]
     },
     "metadata": {},
     "output_type": "display_data"
    }
   ],
   "source": [
    "sns.distplot(wordsForHist, bins=100, color = 'red').set_title('Word Frequency for Train Data')"
   ]
  },
  {
   "cell_type": "code",
   "execution_count": 14,
   "metadata": {
    "ExecuteTime": {
     "end_time": "2019-03-21T20:13:27.638555Z",
     "start_time": "2019-03-21T20:13:27.284719Z"
    }
   },
   "outputs": [],
   "source": [
    "reviewLength = []\n",
    "\n",
    "for row in wordData:\n",
    "    reviewLength.append(len(row))"
   ]
  },
  {
   "cell_type": "code",
   "execution_count": 15,
   "metadata": {
    "ExecuteTime": {
     "end_time": "2019-03-21T20:14:20.733542Z",
     "start_time": "2019-03-21T20:14:20.198952Z"
    },
    "scrolled": false
   },
   "outputs": [
    {
     "name": "stderr",
     "output_type": "stream",
     "text": [
      "/home/lance_miles/anaconda3/lib/python3.6/site-packages/matplotlib/axes/_axes.py:6462: UserWarning: The 'normed' kwarg is deprecated, and has been replaced by the 'density' kwarg.\n",
      "  warnings.warn(\"The 'normed' kwarg is deprecated, and has been \"\n"
     ]
    },
    {
     "data": {
      "text/plain": [
       "Text(0.5,1,'Sentence Lengths for Train Data')"
      ]
     },
     "execution_count": 15,
     "metadata": {},
     "output_type": "execute_result"
    },
    {
     "data": {
      "image/png": "[encoded data removed]",
      "text/plain": [
       "<Figure size 432x288 with 1 Axes>"
      ]
     },
     "metadata": {},
     "output_type": "display_data"
    }
   ],
   "source": [
    "sns.distplot(reviewLength, bins=100, color = 'red').set_title('Sentence Lengths for Train Data')"
   ]
  },
  {
   "cell_type": "code",
   "execution_count": 16,
   "metadata": {
    "scrolled": true
   },
   "outputs": [
    {
     "name": "stdout",
     "output_type": "stream",
     "text": [
      "Mean: 81.19317833333334\n",
      "Median: 47.0\n"
     ]
    }
   ],
   "source": [
    "print('Mean:',np.mean(reviewLength))\n",
    "print('Median:',np.median(reviewLength))"
   ]
  },
  {
   "cell_type": "markdown",
   "metadata": {},
   "source": [
    "## Universal Sentence Encoder"
   ]
  },
  {
   "cell_type": "code",
   "execution_count": 17,
   "metadata": {},
   "outputs": [],
   "source": [
    "embedding = hub.Module(\"https://tfhub.dev/google/universal-sentence-encoder-large/3\")"
   ]
  },
  {
   "cell_type": "code",
   "execution_count": 18,
   "metadata": {},
   "outputs": [
    {
     "data": {
      "text/plain": [
       "['The package got divided between our bug out bags so we will be sure to have fire no matter what.']"
      ]
     },
     "execution_count": 18,
     "metadata": {},
     "output_type": "execute_result"
    }
   ],
   "source": [
    "test_par = [(play_data['reviewText'].iloc[0])]\n",
    "test_par"
   ]
  },
  {
   "cell_type": "code",
   "execution_count": 19,
   "metadata": {},
   "outputs": [
    {
     "data": {
      "text/plain": [
       "(1, 512)"
      ]
     },
     "execution_count": 19,
     "metadata": {},
     "output_type": "execute_result"
    }
   ],
   "source": [
    "#supress messages\n",
    "tf.logging.set_verbosity(tf.logging.ERROR)\n",
    "\n",
    "with tf.Session() as sess:\n",
    "    sess.run([tf.global_variables_initializer(), tf.tables_initializer()])\n",
    "    review_embeddings = sess.run(embedding((test_par)))\n",
    "    \n",
    "review_embeddings = np.array(review_embeddings)\n",
    "review_embeddings.shape"
   ]
  },
  {
   "cell_type": "code",
   "execution_count": 20,
   "metadata": {
    "scrolled": true
   },
   "outputs": [
    {
     "data": {
      "text/plain": [
       "array([[-3.20151299e-02,  2.32956130e-02,  4.79711778e-02,\n",
       "         4.53879535e-02, -3.46658565e-02,  3.61542702e-02,\n",
       "         6.92478288e-03, -4.09053825e-02, -2.83886380e-02,\n",
       "        -3.16946618e-02,  8.40265825e-02, -1.78929362e-02,\n",
       "        -6.94046319e-02,  3.03007010e-02,  2.26936825e-02,\n",
       "        -1.61600970e-02,  1.17623061e-01,  5.02063036e-02,\n",
       "         5.87594211e-02,  6.66756779e-02,  1.99708641e-02,\n",
       "         3.69834267e-02, -5.26656657e-02,  3.39785889e-02,\n",
       "        -2.49138102e-02,  8.71205796e-03,  1.45552373e-02,\n",
       "         8.02025758e-03, -4.93671820e-02, -4.45176214e-02,\n",
       "        -8.38828757e-02, -3.46864313e-02, -3.93720716e-02,\n",
       "        -2.99540479e-05, -1.14692915e-02,  3.65693644e-02,\n",
       "         2.44814549e-02,  8.69069342e-03,  2.04131026e-02,\n",
       "         5.22214659e-02, -3.31851989e-02, -4.96946387e-02,\n",
       "        -1.44161666e-02,  4.50265855e-02,  1.42728211e-02,\n",
       "         9.96453315e-03,  4.93760221e-02,  7.97868986e-03,\n",
       "        -5.26542496e-03, -4.46357131e-02, -8.84217098e-02,\n",
       "        -8.52481276e-03,  6.24123253e-02,  3.64391208e-02,\n",
       "        -8.85689259e-02, -1.89129133e-02,  6.35145232e-02,\n",
       "         4.08149511e-02,  3.07299346e-02, -1.92930549e-02,\n",
       "        -3.11818197e-02, -4.82872035e-03,  1.15517443e-02,\n",
       "         3.48607339e-02, -6.40701279e-02, -8.06785896e-02,\n",
       "         1.10579217e-02,  1.89037640e-02,  2.12376062e-02,\n",
       "        -6.72043636e-02,  1.89491604e-02,  4.16424163e-02,\n",
       "         6.03219084e-02, -1.95280723e-02, -1.48697458e-02,\n",
       "         3.07343733e-02,  6.84626102e-02, -7.37899020e-02,\n",
       "        -1.77381337e-02,  2.68941093e-02, -9.10407747e-04,\n",
       "         9.85929146e-02, -3.35347354e-02, -2.70061530e-02,\n",
       "        -8.92451126e-03, -1.57364514e-02, -2.51754653e-02,\n",
       "         6.46664575e-02, -9.72887427e-02, -3.22854333e-02,\n",
       "        -1.43952039e-03,  3.22542116e-02, -4.21915064e-03,\n",
       "         1.92355607e-02, -2.16293633e-02, -4.94224578e-02,\n",
       "        -8.03501389e-05, -4.74564396e-02, -4.24729139e-02,\n",
       "        -2.62148585e-02, -4.44280468e-02,  4.52011414e-02,\n",
       "         8.08054805e-02, -1.74796805e-02,  4.11082655e-02,\n",
       "         1.96687728e-02,  4.61555459e-02,  1.36442203e-02,\n",
       "        -6.06471533e-03, -2.79215891e-02, -4.69420999e-02,\n",
       "        -4.90110479e-02,  2.13448256e-02, -5.34043834e-03,\n",
       "         3.37659121e-02, -4.47176956e-02,  4.61022817e-02,\n",
       "         1.02871656e-01,  2.83335857e-02,  1.42086836e-04,\n",
       "         2.24149991e-02, -1.43417055e-02, -5.28862812e-02,\n",
       "         1.44627495e-02,  3.92302088e-02, -9.00242943e-03,\n",
       "         8.60519707e-03, -2.35625524e-02, -3.42065133e-02,\n",
       "         2.04914641e-02, -1.40642002e-02, -4.89002420e-03,\n",
       "         1.05514303e-02, -2.82419380e-02,  3.50213237e-02,\n",
       "        -1.46893421e-02,  6.80644214e-02, -3.87012139e-02,\n",
       "         1.17421541e-02, -2.60155592e-02,  3.81186455e-02,\n",
       "         2.91395821e-02,  3.64345126e-02,  4.31067795e-02,\n",
       "         1.73267219e-02,  1.42657366e-02, -4.19563986e-03,\n",
       "         2.80952677e-02,  1.69660412e-02,  1.82491262e-02,\n",
       "        -2.43658014e-02,  7.26410747e-02, -9.29966476e-03,\n",
       "        -3.08164544e-02, -4.82633039e-02,  1.00989386e-01,\n",
       "         4.26726677e-02,  1.70308594e-02, -1.05291203e-01,\n",
       "        -3.07087116e-02, -1.23767685e-02, -8.92952308e-02,\n",
       "        -1.38681214e-02, -4.45679054e-02,  4.19677570e-02,\n",
       "         3.58091854e-02,  5.44745512e-02, -1.91587619e-02,\n",
       "         4.89631779e-02, -2.15591379e-02, -4.85915318e-02,\n",
       "         4.20523398e-02,  5.32960407e-02, -8.44670162e-02,\n",
       "         5.45636900e-02, -1.12087198e-03, -1.46478536e-02,\n",
       "         9.30617750e-02,  6.62569329e-02, -2.47157086e-02,\n",
       "         7.53629357e-02,  3.31783742e-02, -4.95381095e-02,\n",
       "         3.86317559e-02, -2.41259988e-02,  1.95887871e-02,\n",
       "         8.02920461e-02,  3.67848040e-03,  4.16649655e-02,\n",
       "        -2.46722288e-02,  1.01674005e-01,  5.67272119e-02,\n",
       "         1.50845600e-02, -2.84689218e-02, -6.38952330e-02,\n",
       "         3.79157364e-02,  6.17303848e-02, -1.24826888e-02,\n",
       "        -8.55084658e-02,  5.15928827e-02,  3.09194741e-03,\n",
       "        -2.29725074e-02, -1.98884532e-02, -1.76593661e-02,\n",
       "        -8.92621130e-02, -2.04645302e-02, -6.36994019e-02,\n",
       "         1.09231332e-02,  4.70102914e-02, -9.80749130e-02,\n",
       "        -2.24393886e-02, -3.60648520e-02, -2.63780425e-03,\n",
       "         9.18393284e-02, -3.94401848e-02, -1.50907794e-02,\n",
       "        -6.91462681e-02, -9.60927308e-02,  4.90169115e-02,\n",
       "        -5.10798953e-02, -7.74872974e-02, -6.17623627e-02,\n",
       "        -3.34543400e-02,  1.71514954e-02,  4.31999005e-02,\n",
       "        -3.67921777e-02,  2.29697879e-02, -2.54274905e-02,\n",
       "        -3.29027995e-02,  4.60241698e-02,  4.24406938e-02,\n",
       "         1.67050753e-02, -1.14555331e-02,  1.73412804e-02,\n",
       "         4.56504487e-02, -7.57356174e-03,  9.41604562e-03,\n",
       "         3.19225341e-02, -5.34749478e-02,  1.00491624e-02,\n",
       "         6.62471056e-02, -1.25798499e-02, -8.20856020e-02,\n",
       "        -1.49293756e-02, -2.73618451e-03, -3.08455937e-02,\n",
       "        -4.41994481e-02,  1.12691760e-01,  8.05209950e-02,\n",
       "        -4.97395396e-02,  2.51375865e-02,  1.84101984e-02,\n",
       "         1.51003990e-02, -3.51578444e-02,  3.31299268e-02,\n",
       "         7.79445693e-02,  5.96231222e-02, -4.64445585e-03,\n",
       "         3.41537930e-02, -3.99744650e-03,  1.42435227e-02,\n",
       "         5.21567278e-02,  6.17020577e-02, -1.14191044e-02,\n",
       "        -2.84984894e-02, -3.30200233e-02,  3.65800336e-02,\n",
       "         2.31693387e-02, -5.25436737e-02,  2.04779557e-04,\n",
       "        -6.00891486e-02,  7.11871358e-03, -7.23785535e-02,\n",
       "         8.04648793e-04,  5.62744855e-04,  3.56450304e-03,\n",
       "        -4.88214716e-02,  4.05544527e-02,  3.19380797e-02,\n",
       "         6.54857233e-03,  6.98550045e-02, -1.27308685e-02,\n",
       "         1.51969558e-02,  4.33958210e-02, -3.07093505e-02,\n",
       "         3.86414491e-02,  1.36936912e-02,  2.32870746e-02,\n",
       "        -6.81824982e-03, -8.30220580e-02,  3.29888053e-02,\n",
       "         3.81483720e-03,  2.00539976e-02,  1.04860635e-02,\n",
       "        -4.91842441e-02,  3.32924118e-03, -2.14323550e-02,\n",
       "         1.27593055e-02, -4.40751538e-02, -4.51022461e-02,\n",
       "         1.07785489e-03,  2.96476893e-02,  1.63089167e-02,\n",
       "        -4.69026677e-02, -9.12377387e-02,  3.48803140e-02,\n",
       "         6.09764941e-02, -8.57509226e-02,  6.14393018e-02,\n",
       "        -1.01734772e-02, -4.38936688e-02, -5.77365868e-02,\n",
       "        -3.51113803e-03,  1.85317714e-02,  3.33146676e-02,\n",
       "         7.00776353e-02, -4.54492234e-02, -2.62178928e-02,\n",
       "        -2.32425556e-02, -2.40902752e-02, -2.34034099e-02,\n",
       "         4.27414104e-02, -6.16395883e-02,  2.85886992e-02,\n",
       "         6.21139593e-02,  3.89829576e-02, -5.77463061e-02,\n",
       "         3.04171480e-02, -6.00498728e-02,  1.99526222e-03,\n",
       "        -2.02216282e-02, -9.09811929e-02,  3.84059958e-02,\n",
       "         8.34419057e-02,  2.38137282e-02,  6.97468920e-03,\n",
       "         4.49742191e-02,  6.88460022e-02,  6.47970513e-02,\n",
       "         2.33194083e-02, -3.09953671e-02,  5.10725155e-02,\n",
       "        -4.59380113e-02,  2.07435247e-02,  1.81369316e-02,\n",
       "         4.57961373e-02,  3.22974026e-02, -3.42297852e-02,\n",
       "        -8.47068429e-02, -5.37286922e-02,  4.54222411e-02,\n",
       "         2.55683735e-02,  1.54422093e-02, -2.04749219e-02,\n",
       "        -3.87402959e-02,  3.73589434e-02,  2.43491661e-02,\n",
       "         5.71839027e-02,  1.16122864e-01,  6.66380674e-02,\n",
       "        -6.55132160e-02,  3.16784419e-02, -6.64791614e-02,\n",
       "         1.81323513e-02, -2.60072369e-02, -9.64014791e-03,\n",
       "         6.80319266e-03, -1.19578457e-02, -1.51732173e-02,\n",
       "         4.35984507e-02,  6.55905008e-02, -6.00278676e-02,\n",
       "        -2.62305755e-02,  1.62228011e-02, -3.12827900e-02,\n",
       "        -2.00082660e-02,  3.29070762e-02,  3.61806639e-02,\n",
       "         6.06054738e-02, -5.87190967e-03,  1.35405185e-02,\n",
       "        -1.66466050e-02, -5.97342327e-02,  1.09646088e-02,\n",
       "        -3.66625749e-02,  1.39645580e-02,  1.61377974e-02,\n",
       "        -2.51089185e-02, -6.77515045e-02,  3.39924097e-02,\n",
       "        -4.35298793e-02, -9.78419483e-02, -4.54917811e-02,\n",
       "        -1.82329528e-02,  9.20428429e-03,  4.10860144e-02,\n",
       "         9.74661112e-03,  7.37833902e-02, -3.81997265e-02,\n",
       "        -5.16104791e-03, -3.13855484e-02,  5.03809899e-02,\n",
       "         9.68063530e-03,  5.20900860e-02,  6.46884292e-02,\n",
       "        -2.47516986e-02, -5.00114402e-03, -1.87648647e-02,\n",
       "         1.65771712e-02, -5.47591597e-02, -1.26549304e-01,\n",
       "        -4.47903462e-02, -3.64574231e-02,  1.01056593e-02,\n",
       "        -1.98398042e-03,  7.90100098e-02,  4.57687415e-02,\n",
       "        -2.20842250e-02, -9.16026607e-02,  9.83715877e-02,\n",
       "        -9.24030766e-02, -2.24469416e-02,  1.05105368e-02,\n",
       "        -2.37575918e-02, -6.83915094e-02,  1.96451861e-02,\n",
       "         9.18688104e-02,  7.71716237e-04, -1.19881593e-02,\n",
       "        -1.34850815e-02, -3.32498848e-02, -4.49938700e-02,\n",
       "        -3.20555158e-02, -1.10087928e-03, -1.16054751e-02,\n",
       "        -2.95845438e-02, -7.15409815e-02, -2.09394749e-02,\n",
       "        -3.66267152e-02, -1.71448209e-03,  4.43006940e-02,\n",
       "         4.82135266e-02, -3.31710242e-02, -2.93642916e-02,\n",
       "        -5.06598549e-03,  5.77710532e-02, -6.71204552e-02,\n",
       "        -8.35207999e-02, -1.90791897e-02, -2.85816435e-02,\n",
       "         4.71577421e-02,  3.19820382e-02,  2.03542747e-02,\n",
       "        -1.18067581e-02, -5.44964038e-02,  5.53553291e-02,\n",
       "         4.40195575e-02,  5.35294786e-02,  1.23606240e-02,\n",
       "         5.41405343e-02, -1.28487265e-03, -4.75128144e-02,\n",
       "         1.07093351e-02, -2.36224085e-02, -6.43560588e-02,\n",
       "        -1.34083563e-02, -5.15126809e-02, -2.70232279e-02,\n",
       "         2.80366410e-02,  2.06416864e-02, -2.66911834e-02,\n",
       "         8.92511681e-02, -2.35082749e-02, -5.85112837e-04,\n",
       "         2.99962144e-02,  2.14794837e-02,  2.83073857e-02,\n",
       "         9.22706425e-02,  2.16250364e-02,  4.66938876e-03,\n",
       "        -5.02032489e-02,  1.25310216e-02, -2.18260083e-02,\n",
       "         2.84191482e-02,  1.41573902e-02,  5.20960987e-02,\n",
       "        -7.94877484e-03, -4.20730226e-02,  4.27006371e-02,\n",
       "         2.40214225e-02,  4.18032780e-02,  9.00452137e-02,\n",
       "        -6.57489570e-03, -4.18990739e-02, -2.43745707e-02,\n",
       "        -1.32022277e-02, -1.68014353e-03, -1.05404463e-02,\n",
       "         1.26645478e-04,  4.81441803e-02,  1.28804129e-02,\n",
       "        -2.37472588e-03, -3.09083238e-03, -3.02923173e-02,\n",
       "        -8.59325603e-02, -7.42767602e-02, -4.58807405e-03,\n",
       "        -3.57185826e-02, -1.36278765e-02, -2.49256473e-02,\n",
       "        -5.43529838e-02,  5.00290021e-02]], dtype=float32)"
      ]
     },
     "execution_count": 20,
     "metadata": {},
     "output_type": "execute_result"
    }
   ],
   "source": [
    "review_embeddings"
   ]
  },
  {
   "cell_type": "markdown",
   "metadata": {},
   "source": [
    "## Keras"
   ]
  },
  {
   "cell_type": "code",
   "execution_count": 27,
   "metadata": {},
   "outputs": [
    {
     "data": {
      "text/plain": [
       "(10, 1000)"
      ]
     },
     "execution_count": 27,
     "metadata": {},
     "output_type": "execute_result"
    }
   ],
   "source": [
    "embed_size   = 300   # how big is each word vector\n",
    "max_features = 20000 # how many unique words to use (i.e num rows in embedding vector)\n",
    "maxlen       = 1000   # max number of words in a comment to use \n",
    "\n",
    "list_sentences_train = list(play_data['reviewText'])\n",
    "\n",
    "tokenizer = Tokenizer(num_words=max_features)\n",
    "tokenizer.fit_on_texts(list(list_sentences_train))\n",
    "list_tokenized_train = tokenizer.texts_to_sequences(list_sentences_train)\n",
    "#list_tokenized_test = tokenizer.texts_to_sequences(list_sentences_test)\n",
    "\n",
    "#list_tokenized_train\n",
    "\n",
    "X_train = pad_sequences(list_tokenized_train, maxlen=maxlen, padding='post')\n",
    "\n",
    "X_train.shape"
   ]
  },
  {
   "cell_type": "code",
   "execution_count": null,
   "metadata": {},
   "outputs": [],
   "source": [
    "#https://machinelearningmastery.com/develop-n-gram-multichannel-convolutional-neural-network-sentiment-analysis/\n",
    "# define the model\n",
    "def define_model(length, vocab_size):\n",
    "    # channel 1\n",
    "    inputs1 = Input(shape=(length,))\n",
    "    embedding1 = Embedding(vocab_size, 100)(inputs1)\n",
    "    conv1 = Conv1D(filters=32, kernel_size=4, activation='relu')(embedding1)\n",
    "    drop1 = Dropout(0.5)(conv1)\n",
    "    pool1 = MaxPooling1D(pool_size=2)(drop1)\n",
    "    flat1 = Flatten()(pool1)\n",
    "    # channel 2\n",
    "    inputs2 = Input(shape=(length,))\n",
    "    embedding2 = Embedding(vocab_size, 100)(inputs2)\n",
    "    conv2 = Conv1D(filters=32, kernel_size=6, activation='relu')(embedding2)\n",
    "    drop2 = Dropout(0.5)(conv2)\n",
    "    pool2 = MaxPooling1D(pool_size=2)(drop2)\n",
    "    flat2 = Flatten()(pool2)\n",
    "    # channel 3\n",
    "    inputs3 = Input(shape=(length,))\n",
    "    embedding3 = Embedding(vocab_size, 100)(inputs3)\n",
    "    conv3 = Conv1D(filters=32, kernel_size=8, activation='relu')(embedding3)\n",
    "    drop3 = Dropout(0.5)(conv3)\n",
    "    pool3 = MaxPooling1D(pool_size=2)(drop3)\n",
    "    flat3 = Flatten()(pool3)\n",
    "    # merge\n",
    "    merged = concatenate([flat1, flat2, flat3])\n",
    "    # interpretation\n",
    "    dense1 = Dense(10, activation='relu')(merged)\n",
    "    outputs = Dense(1, activation='sigmoid')(dense1)\n",
    "    model = Model(inputs=[inputs1, inputs2, inputs3], outputs=outputs)\n",
    "    # compile\n",
    "    model.compile(loss='binary_crossentropy', optimizer='adam', metrics=['accuracy'])\n",
    "    # summarize\n",
    "    print(model.summary())\n",
    "    plot_model(model, show_shapes=True, to_file='multichannel.png')\n",
    "    return model"
   ]
  },
  {
   "cell_type": "code",
   "execution_count": null,
   "metadata": {},
   "outputs": [],
   "source": [
    "#https://machinelearningmastery.com/develop-n-gram-multichannel-convolutional-neural-network-sentiment-analysis/\n",
    "\n",
    "from numpy import array\n",
    "from keras.preprocessing.text import Tokenizer\n",
    "from keras.preprocessing.sequence import pad_sequences\n",
    "from keras.utils.vis_utils import plot_model\n",
    "from keras.models import Model\n",
    "from keras.layers import Input\n",
    "from keras.layers import Dense\n",
    "from keras.layers import Flatten\n",
    "from keras.layers import Dropout\n",
    "from keras.layers import Embedding\n",
    "from keras.layers.convolutional import Conv1D\n",
    "from keras.layers.convolutional import MaxPooling1D\n",
    "from keras.layers.merge import concatenate\n",
    " \n",
    "# load a clean dataset\n",
    "def load_dataset(filename):\n",
    "    return load(open(filename, 'rb'))\n",
    " \n",
    "# fit a tokenizer\n",
    "def create_tokenizer(lines):\n",
    "    tokenizer = Tokenizer()\n",
    "    tokenizer.fit_on_texts(lines)\n",
    "    return tokenizer\n",
    " \n",
    "# calculate the maximum document length\n",
    "def max_length(lines):\n",
    "    return max([len(s.split()) for s in lines])\n",
    " \n",
    "# encode a list of lines\n",
    "def encode_text(tokenizer, lines, length):\n",
    "    # integer encode\n",
    "    encoded = tokenizer.texts_to_sequences(lines)\n",
    "    # pad encoded sequences\n",
    "    padded = pad_sequences(encoded, maxlen=length, padding='post')\n",
    "    return padded\n",
    " \n",
    "# define the model\n",
    "def define_model(length, vocab_size):\n",
    "    # channel 1\n",
    "    inputs1 = Input(shape=(length,))\n",
    "    embedding1 = Embedding(vocab_size, 100)(inputs1)\n",
    "    conv1 = Conv1D(filters=32, kernel_size=4, activation='relu')(embedding1)\n",
    "    drop1 = Dropout(0.5)(conv1)\n",
    "    pool1 = MaxPooling1D(pool_size=2)(drop1)\n",
    "    flat1 = Flatten()(pool1)\n",
    "    # channel 2\n",
    "    inputs2 = Input(shape=(length,))\n",
    "    embedding2 = Embedding(vocab_size, 100)(inputs2)\n",
    "    conv2 = Conv1D(filters=32, kernel_size=6, activation='relu')(embedding2)\n",
    "    drop2 = Dropout(0.5)(conv2)\n",
    "    pool2 = MaxPooling1D(pool_size=2)(drop2)\n",
    "    flat2 = Flatten()(pool2)\n",
    "    # channel 3\n",
    "    inputs3 = Input(shape=(length,))\n",
    "    embedding3 = Embedding(vocab_size, 100)(inputs3)\n",
    "    conv3 = Conv1D(filters=32, kernel_size=8, activation='relu')(embedding3)\n",
    "    drop3 = Dropout(0.5)(conv3)\n",
    "    pool3 = MaxPooling1D(pool_size=2)(drop3)\n",
    "    flat3 = Flatten()(pool3)\n",
    "    # merge\n",
    "    merged = concatenate([flat1, flat2, flat3])\n",
    "    # interpretation\n",
    "    dense1 = Dense(10, activation='relu')(merged)\n",
    "    outputs = Dense(1, activation='sigmoid')(dense1)\n",
    "    model = Model(inputs=[inputs1, inputs2, inputs3], outputs=outputs)\n",
    "    # compile\n",
    "    model.compile(loss='binary_crossentropy', optimizer='adam', metrics=['accuracy'])\n",
    "    # summarize\n",
    "    print(model.summary())\n",
    "    plot_model(model, show_shapes=True, to_file='multichannel.png')\n",
    "    return model\n",
    " \n",
    "# load training dataset\n",
    "trainLines, trainLabels = load_dataset('train.pkl')\n",
    "# create tokenizer\n",
    "tokenizer = create_tokenizer(trainLines)\n",
    "# calculate max document length\n",
    "length = max_length(trainLines)\n",
    "# calculate vocabulary size\n",
    "vocab_size = len(tokenizer.word_index) + 1\n",
    "print('Max document length: %d' % length)\n",
    "print('Vocabulary size: %d' % vocab_size)\n",
    "# encode data\n",
    "trainX = encode_text(tokenizer, trainLines, length)\n",
    "print(trainX.shape)\n",
    " \n",
    "# define model\n",
    "model = define_model(length, vocab_size)\n",
    "# fit model\n",
    "model.fit([trainX,trainX,trainX], array(trainLabels), epochs=10, batch_size=16)\n",
    "# save the model\n",
    "model.save('model.h5')"
   ]
  },
  {
   "cell_type": "code",
   "execution_count": null,
   "metadata": {},
   "outputs": [],
   "source": [
    "\n",
    "\n",
    "\n",
    "def CreateKimCNN()"
   ]
  }
 ],
 "metadata": {
  "kernelspec": {
   "display_name": "Python 3",
   "language": "python",
   "name": "python3"
  },
  "language_info": {
   "codemirror_mode": {
    "name": "ipython",
    "version": 3
   },
   "file_extension": ".py",
   "mimetype": "text/x-python",
   "name": "python",
   "nbconvert_exporter": "python",
   "pygments_lexer": "ipython3",
   "version": "3.6.5"
  }
 },
 "nbformat": 4,
 "nbformat_minor": 2
}
